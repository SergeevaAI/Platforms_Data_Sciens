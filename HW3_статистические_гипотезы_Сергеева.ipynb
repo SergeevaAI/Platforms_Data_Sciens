{
  "nbformat": 4,
  "nbformat_minor": 0,
  "metadata": {
    "colab": {
      "provenance": []
    },
    "kernelspec": {
      "name": "python3",
      "display_name": "Python 3"
    },
    "language_info": {
      "name": "python"
    }
  },
  "cells": [
    {
      "cell_type": "markdown",
      "source": [
        "*Имя: Анастасия*\n",
        "*Фамилия: Сергеева*\n",
        "*Электронная почта:sergeevaai036@mgpu.ru*"
      ],
      "metadata": {
        "id": "LscGFXFkZGSq"
      }
    },
    {
      "cell_type": "markdown",
      "source": [
        "# Задача 3.1.2. Импорт данных. Предобработка данных"
      ],
      "metadata": {
        "id": "rGtcAzYvhgxM"
      }
    },
    {
      "cell_type": "markdown",
      "source": [
        "Импорт данных."
      ],
      "metadata": {
        "id": "TRg-xyDHhjoI"
      }
    },
    {
      "cell_type": "code",
      "execution_count": null,
      "metadata": {
        "id": "RyeZIHoinVYN"
      },
      "outputs": [],
      "source": [
        "# Импорт необходимых библиотек\n",
        "\n",
        "import statistics\n",
        "from scipy import stats\n",
        "import numpy as np\n",
        "import pandas as pd\n",
        "import matplotlib.pyplot as plt\n",
        "%matplotlib inline"
      ]
    },
    {
      "cell_type": "code",
      "source": [
        "from google.colab import files\n",
        "uploaded = files.upload()"
      ],
      "metadata": {
        "colab": {
          "base_uri": "https://localhost:8080/",
          "height": 74
        },
        "id": "7mVA5GNbiUk9",
        "outputId": "fb932061-3919-4092-8375-6574e441e6f4"
      },
      "execution_count": 62,
      "outputs": [
        {
          "output_type": "display_data",
          "data": {
            "text/plain": [
              "<IPython.core.display.HTML object>"
            ],
            "text/html": [
              "\n",
              "     <input type=\"file\" id=\"files-dbab48b3-4205-4666-8837-6909503232f6\" name=\"files[]\" multiple disabled\n",
              "        style=\"border:none\" />\n",
              "     <output id=\"result-dbab48b3-4205-4666-8837-6909503232f6\">\n",
              "      Upload widget is only available when the cell has been executed in the\n",
              "      current browser session. Please rerun this cell to enable.\n",
              "      </output>\n",
              "      <script>// Copyright 2017 Google LLC\n",
              "//\n",
              "// Licensed under the Apache License, Version 2.0 (the \"License\");\n",
              "// you may not use this file except in compliance with the License.\n",
              "// You may obtain a copy of the License at\n",
              "//\n",
              "//      http://www.apache.org/licenses/LICENSE-2.0\n",
              "//\n",
              "// Unless required by applicable law or agreed to in writing, software\n",
              "// distributed under the License is distributed on an \"AS IS\" BASIS,\n",
              "// WITHOUT WARRANTIES OR CONDITIONS OF ANY KIND, either express or implied.\n",
              "// See the License for the specific language governing permissions and\n",
              "// limitations under the License.\n",
              "\n",
              "/**\n",
              " * @fileoverview Helpers for google.colab Python module.\n",
              " */\n",
              "(function(scope) {\n",
              "function span(text, styleAttributes = {}) {\n",
              "  const element = document.createElement('span');\n",
              "  element.textContent = text;\n",
              "  for (const key of Object.keys(styleAttributes)) {\n",
              "    element.style[key] = styleAttributes[key];\n",
              "  }\n",
              "  return element;\n",
              "}\n",
              "\n",
              "// Max number of bytes which will be uploaded at a time.\n",
              "const MAX_PAYLOAD_SIZE = 100 * 1024;\n",
              "\n",
              "function _uploadFiles(inputId, outputId) {\n",
              "  const steps = uploadFilesStep(inputId, outputId);\n",
              "  const outputElement = document.getElementById(outputId);\n",
              "  // Cache steps on the outputElement to make it available for the next call\n",
              "  // to uploadFilesContinue from Python.\n",
              "  outputElement.steps = steps;\n",
              "\n",
              "  return _uploadFilesContinue(outputId);\n",
              "}\n",
              "\n",
              "// This is roughly an async generator (not supported in the browser yet),\n",
              "// where there are multiple asynchronous steps and the Python side is going\n",
              "// to poll for completion of each step.\n",
              "// This uses a Promise to block the python side on completion of each step,\n",
              "// then passes the result of the previous step as the input to the next step.\n",
              "function _uploadFilesContinue(outputId) {\n",
              "  const outputElement = document.getElementById(outputId);\n",
              "  const steps = outputElement.steps;\n",
              "\n",
              "  const next = steps.next(outputElement.lastPromiseValue);\n",
              "  return Promise.resolve(next.value.promise).then((value) => {\n",
              "    // Cache the last promise value to make it available to the next\n",
              "    // step of the generator.\n",
              "    outputElement.lastPromiseValue = value;\n",
              "    return next.value.response;\n",
              "  });\n",
              "}\n",
              "\n",
              "/**\n",
              " * Generator function which is called between each async step of the upload\n",
              " * process.\n",
              " * @param {string} inputId Element ID of the input file picker element.\n",
              " * @param {string} outputId Element ID of the output display.\n",
              " * @return {!Iterable<!Object>} Iterable of next steps.\n",
              " */\n",
              "function* uploadFilesStep(inputId, outputId) {\n",
              "  const inputElement = document.getElementById(inputId);\n",
              "  inputElement.disabled = false;\n",
              "\n",
              "  const outputElement = document.getElementById(outputId);\n",
              "  outputElement.innerHTML = '';\n",
              "\n",
              "  const pickedPromise = new Promise((resolve) => {\n",
              "    inputElement.addEventListener('change', (e) => {\n",
              "      resolve(e.target.files);\n",
              "    });\n",
              "  });\n",
              "\n",
              "  const cancel = document.createElement('button');\n",
              "  inputElement.parentElement.appendChild(cancel);\n",
              "  cancel.textContent = 'Cancel upload';\n",
              "  const cancelPromise = new Promise((resolve) => {\n",
              "    cancel.onclick = () => {\n",
              "      resolve(null);\n",
              "    };\n",
              "  });\n",
              "\n",
              "  // Wait for the user to pick the files.\n",
              "  const files = yield {\n",
              "    promise: Promise.race([pickedPromise, cancelPromise]),\n",
              "    response: {\n",
              "      action: 'starting',\n",
              "    }\n",
              "  };\n",
              "\n",
              "  cancel.remove();\n",
              "\n",
              "  // Disable the input element since further picks are not allowed.\n",
              "  inputElement.disabled = true;\n",
              "\n",
              "  if (!files) {\n",
              "    return {\n",
              "      response: {\n",
              "        action: 'complete',\n",
              "      }\n",
              "    };\n",
              "  }\n",
              "\n",
              "  for (const file of files) {\n",
              "    const li = document.createElement('li');\n",
              "    li.append(span(file.name, {fontWeight: 'bold'}));\n",
              "    li.append(span(\n",
              "        `(${file.type || 'n/a'}) - ${file.size} bytes, ` +\n",
              "        `last modified: ${\n",
              "            file.lastModifiedDate ? file.lastModifiedDate.toLocaleDateString() :\n",
              "                                    'n/a'} - `));\n",
              "    const percent = span('0% done');\n",
              "    li.appendChild(percent);\n",
              "\n",
              "    outputElement.appendChild(li);\n",
              "\n",
              "    const fileDataPromise = new Promise((resolve) => {\n",
              "      const reader = new FileReader();\n",
              "      reader.onload = (e) => {\n",
              "        resolve(e.target.result);\n",
              "      };\n",
              "      reader.readAsArrayBuffer(file);\n",
              "    });\n",
              "    // Wait for the data to be ready.\n",
              "    let fileData = yield {\n",
              "      promise: fileDataPromise,\n",
              "      response: {\n",
              "        action: 'continue',\n",
              "      }\n",
              "    };\n",
              "\n",
              "    // Use a chunked sending to avoid message size limits. See b/62115660.\n",
              "    let position = 0;\n",
              "    do {\n",
              "      const length = Math.min(fileData.byteLength - position, MAX_PAYLOAD_SIZE);\n",
              "      const chunk = new Uint8Array(fileData, position, length);\n",
              "      position += length;\n",
              "\n",
              "      const base64 = btoa(String.fromCharCode.apply(null, chunk));\n",
              "      yield {\n",
              "        response: {\n",
              "          action: 'append',\n",
              "          file: file.name,\n",
              "          data: base64,\n",
              "        },\n",
              "      };\n",
              "\n",
              "      let percentDone = fileData.byteLength === 0 ?\n",
              "          100 :\n",
              "          Math.round((position / fileData.byteLength) * 100);\n",
              "      percent.textContent = `${percentDone}% done`;\n",
              "\n",
              "    } while (position < fileData.byteLength);\n",
              "  }\n",
              "\n",
              "  // All done.\n",
              "  yield {\n",
              "    response: {\n",
              "      action: 'complete',\n",
              "    }\n",
              "  };\n",
              "}\n",
              "\n",
              "scope.google = scope.google || {};\n",
              "scope.google.colab = scope.google.colab || {};\n",
              "scope.google.colab._files = {\n",
              "  _uploadFiles,\n",
              "  _uploadFilesContinue,\n",
              "};\n",
              "})(self);\n",
              "</script> "
            ]
          },
          "metadata": {}
        },
        {
          "output_type": "stream",
          "name": "stdout",
          "text": [
            "Saving ad_viz_plotval_data.csv to ad_viz_plotval_data.csv\n"
          ]
        }
      ]
    },
    {
      "cell_type": "code",
      "source": [
        "df = pd.read_csv('ad_viz_plotval_data.csv')\n",
        "print(df)"
      ],
      "metadata": {
        "colab": {
          "base_uri": "https://localhost:8080/"
        },
        "id": "BJ5PaXD6icOr",
        "outputId": "b897e9a6-bb0f-4efa-d302-969dc3498d84"
      },
      "execution_count": 63,
      "outputs": [
        {
          "output_type": "stream",
          "name": "stdout",
          "text": [
            "            Date Source    Site ID  POC  Daily Mean PM2.5 Concentration  \\\n",
            "0     01/01/2023    AQS  490352005    1                             4.6   \n",
            "1     01/02/2023    AQS  490352005    1                             4.0   \n",
            "2     01/03/2023    AQS  490352005    1                            12.5   \n",
            "3     01/04/2023    AQS  490352005    1                             9.9   \n",
            "4     01/05/2023    AQS  490352005    1                             2.2   \n",
            "...          ...    ...        ...  ...                             ...   \n",
            "6509  12/27/2023    AQS  490450004    3                            15.5   \n",
            "6510  12/28/2023    AQS  490450004    3                            17.6   \n",
            "6511  12/29/2023    AQS  490450004    3                            19.3   \n",
            "6512  12/30/2023    AQS  490450004    3                            26.6   \n",
            "6513  12/31/2023    AQS  490450004    3                            18.7   \n",
            "\n",
            "         UNITS  DAILY_AQI_VALUE    Site Name  DAILY_OBS_COUNT  \\\n",
            "0     ug/m3 LC               19  Copper View                1   \n",
            "1     ug/m3 LC               17  Copper View                1   \n",
            "2     ug/m3 LC               52  Copper View                1   \n",
            "3     ug/m3 LC               41  Copper View                1   \n",
            "4     ug/m3 LC                9  Copper View                1   \n",
            "...        ...              ...          ...              ...   \n",
            "6509  ug/m3 LC               58         Erda                1   \n",
            "6510  ug/m3 LC               63         Erda                1   \n",
            "6511  ug/m3 LC               66         Erda                1   \n",
            "6512  ug/m3 LC               81         Erda                1   \n",
            "6513  ug/m3 LC               65         Erda                1   \n",
            "\n",
            "      PERCENT_COMPLETE  AQS_PARAMETER_CODE        AQS_PARAMETER_DESC  \\\n",
            "0                100.0               88101  PM2.5 - Local Conditions   \n",
            "1                100.0               88101  PM2.5 - Local Conditions   \n",
            "2                100.0               88101  PM2.5 - Local Conditions   \n",
            "3                100.0               88101  PM2.5 - Local Conditions   \n",
            "4                100.0               88101  PM2.5 - Local Conditions   \n",
            "...                ...                 ...                       ...   \n",
            "6509             100.0               88101  PM2.5 - Local Conditions   \n",
            "6510             100.0               88101  PM2.5 - Local Conditions   \n",
            "6511             100.0               88101  PM2.5 - Local Conditions   \n",
            "6512             100.0               88101  PM2.5 - Local Conditions   \n",
            "6513             100.0               88101  PM2.5 - Local Conditions   \n",
            "\n",
            "      CBSA_CODE           CBSA_NAME  STATE_CODE STATE  COUNTY_CODE     COUNTY  \\\n",
            "0         41620  Salt Lake City, UT          49  Utah           35  Salt Lake   \n",
            "1         41620  Salt Lake City, UT          49  Utah           35  Salt Lake   \n",
            "2         41620  Salt Lake City, UT          49  Utah           35  Salt Lake   \n",
            "3         41620  Salt Lake City, UT          49  Utah           35  Salt Lake   \n",
            "4         41620  Salt Lake City, UT          49  Utah           35  Salt Lake   \n",
            "...         ...                 ...         ...   ...          ...        ...   \n",
            "6509      41620  Salt Lake City, UT          49  Utah           45     Tooele   \n",
            "6510      41620  Salt Lake City, UT          49  Utah           45     Tooele   \n",
            "6511      41620  Salt Lake City, UT          49  Utah           45     Tooele   \n",
            "6512      41620  Salt Lake City, UT          49  Utah           45     Tooele   \n",
            "6513      41620  Salt Lake City, UT          49  Utah           45     Tooele   \n",
            "\n",
            "      SITE_LATITUDE  SITE_LONGITUDE  \n",
            "0         40.598056     -111.894167  \n",
            "1         40.598056     -111.894167  \n",
            "2         40.598056     -111.894167  \n",
            "3         40.598056     -111.894167  \n",
            "4         40.598056     -111.894167  \n",
            "...             ...             ...  \n",
            "6509      40.600550     -112.355780  \n",
            "6510      40.600550     -112.355780  \n",
            "6511      40.600550     -112.355780  \n",
            "6512      40.600550     -112.355780  \n",
            "6513      40.600550     -112.355780  \n",
            "\n",
            "[6514 rows x 20 columns]\n"
          ]
        }
      ]
    },
    {
      "cell_type": "code",
      "source": [
        "df.head()"
      ],
      "metadata": {
        "id": "neYplumlkG2M",
        "outputId": "981d9f56-822b-4756-d79a-6935037cb269",
        "colab": {
          "base_uri": "https://localhost:8080/",
          "height": 347
        }
      },
      "execution_count": null,
      "outputs": [
        {
          "output_type": "execute_result",
          "data": {
            "text/plain": [
              "         Date Source    Site ID  POC  Daily Mean PM2.5 Concentration  \\\n",
              "0  01/01/2023    AQS  490352005    1                             4.6   \n",
              "1  01/02/2023    AQS  490352005    1                             4.0   \n",
              "2  01/03/2023    AQS  490352005    1                            12.5   \n",
              "3  01/04/2023    AQS  490352005    1                             9.9   \n",
              "4  01/05/2023    AQS  490352005    1                             2.2   \n",
              "\n",
              "      UNITS  DAILY_AQI_VALUE    Site Name  DAILY_OBS_COUNT  PERCENT_COMPLETE  \\\n",
              "0  ug/m3 LC               19  Copper View                1             100.0   \n",
              "1  ug/m3 LC               17  Copper View                1             100.0   \n",
              "2  ug/m3 LC               52  Copper View                1             100.0   \n",
              "3  ug/m3 LC               41  Copper View                1             100.0   \n",
              "4  ug/m3 LC                9  Copper View                1             100.0   \n",
              "\n",
              "   AQS_PARAMETER_CODE        AQS_PARAMETER_DESC  CBSA_CODE  \\\n",
              "0               88101  PM2.5 - Local Conditions      41620   \n",
              "1               88101  PM2.5 - Local Conditions      41620   \n",
              "2               88101  PM2.5 - Local Conditions      41620   \n",
              "3               88101  PM2.5 - Local Conditions      41620   \n",
              "4               88101  PM2.5 - Local Conditions      41620   \n",
              "\n",
              "            CBSA_NAME  STATE_CODE STATE  COUNTY_CODE     COUNTY  \\\n",
              "0  Salt Lake City, UT          49  Utah           35  Salt Lake   \n",
              "1  Salt Lake City, UT          49  Utah           35  Salt Lake   \n",
              "2  Salt Lake City, UT          49  Utah           35  Salt Lake   \n",
              "3  Salt Lake City, UT          49  Utah           35  Salt Lake   \n",
              "4  Salt Lake City, UT          49  Utah           35  Salt Lake   \n",
              "\n",
              "   SITE_LATITUDE  SITE_LONGITUDE  \n",
              "0      40.598056     -111.894167  \n",
              "1      40.598056     -111.894167  \n",
              "2      40.598056     -111.894167  \n",
              "3      40.598056     -111.894167  \n",
              "4      40.598056     -111.894167  "
            ],
            "text/html": [
              "\n",
              "  <div id=\"df-c79aee22-f303-4428-a0dc-e4c418433220\" class=\"colab-df-container\">\n",
              "    <div>\n",
              "<style scoped>\n",
              "    .dataframe tbody tr th:only-of-type {\n",
              "        vertical-align: middle;\n",
              "    }\n",
              "\n",
              "    .dataframe tbody tr th {\n",
              "        vertical-align: top;\n",
              "    }\n",
              "\n",
              "    .dataframe thead th {\n",
              "        text-align: right;\n",
              "    }\n",
              "</style>\n",
              "<table border=\"1\" class=\"dataframe\">\n",
              "  <thead>\n",
              "    <tr style=\"text-align: right;\">\n",
              "      <th></th>\n",
              "      <th>Date</th>\n",
              "      <th>Source</th>\n",
              "      <th>Site ID</th>\n",
              "      <th>POC</th>\n",
              "      <th>Daily Mean PM2.5 Concentration</th>\n",
              "      <th>UNITS</th>\n",
              "      <th>DAILY_AQI_VALUE</th>\n",
              "      <th>Site Name</th>\n",
              "      <th>DAILY_OBS_COUNT</th>\n",
              "      <th>PERCENT_COMPLETE</th>\n",
              "      <th>AQS_PARAMETER_CODE</th>\n",
              "      <th>AQS_PARAMETER_DESC</th>\n",
              "      <th>CBSA_CODE</th>\n",
              "      <th>CBSA_NAME</th>\n",
              "      <th>STATE_CODE</th>\n",
              "      <th>STATE</th>\n",
              "      <th>COUNTY_CODE</th>\n",
              "      <th>COUNTY</th>\n",
              "      <th>SITE_LATITUDE</th>\n",
              "      <th>SITE_LONGITUDE</th>\n",
              "    </tr>\n",
              "  </thead>\n",
              "  <tbody>\n",
              "    <tr>\n",
              "      <th>0</th>\n",
              "      <td>01/01/2023</td>\n",
              "      <td>AQS</td>\n",
              "      <td>490352005</td>\n",
              "      <td>1</td>\n",
              "      <td>4.6</td>\n",
              "      <td>ug/m3 LC</td>\n",
              "      <td>19</td>\n",
              "      <td>Copper View</td>\n",
              "      <td>1</td>\n",
              "      <td>100.0</td>\n",
              "      <td>88101</td>\n",
              "      <td>PM2.5 - Local Conditions</td>\n",
              "      <td>41620</td>\n",
              "      <td>Salt Lake City, UT</td>\n",
              "      <td>49</td>\n",
              "      <td>Utah</td>\n",
              "      <td>35</td>\n",
              "      <td>Salt Lake</td>\n",
              "      <td>40.598056</td>\n",
              "      <td>-111.894167</td>\n",
              "    </tr>\n",
              "    <tr>\n",
              "      <th>1</th>\n",
              "      <td>01/02/2023</td>\n",
              "      <td>AQS</td>\n",
              "      <td>490352005</td>\n",
              "      <td>1</td>\n",
              "      <td>4.0</td>\n",
              "      <td>ug/m3 LC</td>\n",
              "      <td>17</td>\n",
              "      <td>Copper View</td>\n",
              "      <td>1</td>\n",
              "      <td>100.0</td>\n",
              "      <td>88101</td>\n",
              "      <td>PM2.5 - Local Conditions</td>\n",
              "      <td>41620</td>\n",
              "      <td>Salt Lake City, UT</td>\n",
              "      <td>49</td>\n",
              "      <td>Utah</td>\n",
              "      <td>35</td>\n",
              "      <td>Salt Lake</td>\n",
              "      <td>40.598056</td>\n",
              "      <td>-111.894167</td>\n",
              "    </tr>\n",
              "    <tr>\n",
              "      <th>2</th>\n",
              "      <td>01/03/2023</td>\n",
              "      <td>AQS</td>\n",
              "      <td>490352005</td>\n",
              "      <td>1</td>\n",
              "      <td>12.5</td>\n",
              "      <td>ug/m3 LC</td>\n",
              "      <td>52</td>\n",
              "      <td>Copper View</td>\n",
              "      <td>1</td>\n",
              "      <td>100.0</td>\n",
              "      <td>88101</td>\n",
              "      <td>PM2.5 - Local Conditions</td>\n",
              "      <td>41620</td>\n",
              "      <td>Salt Lake City, UT</td>\n",
              "      <td>49</td>\n",
              "      <td>Utah</td>\n",
              "      <td>35</td>\n",
              "      <td>Salt Lake</td>\n",
              "      <td>40.598056</td>\n",
              "      <td>-111.894167</td>\n",
              "    </tr>\n",
              "    <tr>\n",
              "      <th>3</th>\n",
              "      <td>01/04/2023</td>\n",
              "      <td>AQS</td>\n",
              "      <td>490352005</td>\n",
              "      <td>1</td>\n",
              "      <td>9.9</td>\n",
              "      <td>ug/m3 LC</td>\n",
              "      <td>41</td>\n",
              "      <td>Copper View</td>\n",
              "      <td>1</td>\n",
              "      <td>100.0</td>\n",
              "      <td>88101</td>\n",
              "      <td>PM2.5 - Local Conditions</td>\n",
              "      <td>41620</td>\n",
              "      <td>Salt Lake City, UT</td>\n",
              "      <td>49</td>\n",
              "      <td>Utah</td>\n",
              "      <td>35</td>\n",
              "      <td>Salt Lake</td>\n",
              "      <td>40.598056</td>\n",
              "      <td>-111.894167</td>\n",
              "    </tr>\n",
              "    <tr>\n",
              "      <th>4</th>\n",
              "      <td>01/05/2023</td>\n",
              "      <td>AQS</td>\n",
              "      <td>490352005</td>\n",
              "      <td>1</td>\n",
              "      <td>2.2</td>\n",
              "      <td>ug/m3 LC</td>\n",
              "      <td>9</td>\n",
              "      <td>Copper View</td>\n",
              "      <td>1</td>\n",
              "      <td>100.0</td>\n",
              "      <td>88101</td>\n",
              "      <td>PM2.5 - Local Conditions</td>\n",
              "      <td>41620</td>\n",
              "      <td>Salt Lake City, UT</td>\n",
              "      <td>49</td>\n",
              "      <td>Utah</td>\n",
              "      <td>35</td>\n",
              "      <td>Salt Lake</td>\n",
              "      <td>40.598056</td>\n",
              "      <td>-111.894167</td>\n",
              "    </tr>\n",
              "  </tbody>\n",
              "</table>\n",
              "</div>\n",
              "    <div class=\"colab-df-buttons\">\n",
              "\n",
              "  <div class=\"colab-df-container\">\n",
              "    <button class=\"colab-df-convert\" onclick=\"convertToInteractive('df-c79aee22-f303-4428-a0dc-e4c418433220')\"\n",
              "            title=\"Convert this dataframe to an interactive table.\"\n",
              "            style=\"display:none;\">\n",
              "\n",
              "  <svg xmlns=\"http://www.w3.org/2000/svg\" height=\"24px\" viewBox=\"0 -960 960 960\">\n",
              "    <path d=\"M120-120v-720h720v720H120Zm60-500h600v-160H180v160Zm220 220h160v-160H400v160Zm0 220h160v-160H400v160ZM180-400h160v-160H180v160Zm440 0h160v-160H620v160ZM180-180h160v-160H180v160Zm440 0h160v-160H620v160Z\"/>\n",
              "  </svg>\n",
              "    </button>\n",
              "\n",
              "  <style>\n",
              "    .colab-df-container {\n",
              "      display:flex;\n",
              "      gap: 12px;\n",
              "    }\n",
              "\n",
              "    .colab-df-convert {\n",
              "      background-color: #E8F0FE;\n",
              "      border: none;\n",
              "      border-radius: 50%;\n",
              "      cursor: pointer;\n",
              "      display: none;\n",
              "      fill: #1967D2;\n",
              "      height: 32px;\n",
              "      padding: 0 0 0 0;\n",
              "      width: 32px;\n",
              "    }\n",
              "\n",
              "    .colab-df-convert:hover {\n",
              "      background-color: #E2EBFA;\n",
              "      box-shadow: 0px 1px 2px rgba(60, 64, 67, 0.3), 0px 1px 3px 1px rgba(60, 64, 67, 0.15);\n",
              "      fill: #174EA6;\n",
              "    }\n",
              "\n",
              "    .colab-df-buttons div {\n",
              "      margin-bottom: 4px;\n",
              "    }\n",
              "\n",
              "    [theme=dark] .colab-df-convert {\n",
              "      background-color: #3B4455;\n",
              "      fill: #D2E3FC;\n",
              "    }\n",
              "\n",
              "    [theme=dark] .colab-df-convert:hover {\n",
              "      background-color: #434B5C;\n",
              "      box-shadow: 0px 1px 3px 1px rgba(0, 0, 0, 0.15);\n",
              "      filter: drop-shadow(0px 1px 2px rgba(0, 0, 0, 0.3));\n",
              "      fill: #FFFFFF;\n",
              "    }\n",
              "  </style>\n",
              "\n",
              "    <script>\n",
              "      const buttonEl =\n",
              "        document.querySelector('#df-c79aee22-f303-4428-a0dc-e4c418433220 button.colab-df-convert');\n",
              "      buttonEl.style.display =\n",
              "        google.colab.kernel.accessAllowed ? 'block' : 'none';\n",
              "\n",
              "      async function convertToInteractive(key) {\n",
              "        const element = document.querySelector('#df-c79aee22-f303-4428-a0dc-e4c418433220');\n",
              "        const dataTable =\n",
              "          await google.colab.kernel.invokeFunction('convertToInteractive',\n",
              "                                                    [key], {});\n",
              "        if (!dataTable) return;\n",
              "\n",
              "        const docLinkHtml = 'Like what you see? Visit the ' +\n",
              "          '<a target=\"_blank\" href=https://colab.research.google.com/notebooks/data_table.ipynb>data table notebook</a>'\n",
              "          + ' to learn more about interactive tables.';\n",
              "        element.innerHTML = '';\n",
              "        dataTable['output_type'] = 'display_data';\n",
              "        await google.colab.output.renderOutput(dataTable, element);\n",
              "        const docLink = document.createElement('div');\n",
              "        docLink.innerHTML = docLinkHtml;\n",
              "        element.appendChild(docLink);\n",
              "      }\n",
              "    </script>\n",
              "  </div>\n",
              "\n",
              "\n",
              "<div id=\"df-be727a30-5068-4eba-b2da-b8163a4491f9\">\n",
              "  <button class=\"colab-df-quickchart\" onclick=\"quickchart('df-be727a30-5068-4eba-b2da-b8163a4491f9')\"\n",
              "            title=\"Suggest charts\"\n",
              "            style=\"display:none;\">\n",
              "\n",
              "<svg xmlns=\"http://www.w3.org/2000/svg\" height=\"24px\"viewBox=\"0 0 24 24\"\n",
              "     width=\"24px\">\n",
              "    <g>\n",
              "        <path d=\"M19 3H5c-1.1 0-2 .9-2 2v14c0 1.1.9 2 2 2h14c1.1 0 2-.9 2-2V5c0-1.1-.9-2-2-2zM9 17H7v-7h2v7zm4 0h-2V7h2v10zm4 0h-2v-4h2v4z\"/>\n",
              "    </g>\n",
              "</svg>\n",
              "  </button>\n",
              "\n",
              "<style>\n",
              "  .colab-df-quickchart {\n",
              "      --bg-color: #E8F0FE;\n",
              "      --fill-color: #1967D2;\n",
              "      --hover-bg-color: #E2EBFA;\n",
              "      --hover-fill-color: #174EA6;\n",
              "      --disabled-fill-color: #AAA;\n",
              "      --disabled-bg-color: #DDD;\n",
              "  }\n",
              "\n",
              "  [theme=dark] .colab-df-quickchart {\n",
              "      --bg-color: #3B4455;\n",
              "      --fill-color: #D2E3FC;\n",
              "      --hover-bg-color: #434B5C;\n",
              "      --hover-fill-color: #FFFFFF;\n",
              "      --disabled-bg-color: #3B4455;\n",
              "      --disabled-fill-color: #666;\n",
              "  }\n",
              "\n",
              "  .colab-df-quickchart {\n",
              "    background-color: var(--bg-color);\n",
              "    border: none;\n",
              "    border-radius: 50%;\n",
              "    cursor: pointer;\n",
              "    display: none;\n",
              "    fill: var(--fill-color);\n",
              "    height: 32px;\n",
              "    padding: 0;\n",
              "    width: 32px;\n",
              "  }\n",
              "\n",
              "  .colab-df-quickchart:hover {\n",
              "    background-color: var(--hover-bg-color);\n",
              "    box-shadow: 0 1px 2px rgba(60, 64, 67, 0.3), 0 1px 3px 1px rgba(60, 64, 67, 0.15);\n",
              "    fill: var(--button-hover-fill-color);\n",
              "  }\n",
              "\n",
              "  .colab-df-quickchart-complete:disabled,\n",
              "  .colab-df-quickchart-complete:disabled:hover {\n",
              "    background-color: var(--disabled-bg-color);\n",
              "    fill: var(--disabled-fill-color);\n",
              "    box-shadow: none;\n",
              "  }\n",
              "\n",
              "  .colab-df-spinner {\n",
              "    border: 2px solid var(--fill-color);\n",
              "    border-color: transparent;\n",
              "    border-bottom-color: var(--fill-color);\n",
              "    animation:\n",
              "      spin 1s steps(1) infinite;\n",
              "  }\n",
              "\n",
              "  @keyframes spin {\n",
              "    0% {\n",
              "      border-color: transparent;\n",
              "      border-bottom-color: var(--fill-color);\n",
              "      border-left-color: var(--fill-color);\n",
              "    }\n",
              "    20% {\n",
              "      border-color: transparent;\n",
              "      border-left-color: var(--fill-color);\n",
              "      border-top-color: var(--fill-color);\n",
              "    }\n",
              "    30% {\n",
              "      border-color: transparent;\n",
              "      border-left-color: var(--fill-color);\n",
              "      border-top-color: var(--fill-color);\n",
              "      border-right-color: var(--fill-color);\n",
              "    }\n",
              "    40% {\n",
              "      border-color: transparent;\n",
              "      border-right-color: var(--fill-color);\n",
              "      border-top-color: var(--fill-color);\n",
              "    }\n",
              "    60% {\n",
              "      border-color: transparent;\n",
              "      border-right-color: var(--fill-color);\n",
              "    }\n",
              "    80% {\n",
              "      border-color: transparent;\n",
              "      border-right-color: var(--fill-color);\n",
              "      border-bottom-color: var(--fill-color);\n",
              "    }\n",
              "    90% {\n",
              "      border-color: transparent;\n",
              "      border-bottom-color: var(--fill-color);\n",
              "    }\n",
              "  }\n",
              "</style>\n",
              "\n",
              "  <script>\n",
              "    async function quickchart(key) {\n",
              "      const quickchartButtonEl =\n",
              "        document.querySelector('#' + key + ' button');\n",
              "      quickchartButtonEl.disabled = true;  // To prevent multiple clicks.\n",
              "      quickchartButtonEl.classList.add('colab-df-spinner');\n",
              "      try {\n",
              "        const charts = await google.colab.kernel.invokeFunction(\n",
              "            'suggestCharts', [key], {});\n",
              "      } catch (error) {\n",
              "        console.error('Error during call to suggestCharts:', error);\n",
              "      }\n",
              "      quickchartButtonEl.classList.remove('colab-df-spinner');\n",
              "      quickchartButtonEl.classList.add('colab-df-quickchart-complete');\n",
              "    }\n",
              "    (() => {\n",
              "      let quickchartButtonEl =\n",
              "        document.querySelector('#df-be727a30-5068-4eba-b2da-b8163a4491f9 button');\n",
              "      quickchartButtonEl.style.display =\n",
              "        google.colab.kernel.accessAllowed ? 'block' : 'none';\n",
              "    })();\n",
              "  </script>\n",
              "</div>\n",
              "    </div>\n",
              "  </div>\n"
            ],
            "application/vnd.google.colaboratory.intrinsic+json": {
              "type": "dataframe",
              "variable_name": "df",
              "summary": "{\n  \"name\": \"df\",\n  \"rows\": 6514,\n  \"fields\": [\n    {\n      \"column\": \"Date\",\n      \"properties\": {\n        \"dtype\": \"object\",\n        \"num_unique_values\": 365,\n        \"samples\": [\n          \"07/17/2023\",\n          \"02/06/2023\",\n          \"01/16/2023\"\n        ],\n        \"semantic_type\": \"\",\n        \"description\": \"\"\n      }\n    },\n    {\n      \"column\": \"Source\",\n      \"properties\": {\n        \"dtype\": \"category\",\n        \"num_unique_values\": 2,\n        \"samples\": [\n          \"AirNow\",\n          \"AQS\"\n        ],\n        \"semantic_type\": \"\",\n        \"description\": \"\"\n      }\n    },\n    {\n      \"column\": \"Site ID\",\n      \"properties\": {\n        \"dtype\": \"number\",\n        \"std\": 30418,\n        \"min\": 490352005,\n        \"max\": 490450004,\n        \"num_unique_values\": 9,\n        \"samples\": [\n          490354002,\n          490353006\n        ],\n        \"semantic_type\": \"\",\n        \"description\": \"\"\n      }\n    },\n    {\n      \"column\": \"POC\",\n      \"properties\": {\n        \"dtype\": \"number\",\n        \"std\": 1,\n        \"min\": 1,\n        \"max\": 5,\n        \"num_unique_values\": 5,\n        \"samples\": [\n          4,\n          5\n        ],\n        \"semantic_type\": \"\",\n        \"description\": \"\"\n      }\n    },\n    {\n      \"column\": \"Daily Mean PM2.5 Concentration\",\n      \"properties\": {\n        \"dtype\": \"number\",\n        \"std\": 6.279512287452537,\n        \"min\": -0.5,\n        \"max\": 52.6,\n        \"num_unique_values\": 360,\n        \"samples\": [\n          22.9,\n          19.4\n        ],\n        \"semantic_type\": \"\",\n        \"description\": \"\"\n      }\n    },\n    {\n      \"column\": \"UNITS\",\n      \"properties\": {\n        \"dtype\": \"category\",\n        \"num_unique_values\": 1,\n        \"samples\": [\n          \"ug/m3 LC\"\n        ],\n        \"semantic_type\": \"\",\n        \"description\": \"\"\n      }\n    },\n    {\n      \"column\": \"DAILY_AQI_VALUE\",\n      \"properties\": {\n        \"dtype\": \"number\",\n        \"std\": 19,\n        \"min\": 0,\n        \"max\": 143,\n        \"num_unique_values\": 124,\n        \"samples\": [\n          37\n        ],\n        \"semantic_type\": \"\",\n        \"description\": \"\"\n      }\n    },\n    {\n      \"column\": \"Site Name\",\n      \"properties\": {\n        \"dtype\": \"category\",\n        \"num_unique_values\": 9,\n        \"samples\": [\n          \"Near Road\"\n        ],\n        \"semantic_type\": \"\",\n        \"description\": \"\"\n      }\n    },\n    {\n      \"column\": \"DAILY_OBS_COUNT\",\n      \"properties\": {\n        \"dtype\": \"number\",\n        \"std\": 0,\n        \"min\": 1,\n        \"max\": 1,\n        \"num_unique_values\": 1,\n        \"samples\": [\n          1\n        ],\n        \"semantic_type\": \"\",\n        \"description\": \"\"\n      }\n    },\n    {\n      \"column\": \"PERCENT_COMPLETE\",\n      \"properties\": {\n        \"dtype\": \"number\",\n        \"std\": 0.0,\n        \"min\": 100.0,\n        \"max\": 100.0,\n        \"num_unique_values\": 1,\n        \"samples\": [\n          100.0\n        ],\n        \"semantic_type\": \"\",\n        \"description\": \"\"\n      }\n    },\n    {\n      \"column\": \"AQS_PARAMETER_CODE\",\n      \"properties\": {\n        \"dtype\": \"number\",\n        \"std\": 0,\n        \"min\": 88101,\n        \"max\": 88101,\n        \"num_unique_values\": 1,\n        \"samples\": [\n          88101\n        ],\n        \"semantic_type\": \"\",\n        \"description\": \"\"\n      }\n    },\n    {\n      \"column\": \"AQS_PARAMETER_DESC\",\n      \"properties\": {\n        \"dtype\": \"category\",\n        \"num_unique_values\": 1,\n        \"samples\": [\n          \"PM2.5 - Local Conditions\"\n        ],\n        \"semantic_type\": \"\",\n        \"description\": \"\"\n      }\n    },\n    {\n      \"column\": \"CBSA_CODE\",\n      \"properties\": {\n        \"dtype\": \"number\",\n        \"std\": 0,\n        \"min\": 41620,\n        \"max\": 41620,\n        \"num_unique_values\": 1,\n        \"samples\": [\n          41620\n        ],\n        \"semantic_type\": \"\",\n        \"description\": \"\"\n      }\n    },\n    {\n      \"column\": \"CBSA_NAME\",\n      \"properties\": {\n        \"dtype\": \"category\",\n        \"num_unique_values\": 1,\n        \"samples\": [\n          \"Salt Lake City, UT\"\n        ],\n        \"semantic_type\": \"\",\n        \"description\": \"\"\n      }\n    },\n    {\n      \"column\": \"STATE_CODE\",\n      \"properties\": {\n        \"dtype\": \"number\",\n        \"std\": 0,\n        \"min\": 49,\n        \"max\": 49,\n        \"num_unique_values\": 1,\n        \"samples\": [\n          49\n        ],\n        \"semantic_type\": \"\",\n        \"description\": \"\"\n      }\n    },\n    {\n      \"column\": \"STATE\",\n      \"properties\": {\n        \"dtype\": \"category\",\n        \"num_unique_values\": 1,\n        \"samples\": [\n          \"Utah\"\n        ],\n        \"semantic_type\": \"\",\n        \"description\": \"\"\n      }\n    },\n    {\n      \"column\": \"COUNTY_CODE\",\n      \"properties\": {\n        \"dtype\": \"number\",\n        \"std\": 3,\n        \"min\": 35,\n        \"max\": 45,\n        \"num_unique_values\": 2,\n        \"samples\": [\n          45\n        ],\n        \"semantic_type\": \"\",\n        \"description\": \"\"\n      }\n    },\n    {\n      \"column\": \"COUNTY\",\n      \"properties\": {\n        \"dtype\": \"category\",\n        \"num_unique_values\": 2,\n        \"samples\": [\n          \"Tooele\"\n        ],\n        \"semantic_type\": \"\",\n        \"description\": \"\"\n      }\n    },\n    {\n      \"column\": \"SITE_LATITUDE\",\n      \"properties\": {\n        \"dtype\": \"number\",\n        \"std\": 0.09782147243196003,\n        \"min\": 40.496392,\n        \"max\": 40.807897,\n        \"num_unique_values\": 9,\n        \"samples\": [\n          40.6629611\n        ],\n        \"semantic_type\": \"\",\n        \"description\": \"\"\n      }\n    },\n    {\n      \"column\": \"SITE_LONGITUDE\",\n      \"properties\": {\n        \"dtype\": \"number\",\n        \"std\": 0.1433874335557945,\n        \"min\": -112.35578,\n        \"max\": -111.872222,\n        \"num_unique_values\": 9,\n        \"samples\": [\n          -111.9018514\n        ],\n        \"semantic_type\": \"\",\n        \"description\": \"\"\n      }\n    }\n  ]\n}"
            }
          },
          "metadata": {},
          "execution_count": 4
        }
      ]
    },
    {
      "cell_type": "markdown",
      "source": [
        "Получение типов данных и пропущенных значений:"
      ],
      "metadata": {
        "id": "NNhHb8RT-JNe"
      }
    },
    {
      "cell_type": "code",
      "source": [
        "df.info()"
      ],
      "metadata": {
        "colab": {
          "base_uri": "https://localhost:8080/"
        },
        "id": "45qOurXd-Kxw",
        "outputId": "6400205f-418c-4dc8-d0b5-3d9355a275fb"
      },
      "execution_count": null,
      "outputs": [
        {
          "output_type": "stream",
          "name": "stdout",
          "text": [
            "<class 'pandas.core.frame.DataFrame'>\n",
            "RangeIndex: 6514 entries, 0 to 6513\n",
            "Data columns (total 20 columns):\n",
            " #   Column                          Non-Null Count  Dtype  \n",
            "---  ------                          --------------  -----  \n",
            " 0   Date                            6514 non-null   object \n",
            " 1   Source                          6514 non-null   object \n",
            " 2   Site ID                         6514 non-null   int64  \n",
            " 3   POC                             6514 non-null   int64  \n",
            " 4   Daily Mean PM2.5 Concentration  6514 non-null   float64\n",
            " 5   UNITS                           6514 non-null   object \n",
            " 6   DAILY_AQI_VALUE                 6514 non-null   int64  \n",
            " 7   Site Name                       6514 non-null   object \n",
            " 8   DAILY_OBS_COUNT                 6514 non-null   int64  \n",
            " 9   PERCENT_COMPLETE                6514 non-null   float64\n",
            " 10  AQS_PARAMETER_CODE              6514 non-null   int64  \n",
            " 11  AQS_PARAMETER_DESC              6514 non-null   object \n",
            " 12  CBSA_CODE                       6514 non-null   int64  \n",
            " 13  CBSA_NAME                       6514 non-null   object \n",
            " 14  STATE_CODE                      6514 non-null   int64  \n",
            " 15  STATE                           6514 non-null   object \n",
            " 16  COUNTY_CODE                     6514 non-null   int64  \n",
            " 17  COUNTY                          6514 non-null   object \n",
            " 18  SITE_LATITUDE                   6514 non-null   float64\n",
            " 19  SITE_LONGITUDE                  6514 non-null   float64\n",
            "dtypes: float64(4), int64(8), object(8)\n",
            "memory usage: 1017.9+ KB\n"
          ]
        }
      ]
    },
    {
      "cell_type": "markdown",
      "source": [
        "У Date тип данных object, а должен быть тип даты."
      ],
      "metadata": {
        "id": "ufe-b3F5-cb0"
      }
    },
    {
      "cell_type": "markdown",
      "source": [
        "# **Шаг 2. Обработка данных**"
      ],
      "metadata": {
        "id": "oSrHKNkF_v_k"
      }
    },
    {
      "cell_type": "code",
      "source": [
        "# поменять тип данных\n",
        "df['Date']=df['Date'].astype('datetime64')"
      ],
      "metadata": {
        "id": "LB30LyF4_ww_"
      },
      "execution_count": 64,
      "outputs": []
    },
    {
      "cell_type": "markdown",
      "source": [
        "Проверить снова типы данных."
      ],
      "metadata": {
        "id": "b_rZQeIQDyx-"
      }
    },
    {
      "cell_type": "code",
      "source": [
        "df.info()"
      ],
      "metadata": {
        "colab": {
          "base_uri": "https://localhost:8080/"
        },
        "id": "PoH1VRtNDmmA",
        "outputId": "7ba1f8f9-727b-44ff-bd10-6d60dd0a8051"
      },
      "execution_count": null,
      "outputs": [
        {
          "output_type": "stream",
          "name": "stdout",
          "text": [
            "<class 'pandas.core.frame.DataFrame'>\n",
            "RangeIndex: 6514 entries, 0 to 6513\n",
            "Data columns (total 20 columns):\n",
            " #   Column                          Non-Null Count  Dtype         \n",
            "---  ------                          --------------  -----         \n",
            " 0   Date                            6514 non-null   datetime64[ns]\n",
            " 1   Source                          6514 non-null   object        \n",
            " 2   Site ID                         6514 non-null   int64         \n",
            " 3   POC                             6514 non-null   int64         \n",
            " 4   Daily Mean PM2.5 Concentration  6514 non-null   float64       \n",
            " 5   UNITS                           6514 non-null   object        \n",
            " 6   DAILY_AQI_VALUE                 6514 non-null   int64         \n",
            " 7   Site Name                       6514 non-null   object        \n",
            " 8   DAILY_OBS_COUNT                 6514 non-null   int64         \n",
            " 9   PERCENT_COMPLETE                6514 non-null   float64       \n",
            " 10  AQS_PARAMETER_CODE              6514 non-null   int64         \n",
            " 11  AQS_PARAMETER_DESC              6514 non-null   object        \n",
            " 12  CBSA_CODE                       6514 non-null   int64         \n",
            " 13  CBSA_NAME                       6514 non-null   object        \n",
            " 14  STATE_CODE                      6514 non-null   int64         \n",
            " 15  STATE                           6514 non-null   object        \n",
            " 16  COUNTY_CODE                     6514 non-null   int64         \n",
            " 17  COUNTY                          6514 non-null   object        \n",
            " 18  SITE_LATITUDE                   6514 non-null   float64       \n",
            " 19  SITE_LONGITUDE                  6514 non-null   float64       \n",
            "dtypes: datetime64[ns](1), float64(4), int64(8), object(7)\n",
            "memory usage: 1017.9+ KB\n"
          ]
        }
      ]
    },
    {
      "cell_type": "code",
      "source": [
        "df.head()"
      ],
      "metadata": {
        "colab": {
          "base_uri": "https://localhost:8080/",
          "height": 347
        },
        "id": "Tj4KbQOxDsty",
        "outputId": "323333ac-ad46-47a8-bef8-7d6c707d35aa"
      },
      "execution_count": null,
      "outputs": [
        {
          "output_type": "execute_result",
          "data": {
            "text/plain": [
              "        Date Source    Site ID  POC  Daily Mean PM2.5 Concentration     UNITS  \\\n",
              "0 2023-01-01    AQS  490352005    1                             4.6  ug/m3 LC   \n",
              "1 2023-01-02    AQS  490352005    1                             4.0  ug/m3 LC   \n",
              "2 2023-01-03    AQS  490352005    1                            12.5  ug/m3 LC   \n",
              "3 2023-01-04    AQS  490352005    1                             9.9  ug/m3 LC   \n",
              "4 2023-01-05    AQS  490352005    1                             2.2  ug/m3 LC   \n",
              "\n",
              "   DAILY_AQI_VALUE    Site Name  DAILY_OBS_COUNT  PERCENT_COMPLETE  \\\n",
              "0               19  Copper View                1             100.0   \n",
              "1               17  Copper View                1             100.0   \n",
              "2               52  Copper View                1             100.0   \n",
              "3               41  Copper View                1             100.0   \n",
              "4                9  Copper View                1             100.0   \n",
              "\n",
              "   AQS_PARAMETER_CODE        AQS_PARAMETER_DESC  CBSA_CODE  \\\n",
              "0               88101  PM2.5 - Local Conditions      41620   \n",
              "1               88101  PM2.5 - Local Conditions      41620   \n",
              "2               88101  PM2.5 - Local Conditions      41620   \n",
              "3               88101  PM2.5 - Local Conditions      41620   \n",
              "4               88101  PM2.5 - Local Conditions      41620   \n",
              "\n",
              "            CBSA_NAME  STATE_CODE STATE  COUNTY_CODE     COUNTY  \\\n",
              "0  Salt Lake City, UT          49  Utah           35  Salt Lake   \n",
              "1  Salt Lake City, UT          49  Utah           35  Salt Lake   \n",
              "2  Salt Lake City, UT          49  Utah           35  Salt Lake   \n",
              "3  Salt Lake City, UT          49  Utah           35  Salt Lake   \n",
              "4  Salt Lake City, UT          49  Utah           35  Salt Lake   \n",
              "\n",
              "   SITE_LATITUDE  SITE_LONGITUDE  \n",
              "0      40.598056     -111.894167  \n",
              "1      40.598056     -111.894167  \n",
              "2      40.598056     -111.894167  \n",
              "3      40.598056     -111.894167  \n",
              "4      40.598056     -111.894167  "
            ],
            "text/html": [
              "\n",
              "  <div id=\"df-4b4a095d-cb9a-4932-8372-93a151c5bcad\" class=\"colab-df-container\">\n",
              "    <div>\n",
              "<style scoped>\n",
              "    .dataframe tbody tr th:only-of-type {\n",
              "        vertical-align: middle;\n",
              "    }\n",
              "\n",
              "    .dataframe tbody tr th {\n",
              "        vertical-align: top;\n",
              "    }\n",
              "\n",
              "    .dataframe thead th {\n",
              "        text-align: right;\n",
              "    }\n",
              "</style>\n",
              "<table border=\"1\" class=\"dataframe\">\n",
              "  <thead>\n",
              "    <tr style=\"text-align: right;\">\n",
              "      <th></th>\n",
              "      <th>Date</th>\n",
              "      <th>Source</th>\n",
              "      <th>Site ID</th>\n",
              "      <th>POC</th>\n",
              "      <th>Daily Mean PM2.5 Concentration</th>\n",
              "      <th>UNITS</th>\n",
              "      <th>DAILY_AQI_VALUE</th>\n",
              "      <th>Site Name</th>\n",
              "      <th>DAILY_OBS_COUNT</th>\n",
              "      <th>PERCENT_COMPLETE</th>\n",
              "      <th>AQS_PARAMETER_CODE</th>\n",
              "      <th>AQS_PARAMETER_DESC</th>\n",
              "      <th>CBSA_CODE</th>\n",
              "      <th>CBSA_NAME</th>\n",
              "      <th>STATE_CODE</th>\n",
              "      <th>STATE</th>\n",
              "      <th>COUNTY_CODE</th>\n",
              "      <th>COUNTY</th>\n",
              "      <th>SITE_LATITUDE</th>\n",
              "      <th>SITE_LONGITUDE</th>\n",
              "    </tr>\n",
              "  </thead>\n",
              "  <tbody>\n",
              "    <tr>\n",
              "      <th>0</th>\n",
              "      <td>2023-01-01</td>\n",
              "      <td>AQS</td>\n",
              "      <td>490352005</td>\n",
              "      <td>1</td>\n",
              "      <td>4.6</td>\n",
              "      <td>ug/m3 LC</td>\n",
              "      <td>19</td>\n",
              "      <td>Copper View</td>\n",
              "      <td>1</td>\n",
              "      <td>100.0</td>\n",
              "      <td>88101</td>\n",
              "      <td>PM2.5 - Local Conditions</td>\n",
              "      <td>41620</td>\n",
              "      <td>Salt Lake City, UT</td>\n",
              "      <td>49</td>\n",
              "      <td>Utah</td>\n",
              "      <td>35</td>\n",
              "      <td>Salt Lake</td>\n",
              "      <td>40.598056</td>\n",
              "      <td>-111.894167</td>\n",
              "    </tr>\n",
              "    <tr>\n",
              "      <th>1</th>\n",
              "      <td>2023-01-02</td>\n",
              "      <td>AQS</td>\n",
              "      <td>490352005</td>\n",
              "      <td>1</td>\n",
              "      <td>4.0</td>\n",
              "      <td>ug/m3 LC</td>\n",
              "      <td>17</td>\n",
              "      <td>Copper View</td>\n",
              "      <td>1</td>\n",
              "      <td>100.0</td>\n",
              "      <td>88101</td>\n",
              "      <td>PM2.5 - Local Conditions</td>\n",
              "      <td>41620</td>\n",
              "      <td>Salt Lake City, UT</td>\n",
              "      <td>49</td>\n",
              "      <td>Utah</td>\n",
              "      <td>35</td>\n",
              "      <td>Salt Lake</td>\n",
              "      <td>40.598056</td>\n",
              "      <td>-111.894167</td>\n",
              "    </tr>\n",
              "    <tr>\n",
              "      <th>2</th>\n",
              "      <td>2023-01-03</td>\n",
              "      <td>AQS</td>\n",
              "      <td>490352005</td>\n",
              "      <td>1</td>\n",
              "      <td>12.5</td>\n",
              "      <td>ug/m3 LC</td>\n",
              "      <td>52</td>\n",
              "      <td>Copper View</td>\n",
              "      <td>1</td>\n",
              "      <td>100.0</td>\n",
              "      <td>88101</td>\n",
              "      <td>PM2.5 - Local Conditions</td>\n",
              "      <td>41620</td>\n",
              "      <td>Salt Lake City, UT</td>\n",
              "      <td>49</td>\n",
              "      <td>Utah</td>\n",
              "      <td>35</td>\n",
              "      <td>Salt Lake</td>\n",
              "      <td>40.598056</td>\n",
              "      <td>-111.894167</td>\n",
              "    </tr>\n",
              "    <tr>\n",
              "      <th>3</th>\n",
              "      <td>2023-01-04</td>\n",
              "      <td>AQS</td>\n",
              "      <td>490352005</td>\n",
              "      <td>1</td>\n",
              "      <td>9.9</td>\n",
              "      <td>ug/m3 LC</td>\n",
              "      <td>41</td>\n",
              "      <td>Copper View</td>\n",
              "      <td>1</td>\n",
              "      <td>100.0</td>\n",
              "      <td>88101</td>\n",
              "      <td>PM2.5 - Local Conditions</td>\n",
              "      <td>41620</td>\n",
              "      <td>Salt Lake City, UT</td>\n",
              "      <td>49</td>\n",
              "      <td>Utah</td>\n",
              "      <td>35</td>\n",
              "      <td>Salt Lake</td>\n",
              "      <td>40.598056</td>\n",
              "      <td>-111.894167</td>\n",
              "    </tr>\n",
              "    <tr>\n",
              "      <th>4</th>\n",
              "      <td>2023-01-05</td>\n",
              "      <td>AQS</td>\n",
              "      <td>490352005</td>\n",
              "      <td>1</td>\n",
              "      <td>2.2</td>\n",
              "      <td>ug/m3 LC</td>\n",
              "      <td>9</td>\n",
              "      <td>Copper View</td>\n",
              "      <td>1</td>\n",
              "      <td>100.0</td>\n",
              "      <td>88101</td>\n",
              "      <td>PM2.5 - Local Conditions</td>\n",
              "      <td>41620</td>\n",
              "      <td>Salt Lake City, UT</td>\n",
              "      <td>49</td>\n",
              "      <td>Utah</td>\n",
              "      <td>35</td>\n",
              "      <td>Salt Lake</td>\n",
              "      <td>40.598056</td>\n",
              "      <td>-111.894167</td>\n",
              "    </tr>\n",
              "  </tbody>\n",
              "</table>\n",
              "</div>\n",
              "    <div class=\"colab-df-buttons\">\n",
              "\n",
              "  <div class=\"colab-df-container\">\n",
              "    <button class=\"colab-df-convert\" onclick=\"convertToInteractive('df-4b4a095d-cb9a-4932-8372-93a151c5bcad')\"\n",
              "            title=\"Convert this dataframe to an interactive table.\"\n",
              "            style=\"display:none;\">\n",
              "\n",
              "  <svg xmlns=\"http://www.w3.org/2000/svg\" height=\"24px\" viewBox=\"0 -960 960 960\">\n",
              "    <path d=\"M120-120v-720h720v720H120Zm60-500h600v-160H180v160Zm220 220h160v-160H400v160Zm0 220h160v-160H400v160ZM180-400h160v-160H180v160Zm440 0h160v-160H620v160ZM180-180h160v-160H180v160Zm440 0h160v-160H620v160Z\"/>\n",
              "  </svg>\n",
              "    </button>\n",
              "\n",
              "  <style>\n",
              "    .colab-df-container {\n",
              "      display:flex;\n",
              "      gap: 12px;\n",
              "    }\n",
              "\n",
              "    .colab-df-convert {\n",
              "      background-color: #E8F0FE;\n",
              "      border: none;\n",
              "      border-radius: 50%;\n",
              "      cursor: pointer;\n",
              "      display: none;\n",
              "      fill: #1967D2;\n",
              "      height: 32px;\n",
              "      padding: 0 0 0 0;\n",
              "      width: 32px;\n",
              "    }\n",
              "\n",
              "    .colab-df-convert:hover {\n",
              "      background-color: #E2EBFA;\n",
              "      box-shadow: 0px 1px 2px rgba(60, 64, 67, 0.3), 0px 1px 3px 1px rgba(60, 64, 67, 0.15);\n",
              "      fill: #174EA6;\n",
              "    }\n",
              "\n",
              "    .colab-df-buttons div {\n",
              "      margin-bottom: 4px;\n",
              "    }\n",
              "\n",
              "    [theme=dark] .colab-df-convert {\n",
              "      background-color: #3B4455;\n",
              "      fill: #D2E3FC;\n",
              "    }\n",
              "\n",
              "    [theme=dark] .colab-df-convert:hover {\n",
              "      background-color: #434B5C;\n",
              "      box-shadow: 0px 1px 3px 1px rgba(0, 0, 0, 0.15);\n",
              "      filter: drop-shadow(0px 1px 2px rgba(0, 0, 0, 0.3));\n",
              "      fill: #FFFFFF;\n",
              "    }\n",
              "  </style>\n",
              "\n",
              "    <script>\n",
              "      const buttonEl =\n",
              "        document.querySelector('#df-4b4a095d-cb9a-4932-8372-93a151c5bcad button.colab-df-convert');\n",
              "      buttonEl.style.display =\n",
              "        google.colab.kernel.accessAllowed ? 'block' : 'none';\n",
              "\n",
              "      async function convertToInteractive(key) {\n",
              "        const element = document.querySelector('#df-4b4a095d-cb9a-4932-8372-93a151c5bcad');\n",
              "        const dataTable =\n",
              "          await google.colab.kernel.invokeFunction('convertToInteractive',\n",
              "                                                    [key], {});\n",
              "        if (!dataTable) return;\n",
              "\n",
              "        const docLinkHtml = 'Like what you see? Visit the ' +\n",
              "          '<a target=\"_blank\" href=https://colab.research.google.com/notebooks/data_table.ipynb>data table notebook</a>'\n",
              "          + ' to learn more about interactive tables.';\n",
              "        element.innerHTML = '';\n",
              "        dataTable['output_type'] = 'display_data';\n",
              "        await google.colab.output.renderOutput(dataTable, element);\n",
              "        const docLink = document.createElement('div');\n",
              "        docLink.innerHTML = docLinkHtml;\n",
              "        element.appendChild(docLink);\n",
              "      }\n",
              "    </script>\n",
              "  </div>\n",
              "\n",
              "\n",
              "<div id=\"df-db779b84-ec25-47a1-9e92-bd27a05a5c60\">\n",
              "  <button class=\"colab-df-quickchart\" onclick=\"quickchart('df-db779b84-ec25-47a1-9e92-bd27a05a5c60')\"\n",
              "            title=\"Suggest charts\"\n",
              "            style=\"display:none;\">\n",
              "\n",
              "<svg xmlns=\"http://www.w3.org/2000/svg\" height=\"24px\"viewBox=\"0 0 24 24\"\n",
              "     width=\"24px\">\n",
              "    <g>\n",
              "        <path d=\"M19 3H5c-1.1 0-2 .9-2 2v14c0 1.1.9 2 2 2h14c1.1 0 2-.9 2-2V5c0-1.1-.9-2-2-2zM9 17H7v-7h2v7zm4 0h-2V7h2v10zm4 0h-2v-4h2v4z\"/>\n",
              "    </g>\n",
              "</svg>\n",
              "  </button>\n",
              "\n",
              "<style>\n",
              "  .colab-df-quickchart {\n",
              "      --bg-color: #E8F0FE;\n",
              "      --fill-color: #1967D2;\n",
              "      --hover-bg-color: #E2EBFA;\n",
              "      --hover-fill-color: #174EA6;\n",
              "      --disabled-fill-color: #AAA;\n",
              "      --disabled-bg-color: #DDD;\n",
              "  }\n",
              "\n",
              "  [theme=dark] .colab-df-quickchart {\n",
              "      --bg-color: #3B4455;\n",
              "      --fill-color: #D2E3FC;\n",
              "      --hover-bg-color: #434B5C;\n",
              "      --hover-fill-color: #FFFFFF;\n",
              "      --disabled-bg-color: #3B4455;\n",
              "      --disabled-fill-color: #666;\n",
              "  }\n",
              "\n",
              "  .colab-df-quickchart {\n",
              "    background-color: var(--bg-color);\n",
              "    border: none;\n",
              "    border-radius: 50%;\n",
              "    cursor: pointer;\n",
              "    display: none;\n",
              "    fill: var(--fill-color);\n",
              "    height: 32px;\n",
              "    padding: 0;\n",
              "    width: 32px;\n",
              "  }\n",
              "\n",
              "  .colab-df-quickchart:hover {\n",
              "    background-color: var(--hover-bg-color);\n",
              "    box-shadow: 0 1px 2px rgba(60, 64, 67, 0.3), 0 1px 3px 1px rgba(60, 64, 67, 0.15);\n",
              "    fill: var(--button-hover-fill-color);\n",
              "  }\n",
              "\n",
              "  .colab-df-quickchart-complete:disabled,\n",
              "  .colab-df-quickchart-complete:disabled:hover {\n",
              "    background-color: var(--disabled-bg-color);\n",
              "    fill: var(--disabled-fill-color);\n",
              "    box-shadow: none;\n",
              "  }\n",
              "\n",
              "  .colab-df-spinner {\n",
              "    border: 2px solid var(--fill-color);\n",
              "    border-color: transparent;\n",
              "    border-bottom-color: var(--fill-color);\n",
              "    animation:\n",
              "      spin 1s steps(1) infinite;\n",
              "  }\n",
              "\n",
              "  @keyframes spin {\n",
              "    0% {\n",
              "      border-color: transparent;\n",
              "      border-bottom-color: var(--fill-color);\n",
              "      border-left-color: var(--fill-color);\n",
              "    }\n",
              "    20% {\n",
              "      border-color: transparent;\n",
              "      border-left-color: var(--fill-color);\n",
              "      border-top-color: var(--fill-color);\n",
              "    }\n",
              "    30% {\n",
              "      border-color: transparent;\n",
              "      border-left-color: var(--fill-color);\n",
              "      border-top-color: var(--fill-color);\n",
              "      border-right-color: var(--fill-color);\n",
              "    }\n",
              "    40% {\n",
              "      border-color: transparent;\n",
              "      border-right-color: var(--fill-color);\n",
              "      border-top-color: var(--fill-color);\n",
              "    }\n",
              "    60% {\n",
              "      border-color: transparent;\n",
              "      border-right-color: var(--fill-color);\n",
              "    }\n",
              "    80% {\n",
              "      border-color: transparent;\n",
              "      border-right-color: var(--fill-color);\n",
              "      border-bottom-color: var(--fill-color);\n",
              "    }\n",
              "    90% {\n",
              "      border-color: transparent;\n",
              "      border-bottom-color: var(--fill-color);\n",
              "    }\n",
              "  }\n",
              "</style>\n",
              "\n",
              "  <script>\n",
              "    async function quickchart(key) {\n",
              "      const quickchartButtonEl =\n",
              "        document.querySelector('#' + key + ' button');\n",
              "      quickchartButtonEl.disabled = true;  // To prevent multiple clicks.\n",
              "      quickchartButtonEl.classList.add('colab-df-spinner');\n",
              "      try {\n",
              "        const charts = await google.colab.kernel.invokeFunction(\n",
              "            'suggestCharts', [key], {});\n",
              "      } catch (error) {\n",
              "        console.error('Error during call to suggestCharts:', error);\n",
              "      }\n",
              "      quickchartButtonEl.classList.remove('colab-df-spinner');\n",
              "      quickchartButtonEl.classList.add('colab-df-quickchart-complete');\n",
              "    }\n",
              "    (() => {\n",
              "      let quickchartButtonEl =\n",
              "        document.querySelector('#df-db779b84-ec25-47a1-9e92-bd27a05a5c60 button');\n",
              "      quickchartButtonEl.style.display =\n",
              "        google.colab.kernel.accessAllowed ? 'block' : 'none';\n",
              "    })();\n",
              "  </script>\n",
              "</div>\n",
              "    </div>\n",
              "  </div>\n"
            ],
            "application/vnd.google.colaboratory.intrinsic+json": {
              "type": "dataframe",
              "variable_name": "df",
              "summary": "{\n  \"name\": \"df\",\n  \"rows\": 6514,\n  \"fields\": [\n    {\n      \"column\": \"Date\",\n      \"properties\": {\n        \"dtype\": \"date\",\n        \"min\": \"2023-01-01 00:00:00\",\n        \"max\": \"2023-12-31 00:00:00\",\n        \"num_unique_values\": 365,\n        \"samples\": [\n          \"2023-07-17 00:00:00\",\n          \"2023-02-06 00:00:00\",\n          \"2023-01-16 00:00:00\"\n        ],\n        \"semantic_type\": \"\",\n        \"description\": \"\"\n      }\n    },\n    {\n      \"column\": \"Source\",\n      \"properties\": {\n        \"dtype\": \"category\",\n        \"num_unique_values\": 2,\n        \"samples\": [\n          \"AirNow\",\n          \"AQS\"\n        ],\n        \"semantic_type\": \"\",\n        \"description\": \"\"\n      }\n    },\n    {\n      \"column\": \"Site ID\",\n      \"properties\": {\n        \"dtype\": \"number\",\n        \"std\": 30418,\n        \"min\": 490352005,\n        \"max\": 490450004,\n        \"num_unique_values\": 9,\n        \"samples\": [\n          490354002,\n          490353006\n        ],\n        \"semantic_type\": \"\",\n        \"description\": \"\"\n      }\n    },\n    {\n      \"column\": \"POC\",\n      \"properties\": {\n        \"dtype\": \"number\",\n        \"std\": 1,\n        \"min\": 1,\n        \"max\": 5,\n        \"num_unique_values\": 5,\n        \"samples\": [\n          4,\n          5\n        ],\n        \"semantic_type\": \"\",\n        \"description\": \"\"\n      }\n    },\n    {\n      \"column\": \"Daily Mean PM2.5 Concentration\",\n      \"properties\": {\n        \"dtype\": \"number\",\n        \"std\": 6.279512287452537,\n        \"min\": -0.5,\n        \"max\": 52.6,\n        \"num_unique_values\": 360,\n        \"samples\": [\n          22.9,\n          19.4\n        ],\n        \"semantic_type\": \"\",\n        \"description\": \"\"\n      }\n    },\n    {\n      \"column\": \"UNITS\",\n      \"properties\": {\n        \"dtype\": \"category\",\n        \"num_unique_values\": 1,\n        \"samples\": [\n          \"ug/m3 LC\"\n        ],\n        \"semantic_type\": \"\",\n        \"description\": \"\"\n      }\n    },\n    {\n      \"column\": \"DAILY_AQI_VALUE\",\n      \"properties\": {\n        \"dtype\": \"number\",\n        \"std\": 19,\n        \"min\": 0,\n        \"max\": 143,\n        \"num_unique_values\": 124,\n        \"samples\": [\n          37\n        ],\n        \"semantic_type\": \"\",\n        \"description\": \"\"\n      }\n    },\n    {\n      \"column\": \"Site Name\",\n      \"properties\": {\n        \"dtype\": \"category\",\n        \"num_unique_values\": 9,\n        \"samples\": [\n          \"Near Road\"\n        ],\n        \"semantic_type\": \"\",\n        \"description\": \"\"\n      }\n    },\n    {\n      \"column\": \"DAILY_OBS_COUNT\",\n      \"properties\": {\n        \"dtype\": \"number\",\n        \"std\": 0,\n        \"min\": 1,\n        \"max\": 1,\n        \"num_unique_values\": 1,\n        \"samples\": [\n          1\n        ],\n        \"semantic_type\": \"\",\n        \"description\": \"\"\n      }\n    },\n    {\n      \"column\": \"PERCENT_COMPLETE\",\n      \"properties\": {\n        \"dtype\": \"number\",\n        \"std\": 0.0,\n        \"min\": 100.0,\n        \"max\": 100.0,\n        \"num_unique_values\": 1,\n        \"samples\": [\n          100.0\n        ],\n        \"semantic_type\": \"\",\n        \"description\": \"\"\n      }\n    },\n    {\n      \"column\": \"AQS_PARAMETER_CODE\",\n      \"properties\": {\n        \"dtype\": \"number\",\n        \"std\": 0,\n        \"min\": 88101,\n        \"max\": 88101,\n        \"num_unique_values\": 1,\n        \"samples\": [\n          88101\n        ],\n        \"semantic_type\": \"\",\n        \"description\": \"\"\n      }\n    },\n    {\n      \"column\": \"AQS_PARAMETER_DESC\",\n      \"properties\": {\n        \"dtype\": \"category\",\n        \"num_unique_values\": 1,\n        \"samples\": [\n          \"PM2.5 - Local Conditions\"\n        ],\n        \"semantic_type\": \"\",\n        \"description\": \"\"\n      }\n    },\n    {\n      \"column\": \"CBSA_CODE\",\n      \"properties\": {\n        \"dtype\": \"number\",\n        \"std\": 0,\n        \"min\": 41620,\n        \"max\": 41620,\n        \"num_unique_values\": 1,\n        \"samples\": [\n          41620\n        ],\n        \"semantic_type\": \"\",\n        \"description\": \"\"\n      }\n    },\n    {\n      \"column\": \"CBSA_NAME\",\n      \"properties\": {\n        \"dtype\": \"category\",\n        \"num_unique_values\": 1,\n        \"samples\": [\n          \"Salt Lake City, UT\"\n        ],\n        \"semantic_type\": \"\",\n        \"description\": \"\"\n      }\n    },\n    {\n      \"column\": \"STATE_CODE\",\n      \"properties\": {\n        \"dtype\": \"number\",\n        \"std\": 0,\n        \"min\": 49,\n        \"max\": 49,\n        \"num_unique_values\": 1,\n        \"samples\": [\n          49\n        ],\n        \"semantic_type\": \"\",\n        \"description\": \"\"\n      }\n    },\n    {\n      \"column\": \"STATE\",\n      \"properties\": {\n        \"dtype\": \"category\",\n        \"num_unique_values\": 1,\n        \"samples\": [\n          \"Utah\"\n        ],\n        \"semantic_type\": \"\",\n        \"description\": \"\"\n      }\n    },\n    {\n      \"column\": \"COUNTY_CODE\",\n      \"properties\": {\n        \"dtype\": \"number\",\n        \"std\": 3,\n        \"min\": 35,\n        \"max\": 45,\n        \"num_unique_values\": 2,\n        \"samples\": [\n          45\n        ],\n        \"semantic_type\": \"\",\n        \"description\": \"\"\n      }\n    },\n    {\n      \"column\": \"COUNTY\",\n      \"properties\": {\n        \"dtype\": \"category\",\n        \"num_unique_values\": 2,\n        \"samples\": [\n          \"Tooele\"\n        ],\n        \"semantic_type\": \"\",\n        \"description\": \"\"\n      }\n    },\n    {\n      \"column\": \"SITE_LATITUDE\",\n      \"properties\": {\n        \"dtype\": \"number\",\n        \"std\": 0.09782147243196003,\n        \"min\": 40.496392,\n        \"max\": 40.807897,\n        \"num_unique_values\": 9,\n        \"samples\": [\n          40.6629611\n        ],\n        \"semantic_type\": \"\",\n        \"description\": \"\"\n      }\n    },\n    {\n      \"column\": \"SITE_LONGITUDE\",\n      \"properties\": {\n        \"dtype\": \"number\",\n        \"std\": 0.1433874335557945,\n        \"min\": -112.35578,\n        \"max\": -111.872222,\n        \"num_unique_values\": 9,\n        \"samples\": [\n          -111.9018514\n        ],\n        \"semantic_type\": \"\",\n        \"description\": \"\"\n      }\n    }\n  ]\n}"
            }
          },
          "metadata": {},
          "execution_count": 9
        }
      ]
    },
    {
      "cell_type": "markdown",
      "source": [
        "Теперь даты отображаются верно."
      ],
      "metadata": {
        "id": "vsjIK37iD1p6"
      }
    },
    {
      "cell_type": "markdown",
      "source": [
        "Описательная статистика"
      ],
      "metadata": {
        "id": "QFLpFV4RIgW-"
      }
    },
    {
      "cell_type": "code",
      "source": [
        "# экспортировать список, содержащий даты\n",
        "date = df[\"Date\"].tolist()\n",
        "print(date)"
      ],
      "metadata": {
        "colab": {
          "base_uri": "https://localhost:8080/"
        },
        "id": "QuZCcXIPKWRx",
        "outputId": "4ed9a8f0-7150-408b-87be-3b9185cefe39"
      },
      "execution_count": null,
      "outputs": [
        {
          "output_type": "stream",
          "name": "stdout",
          "text": [
            "[Timestamp('2023-01-01 00:00:00'), Timestamp('2023-01-02 00:00:00'), Timestamp('2023-01-03 00:00:00'), Timestamp('2023-01-04 00:00:00'), Timestamp('2023-01-05 00:00:00'), Timestamp('2023-01-06 00:00:00'), Timestamp('2023-01-07 00:00:00'), Timestamp('2023-01-08 00:00:00'), Timestamp('2023-01-09 00:00:00'), Timestamp('2023-01-10 00:00:00'), Timestamp('2023-01-11 00:00:00'), Timestamp('2023-01-12 00:00:00'), Timestamp('2023-01-13 00:00:00'), Timestamp('2023-01-14 00:00:00'), Timestamp('2023-01-15 00:00:00'), Timestamp('2023-01-16 00:00:00'), Timestamp('2023-01-17 00:00:00'), Timestamp('2023-01-18 00:00:00'), Timestamp('2023-01-19 00:00:00'), Timestamp('2023-01-20 00:00:00'), Timestamp('2023-01-21 00:00:00'), Timestamp('2023-01-22 00:00:00'), Timestamp('2023-01-23 00:00:00'), Timestamp('2023-01-24 00:00:00'), Timestamp('2023-01-25 00:00:00'), Timestamp('2023-01-26 00:00:00'), Timestamp('2023-01-27 00:00:00'), Timestamp('2023-01-31 00:00:00'), Timestamp('2023-02-01 00:00:00'), Timestamp('2023-02-02 00:00:00'), Timestamp('2023-02-03 00:00:00'), Timestamp('2023-02-04 00:00:00'), Timestamp('2023-02-05 00:00:00'), Timestamp('2023-02-06 00:00:00'), Timestamp('2023-02-07 00:00:00'), Timestamp('2023-02-08 00:00:00'), Timestamp('2023-02-09 00:00:00'), Timestamp('2023-02-10 00:00:00'), Timestamp('2023-02-11 00:00:00'), Timestamp('2023-02-12 00:00:00'), Timestamp('2023-02-13 00:00:00'), Timestamp('2023-02-14 00:00:00'), Timestamp('2023-02-15 00:00:00'), Timestamp('2023-02-16 00:00:00'), Timestamp('2023-02-17 00:00:00'), Timestamp('2023-02-18 00:00:00'), Timestamp('2023-02-19 00:00:00'), Timestamp('2023-02-20 00:00:00'), Timestamp('2023-02-21 00:00:00'), Timestamp('2023-02-22 00:00:00'), Timestamp('2023-02-23 00:00:00'), Timestamp('2023-02-24 00:00:00'), Timestamp('2023-02-25 00:00:00'), Timestamp('2023-02-26 00:00:00'), Timestamp('2023-02-27 00:00:00'), Timestamp('2023-02-28 00:00:00'), Timestamp('2023-03-01 00:00:00'), Timestamp('2023-03-02 00:00:00'), Timestamp('2023-03-03 00:00:00'), Timestamp('2023-03-04 00:00:00'), Timestamp('2023-03-05 00:00:00'), Timestamp('2023-03-06 00:00:00'), Timestamp('2023-03-07 00:00:00'), Timestamp('2023-03-08 00:00:00'), Timestamp('2023-03-09 00:00:00'), Timestamp('2023-03-10 00:00:00'), Timestamp('2023-03-11 00:00:00'), Timestamp('2023-03-12 00:00:00'), Timestamp('2023-03-13 00:00:00'), Timestamp('2023-03-14 00:00:00'), Timestamp('2023-03-15 00:00:00'), Timestamp('2023-03-16 00:00:00'), Timestamp('2023-03-17 00:00:00'), Timestamp('2023-03-18 00:00:00'), Timestamp('2023-03-19 00:00:00'), Timestamp('2023-03-20 00:00:00'), Timestamp('2023-03-21 00:00:00'), Timestamp('2023-03-22 00:00:00'), Timestamp('2023-03-23 00:00:00'), Timestamp('2023-03-24 00:00:00'), Timestamp('2023-03-25 00:00:00'), Timestamp('2023-03-26 00:00:00'), Timestamp('2023-03-27 00:00:00'), Timestamp('2023-03-28 00:00:00'), Timestamp('2023-03-29 00:00:00'), Timestamp('2023-03-30 00:00:00'), Timestamp('2023-03-31 00:00:00'), Timestamp('2023-04-01 00:00:00'), Timestamp('2023-04-02 00:00:00'), Timestamp('2023-04-03 00:00:00'), Timestamp('2023-04-04 00:00:00'), Timestamp('2023-04-05 00:00:00'), Timestamp('2023-04-06 00:00:00'), Timestamp('2023-04-07 00:00:00'), Timestamp('2023-04-08 00:00:00'), Timestamp('2023-04-09 00:00:00'), Timestamp('2023-04-10 00:00:00'), Timestamp('2023-04-11 00:00:00'), Timestamp('2023-04-12 00:00:00'), Timestamp('2023-04-13 00:00:00'), Timestamp('2023-04-14 00:00:00'), Timestamp('2023-04-15 00:00:00'), Timestamp('2023-04-16 00:00:00'), Timestamp('2023-04-17 00:00:00'), Timestamp('2023-04-18 00:00:00'), Timestamp('2023-04-19 00:00:00'), Timestamp('2023-04-20 00:00:00'), Timestamp('2023-04-21 00:00:00'), Timestamp('2023-04-22 00:00:00'), Timestamp('2023-04-23 00:00:00'), Timestamp('2023-04-24 00:00:00'), Timestamp('2023-04-25 00:00:00'), Timestamp('2023-04-26 00:00:00'), Timestamp('2023-04-27 00:00:00'), Timestamp('2023-04-28 00:00:00'), Timestamp('2023-04-29 00:00:00'), Timestamp('2023-04-30 00:00:00'), Timestamp('2023-05-01 00:00:00'), Timestamp('2023-05-02 00:00:00'), Timestamp('2023-05-03 00:00:00'), Timestamp('2023-05-04 00:00:00'), Timestamp('2023-05-05 00:00:00'), Timestamp('2023-05-06 00:00:00'), Timestamp('2023-05-07 00:00:00'), Timestamp('2023-05-08 00:00:00'), Timestamp('2023-05-09 00:00:00'), Timestamp('2023-05-10 00:00:00'), Timestamp('2023-05-11 00:00:00'), Timestamp('2023-05-12 00:00:00'), Timestamp('2023-05-13 00:00:00'), Timestamp('2023-05-14 00:00:00'), Timestamp('2023-05-15 00:00:00'), Timestamp('2023-05-16 00:00:00'), Timestamp('2023-05-17 00:00:00'), Timestamp('2023-05-18 00:00:00'), Timestamp('2023-05-19 00:00:00'), Timestamp('2023-05-20 00:00:00'), Timestamp('2023-05-21 00:00:00'), Timestamp('2023-05-22 00:00:00'), Timestamp('2023-05-23 00:00:00'), Timestamp('2023-05-24 00:00:00'), Timestamp('2023-05-25 00:00:00'), Timestamp('2023-05-26 00:00:00'), Timestamp('2023-05-27 00:00:00'), Timestamp('2023-05-28 00:00:00'), Timestamp('2023-05-29 00:00:00'), Timestamp('2023-05-30 00:00:00'), Timestamp('2023-05-31 00:00:00'), Timestamp('2023-06-02 00:00:00'), Timestamp('2023-06-03 00:00:00'), Timestamp('2023-06-04 00:00:00'), Timestamp('2023-06-05 00:00:00'), Timestamp('2023-06-06 00:00:00'), Timestamp('2023-06-07 00:00:00'), Timestamp('2023-06-08 00:00:00'), Timestamp('2023-06-09 00:00:00'), Timestamp('2023-06-10 00:00:00'), Timestamp('2023-06-11 00:00:00'), Timestamp('2023-06-12 00:00:00'), Timestamp('2023-06-13 00:00:00'), Timestamp('2023-06-14 00:00:00'), Timestamp('2023-06-15 00:00:00'), Timestamp('2023-06-16 00:00:00'), Timestamp('2023-06-17 00:00:00'), Timestamp('2023-06-18 00:00:00'), Timestamp('2023-06-19 00:00:00'), Timestamp('2023-06-20 00:00:00'), Timestamp('2023-06-21 00:00:00'), Timestamp('2023-06-22 00:00:00'), Timestamp('2023-06-23 00:00:00'), Timestamp('2023-06-24 00:00:00'), Timestamp('2023-06-25 00:00:00'), Timestamp('2023-06-26 00:00:00'), Timestamp('2023-06-27 00:00:00'), Timestamp('2023-06-28 00:00:00'), Timestamp('2023-06-29 00:00:00'), Timestamp('2023-06-30 00:00:00'), Timestamp('2023-07-01 00:00:00'), Timestamp('2023-07-02 00:00:00'), Timestamp('2023-07-03 00:00:00'), Timestamp('2023-07-04 00:00:00'), Timestamp('2023-07-05 00:00:00'), Timestamp('2023-07-06 00:00:00'), Timestamp('2023-07-07 00:00:00'), Timestamp('2023-07-08 00:00:00'), Timestamp('2023-07-09 00:00:00'), Timestamp('2023-07-10 00:00:00'), Timestamp('2023-07-11 00:00:00'), Timestamp('2023-07-12 00:00:00'), Timestamp('2023-07-13 00:00:00'), Timestamp('2023-07-14 00:00:00'), Timestamp('2023-07-15 00:00:00'), Timestamp('2023-07-16 00:00:00'), Timestamp('2023-07-17 00:00:00'), Timestamp('2023-07-18 00:00:00'), Timestamp('2023-07-19 00:00:00'), Timestamp('2023-07-20 00:00:00'), Timestamp('2023-07-21 00:00:00'), Timestamp('2023-07-22 00:00:00'), Timestamp('2023-07-23 00:00:00'), Timestamp('2023-07-24 00:00:00'), Timestamp('2023-07-25 00:00:00'), Timestamp('2023-07-26 00:00:00'), Timestamp('2023-07-27 00:00:00'), Timestamp('2023-07-28 00:00:00'), Timestamp('2023-07-29 00:00:00'), Timestamp('2023-07-30 00:00:00'), Timestamp('2023-07-31 00:00:00'), Timestamp('2023-08-01 00:00:00'), Timestamp('2023-08-02 00:00:00'), Timestamp('2023-08-03 00:00:00'), Timestamp('2023-08-04 00:00:00'), Timestamp('2023-08-05 00:00:00'), Timestamp('2023-08-06 00:00:00'), Timestamp('2023-08-07 00:00:00'), Timestamp('2023-08-08 00:00:00'), Timestamp('2023-08-09 00:00:00'), Timestamp('2023-08-10 00:00:00'), Timestamp('2023-08-11 00:00:00'), Timestamp('2023-08-12 00:00:00'), Timestamp('2023-08-13 00:00:00'), Timestamp('2023-08-14 00:00:00'), Timestamp('2023-08-15 00:00:00'), Timestamp('2023-08-16 00:00:00'), Timestamp('2023-08-17 00:00:00'), Timestamp('2023-08-18 00:00:00'), Timestamp('2023-08-19 00:00:00'), Timestamp('2023-08-20 00:00:00'), Timestamp('2023-08-21 00:00:00'), Timestamp('2023-08-22 00:00:00'), Timestamp('2023-08-23 00:00:00'), Timestamp('2023-08-24 00:00:00'), Timestamp('2023-08-25 00:00:00'), Timestamp('2023-08-26 00:00:00'), Timestamp('2023-08-27 00:00:00'), Timestamp('2023-08-28 00:00:00'), Timestamp('2023-08-29 00:00:00'), Timestamp('2023-08-30 00:00:00'), Timestamp('2023-08-31 00:00:00'), Timestamp('2023-09-01 00:00:00'), Timestamp('2023-09-02 00:00:00'), Timestamp('2023-09-03 00:00:00'), Timestamp('2023-09-04 00:00:00'), Timestamp('2023-09-05 00:00:00'), Timestamp('2023-09-06 00:00:00'), Timestamp('2023-09-07 00:00:00'), Timestamp('2023-09-08 00:00:00'), Timestamp('2023-09-09 00:00:00'), Timestamp('2023-09-10 00:00:00'), Timestamp('2023-09-11 00:00:00'), Timestamp('2023-09-12 00:00:00'), Timestamp('2023-09-13 00:00:00'), Timestamp('2023-09-14 00:00:00'), Timestamp('2023-09-15 00:00:00'), Timestamp('2023-09-16 00:00:00'), Timestamp('2023-09-17 00:00:00'), Timestamp('2023-09-18 00:00:00'), Timestamp('2023-09-19 00:00:00'), Timestamp('2023-09-21 00:00:00'), Timestamp('2023-09-22 00:00:00'), Timestamp('2023-09-23 00:00:00'), Timestamp('2023-09-24 00:00:00'), Timestamp('2023-09-25 00:00:00'), Timestamp('2023-09-26 00:00:00'), Timestamp('2023-09-27 00:00:00'), Timestamp('2023-09-28 00:00:00'), Timestamp('2023-09-29 00:00:00'), Timestamp('2023-09-30 00:00:00'), Timestamp('2023-10-01 00:00:00'), Timestamp('2023-10-02 00:00:00'), Timestamp('2023-10-03 00:00:00'), Timestamp('2023-10-04 00:00:00'), Timestamp('2023-10-05 00:00:00'), Timestamp('2023-10-06 00:00:00'), Timestamp('2023-10-07 00:00:00'), Timestamp('2023-10-08 00:00:00'), Timestamp('2023-10-09 00:00:00'), Timestamp('2023-10-10 00:00:00'), Timestamp('2023-10-11 00:00:00'), Timestamp('2023-10-12 00:00:00'), Timestamp('2023-10-13 00:00:00'), Timestamp('2023-10-14 00:00:00'), Timestamp('2023-10-15 00:00:00'), Timestamp('2023-10-16 00:00:00'), Timestamp('2023-10-17 00:00:00'), Timestamp('2023-10-18 00:00:00'), Timestamp('2023-10-19 00:00:00'), Timestamp('2023-10-20 00:00:00'), Timestamp('2023-10-21 00:00:00'), Timestamp('2023-10-22 00:00:00'), Timestamp('2023-10-23 00:00:00'), Timestamp('2023-10-24 00:00:00'), Timestamp('2023-10-25 00:00:00'), Timestamp('2023-10-26 00:00:00'), Timestamp('2023-10-27 00:00:00'), Timestamp('2023-10-28 00:00:00'), Timestamp('2023-10-29 00:00:00'), Timestamp('2023-10-30 00:00:00'), Timestamp('2023-10-31 00:00:00'), Timestamp('2023-11-01 00:00:00'), Timestamp('2023-11-02 00:00:00'), Timestamp('2023-11-03 00:00:00'), Timestamp('2023-11-04 00:00:00'), Timestamp('2023-11-05 00:00:00'), Timestamp('2023-11-06 00:00:00'), Timestamp('2023-11-07 00:00:00'), Timestamp('2023-11-08 00:00:00'), Timestamp('2023-11-09 00:00:00'), Timestamp('2023-11-10 00:00:00'), Timestamp('2023-11-11 00:00:00'), Timestamp('2023-11-12 00:00:00'), Timestamp('2023-11-13 00:00:00'), Timestamp('2023-11-14 00:00:00'), Timestamp('2023-11-15 00:00:00'), Timestamp('2023-11-16 00:00:00'), Timestamp('2023-11-17 00:00:00'), Timestamp('2023-11-18 00:00:00'), Timestamp('2023-11-19 00:00:00'), Timestamp('2023-11-20 00:00:00'), Timestamp('2023-11-21 00:00:00'), Timestamp('2023-11-22 00:00:00'), Timestamp('2023-11-23 00:00:00'), Timestamp('2023-11-24 00:00:00'), Timestamp('2023-11-25 00:00:00'), Timestamp('2023-11-26 00:00:00'), Timestamp('2023-11-27 00:00:00'), Timestamp('2023-11-28 00:00:00'), Timestamp('2023-11-29 00:00:00'), Timestamp('2023-11-30 00:00:00'), Timestamp('2023-12-01 00:00:00'), Timestamp('2023-12-02 00:00:00'), Timestamp('2023-12-03 00:00:00'), Timestamp('2023-12-04 00:00:00'), Timestamp('2023-12-05 00:00:00'), Timestamp('2023-12-06 00:00:00'), Timestamp('2023-12-07 00:00:00'), Timestamp('2023-12-08 00:00:00'), Timestamp('2023-12-09 00:00:00'), Timestamp('2023-12-10 00:00:00'), Timestamp('2023-12-11 00:00:00'), Timestamp('2023-12-12 00:00:00'), Timestamp('2023-12-13 00:00:00'), Timestamp('2023-12-14 00:00:00'), Timestamp('2023-12-15 00:00:00'), Timestamp('2023-12-16 00:00:00'), Timestamp('2023-12-17 00:00:00'), Timestamp('2023-12-18 00:00:00'), Timestamp('2023-12-19 00:00:00'), Timestamp('2023-12-20 00:00:00'), Timestamp('2023-12-21 00:00:00'), Timestamp('2023-12-22 00:00:00'), Timestamp('2023-12-23 00:00:00'), Timestamp('2023-12-24 00:00:00'), Timestamp('2023-12-25 00:00:00'), Timestamp('2023-12-26 00:00:00'), Timestamp('2023-12-27 00:00:00'), Timestamp('2023-12-28 00:00:00'), Timestamp('2023-12-29 00:00:00'), Timestamp('2023-12-30 00:00:00'), Timestamp('2023-12-31 00:00:00'), Timestamp('2023-01-01 00:00:00'), Timestamp('2023-01-02 00:00:00'), Timestamp('2023-01-03 00:00:00'), Timestamp('2023-01-04 00:00:00'), Timestamp('2023-01-05 00:00:00'), Timestamp('2023-01-06 00:00:00'), Timestamp('2023-01-07 00:00:00'), Timestamp('2023-01-08 00:00:00'), Timestamp('2023-01-09 00:00:00'), Timestamp('2023-01-10 00:00:00'), Timestamp('2023-01-11 00:00:00'), Timestamp('2023-01-12 00:00:00'), Timestamp('2023-01-13 00:00:00'), Timestamp('2023-01-14 00:00:00'), Timestamp('2023-01-15 00:00:00'), Timestamp('2023-01-16 00:00:00'), Timestamp('2023-01-17 00:00:00'), Timestamp('2023-01-18 00:00:00'), Timestamp('2023-01-19 00:00:00'), Timestamp('2023-01-20 00:00:00'), Timestamp('2023-01-21 00:00:00'), Timestamp('2023-01-22 00:00:00'), Timestamp('2023-01-23 00:00:00'), Timestamp('2023-01-24 00:00:00'), Timestamp('2023-01-25 00:00:00'), Timestamp('2023-01-26 00:00:00'), Timestamp('2023-01-27 00:00:00'), Timestamp('2023-01-28 00:00:00'), Timestamp('2023-01-29 00:00:00'), Timestamp('2023-01-30 00:00:00'), Timestamp('2023-01-31 00:00:00'), Timestamp('2023-02-01 00:00:00'), Timestamp('2023-02-02 00:00:00'), Timestamp('2023-02-03 00:00:00'), Timestamp('2023-02-04 00:00:00'), Timestamp('2023-02-05 00:00:00'), Timestamp('2023-02-06 00:00:00'), Timestamp('2023-02-07 00:00:00'), Timestamp('2023-02-08 00:00:00'), Timestamp('2023-02-09 00:00:00'), Timestamp('2023-02-10 00:00:00'), Timestamp('2023-02-11 00:00:00'), Timestamp('2023-02-12 00:00:00'), Timestamp('2023-02-13 00:00:00'), Timestamp('2023-02-14 00:00:00'), Timestamp('2023-02-15 00:00:00'), Timestamp('2023-02-16 00:00:00'), Timestamp('2023-02-17 00:00:00'), Timestamp('2023-02-18 00:00:00'), Timestamp('2023-02-19 00:00:00'), Timestamp('2023-02-20 00:00:00'), Timestamp('2023-02-21 00:00:00'), Timestamp('2023-02-22 00:00:00'), Timestamp('2023-02-23 00:00:00'), Timestamp('2023-02-24 00:00:00'), Timestamp('2023-02-25 00:00:00'), Timestamp('2023-02-26 00:00:00'), Timestamp('2023-02-27 00:00:00'), Timestamp('2023-02-28 00:00:00'), Timestamp('2023-03-01 00:00:00'), Timestamp('2023-03-02 00:00:00'), Timestamp('2023-03-03 00:00:00'), Timestamp('2023-03-04 00:00:00'), Timestamp('2023-03-05 00:00:00'), Timestamp('2023-03-06 00:00:00'), Timestamp('2023-03-07 00:00:00'), Timestamp('2023-03-08 00:00:00'), Timestamp('2023-03-09 00:00:00'), Timestamp('2023-03-10 00:00:00'), Timestamp('2023-03-11 00:00:00'), Timestamp('2023-03-12 00:00:00'), Timestamp('2023-03-13 00:00:00'), Timestamp('2023-03-14 00:00:00'), Timestamp('2023-03-15 00:00:00'), Timestamp('2023-03-16 00:00:00'), Timestamp('2023-03-17 00:00:00'), Timestamp('2023-03-18 00:00:00'), Timestamp('2023-03-19 00:00:00'), Timestamp('2023-03-20 00:00:00'), Timestamp('2023-03-21 00:00:00'), Timestamp('2023-03-22 00:00:00'), Timestamp('2023-03-23 00:00:00'), Timestamp('2023-03-24 00:00:00'), Timestamp('2023-03-25 00:00:00'), Timestamp('2023-03-26 00:00:00'), Timestamp('2023-03-27 00:00:00'), Timestamp('2023-03-28 00:00:00'), Timestamp('2023-03-29 00:00:00'), Timestamp('2023-03-30 00:00:00'), Timestamp('2023-03-31 00:00:00'), Timestamp('2023-04-01 00:00:00'), Timestamp('2023-04-02 00:00:00'), Timestamp('2023-04-03 00:00:00'), Timestamp('2023-04-04 00:00:00'), Timestamp('2023-04-05 00:00:00'), Timestamp('2023-04-06 00:00:00'), Timestamp('2023-04-07 00:00:00'), Timestamp('2023-04-08 00:00:00'), Timestamp('2023-04-09 00:00:00'), Timestamp('2023-04-10 00:00:00'), Timestamp('2023-04-11 00:00:00'), Timestamp('2023-04-12 00:00:00'), Timestamp('2023-04-13 00:00:00'), Timestamp('2023-04-14 00:00:00'), Timestamp('2023-04-15 00:00:00'), Timestamp('2023-04-16 00:00:00'), Timestamp('2023-04-17 00:00:00'), Timestamp('2023-04-18 00:00:00'), Timestamp('2023-04-19 00:00:00'), Timestamp('2023-04-20 00:00:00'), Timestamp('2023-04-21 00:00:00'), Timestamp('2023-04-22 00:00:00'), Timestamp('2023-04-23 00:00:00'), Timestamp('2023-04-24 00:00:00'), Timestamp('2023-04-25 00:00:00'), Timestamp('2023-04-26 00:00:00'), Timestamp('2023-04-27 00:00:00'), Timestamp('2023-04-28 00:00:00'), Timestamp('2023-04-29 00:00:00'), Timestamp('2023-04-30 00:00:00'), Timestamp('2023-05-01 00:00:00'), Timestamp('2023-05-02 00:00:00'), Timestamp('2023-05-03 00:00:00'), Timestamp('2023-05-04 00:00:00'), Timestamp('2023-05-05 00:00:00'), Timestamp('2023-05-06 00:00:00'), Timestamp('2023-05-07 00:00:00'), Timestamp('2023-05-08 00:00:00'), Timestamp('2023-05-09 00:00:00'), Timestamp('2023-05-10 00:00:00'), Timestamp('2023-05-11 00:00:00'), Timestamp('2023-05-12 00:00:00'), Timestamp('2023-05-13 00:00:00'), Timestamp('2023-05-14 00:00:00'), Timestamp('2023-05-15 00:00:00'), Timestamp('2023-05-16 00:00:00'), Timestamp('2023-05-17 00:00:00'), Timestamp('2023-05-18 00:00:00'), Timestamp('2023-05-19 00:00:00'), Timestamp('2023-05-20 00:00:00'), Timestamp('2023-05-21 00:00:00'), Timestamp('2023-05-22 00:00:00'), Timestamp('2023-05-23 00:00:00'), Timestamp('2023-05-24 00:00:00'), Timestamp('2023-05-25 00:00:00'), Timestamp('2023-05-26 00:00:00'), Timestamp('2023-05-27 00:00:00'), Timestamp('2023-05-28 00:00:00'), Timestamp('2023-05-29 00:00:00'), Timestamp('2023-05-30 00:00:00'), Timestamp('2023-05-31 00:00:00'), Timestamp('2023-06-01 00:00:00'), Timestamp('2023-06-02 00:00:00'), Timestamp('2023-06-03 00:00:00'), Timestamp('2023-06-04 00:00:00'), Timestamp('2023-06-05 00:00:00'), Timestamp('2023-06-06 00:00:00'), Timestamp('2023-06-07 00:00:00'), Timestamp('2023-06-08 00:00:00'), Timestamp('2023-06-09 00:00:00'), Timestamp('2023-06-10 00:00:00'), Timestamp('2023-06-11 00:00:00'), Timestamp('2023-06-12 00:00:00'), Timestamp('2023-06-13 00:00:00'), Timestamp('2023-06-14 00:00:00'), Timestamp('2023-06-15 00:00:00'), Timestamp('2023-06-16 00:00:00'), Timestamp('2023-06-17 00:00:00'), Timestamp('2023-06-18 00:00:00'), Timestamp('2023-06-19 00:00:00'), Timestamp('2023-06-20 00:00:00'), Timestamp('2023-06-21 00:00:00'), Timestamp('2023-06-22 00:00:00'), Timestamp('2023-06-23 00:00:00'), Timestamp('2023-06-24 00:00:00'), Timestamp('2023-06-25 00:00:00'), Timestamp('2023-06-26 00:00:00'), Timestamp('2023-06-27 00:00:00'), Timestamp('2023-06-28 00:00:00'), Timestamp('2023-06-29 00:00:00'), Timestamp('2023-06-30 00:00:00'), Timestamp('2023-07-01 00:00:00'), Timestamp('2023-07-02 00:00:00'), Timestamp('2023-07-03 00:00:00'), Timestamp('2023-07-04 00:00:00'), Timestamp('2023-07-05 00:00:00'), Timestamp('2023-07-06 00:00:00'), Timestamp('2023-07-07 00:00:00'), Timestamp('2023-07-08 00:00:00'), Timestamp('2023-07-09 00:00:00'), Timestamp('2023-07-10 00:00:00'), Timestamp('2023-07-11 00:00:00'), Timestamp('2023-07-12 00:00:00'), Timestamp('2023-07-13 00:00:00'), Timestamp('2023-07-14 00:00:00'), Timestamp('2023-07-15 00:00:00'), Timestamp('2023-07-16 00:00:00'), Timestamp('2023-07-17 00:00:00'), Timestamp('2023-07-18 00:00:00'), Timestamp('2023-07-19 00:00:00'), Timestamp('2023-07-20 00:00:00'), Timestamp('2023-07-21 00:00:00'), Timestamp('2023-07-22 00:00:00'), Timestamp('2023-07-23 00:00:00'), Timestamp('2023-07-24 00:00:00'), Timestamp('2023-07-25 00:00:00'), Timestamp('2023-07-26 00:00:00'), Timestamp('2023-07-27 00:00:00'), Timestamp('2023-07-28 00:00:00'), Timestamp('2023-07-29 00:00:00'), Timestamp('2023-07-30 00:00:00'), Timestamp('2023-07-31 00:00:00'), Timestamp('2023-08-01 00:00:00'), Timestamp('2023-08-02 00:00:00'), Timestamp('2023-08-03 00:00:00'), Timestamp('2023-08-04 00:00:00'), Timestamp('2023-08-05 00:00:00'), Timestamp('2023-08-06 00:00:00'), Timestamp('2023-08-07 00:00:00'), Timestamp('2023-08-08 00:00:00'), Timestamp('2023-08-09 00:00:00'), Timestamp('2023-08-10 00:00:00'), Timestamp('2023-08-11 00:00:00'), Timestamp('2023-08-12 00:00:00'), Timestamp('2023-08-13 00:00:00'), Timestamp('2023-08-14 00:00:00'), Timestamp('2023-08-15 00:00:00'), Timestamp('2023-08-16 00:00:00'), Timestamp('2023-08-17 00:00:00'), Timestamp('2023-08-18 00:00:00'), Timestamp('2023-08-19 00:00:00'), Timestamp('2023-08-20 00:00:00'), Timestamp('2023-08-21 00:00:00'), Timestamp('2023-08-22 00:00:00'), Timestamp('2023-08-23 00:00:00'), Timestamp('2023-08-24 00:00:00'), Timestamp('2023-08-25 00:00:00'), Timestamp('2023-08-26 00:00:00'), Timestamp('2023-08-27 00:00:00'), Timestamp('2023-08-28 00:00:00'), Timestamp('2023-08-29 00:00:00'), Timestamp('2023-08-30 00:00:00'), Timestamp('2023-08-31 00:00:00'), Timestamp('2023-09-01 00:00:00'), Timestamp('2023-09-02 00:00:00'), Timestamp('2023-09-03 00:00:00'), Timestamp('2023-09-04 00:00:00'), Timestamp('2023-09-05 00:00:00'), Timestamp('2023-09-06 00:00:00'), Timestamp('2023-09-07 00:00:00'), Timestamp('2023-09-08 00:00:00'), Timestamp('2023-09-09 00:00:00'), Timestamp('2023-09-10 00:00:00'), Timestamp('2023-09-11 00:00:00'), Timestamp('2023-09-12 00:00:00'), Timestamp('2023-09-13 00:00:00'), Timestamp('2023-09-14 00:00:00'), Timestamp('2023-09-15 00:00:00'), Timestamp('2023-09-16 00:00:00'), Timestamp('2023-09-17 00:00:00'), Timestamp('2023-09-18 00:00:00'), Timestamp('2023-09-19 00:00:00'), Timestamp('2023-09-20 00:00:00'), Timestamp('2023-09-21 00:00:00'), Timestamp('2023-09-22 00:00:00'), Timestamp('2023-09-23 00:00:00'), Timestamp('2023-09-24 00:00:00'), Timestamp('2023-09-25 00:00:00'), Timestamp('2023-09-26 00:00:00'), Timestamp('2023-09-27 00:00:00'), Timestamp('2023-09-28 00:00:00'), Timestamp('2023-09-29 00:00:00'), Timestamp('2023-09-30 00:00:00'), Timestamp('2023-10-01 00:00:00'), Timestamp('2023-10-02 00:00:00'), Timestamp('2023-10-03 00:00:00'), Timestamp('2023-10-04 00:00:00'), Timestamp('2023-10-05 00:00:00'), Timestamp('2023-10-06 00:00:00'), Timestamp('2023-10-07 00:00:00'), Timestamp('2023-10-08 00:00:00'), Timestamp('2023-10-09 00:00:00'), Timestamp('2023-10-10 00:00:00'), Timestamp('2023-10-11 00:00:00'), Timestamp('2023-10-12 00:00:00'), Timestamp('2023-10-13 00:00:00'), Timestamp('2023-10-14 00:00:00'), Timestamp('2023-10-15 00:00:00'), Timestamp('2023-10-16 00:00:00'), Timestamp('2023-10-17 00:00:00'), Timestamp('2023-10-18 00:00:00'), Timestamp('2023-10-19 00:00:00'), Timestamp('2023-10-20 00:00:00'), Timestamp('2023-10-21 00:00:00'), Timestamp('2023-10-22 00:00:00'), Timestamp('2023-10-23 00:00:00'), Timestamp('2023-10-24 00:00:00'), Timestamp('2023-10-25 00:00:00'), Timestamp('2023-10-26 00:00:00'), Timestamp('2023-10-27 00:00:00'), Timestamp('2023-10-28 00:00:00'), Timestamp('2023-10-29 00:00:00'), Timestamp('2023-10-30 00:00:00'), Timestamp('2023-10-31 00:00:00'), Timestamp('2023-11-01 00:00:00'), Timestamp('2023-11-02 00:00:00'), Timestamp('2023-11-03 00:00:00'), Timestamp('2023-11-04 00:00:00'), Timestamp('2023-11-05 00:00:00'), Timestamp('2023-11-06 00:00:00'), Timestamp('2023-11-07 00:00:00'), Timestamp('2023-11-08 00:00:00'), Timestamp('2023-11-09 00:00:00'), Timestamp('2023-11-10 00:00:00'), Timestamp('2023-11-11 00:00:00'), Timestamp('2023-11-12 00:00:00'), Timestamp('2023-11-13 00:00:00'), Timestamp('2023-11-14 00:00:00'), Timestamp('2023-11-15 00:00:00'), Timestamp('2023-11-16 00:00:00'), Timestamp('2023-11-17 00:00:00'), Timestamp('2023-11-18 00:00:00'), Timestamp('2023-11-19 00:00:00'), Timestamp('2023-11-20 00:00:00'), Timestamp('2023-11-21 00:00:00'), Timestamp('2023-11-22 00:00:00'), Timestamp('2023-11-23 00:00:00'), Timestamp('2023-11-24 00:00:00'), Timestamp('2023-11-25 00:00:00'), Timestamp('2023-11-26 00:00:00'), Timestamp('2023-11-27 00:00:00'), Timestamp('2023-11-28 00:00:00'), Timestamp('2023-11-29 00:00:00'), Timestamp('2023-11-30 00:00:00'), Timestamp('2023-12-01 00:00:00'), Timestamp('2023-12-02 00:00:00'), Timestamp('2023-12-03 00:00:00'), Timestamp('2023-12-04 00:00:00'), Timestamp('2023-12-05 00:00:00'), Timestamp('2023-12-06 00:00:00'), Timestamp('2023-12-07 00:00:00'), Timestamp('2023-12-08 00:00:00'), Timestamp('2023-12-09 00:00:00'), Timestamp('2023-12-10 00:00:00'), Timestamp('2023-12-11 00:00:00'), Timestamp('2023-12-12 00:00:00'), Timestamp('2023-12-13 00:00:00'), Timestamp('2023-12-14 00:00:00'), Timestamp('2023-12-15 00:00:00'), Timestamp('2023-12-16 00:00:00'), Timestamp('2023-12-17 00:00:00'), Timestamp('2023-12-18 00:00:00'), Timestamp('2023-12-19 00:00:00'), Timestamp('2023-12-20 00:00:00'), Timestamp('2023-12-21 00:00:00'), Timestamp('2023-12-22 00:00:00'), Timestamp('2023-12-23 00:00:00'), Timestamp('2023-12-24 00:00:00'), Timestamp('2023-12-25 00:00:00'), Timestamp('2023-12-26 00:00:00'), Timestamp('2023-12-27 00:00:00'), Timestamp('2023-12-28 00:00:00'), Timestamp('2023-12-29 00:00:00'), Timestamp('2023-12-30 00:00:00'), Timestamp('2023-12-31 00:00:00'), Timestamp('2023-01-01 00:00:00'), Timestamp('2023-01-02 00:00:00'), Timestamp('2023-01-03 00:00:00'), Timestamp('2023-01-04 00:00:00'), Timestamp('2023-01-05 00:00:00'), Timestamp('2023-01-06 00:00:00'), Timestamp('2023-01-07 00:00:00'), Timestamp('2023-01-08 00:00:00'), Timestamp('2023-01-09 00:00:00'), Timestamp('2023-01-10 00:00:00'), Timestamp('2023-01-11 00:00:00'), Timestamp('2023-01-12 00:00:00'), Timestamp('2023-01-13 00:00:00'), Timestamp('2023-01-14 00:00:00'), Timestamp('2023-01-15 00:00:00'), Timestamp('2023-01-16 00:00:00'), Timestamp('2023-01-17 00:00:00'), Timestamp('2023-01-18 00:00:00'), Timestamp('2023-01-19 00:00:00'), Timestamp('2023-01-20 00:00:00'), Timestamp('2023-01-21 00:00:00'), Timestamp('2023-01-22 00:00:00'), Timestamp('2023-01-23 00:00:00'), Timestamp('2023-01-24 00:00:00'), Timestamp('2023-01-25 00:00:00'), Timestamp('2023-01-26 00:00:00'), Timestamp('2023-01-27 00:00:00'), Timestamp('2023-01-28 00:00:00'), Timestamp('2023-01-29 00:00:00'), Timestamp('2023-01-31 00:00:00'), Timestamp('2023-02-01 00:00:00'), Timestamp('2023-02-02 00:00:00'), Timestamp('2023-02-03 00:00:00'), Timestamp('2023-02-04 00:00:00'), Timestamp('2023-02-05 00:00:00'), Timestamp('2023-02-06 00:00:00'), Timestamp('2023-02-07 00:00:00'), Timestamp('2023-02-08 00:00:00'), Timestamp('2023-02-09 00:00:00'), Timestamp('2023-02-10 00:00:00'), Timestamp('2023-02-11 00:00:00'), Timestamp('2023-02-12 00:00:00'), Timestamp('2023-02-13 00:00:00'), Timestamp('2023-02-14 00:00:00'), Timestamp('2023-02-15 00:00:00'), Timestamp('2023-02-16 00:00:00'), Timestamp('2023-02-17 00:00:00'), Timestamp('2023-02-18 00:00:00'), Timestamp('2023-02-19 00:00:00'), Timestamp('2023-02-20 00:00:00'), Timestamp('2023-02-21 00:00:00'), Timestamp('2023-02-22 00:00:00'), Timestamp('2023-02-23 00:00:00'), Timestamp('2023-02-24 00:00:00'), Timestamp('2023-02-25 00:00:00'), Timestamp('2023-02-26 00:00:00'), Timestamp('2023-02-27 00:00:00'), Timestamp('2023-02-28 00:00:00'), Timestamp('2023-03-01 00:00:00'), Timestamp('2023-03-02 00:00:00'), Timestamp('2023-03-03 00:00:00'), Timestamp('2023-03-07 00:00:00'), Timestamp('2023-03-08 00:00:00'), Timestamp('2023-03-09 00:00:00'), Timestamp('2023-03-10 00:00:00'), Timestamp('2023-03-11 00:00:00'), Timestamp('2023-03-12 00:00:00'), Timestamp('2023-03-13 00:00:00'), Timestamp('2023-03-14 00:00:00'), Timestamp('2023-03-15 00:00:00'), Timestamp('2023-03-16 00:00:00'), Timestamp('2023-03-17 00:00:00'), Timestamp('2023-03-18 00:00:00'), Timestamp('2023-03-19 00:00:00'), Timestamp('2023-03-20 00:00:00'), Timestamp('2023-03-21 00:00:00'), Timestamp('2023-03-22 00:00:00'), Timestamp('2023-03-23 00:00:00'), Timestamp('2023-03-24 00:00:00'), Timestamp('2023-03-25 00:00:00'), Timestamp('2023-03-26 00:00:00'), Timestamp('2023-03-27 00:00:00'), Timestamp('2023-03-28 00:00:00'), Timestamp('2023-03-29 00:00:00'), Timestamp('2023-03-30 00:00:00'), Timestamp('2023-03-31 00:00:00'), Timestamp('2023-04-01 00:00:00'), Timestamp('2023-04-02 00:00:00'), Timestamp('2023-04-03 00:00:00'), Timestamp('2023-04-04 00:00:00'), Timestamp('2023-04-05 00:00:00'), Timestamp('2023-04-06 00:00:00'), Timestamp('2023-04-07 00:00:00'), Timestamp('2023-04-08 00:00:00'), Timestamp('2023-04-09 00:00:00'), Timestamp('2023-04-10 00:00:00'), Timestamp('2023-04-11 00:00:00'), Timestamp('2023-04-12 00:00:00'), Timestamp('2023-04-13 00:00:00'), Timestamp('2023-04-14 00:00:00'), Timestamp('2023-04-15 00:00:00'), Timestamp('2023-04-16 00:00:00'), Timestamp('2023-04-17 00:00:00'), Timestamp('2023-04-18 00:00:00'), Timestamp('2023-04-19 00:00:00'), Timestamp('2023-04-20 00:00:00'), Timestamp('2023-04-25 00:00:00'), Timestamp('2023-04-26 00:00:00'), Timestamp('2023-04-27 00:00:00'), Timestamp('2023-04-28 00:00:00'), Timestamp('2023-04-29 00:00:00'), Timestamp('2023-04-30 00:00:00'), Timestamp('2023-05-01 00:00:00'), Timestamp('2023-05-02 00:00:00'), Timestamp('2023-05-03 00:00:00'), Timestamp('2023-05-04 00:00:00'), Timestamp('2023-05-05 00:00:00'), Timestamp('2023-05-06 00:00:00'), Timestamp('2023-05-07 00:00:00'), Timestamp('2023-05-08 00:00:00'), Timestamp('2023-05-09 00:00:00'), Timestamp('2023-05-10 00:00:00'), Timestamp('2023-05-11 00:00:00'), Timestamp('2023-05-12 00:00:00'), Timestamp('2023-05-13 00:00:00'), Timestamp('2023-05-14 00:00:00'), Timestamp('2023-05-15 00:00:00'), Timestamp('2023-05-16 00:00:00'), Timestamp('2023-05-17 00:00:00'), Timestamp('2023-05-18 00:00:00'), Timestamp('2023-05-19 00:00:00'), Timestamp('2023-05-20 00:00:00'), Timestamp('2023-05-21 00:00:00'), Timestamp('2023-05-22 00:00:00'), Timestamp('2023-05-23 00:00:00'), Timestamp('2023-05-24 00:00:00'), Timestamp('2023-05-25 00:00:00'), Timestamp('2023-05-26 00:00:00'), Timestamp('2023-05-27 00:00:00'), Timestamp('2023-05-28 00:00:00'), Timestamp('2023-05-29 00:00:00'), Timestamp('2023-05-30 00:00:00'), Timestamp('2023-05-31 00:00:00'), Timestamp('2023-06-01 00:00:00'), Timestamp('2023-06-02 00:00:00'), Timestamp('2023-06-03 00:00:00'), Timestamp('2023-06-04 00:00:00'), Timestamp('2023-06-05 00:00:00'), Timestamp('2023-06-06 00:00:00'), Timestamp('2023-06-07 00:00:00'), Timestamp('2023-06-08 00:00:00'), Timestamp('2023-06-09 00:00:00'), Timestamp('2023-06-10 00:00:00'), Timestamp('2023-06-11 00:00:00'), Timestamp('2023-06-12 00:00:00'), Timestamp('2023-06-13 00:00:00'), Timestamp('2023-06-14 00:00:00'), Timestamp('2023-06-15 00:00:00'), Timestamp('2023-06-16 00:00:00'), Timestamp('2023-06-17 00:00:00'), Timestamp('2023-06-18 00:00:00'), Timestamp('2023-06-19 00:00:00'), Timestamp('2023-06-20 00:00:00'), Timestamp('2023-06-21 00:00:00'), Timestamp('2023-06-22 00:00:00'), Timestamp('2023-06-23 00:00:00'), Timestamp('2023-06-24 00:00:00'), Timestamp('2023-06-25 00:00:00'), Timestamp('2023-06-26 00:00:00'), Timestamp('2023-06-27 00:00:00'), Timestamp('2023-06-28 00:00:00'), Timestamp('2023-06-29 00:00:00'), Timestamp('2023-06-30 00:00:00'), Timestamp('2023-07-01 00:00:00'), Timestamp('2023-07-02 00:00:00'), Timestamp('2023-07-03 00:00:00'), Timestamp('2023-07-04 00:00:00'), Timestamp('2023-07-05 00:00:00'), Timestamp('2023-07-06 00:00:00'), Timestamp('2023-07-07 00:00:00'), Timestamp('2023-07-08 00:00:00'), Timestamp('2023-07-09 00:00:00'), Timestamp('2023-07-10 00:00:00'), Timestamp('2023-07-11 00:00:00'), Timestamp('2023-07-12 00:00:00'), Timestamp('2023-07-13 00:00:00'), Timestamp('2023-07-14 00:00:00'), Timestamp('2023-07-15 00:00:00'), Timestamp('2023-07-16 00:00:00'), Timestamp('2023-07-17 00:00:00'), Timestamp('2023-07-18 00:00:00'), Timestamp('2023-07-19 00:00:00'), Timestamp('2023-07-20 00:00:00'), Timestamp('2023-07-21 00:00:00'), Timestamp('2023-07-22 00:00:00'), Timestamp('2023-07-23 00:00:00'), Timestamp('2023-07-24 00:00:00'), Timestamp('2023-07-25 00:00:00'), Timestamp('2023-07-26 00:00:00'), Timestamp('2023-07-27 00:00:00'), Timestamp('2023-07-28 00:00:00'), Timestamp('2023-07-29 00:00:00'), Timestamp('2023-07-30 00:00:00'), Timestamp('2023-07-31 00:00:00'), Timestamp('2023-08-02 00:00:00'), Timestamp('2023-08-03 00:00:00'), Timestamp('2023-08-04 00:00:00'), Timestamp('2023-08-05 00:00:00'), Timestamp('2023-08-06 00:00:00'), Timestamp('2023-08-07 00:00:00'), Timestamp('2023-08-08 00:00:00'), Timestamp('2023-08-09 00:00:00'), Timestamp('2023-08-10 00:00:00'), Timestamp('2023-08-11 00:00:00'), Timestamp('2023-08-12 00:00:00'), Timestamp('2023-08-13 00:00:00'), Timestamp('2023-08-14 00:00:00'), Timestamp('2023-08-15 00:00:00'), Timestamp('2023-08-16 00:00:00'), Timestamp('2023-08-17 00:00:00'), Timestamp('2023-08-18 00:00:00'), Timestamp('2023-08-19 00:00:00'), Timestamp('2023-08-20 00:00:00'), Timestamp('2023-08-21 00:00:00'), Timestamp('2023-08-22 00:00:00'), Timestamp('2023-08-23 00:00:00'), Timestamp('2023-08-24 00:00:00'), Timestamp('2023-08-25 00:00:00'), Timestamp('2023-08-26 00:00:00'), Timestamp('2023-08-27 00:00:00'), Timestamp('2023-08-28 00:00:00'), Timestamp('2023-08-29 00:00:00'), Timestamp('2023-08-30 00:00:00'), Timestamp('2023-08-31 00:00:00'), Timestamp('2023-09-01 00:00:00'), Timestamp('2023-09-02 00:00:00'), Timestamp('2023-09-03 00:00:00'), Timestamp('2023-09-04 00:00:00'), Timestamp('2023-09-05 00:00:00'), Timestamp('2023-09-06 00:00:00'), Timestamp('2023-09-07 00:00:00'), Timestamp('2023-09-08 00:00:00'), Timestamp('2023-09-09 00:00:00'), Timestamp('2023-09-10 00:00:00'), Timestamp('2023-09-11 00:00:00'), Timestamp('2023-09-12 00:00:00'), Timestamp('2023-09-13 00:00:00'), Timestamp('2023-09-15 00:00:00'), Timestamp('2023-09-16 00:00:00'), Timestamp('2023-09-17 00:00:00'), Timestamp('2023-09-18 00:00:00'), Timestamp('2023-09-19 00:00:00'), Timestamp('2023-09-20 00:00:00'), Timestamp('2023-09-21 00:00:00'), Timestamp('2023-09-22 00:00:00'), Timestamp('2023-09-23 00:00:00'), Timestamp('2023-09-24 00:00:00'), Timestamp('2023-09-25 00:00:00'), Timestamp('2023-09-26 00:00:00'), Timestamp('2023-09-27 00:00:00'), Timestamp('2023-09-28 00:00:00'), Timestamp('2023-09-29 00:00:00'), Timestamp('2023-09-30 00:00:00'), Timestamp('2023-10-01 00:00:00'), Timestamp('2023-10-02 00:00:00'), Timestamp('2023-10-03 00:00:00'), Timestamp('2023-10-04 00:00:00'), Timestamp('2023-10-05 00:00:00'), Timestamp('2023-10-06 00:00:00'), Timestamp('2023-10-07 00:00:00'), Timestamp('2023-10-08 00:00:00'), Timestamp('2023-10-09 00:00:00'), Timestamp('2023-10-10 00:00:00'), Timestamp('2023-10-11 00:00:00'), Timestamp('2023-10-12 00:00:00'), Timestamp('2023-10-13 00:00:00'), Timestamp('2023-10-14 00:00:00'), Timestamp('2023-10-15 00:00:00'), Timestamp('2023-10-16 00:00:00'), Timestamp('2023-10-17 00:00:00'), Timestamp('2023-10-18 00:00:00'), Timestamp('2023-10-19 00:00:00'), Timestamp('2023-10-20 00:00:00'), Timestamp('2023-10-21 00:00:00'), Timestamp('2023-10-22 00:00:00'), Timestamp('2023-10-23 00:00:00'), Timestamp('2023-10-24 00:00:00'), Timestamp('2023-10-25 00:00:00'), Timestamp('2023-10-26 00:00:00'), Timestamp('2023-10-27 00:00:00'), Timestamp('2023-10-28 00:00:00'), Timestamp('2023-10-29 00:00:00'), Timestamp('2023-10-30 00:00:00'), Timestamp('2023-10-31 00:00:00'), Timestamp('2023-11-01 00:00:00'), Timestamp('2023-11-02 00:00:00'), Timestamp('2023-11-03 00:00:00'), Timestamp('2023-11-04 00:00:00'), Timestamp('2023-11-05 00:00:00'), Timestamp('2023-11-06 00:00:00'), Timestamp('2023-11-07 00:00:00'), Timestamp('2023-11-08 00:00:00'), Timestamp('2023-11-09 00:00:00'), Timestamp('2023-11-10 00:00:00'), Timestamp('2023-11-11 00:00:00'), Timestamp('2023-11-12 00:00:00'), Timestamp('2023-11-13 00:00:00'), Timestamp('2023-11-14 00:00:00'), Timestamp('2023-11-15 00:00:00'), Timestamp('2023-11-16 00:00:00'), Timestamp('2023-11-17 00:00:00'), Timestamp('2023-11-18 00:00:00'), Timestamp('2023-11-19 00:00:00'), Timestamp('2023-11-20 00:00:00'), Timestamp('2023-11-21 00:00:00'), Timestamp('2023-11-22 00:00:00'), Timestamp('2023-11-23 00:00:00'), Timestamp('2023-11-24 00:00:00'), Timestamp('2023-11-25 00:00:00'), Timestamp('2023-11-26 00:00:00'), Timestamp('2023-11-27 00:00:00'), Timestamp('2023-11-28 00:00:00'), Timestamp('2023-11-29 00:00:00'), Timestamp('2023-11-30 00:00:00'), Timestamp('2023-12-01 00:00:00'), Timestamp('2023-12-02 00:00:00'), Timestamp('2023-12-03 00:00:00'), Timestamp('2023-12-04 00:00:00'), Timestamp('2023-12-05 00:00:00'), Timestamp('2023-12-06 00:00:00'), Timestamp('2023-12-07 00:00:00'), Timestamp('2023-12-08 00:00:00'), Timestamp('2023-12-09 00:00:00'), Timestamp('2023-12-10 00:00:00'), Timestamp('2023-12-11 00:00:00'), Timestamp('2023-12-12 00:00:00'), Timestamp('2023-12-13 00:00:00'), Timestamp('2023-12-14 00:00:00'), Timestamp('2023-12-15 00:00:00'), Timestamp('2023-12-16 00:00:00'), Timestamp('2023-12-17 00:00:00'), Timestamp('2023-12-18 00:00:00'), Timestamp('2023-12-19 00:00:00'), Timestamp('2023-12-20 00:00:00'), Timestamp('2023-12-21 00:00:00'), Timestamp('2023-12-22 00:00:00'), Timestamp('2023-12-23 00:00:00'), Timestamp('2023-12-24 00:00:00'), Timestamp('2023-12-25 00:00:00'), Timestamp('2023-12-26 00:00:00'), Timestamp('2023-12-27 00:00:00'), Timestamp('2023-12-28 00:00:00'), Timestamp('2023-12-29 00:00:00'), Timestamp('2023-12-30 00:00:00'), Timestamp('2023-12-31 00:00:00'), Timestamp('2023-01-01 00:00:00'), Timestamp('2023-01-02 00:00:00'), Timestamp('2023-01-03 00:00:00'), Timestamp('2023-01-04 00:00:00'), Timestamp('2023-01-05 00:00:00'), Timestamp('2023-01-06 00:00:00'), Timestamp('2023-01-07 00:00:00'), Timestamp('2023-01-08 00:00:00'), Timestamp('2023-01-09 00:00:00'), Timestamp('2023-01-10 00:00:00'), Timestamp('2023-01-11 00:00:00'), Timestamp('2023-01-12 00:00:00'), Timestamp('2023-01-13 00:00:00'), Timestamp('2023-01-14 00:00:00'), Timestamp('2023-01-15 00:00:00'), Timestamp('2023-01-16 00:00:00'), Timestamp('2023-01-17 00:00:00'), Timestamp('2023-01-18 00:00:00'), Timestamp('2023-01-19 00:00:00'), Timestamp('2023-01-20 00:00:00'), Timestamp('2023-01-21 00:00:00'), Timestamp('2023-01-22 00:00:00'), Timestamp('2023-01-23 00:00:00'), Timestamp('2023-01-24 00:00:00'), Timestamp('2023-01-25 00:00:00'), Timestamp('2023-01-26 00:00:00'), Timestamp('2023-01-27 00:00:00'), Timestamp('2023-01-28 00:00:00'), Timestamp('2023-01-29 00:00:00'), Timestamp('2023-01-30 00:00:00'), Timestamp('2023-01-31 00:00:00'), Timestamp('2023-02-01 00:00:00'), Timestamp('2023-02-02 00:00:00'), Timestamp('2023-02-03 00:00:00'), Timestamp('2023-02-04 00:00:00'), Timestamp('2023-02-05 00:00:00'), Timestamp('2023-02-06 00:00:00'), Timestamp('2023-02-07 00:00:00'), Timestamp('2023-02-08 00:00:00'), Timestamp('2023-02-09 00:00:00'), Timestamp('2023-02-10 00:00:00'), Timestamp('2023-02-11 00:00:00'), Timestamp('2023-02-12 00:00:00'), Timestamp('2023-02-13 00:00:00'), Timestamp('2023-02-14 00:00:00'), Timestamp('2023-02-15 00:00:00'), Timestamp('2023-02-16 00:00:00'), Timestamp('2023-02-17 00:00:00'), Timestamp('2023-02-18 00:00:00'), Timestamp('2023-02-19 00:00:00'), Timestamp('2023-02-20 00:00:00'), Timestamp('2023-02-21 00:00:00'), Timestamp('2023-02-22 00:00:00'), Timestamp('2023-02-23 00:00:00'), Timestamp('2023-02-24 00:00:00'), Timestamp('2023-02-25 00:00:00'), Timestamp('2023-02-26 00:00:00'), Timestamp('2023-02-27 00:00:00'), Timestamp('2023-02-28 00:00:00'), Timestamp('2023-03-01 00:00:00'), Timestamp('2023-03-02 00:00:00'), Timestamp('2023-03-03 00:00:00'), Timestamp('2023-03-04 00:00:00'), Timestamp('2023-03-05 00:00:00'), Timestamp('2023-03-06 00:00:00'), Timestamp('2023-03-07 00:00:00'), Timestamp('2023-03-08 00:00:00'), Timestamp('2023-03-09 00:00:00'), Timestamp('2023-03-10 00:00:00'), Timestamp('2023-03-11 00:00:00'), Timestamp('2023-03-12 00:00:00'), Timestamp('2023-03-13 00:00:00'), Timestamp('2023-03-14 00:00:00'), Timestamp('2023-03-15 00:00:00'), Timestamp('2023-03-16 00:00:00'), Timestamp('2023-03-17 00:00:00'), Timestamp('2023-03-18 00:00:00'), Timestamp('2023-03-19 00:00:00'), Timestamp('2023-03-20 00:00:00'), Timestamp('2023-03-21 00:00:00'), Timestamp('2023-03-22 00:00:00'), Timestamp('2023-03-23 00:00:00'), Timestamp('2023-03-24 00:00:00'), Timestamp('2023-03-25 00:00:00'), Timestamp('2023-03-26 00:00:00'), Timestamp('2023-03-27 00:00:00'), Timestamp('2023-03-28 00:00:00'), Timestamp('2023-03-29 00:00:00'), Timestamp('2023-03-30 00:00:00'), Timestamp('2023-03-31 00:00:00'), Timestamp('2023-04-01 00:00:00'), Timestamp('2023-04-02 00:00:00'), Timestamp('2023-04-03 00:00:00'), Timestamp('2023-04-04 00:00:00'), Timestamp('2023-04-05 00:00:00'), Timestamp('2023-04-06 00:00:00'), Timestamp('2023-04-07 00:00:00'), Timestamp('2023-04-08 00:00:00'), Timestamp('2023-04-09 00:00:00'), Timestamp('2023-04-10 00:00:00'), Timestamp('2023-04-11 00:00:00'), Timestamp('2023-04-12 00:00:00'), Timestamp('2023-04-13 00:00:00'), Timestamp('2023-04-14 00:00:00'), Timestamp('2023-04-15 00:00:00'), Timestamp('2023-04-16 00:00:00'), Timestamp('2023-04-17 00:00:00'), Timestamp('2023-04-18 00:00:00'), Timestamp('2023-04-19 00:00:00'), Timestamp('2023-04-20 00:00:00'), Timestamp('2023-04-21 00:00:00'), Timestamp('2023-04-22 00:00:00'), Timestamp('2023-04-23 00:00:00'), Timestamp('2023-04-24 00:00:00'), Timestamp('2023-04-25 00:00:00'), Timestamp('2023-04-26 00:00:00'), Timestamp('2023-04-27 00:00:00'), Timestamp('2023-04-28 00:00:00'), Timestamp('2023-04-29 00:00:00'), Timestamp('2023-04-30 00:00:00'), Timestamp('2023-05-01 00:00:00'), Timestamp('2023-05-02 00:00:00'), Timestamp('2023-05-03 00:00:00'), Timestamp('2023-05-04 00:00:00'), Timestamp('2023-05-05 00:00:00'), Timestamp('2023-05-06 00:00:00'), Timestamp('2023-05-07 00:00:00'), Timestamp('2023-05-08 00:00:00'), Timestamp('2023-05-09 00:00:00'), Timestamp('2023-05-10 00:00:00'), Timestamp('2023-05-11 00:00:00'), Timestamp('2023-05-12 00:00:00'), Timestamp('2023-05-13 00:00:00'), Timestamp('2023-05-14 00:00:00'), Timestamp('2023-05-15 00:00:00'), Timestamp('2023-05-16 00:00:00'), Timestamp('2023-05-17 00:00:00'), Timestamp('2023-05-18 00:00:00'), Timestamp('2023-05-19 00:00:00'), Timestamp('2023-05-20 00:00:00'), Timestamp('2023-05-21 00:00:00'), Timestamp('2023-05-22 00:00:00'), Timestamp('2023-05-23 00:00:00'), Timestamp('2023-05-24 00:00:00'), Timestamp('2023-05-25 00:00:00'), Timestamp('2023-05-26 00:00:00'), Timestamp('2023-05-27 00:00:00'), Timestamp('2023-05-28 00:00:00'), Timestamp('2023-05-29 00:00:00'), Timestamp('2023-05-30 00:00:00'), Timestamp('2023-05-31 00:00:00'), Timestamp('2023-06-01 00:00:00'), Timestamp('2023-06-02 00:00:00'), Timestamp('2023-06-03 00:00:00'), Timestamp('2023-06-04 00:00:00'), Timestamp('2023-06-05 00:00:00'), Timestamp('2023-06-06 00:00:00'), Timestamp('2023-06-07 00:00:00'), Timestamp('2023-06-08 00:00:00'), Timestamp('2023-06-09 00:00:00'), Timestamp('2023-06-10 00:00:00'), Timestamp('2023-06-11 00:00:00'), Timestamp('2023-06-12 00:00:00'), Timestamp('2023-06-13 00:00:00'), Timestamp('2023-06-14 00:00:00'), Timestamp('2023-06-15 00:00:00'), Timestamp('2023-06-16 00:00:00'), Timestamp('2023-06-17 00:00:00'), Timestamp('2023-06-18 00:00:00'), Timestamp('2023-06-19 00:00:00'), Timestamp('2023-06-20 00:00:00'), Timestamp('2023-06-21 00:00:00'), Timestamp('2023-06-22 00:00:00'), Timestamp('2023-06-23 00:00:00'), Timestamp('2023-06-24 00:00:00'), Timestamp('2023-06-25 00:00:00'), Timestamp('2023-06-26 00:00:00'), Timestamp('2023-06-27 00:00:00'), Timestamp('2023-06-28 00:00:00'), Timestamp('2023-06-29 00:00:00'), Timestamp('2023-06-30 00:00:00'), Timestamp('2023-07-01 00:00:00'), Timestamp('2023-07-02 00:00:00'), Timestamp('2023-07-03 00:00:00'), Timestamp('2023-07-04 00:00:00'), Timestamp('2023-07-05 00:00:00'), Timestamp('2023-07-06 00:00:00'), Timestamp('2023-07-07 00:00:00'), Timestamp('2023-07-08 00:00:00'), Timestamp('2023-07-09 00:00:00'), Timestamp('2023-07-10 00:00:00'), Timestamp('2023-07-11 00:00:00'), Timestamp('2023-07-12 00:00:00'), Timestamp('2023-07-13 00:00:00'), Timestamp('2023-07-14 00:00:00'), Timestamp('2023-07-15 00:00:00'), Timestamp('2023-07-16 00:00:00'), Timestamp('2023-07-17 00:00:00'), Timestamp('2023-07-18 00:00:00'), Timestamp('2023-07-19 00:00:00'), Timestamp('2023-07-20 00:00:00'), Timestamp('2023-07-21 00:00:00'), Timestamp('2023-07-22 00:00:00'), Timestamp('2023-07-23 00:00:00'), Timestamp('2023-07-24 00:00:00'), Timestamp('2023-07-25 00:00:00'), Timestamp('2023-07-26 00:00:00'), Timestamp('2023-07-27 00:00:00'), Timestamp('2023-07-28 00:00:00'), Timestamp('2023-07-29 00:00:00'), Timestamp('2023-07-30 00:00:00'), Timestamp('2023-07-31 00:00:00'), Timestamp('2023-08-01 00:00:00'), Timestamp('2023-08-02 00:00:00'), Timestamp('2023-08-03 00:00:00'), Timestamp('2023-08-04 00:00:00'), Timestamp('2023-08-05 00:00:00'), Timestamp('2023-08-06 00:00:00'), Timestamp('2023-08-07 00:00:00'), Timestamp('2023-08-08 00:00:00'), Timestamp('2023-08-09 00:00:00'), Timestamp('2023-08-10 00:00:00'), Timestamp('2023-08-11 00:00:00'), Timestamp('2023-08-12 00:00:00'), Timestamp('2023-08-13 00:00:00'), Timestamp('2023-08-14 00:00:00'), Timestamp('2023-08-15 00:00:00'), Timestamp('2023-08-16 00:00:00'), Timestamp('2023-08-17 00:00:00'), Timestamp('2023-08-18 00:00:00'), Timestamp('2023-08-19 00:00:00'), Timestamp('2023-08-20 00:00:00'), Timestamp('2023-08-21 00:00:00'), Timestamp('2023-08-22 00:00:00'), Timestamp('2023-08-23 00:00:00'), Timestamp('2023-08-24 00:00:00'), Timestamp('2023-08-25 00:00:00'), Timestamp('2023-08-26 00:00:00'), Timestamp('2023-08-27 00:00:00'), Timestamp('2023-08-28 00:00:00'), Timestamp('2023-08-29 00:00:00'), Timestamp('2023-08-30 00:00:00'), Timestamp('2023-08-31 00:00:00'), Timestamp('2023-09-01 00:00:00'), Timestamp('2023-09-02 00:00:00'), Timestamp('2023-09-03 00:00:00'), Timestamp('2023-09-04 00:00:00'), Timestamp('2023-09-05 00:00:00'), Timestamp('2023-09-06 00:00:00'), Timestamp('2023-09-07 00:00:00'), Timestamp('2023-09-08 00:00:00'), Timestamp('2023-09-09 00:00:00'), Timestamp('2023-09-10 00:00:00'), Timestamp('2023-09-11 00:00:00'), Timestamp('2023-09-12 00:00:00'), Timestamp('2023-09-13 00:00:00'), Timestamp('2023-09-14 00:00:00'), Timestamp('2023-09-15 00:00:00'), Timestamp('2023-09-16 00:00:00'), Timestamp('2023-09-17 00:00:00'), Timestamp('2023-09-18 00:00:00'), Timestamp('2023-09-19 00:00:00'), Timestamp('2023-09-20 00:00:00'), Timestamp('2023-09-21 00:00:00'), Timestamp('2023-09-22 00:00:00'), Timestamp('2023-09-23 00:00:00'), Timestamp('2023-09-24 00:00:00'), Timestamp('2023-09-25 00:00:00'), Timestamp('2023-09-26 00:00:00'), Timestamp('2023-09-27 00:00:00'), Timestamp('2023-09-28 00:00:00'), Timestamp('2023-09-29 00:00:00'), Timestamp('2023-09-30 00:00:00'), Timestamp('2023-10-01 00:00:00'), Timestamp('2023-10-02 00:00:00'), Timestamp('2023-10-03 00:00:00'), Timestamp('2023-10-04 00:00:00'), Timestamp('2023-10-05 00:00:00'), Timestamp('2023-10-06 00:00:00'), Timestamp('2023-10-07 00:00:00'), Timestamp('2023-10-08 00:00:00'), Timestamp('2023-10-09 00:00:00'), Timestamp('2023-10-10 00:00:00'), Timestamp('2023-10-11 00:00:00'), Timestamp('2023-10-12 00:00:00'), Timestamp('2023-10-13 00:00:00'), Timestamp('2023-10-14 00:00:00'), Timestamp('2023-10-15 00:00:00'), Timestamp('2023-10-16 00:00:00'), Timestamp('2023-10-17 00:00:00'), Timestamp('2023-10-18 00:00:00'), Timestamp('2023-10-19 00:00:00'), Timestamp('2023-10-20 00:00:00'), Timestamp('2023-10-21 00:00:00'), Timestamp('2023-10-22 00:00:00'), Timestamp('2023-10-23 00:00:00'), Timestamp('2023-10-24 00:00:00'), Timestamp('2023-10-25 00:00:00'), Timestamp('2023-10-26 00:00:00'), Timestamp('2023-10-27 00:00:00'), Timestamp('2023-10-28 00:00:00'), Timestamp('2023-10-29 00:00:00'), Timestamp('2023-10-30 00:00:00'), Timestamp('2023-11-02 00:00:00'), Timestamp('2023-11-03 00:00:00'), Timestamp('2023-11-04 00:00:00'), Timestamp('2023-11-05 00:00:00'), Timestamp('2023-11-06 00:00:00'), Timestamp('2023-11-07 00:00:00'), Timestamp('2023-11-08 00:00:00'), Timestamp('2023-11-09 00:00:00'), Timestamp('2023-11-10 00:00:00'), Timestamp('2023-11-11 00:00:00'), Timestamp('2023-11-12 00:00:00'), Timestamp('2023-11-13 00:00:00'), Timestamp('2023-11-14 00:00:00'), Timestamp('2023-11-15 00:00:00'), Timestamp('2023-11-16 00:00:00'), Timestamp('2023-11-17 00:00:00'), Timestamp('2023-11-18 00:00:00'), Timestamp('2023-11-19 00:00:00'), Timestamp('2023-11-20 00:00:00'), Timestamp('2023-11-21 00:00:00'), Timestamp('2023-11-22 00:00:00'), Timestamp('2023-11-23 00:00:00'), Timestamp('2023-11-24 00:00:00'), Timestamp('2023-11-25 00:00:00'), Timestamp('2023-11-26 00:00:00'), Timestamp('2023-11-27 00:00:00'), Timestamp('2023-11-28 00:00:00'), Timestamp('2023-11-29 00:00:00'), Timestamp('2023-11-30 00:00:00'), Timestamp('2023-12-01 00:00:00'), Timestamp('2023-12-02 00:00:00'), Timestamp('2023-12-03 00:00:00'), Timestamp('2023-12-04 00:00:00'), Timestamp('2023-12-05 00:00:00'), Timestamp('2023-12-06 00:00:00'), Timestamp('2023-12-07 00:00:00'), Timestamp('2023-12-08 00:00:00'), Timestamp('2023-12-09 00:00:00'), Timestamp('2023-12-10 00:00:00'), Timestamp('2023-12-11 00:00:00'), Timestamp('2023-12-12 00:00:00'), Timestamp('2023-12-13 00:00:00'), Timestamp('2023-12-14 00:00:00'), Timestamp('2023-12-15 00:00:00'), Timestamp('2023-12-16 00:00:00'), Timestamp('2023-12-17 00:00:00'), Timestamp('2023-12-18 00:00:00'), Timestamp('2023-12-19 00:00:00'), Timestamp('2023-12-20 00:00:00'), Timestamp('2023-12-21 00:00:00'), Timestamp('2023-12-22 00:00:00'), Timestamp('2023-12-23 00:00:00'), Timestamp('2023-12-24 00:00:00'), Timestamp('2023-12-25 00:00:00'), Timestamp('2023-12-26 00:00:00'), Timestamp('2023-12-27 00:00:00'), Timestamp('2023-12-28 00:00:00'), Timestamp('2023-12-29 00:00:00'), Timestamp('2023-12-30 00:00:00'), Timestamp('2023-12-31 00:00:00'), Timestamp('2023-01-01 00:00:00'), Timestamp('2023-01-02 00:00:00'), Timestamp('2023-01-03 00:00:00'), Timestamp('2023-01-04 00:00:00'), Timestamp('2023-01-05 00:00:00'), Timestamp('2023-01-06 00:00:00'), Timestamp('2023-01-07 00:00:00'), Timestamp('2023-01-08 00:00:00'), Timestamp('2023-01-09 00:00:00'), Timestamp('2023-01-10 00:00:00'), Timestamp('2023-01-11 00:00:00'), Timestamp('2023-01-12 00:00:00'), Timestamp('2023-01-13 00:00:00'), Timestamp('2023-01-14 00:00:00'), Timestamp('2023-01-15 00:00:00'), Timestamp('2023-01-16 00:00:00'), Timestamp('2023-01-17 00:00:00'), Timestamp('2023-01-18 00:00:00'), Timestamp('2023-01-19 00:00:00'), Timestamp('2023-01-20 00:00:00'), Timestamp('2023-01-21 00:00:00'), Timestamp('2023-01-22 00:00:00'), Timestamp('2023-01-23 00:00:00'), Timestamp('2023-01-24 00:00:00'), Timestamp('2023-01-25 00:00:00'), Timestamp('2023-01-26 00:00:00'), Timestamp('2023-01-27 00:00:00'), Timestamp('2023-01-28 00:00:00'), Timestamp('2023-01-29 00:00:00'), Timestamp('2023-01-30 00:00:00'), Timestamp('2023-01-31 00:00:00'), Timestamp('2023-02-01 00:00:00'), Timestamp('2023-02-02 00:00:00'), Timestamp('2023-02-03 00:00:00'), Timestamp('2023-02-04 00:00:00'), Timestamp('2023-02-05 00:00:00'), Timestamp('2023-02-06 00:00:00'), Timestamp('2023-02-07 00:00:00'), Timestamp('2023-02-08 00:00:00'), Timestamp('2023-02-09 00:00:00'), Timestamp('2023-02-10 00:00:00'), Timestamp('2023-02-11 00:00:00'), Timestamp('2023-02-12 00:00:00'), Timestamp('2023-02-13 00:00:00'), Timestamp('2023-02-14 00:00:00'), Timestamp('2023-02-15 00:00:00'), Timestamp('2023-02-16 00:00:00'), Timestamp('2023-02-17 00:00:00'), Timestamp('2023-02-18 00:00:00'), Timestamp('2023-02-19 00:00:00'), Timestamp('2023-02-20 00:00:00'), Timestamp('2023-02-21 00:00:00'), Timestamp('2023-02-22 00:00:00'), Timestamp('2023-02-23 00:00:00'), Timestamp('2023-02-24 00:00:00'), Timestamp('2023-02-25 00:00:00'), Timestamp('2023-02-26 00:00:00'), Timestamp('2023-02-27 00:00:00'), Timestamp('2023-02-28 00:00:00'), Timestamp('2023-03-01 00:00:00'), Timestamp('2023-03-02 00:00:00'), Timestamp('2023-03-03 00:00:00'), Timestamp('2023-03-04 00:00:00'), Timestamp('2023-03-05 00:00:00'), Timestamp('2023-03-06 00:00:00'), Timestamp('2023-03-07 00:00:00'), Timestamp('2023-03-08 00:00:00'), Timestamp('2023-03-09 00:00:00'), Timestamp('2023-03-10 00:00:00'), Timestamp('2023-03-11 00:00:00'), Timestamp('2023-03-12 00:00:00'), Timestamp('2023-03-13 00:00:00'), Timestamp('2023-03-14 00:00:00'), Timestamp('2023-03-15 00:00:00'), Timestamp('2023-03-16 00:00:00'), Timestamp('2023-03-17 00:00:00'), Timestamp('2023-03-18 00:00:00'), Timestamp('2023-03-19 00:00:00'), Timestamp('2023-03-20 00:00:00'), Timestamp('2023-03-21 00:00:00'), Timestamp('2023-03-22 00:00:00'), Timestamp('2023-03-23 00:00:00'), Timestamp('2023-03-24 00:00:00'), Timestamp('2023-03-25 00:00:00'), Timestamp('2023-03-26 00:00:00'), Timestamp('2023-03-27 00:00:00'), Timestamp('2023-03-28 00:00:00'), Timestamp('2023-03-29 00:00:00'), Timestamp('2023-03-30 00:00:00'), Timestamp('2023-03-31 00:00:00'), Timestamp('2023-04-01 00:00:00'), Timestamp('2023-04-02 00:00:00'), Timestamp('2023-04-03 00:00:00'), Timestamp('2023-04-04 00:00:00'), Timestamp('2023-04-05 00:00:00'), Timestamp('2023-04-06 00:00:00'), Timestamp('2023-04-07 00:00:00'), Timestamp('2023-04-08 00:00:00'), Timestamp('2023-04-09 00:00:00'), Timestamp('2023-04-10 00:00:00'), Timestamp('2023-04-11 00:00:00'), Timestamp('2023-04-12 00:00:00'), Timestamp('2023-04-13 00:00:00'), Timestamp('2023-04-14 00:00:00'), Timestamp('2023-04-15 00:00:00'), Timestamp('2023-04-16 00:00:00'), Timestamp('2023-04-17 00:00:00'), Timestamp('2023-04-18 00:00:00'), Timestamp('2023-04-19 00:00:00'), Timestamp('2023-04-20 00:00:00'), Timestamp('2023-04-21 00:00:00'), Timestamp('2023-04-22 00:00:00'), Timestamp('2023-04-23 00:00:00'), Timestamp('2023-04-24 00:00:00'), Timestamp('2023-04-25 00:00:00'), Timestamp('2023-04-26 00:00:00'), Timestamp('2023-04-27 00:00:00'), Timestamp('2023-04-28 00:00:00'), Timestamp('2023-04-29 00:00:00'), Timestamp('2023-04-30 00:00:00'), Timestamp('2023-05-01 00:00:00'), Timestamp('2023-05-02 00:00:00'), Timestamp('2023-05-03 00:00:00'), Timestamp('2023-05-04 00:00:00'), Timestamp('2023-05-05 00:00:00'), Timestamp('2023-05-06 00:00:00'), Timestamp('2023-05-07 00:00:00'), Timestamp('2023-05-08 00:00:00'), Timestamp('2023-05-09 00:00:00'), Timestamp('2023-05-10 00:00:00'), Timestamp('2023-05-11 00:00:00'), Timestamp('2023-05-12 00:00:00'), Timestamp('2023-05-13 00:00:00'), Timestamp('2023-05-14 00:00:00'), Timestamp('2023-05-15 00:00:00'), Timestamp('2023-05-16 00:00:00'), Timestamp('2023-05-17 00:00:00'), Timestamp('2023-05-18 00:00:00'), Timestamp('2023-05-19 00:00:00'), Timestamp('2023-05-20 00:00:00'), Timestamp('2023-05-21 00:00:00'), Timestamp('2023-05-22 00:00:00'), Timestamp('2023-05-23 00:00:00'), Timestamp('2023-05-24 00:00:00'), Timestamp('2023-05-25 00:00:00'), Timestamp('2023-05-26 00:00:00'), Timestamp('2023-05-27 00:00:00'), Timestamp('2023-05-28 00:00:00'), Timestamp('2023-05-29 00:00:00'), Timestamp('2023-05-30 00:00:00'), Timestamp('2023-05-31 00:00:00'), Timestamp('2023-06-01 00:00:00'), Timestamp('2023-06-02 00:00:00'), Timestamp('2023-06-03 00:00:00'), Timestamp('2023-06-04 00:00:00'), Timestamp('2023-06-05 00:00:00'), Timestamp('2023-06-06 00:00:00'), Timestamp('2023-06-07 00:00:00'), Timestamp('2023-06-08 00:00:00'), Timestamp('2023-06-09 00:00:00'), Timestamp('2023-06-10 00:00:00'), Timestamp('2023-06-11 00:00:00'), Timestamp('2023-06-12 00:00:00'), Timestamp('2023-06-13 00:00:00'), Timestamp('2023-06-14 00:00:00'), Timestamp('2023-06-15 00:00:00'), Timestamp('2023-06-16 00:00:00'), Timestamp('2023-06-17 00:00:00'), Timestamp('2023-06-18 00:00:00'), Timestamp('2023-06-19 00:00:00'), Timestamp('2023-06-20 00:00:00'), Timestamp('2023-06-21 00:00:00'), Timestamp('2023-06-22 00:00:00'), Timestamp('2023-06-23 00:00:00'), Timestamp('2023-06-24 00:00:00'), Timestamp('2023-06-25 00:00:00'), Timestamp('2023-06-26 00:00:00'), Timestamp('2023-06-27 00:00:00'), Timestamp('2023-06-30 00:00:00'), Timestamp('2023-07-01 00:00:00'), Timestamp('2023-07-02 00:00:00'), Timestamp('2023-07-03 00:00:00'), Timestamp('2023-07-04 00:00:00'), Timestamp('2023-07-05 00:00:00'), Timestamp('2023-07-06 00:00:00'), Timestamp('2023-07-07 00:00:00'), Timestamp('2023-07-08 00:00:00'), Timestamp('2023-07-09 00:00:00'), Timestamp('2023-07-10 00:00:00'), Timestamp('2023-07-11 00:00:00'), Timestamp('2023-07-12 00:00:00'), Timestamp('2023-07-13 00:00:00'), Timestamp('2023-07-14 00:00:00'), Timestamp('2023-07-15 00:00:00'), Timestamp('2023-07-16 00:00:00'), Timestamp('2023-07-17 00:00:00'), Timestamp('2023-07-18 00:00:00'), Timestamp('2023-07-19 00:00:00'), Timestamp('2023-07-20 00:00:00'), Timestamp('2023-07-21 00:00:00'), Timestamp('2023-07-22 00:00:00'), Timestamp('2023-07-23 00:00:00'), Timestamp('2023-07-24 00:00:00'), Timestamp('2023-07-25 00:00:00'), Timestamp('2023-07-26 00:00:00'), Timestamp('2023-07-29 00:00:00'), Timestamp('2023-07-30 00:00:00'), Timestamp('2023-07-31 00:00:00'), Timestamp('2023-08-01 00:00:00'), Timestamp('2023-08-02 00:00:00'), Timestamp('2023-08-03 00:00:00'), Timestamp('2023-08-04 00:00:00'), Timestamp('2023-08-05 00:00:00'), Timestamp('2023-08-06 00:00:00'), Timestamp('2023-08-07 00:00:00'), Timestamp('2023-08-08 00:00:00'), Timestamp('2023-08-09 00:00:00'), Timestamp('2023-08-10 00:00:00'), Timestamp('2023-08-11 00:00:00'), Timestamp('2023-08-12 00:00:00'), Timestamp('2023-08-13 00:00:00'), Timestamp('2023-08-14 00:00:00'), Timestamp('2023-08-15 00:00:00'), Timestamp('2023-08-16 00:00:00'), Timestamp('2023-08-17 00:00:00'), Timestamp('2023-08-18 00:00:00'), Timestamp('2023-08-19 00:00:00'), Timestamp('2023-08-20 00:00:00'), Timestamp('2023-08-21 00:00:00'), Timestamp('2023-08-22 00:00:00'), Timestamp('2023-08-23 00:00:00'), Timestamp('2023-08-24 00:00:00'), Timestamp('2023-08-25 00:00:00'), Timestamp('2023-08-26 00:00:00'), Timestamp('2023-08-27 00:00:00'), Timestamp('2023-08-28 00:00:00'), Timestamp('2023-08-29 00:00:00'), Timestamp('2023-08-30 00:00:00'), Timestamp('2023-08-31 00:00:00'), Timestamp('2023-09-01 00:00:00'), Timestamp('2023-09-02 00:00:00'), Timestamp('2023-09-03 00:00:00'), Timestamp('2023-09-04 00:00:00'), Timestamp('2023-09-05 00:00:00'), Timestamp('2023-09-06 00:00:00'), Timestamp('2023-09-07 00:00:00'), Timestamp('2023-09-08 00:00:00'), Timestamp('2023-09-09 00:00:00'), Timestamp('2023-09-10 00:00:00'), Timestamp('2023-09-11 00:00:00'), Timestamp('2023-09-12 00:00:00'), Timestamp('2023-09-13 00:00:00'), Timestamp('2023-09-14 00:00:00'), Timestamp('2023-09-15 00:00:00'), Timestamp('2023-09-16 00:00:00'), Timestamp('2023-09-17 00:00:00'), Timestamp('2023-09-18 00:00:00'), Timestamp('2023-09-19 00:00:00'), Timestamp('2023-09-20 00:00:00'), Timestamp('2023-09-21 00:00:00'), Timestamp('2023-09-22 00:00:00'), Timestamp('2023-09-23 00:00:00'), Timestamp('2023-09-24 00:00:00'), Timestamp('2023-09-25 00:00:00'), Timestamp('2023-09-26 00:00:00'), Timestamp('2023-09-27 00:00:00'), Timestamp('2023-09-28 00:00:00'), Timestamp('2023-09-29 00:00:00'), Timestamp('2023-09-30 00:00:00'), Timestamp('2023-10-01 00:00:00'), Timestamp('2023-10-02 00:00:00'), Timestamp('2023-10-03 00:00:00'), Timestamp('2023-10-04 00:00:00'), Timestamp('2023-10-05 00:00:00'), Timestamp('2023-10-06 00:00:00'), Timestamp('2023-10-07 00:00:00'), Timestamp('2023-10-08 00:00:00'), Timestamp('2023-10-09 00:00:00'), Timestamp('2023-10-10 00:00:00'), Timestamp('2023-10-11 00:00:00'), Timestamp('2023-10-12 00:00:00'), Timestamp('2023-10-13 00:00:00'), Timestamp('2023-10-14 00:00:00'), Timestamp('2023-10-15 00:00:00'), Timestamp('2023-10-16 00:00:00'), Timestamp('2023-10-17 00:00:00'), Timestamp('2023-10-18 00:00:00'), Timestamp('2023-10-19 00:00:00'), Timestamp('2023-10-20 00:00:00'), Timestamp('2023-10-21 00:00:00'), Timestamp('2023-10-22 00:00:00'), Timestamp('2023-10-23 00:00:00'), Timestamp('2023-10-24 00:00:00'), Timestamp('2023-10-25 00:00:00'), Timestamp('2023-10-26 00:00:00'), Timestamp('2023-10-27 00:00:00'), Timestamp('2023-10-28 00:00:00'), Timestamp('2023-10-29 00:00:00'), Timestamp('2023-10-30 00:00:00'), Timestamp('2023-10-31 00:00:00'), Timestamp('2023-11-01 00:00:00'), Timestamp('2023-11-02 00:00:00'), Timestamp('2023-11-03 00:00:00'), Timestamp('2023-11-04 00:00:00'), Timestamp('2023-11-05 00:00:00'), Timestamp('2023-11-06 00:00:00'), Timestamp('2023-11-07 00:00:00'), Timestamp('2023-11-08 00:00:00'), Timestamp('2023-11-09 00:00:00'), Timestamp('2023-11-10 00:00:00'), Timestamp('2023-11-11 00:00:00'), Timestamp('2023-11-12 00:00:00'), Timestamp('2023-11-13 00:00:00'), Timestamp('2023-11-14 00:00:00'), Timestamp('2023-11-15 00:00:00'), Timestamp('2023-11-16 00:00:00'), Timestamp('2023-11-17 00:00:00'), Timestamp('2023-11-18 00:00:00'), Timestamp('2023-11-19 00:00:00'), Timestamp('2023-11-20 00:00:00'), Timestamp('2023-11-21 00:00:00'), Timestamp('2023-11-22 00:00:00'), Timestamp('2023-11-23 00:00:00'), Timestamp('2023-11-24 00:00:00'), Timestamp('2023-11-25 00:00:00'), Timestamp('2023-11-26 00:00:00'), Timestamp('2023-11-27 00:00:00'), Timestamp('2023-11-28 00:00:00'), Timestamp('2023-11-29 00:00:00'), Timestamp('2023-11-30 00:00:00'), Timestamp('2023-12-01 00:00:00'), Timestamp('2023-12-02 00:00:00'), Timestamp('2023-12-03 00:00:00'), Timestamp('2023-12-04 00:00:00'), Timestamp('2023-12-05 00:00:00'), Timestamp('2023-12-06 00:00:00'), Timestamp('2023-12-07 00:00:00'), Timestamp('2023-12-08 00:00:00'), Timestamp('2023-12-09 00:00:00'), Timestamp('2023-12-10 00:00:00'), Timestamp('2023-12-11 00:00:00'), Timestamp('2023-12-12 00:00:00'), Timestamp('2023-12-13 00:00:00'), Timestamp('2023-12-14 00:00:00'), Timestamp('2023-12-15 00:00:00'), Timestamp('2023-12-16 00:00:00'), Timestamp('2023-12-17 00:00:00'), Timestamp('2023-12-18 00:00:00'), Timestamp('2023-12-19 00:00:00'), Timestamp('2023-12-20 00:00:00'), Timestamp('2023-12-21 00:00:00'), Timestamp('2023-12-22 00:00:00'), Timestamp('2023-12-23 00:00:00'), Timestamp('2023-12-24 00:00:00'), Timestamp('2023-12-25 00:00:00'), Timestamp('2023-12-26 00:00:00'), Timestamp('2023-12-27 00:00:00'), Timestamp('2023-12-28 00:00:00'), Timestamp('2023-12-29 00:00:00'), Timestamp('2023-12-30 00:00:00'), Timestamp('2023-12-31 00:00:00'), Timestamp('2023-01-01 00:00:00'), Timestamp('2023-01-02 00:00:00'), Timestamp('2023-01-03 00:00:00'), Timestamp('2023-01-04 00:00:00'), Timestamp('2023-01-05 00:00:00'), Timestamp('2023-01-06 00:00:00'), Timestamp('2023-01-07 00:00:00'), Timestamp('2023-01-08 00:00:00'), Timestamp('2023-01-09 00:00:00'), Timestamp('2023-01-10 00:00:00'), Timestamp('2023-01-11 00:00:00'), Timestamp('2023-01-12 00:00:00'), Timestamp('2023-01-13 00:00:00'), Timestamp('2023-01-14 00:00:00'), Timestamp('2023-01-15 00:00:00'), Timestamp('2023-01-16 00:00:00'), Timestamp('2023-01-17 00:00:00'), Timestamp('2023-01-18 00:00:00'), Timestamp('2023-01-19 00:00:00'), Timestamp('2023-01-20 00:00:00'), Timestamp('2023-01-21 00:00:00'), Timestamp('2023-01-22 00:00:00'), Timestamp('2023-01-23 00:00:00'), Timestamp('2023-01-24 00:00:00'), Timestamp('2023-01-25 00:00:00'), Timestamp('2023-01-26 00:00:00'), Timestamp('2023-01-27 00:00:00'), Timestamp('2023-01-28 00:00:00'), Timestamp('2023-01-29 00:00:00'), Timestamp('2023-01-30 00:00:00'), Timestamp('2023-01-31 00:00:00'), Timestamp('2023-02-01 00:00:00'), Timestamp('2023-02-02 00:00:00'), Timestamp('2023-02-03 00:00:00'), Timestamp('2023-02-04 00:00:00'), Timestamp('2023-02-05 00:00:00'), Timestamp('2023-02-06 00:00:00'), Timestamp('2023-02-07 00:00:00'), Timestamp('2023-02-08 00:00:00'), Timestamp('2023-02-09 00:00:00'), Timestamp('2023-02-10 00:00:00'), Timestamp('2023-02-11 00:00:00'), Timestamp('2023-02-12 00:00:00'), Timestamp('2023-02-13 00:00:00'), Timestamp('2023-02-14 00:00:00'), Timestamp('2023-02-15 00:00:00'), Timestamp('2023-02-16 00:00:00'), Timestamp('2023-02-17 00:00:00'), Timestamp('2023-02-18 00:00:00'), Timestamp('2023-02-19 00:00:00'), Timestamp('2023-02-20 00:00:00'), Timestamp('2023-02-21 00:00:00'), Timestamp('2023-02-22 00:00:00'), Timestamp('2023-02-23 00:00:00'), Timestamp('2023-02-24 00:00:00'), Timestamp('2023-02-25 00:00:00'), Timestamp('2023-02-26 00:00:00'), Timestamp('2023-02-27 00:00:00'), Timestamp('2023-02-28 00:00:00'), Timestamp('2023-03-01 00:00:00'), Timestamp('2023-03-02 00:00:00'), Timestamp('2023-03-03 00:00:00'), Timestamp('2023-03-04 00:00:00'), Timestamp('2023-03-05 00:00:00'), Timestamp('2023-03-06 00:00:00'), Timestamp('2023-03-07 00:00:00'), Timestamp('2023-03-08 00:00:00'), Timestamp('2023-03-09 00:00:00'), Timestamp('2023-03-10 00:00:00'), Timestamp('2023-03-11 00:00:00'), Timestamp('2023-03-12 00:00:00'), Timestamp('2023-03-13 00:00:00'), Timestamp('2023-03-14 00:00:00'), Timestamp('2023-03-15 00:00:00'), Timestamp('2023-03-16 00:00:00'), Timestamp('2023-03-17 00:00:00'), Timestamp('2023-03-18 00:00:00'), Timestamp('2023-03-19 00:00:00'), Timestamp('2023-03-20 00:00:00'), Timestamp('2023-03-21 00:00:00'), Timestamp('2023-03-22 00:00:00'), Timestamp('2023-03-23 00:00:00'), Timestamp('2023-03-24 00:00:00'), Timestamp('2023-03-25 00:00:00'), Timestamp('2023-03-26 00:00:00'), Timestamp('2023-03-27 00:00:00'), Timestamp('2023-03-28 00:00:00'), Timestamp('2023-03-29 00:00:00'), Timestamp('2023-03-30 00:00:00'), Timestamp('2023-03-31 00:00:00'), Timestamp('2023-04-01 00:00:00'), Timestamp('2023-04-02 00:00:00'), Timestamp('2023-04-03 00:00:00'), Timestamp('2023-04-04 00:00:00'), Timestamp('2023-04-05 00:00:00'), Timestamp('2023-04-06 00:00:00'), Timestamp('2023-04-07 00:00:00'), Timestamp('2023-04-08 00:00:00'), Timestamp('2023-04-09 00:00:00'), Timestamp('2023-04-10 00:00:00'), Timestamp('2023-04-11 00:00:00'), Timestamp('2023-04-12 00:00:00'), Timestamp('2023-04-13 00:00:00'), Timestamp('2023-04-14 00:00:00'), Timestamp('2023-04-15 00:00:00'), Timestamp('2023-04-16 00:00:00'), Timestamp('2023-04-17 00:00:00'), Timestamp('2023-04-18 00:00:00'), Timestamp('2023-04-19 00:00:00'), Timestamp('2023-04-20 00:00:00'), Timestamp('2023-04-21 00:00:00'), Timestamp('2023-04-22 00:00:00'), Timestamp('2023-04-23 00:00:00'), Timestamp('2023-04-24 00:00:00'), Timestamp('2023-04-25 00:00:00'), Timestamp('2023-04-26 00:00:00'), Timestamp('2023-04-27 00:00:00'), Timestamp('2023-04-28 00:00:00'), Timestamp('2023-04-29 00:00:00'), Timestamp('2023-04-30 00:00:00'), Timestamp('2023-05-01 00:00:00'), Timestamp('2023-05-02 00:00:00'), Timestamp('2023-05-03 00:00:00'), Timestamp('2023-05-04 00:00:00'), Timestamp('2023-05-05 00:00:00'), Timestamp('2023-05-06 00:00:00'), Timestamp('2023-05-07 00:00:00'), Timestamp('2023-05-08 00:00:00'), Timestamp('2023-05-09 00:00:00'), Timestamp('2023-05-10 00:00:00'), Timestamp('2023-05-11 00:00:00'), Timestamp('2023-05-12 00:00:00'), Timestamp('2023-05-13 00:00:00'), Timestamp('2023-05-14 00:00:00'), Timestamp('2023-05-15 00:00:00'), Timestamp('2023-05-16 00:00:00'), Timestamp('2023-05-17 00:00:00'), Timestamp('2023-05-18 00:00:00'), Timestamp('2023-05-19 00:00:00'), Timestamp('2023-05-20 00:00:00'), Timestamp('2023-05-21 00:00:00'), Timestamp('2023-05-22 00:00:00'), Timestamp('2023-05-23 00:00:00'), Timestamp('2023-05-24 00:00:00'), Timestamp('2023-05-25 00:00:00'), Timestamp('2023-05-26 00:00:00'), Timestamp('2023-05-27 00:00:00'), Timestamp('2023-05-28 00:00:00'), Timestamp('2023-05-29 00:00:00'), Timestamp('2023-05-30 00:00:00'), Timestamp('2023-05-31 00:00:00'), Timestamp('2023-06-01 00:00:00'), Timestamp('2023-06-02 00:00:00'), Timestamp('2023-06-03 00:00:00'), Timestamp('2023-06-04 00:00:00'), Timestamp('2023-06-05 00:00:00'), Timestamp('2023-06-06 00:00:00'), Timestamp('2023-06-07 00:00:00'), Timestamp('2023-06-08 00:00:00'), Timestamp('2023-06-09 00:00:00'), Timestamp('2023-06-10 00:00:00'), Timestamp('2023-06-11 00:00:00'), Timestamp('2023-06-12 00:00:00'), Timestamp('2023-06-13 00:00:00'), Timestamp('2023-06-14 00:00:00'), Timestamp('2023-06-15 00:00:00'), Timestamp('2023-06-16 00:00:00'), Timestamp('2023-06-17 00:00:00'), Timestamp('2023-06-18 00:00:00'), Timestamp('2023-06-19 00:00:00'), Timestamp('2023-06-20 00:00:00'), Timestamp('2023-06-21 00:00:00'), Timestamp('2023-06-22 00:00:00'), Timestamp('2023-06-23 00:00:00'), Timestamp('2023-06-24 00:00:00'), Timestamp('2023-06-25 00:00:00'), Timestamp('2023-06-26 00:00:00'), Timestamp('2023-06-27 00:00:00'), Timestamp('2023-06-28 00:00:00'), Timestamp('2023-06-29 00:00:00'), Timestamp('2023-06-30 00:00:00'), Timestamp('2023-07-01 00:00:00'), Timestamp('2023-07-02 00:00:00'), Timestamp('2023-07-03 00:00:00'), Timestamp('2023-07-04 00:00:00'), Timestamp('2023-07-06 00:00:00'), Timestamp('2023-07-07 00:00:00'), Timestamp('2023-07-08 00:00:00'), Timestamp('2023-07-09 00:00:00'), Timestamp('2023-07-10 00:00:00'), Timestamp('2023-07-11 00:00:00'), Timestamp('2023-07-12 00:00:00'), Timestamp('2023-07-13 00:00:00'), Timestamp('2023-07-14 00:00:00'), Timestamp('2023-07-15 00:00:00'), Timestamp('2023-07-16 00:00:00'), Timestamp('2023-07-17 00:00:00'), Timestamp('2023-07-18 00:00:00'), Timestamp('2023-07-19 00:00:00'), Timestamp('2023-07-20 00:00:00'), Timestamp('2023-07-21 00:00:00'), Timestamp('2023-07-22 00:00:00'), Timestamp('2023-07-23 00:00:00'), Timestamp('2023-07-24 00:00:00'), Timestamp('2023-07-25 00:00:00'), Timestamp('2023-07-26 00:00:00'), Timestamp('2023-07-27 00:00:00'), Timestamp('2023-07-28 00:00:00'), Timestamp('2023-07-29 00:00:00'), Timestamp('2023-07-30 00:00:00'), Timestamp('2023-07-31 00:00:00'), Timestamp('2023-08-01 00:00:00'), Timestamp('2023-08-02 00:00:00'), Timestamp('2023-08-03 00:00:00'), Timestamp('2023-08-04 00:00:00'), Timestamp('2023-08-05 00:00:00'), Timestamp('2023-08-06 00:00:00'), Timestamp('2023-08-07 00:00:00'), Timestamp('2023-08-08 00:00:00'), Timestamp('2023-08-09 00:00:00'), Timestamp('2023-08-10 00:00:00'), Timestamp('2023-08-11 00:00:00'), Timestamp('2023-08-12 00:00:00'), Timestamp('2023-08-13 00:00:00'), Timestamp('2023-08-14 00:00:00'), Timestamp('2023-08-15 00:00:00'), Timestamp('2023-08-16 00:00:00'), Timestamp('2023-08-17 00:00:00'), Timestamp('2023-08-18 00:00:00'), Timestamp('2023-08-19 00:00:00'), Timestamp('2023-08-20 00:00:00'), Timestamp('2023-08-21 00:00:00'), Timestamp('2023-08-22 00:00:00'), Timestamp('2023-08-23 00:00:00'), Timestamp('2023-08-24 00:00:00'), Timestamp('2023-08-25 00:00:00'), Timestamp('2023-08-26 00:00:00'), Timestamp('2023-08-27 00:00:00'), Timestamp('2023-08-28 00:00:00'), Timestamp('2023-08-29 00:00:00'), Timestamp('2023-08-30 00:00:00'), Timestamp('2023-08-31 00:00:00'), Timestamp('2023-09-01 00:00:00'), Timestamp('2023-09-02 00:00:00'), Timestamp('2023-09-03 00:00:00'), Timestamp('2023-09-04 00:00:00'), Timestamp('2023-09-05 00:00:00'), Timestamp('2023-09-06 00:00:00'), Timestamp('2023-09-07 00:00:00'), Timestamp('2023-09-08 00:00:00'), Timestamp('2023-09-09 00:00:00'), Timestamp('2023-09-10 00:00:00'), Timestamp('2023-09-11 00:00:00'), Timestamp('2023-09-12 00:00:00'), Timestamp('2023-09-13 00:00:00'), Timestamp('2023-09-14 00:00:00'), Timestamp('2023-09-15 00:00:00'), Timestamp('2023-09-16 00:00:00'), Timestamp('2023-09-17 00:00:00'), Timestamp('2023-09-18 00:00:00'), Timestamp('2023-09-19 00:00:00'), Timestamp('2023-09-20 00:00:00'), Timestamp('2023-09-21 00:00:00'), Timestamp('2023-09-22 00:00:00'), Timestamp('2023-09-23 00:00:00'), Timestamp('2023-09-24 00:00:00'), Timestamp('2023-09-25 00:00:00'), Timestamp('2023-09-26 00:00:00'), Timestamp('2023-09-27 00:00:00'), Timestamp('2023-09-28 00:00:00'), Timestamp('2023-09-29 00:00:00'), Timestamp('2023-09-30 00:00:00'), Timestamp('2023-10-01 00:00:00'), Timestamp('2023-10-03 00:00:00'), Timestamp('2023-10-04 00:00:00'), Timestamp('2023-10-05 00:00:00'), Timestamp('2023-10-06 00:00:00'), Timestamp('2023-10-07 00:00:00'), Timestamp('2023-10-08 00:00:00'), Timestamp('2023-10-09 00:00:00'), Timestamp('2023-10-10 00:00:00'), Timestamp('2023-10-11 00:00:00'), Timestamp('2023-10-12 00:00:00'), Timestamp('2023-10-13 00:00:00'), Timestamp('2023-10-14 00:00:00'), Timestamp('2023-10-15 00:00:00'), Timestamp('2023-10-16 00:00:00'), Timestamp('2023-10-17 00:00:00'), Timestamp('2023-10-18 00:00:00'), Timestamp('2023-10-19 00:00:00'), Timestamp('2023-10-20 00:00:00'), Timestamp('2023-10-21 00:00:00'), Timestamp('2023-10-22 00:00:00'), Timestamp('2023-10-23 00:00:00'), Timestamp('2023-10-24 00:00:00'), Timestamp('2023-10-25 00:00:00'), Timestamp('2023-10-26 00:00:00'), Timestamp('2023-10-27 00:00:00'), Timestamp('2023-10-28 00:00:00'), Timestamp('2023-10-29 00:00:00'), Timestamp('2023-10-30 00:00:00'), Timestamp('2023-10-31 00:00:00'), Timestamp('2023-11-01 00:00:00'), Timestamp('2023-11-02 00:00:00'), Timestamp('2023-11-03 00:00:00'), Timestamp('2023-11-04 00:00:00'), Timestamp('2023-11-05 00:00:00'), Timestamp('2023-11-08 00:00:00'), Timestamp('2023-11-09 00:00:00'), Timestamp('2023-11-10 00:00:00'), Timestamp('2023-11-11 00:00:00'), Timestamp('2023-11-12 00:00:00'), Timestamp('2023-11-13 00:00:00'), Timestamp('2023-11-14 00:00:00'), Timestamp('2023-11-15 00:00:00'), Timestamp('2023-11-16 00:00:00'), Timestamp('2023-11-17 00:00:00'), Timestamp('2023-11-18 00:00:00'), Timestamp('2023-11-19 00:00:00'), Timestamp('2023-11-20 00:00:00'), Timestamp('2023-11-21 00:00:00'), Timestamp('2023-11-22 00:00:00'), Timestamp('2023-11-23 00:00:00'), Timestamp('2023-11-24 00:00:00'), Timestamp('2023-11-25 00:00:00'), Timestamp('2023-11-26 00:00:00'), Timestamp('2023-11-27 00:00:00'), Timestamp('2023-11-28 00:00:00'), Timestamp('2023-11-29 00:00:00'), Timestamp('2023-11-30 00:00:00'), Timestamp('2023-12-01 00:00:00'), Timestamp('2023-12-02 00:00:00'), Timestamp('2023-12-03 00:00:00'), Timestamp('2023-12-04 00:00:00'), Timestamp('2023-12-05 00:00:00'), Timestamp('2023-12-06 00:00:00'), Timestamp('2023-12-07 00:00:00'), Timestamp('2023-12-08 00:00:00'), Timestamp('2023-12-09 00:00:00'), Timestamp('2023-12-10 00:00:00'), Timestamp('2023-12-11 00:00:00'), Timestamp('2023-12-12 00:00:00'), Timestamp('2023-12-13 00:00:00'), Timestamp('2023-12-14 00:00:00'), Timestamp('2023-12-15 00:00:00'), Timestamp('2023-12-16 00:00:00'), Timestamp('2023-12-17 00:00:00'), Timestamp('2023-12-18 00:00:00'), Timestamp('2023-12-19 00:00:00'), Timestamp('2023-12-20 00:00:00'), Timestamp('2023-12-21 00:00:00'), Timestamp('2023-12-22 00:00:00'), Timestamp('2023-12-23 00:00:00'), Timestamp('2023-12-24 00:00:00'), Timestamp('2023-12-25 00:00:00'), Timestamp('2023-12-26 00:00:00'), Timestamp('2023-12-27 00:00:00'), Timestamp('2023-12-28 00:00:00'), Timestamp('2023-12-29 00:00:00'), Timestamp('2023-12-30 00:00:00'), Timestamp('2023-12-31 00:00:00'), Timestamp('2023-01-01 00:00:00'), Timestamp('2023-01-02 00:00:00'), Timestamp('2023-01-03 00:00:00'), Timestamp('2023-01-04 00:00:00'), Timestamp('2023-01-05 00:00:00'), Timestamp('2023-01-06 00:00:00'), Timestamp('2023-01-07 00:00:00'), Timestamp('2023-01-08 00:00:00'), Timestamp('2023-01-09 00:00:00'), Timestamp('2023-01-10 00:00:00'), Timestamp('2023-01-11 00:00:00'), Timestamp('2023-01-12 00:00:00'), Timestamp('2023-01-13 00:00:00'), Timestamp('2023-01-14 00:00:00'), Timestamp('2023-01-15 00:00:00'), Timestamp('2023-01-16 00:00:00'), Timestamp('2023-01-17 00:00:00'), Timestamp('2023-01-18 00:00:00'), Timestamp('2023-01-19 00:00:00'), Timestamp('2023-01-20 00:00:00'), Timestamp('2023-01-21 00:00:00'), Timestamp('2023-01-22 00:00:00'), Timestamp('2023-01-23 00:00:00'), Timestamp('2023-01-24 00:00:00'), Timestamp('2023-01-25 00:00:00'), Timestamp('2023-01-26 00:00:00'), Timestamp('2023-01-27 00:00:00'), Timestamp('2023-01-28 00:00:00'), Timestamp('2023-01-29 00:00:00'), Timestamp('2023-01-30 00:00:00'), Timestamp('2023-01-31 00:00:00'), Timestamp('2023-02-01 00:00:00'), Timestamp('2023-02-02 00:00:00'), Timestamp('2023-02-03 00:00:00'), Timestamp('2023-02-04 00:00:00'), Timestamp('2023-02-05 00:00:00'), Timestamp('2023-02-06 00:00:00'), Timestamp('2023-02-07 00:00:00'), Timestamp('2023-02-08 00:00:00'), Timestamp('2023-02-09 00:00:00'), Timestamp('2023-02-10 00:00:00'), Timestamp('2023-02-11 00:00:00'), Timestamp('2023-02-12 00:00:00'), Timestamp('2023-02-13 00:00:00'), Timestamp('2023-02-14 00:00:00'), Timestamp('2023-02-15 00:00:00'), Timestamp('2023-02-16 00:00:00'), Timestamp('2023-02-17 00:00:00'), Timestamp('2023-02-18 00:00:00'), Timestamp('2023-02-19 00:00:00'), Timestamp('2023-02-20 00:00:00'), Timestamp('2023-02-21 00:00:00'), Timestamp('2023-02-22 00:00:00'), Timestamp('2023-02-23 00:00:00'), Timestamp('2023-02-24 00:00:00'), Timestamp('2023-02-25 00:00:00'), Timestamp('2023-02-26 00:00:00'), Timestamp('2023-02-27 00:00:00'), Timestamp('2023-02-28 00:00:00'), Timestamp('2023-03-01 00:00:00'), Timestamp('2023-03-02 00:00:00'), Timestamp('2023-03-03 00:00:00'), Timestamp('2023-03-04 00:00:00'), Timestamp('2023-03-05 00:00:00'), Timestamp('2023-03-06 00:00:00'), Timestamp('2023-03-07 00:00:00'), Timestamp('2023-03-08 00:00:00'), Timestamp('2023-03-09 00:00:00'), Timestamp('2023-03-10 00:00:00'), Timestamp('2023-03-11 00:00:00'), Timestamp('2023-03-12 00:00:00'), Timestamp('2023-03-13 00:00:00'), Timestamp('2023-03-14 00:00:00'), Timestamp('2023-03-15 00:00:00'), Timestamp('2023-03-16 00:00:00'), Timestamp('2023-03-17 00:00:00'), Timestamp('2023-03-18 00:00:00'), Timestamp('2023-03-19 00:00:00'), Timestamp('2023-03-20 00:00:00'), Timestamp('2023-03-21 00:00:00'), Timestamp('2023-03-22 00:00:00'), Timestamp('2023-03-23 00:00:00'), Timestamp('2023-03-24 00:00:00'), Timestamp('2023-03-25 00:00:00'), Timestamp('2023-03-26 00:00:00'), Timestamp('2023-03-27 00:00:00'), Timestamp('2023-03-28 00:00:00'), Timestamp('2023-03-29 00:00:00'), Timestamp('2023-03-30 00:00:00'), Timestamp('2023-03-31 00:00:00'), Timestamp('2023-04-01 00:00:00'), Timestamp('2023-04-02 00:00:00'), Timestamp('2023-04-03 00:00:00'), Timestamp('2023-04-04 00:00:00'), Timestamp('2023-04-05 00:00:00'), Timestamp('2023-04-06 00:00:00'), Timestamp('2023-04-07 00:00:00'), Timestamp('2023-04-08 00:00:00'), Timestamp('2023-04-09 00:00:00'), Timestamp('2023-04-10 00:00:00'), Timestamp('2023-04-11 00:00:00'), Timestamp('2023-04-12 00:00:00'), Timestamp('2023-04-13 00:00:00'), Timestamp('2023-04-14 00:00:00'), Timestamp('2023-04-15 00:00:00'), Timestamp('2023-04-16 00:00:00'), Timestamp('2023-04-17 00:00:00'), Timestamp('2023-04-18 00:00:00'), Timestamp('2023-04-19 00:00:00'), Timestamp('2023-04-20 00:00:00'), Timestamp('2023-04-21 00:00:00'), Timestamp('2023-04-22 00:00:00'), Timestamp('2023-04-23 00:00:00'), Timestamp('2023-04-24 00:00:00'), Timestamp('2023-04-25 00:00:00'), Timestamp('2023-04-26 00:00:00'), Timestamp('2023-04-27 00:00:00'), Timestamp('2023-04-28 00:00:00'), Timestamp('2023-04-29 00:00:00'), Timestamp('2023-04-30 00:00:00'), Timestamp('2023-05-01 00:00:00'), Timestamp('2023-05-02 00:00:00'), Timestamp('2023-05-03 00:00:00'), Timestamp('2023-05-04 00:00:00'), Timestamp('2023-05-05 00:00:00'), Timestamp('2023-05-06 00:00:00'), Timestamp('2023-05-07 00:00:00'), Timestamp('2023-05-08 00:00:00'), Timestamp('2023-05-09 00:00:00'), Timestamp('2023-05-10 00:00:00'), Timestamp('2023-05-11 00:00:00'), Timestamp('2023-05-12 00:00:00'), Timestamp('2023-05-13 00:00:00'), Timestamp('2023-05-14 00:00:00'), Timestamp('2023-05-15 00:00:00'), Timestamp('2023-05-16 00:00:00'), Timestamp('2023-05-17 00:00:00'), Timestamp('2023-05-18 00:00:00'), Timestamp('2023-05-19 00:00:00'), Timestamp('2023-05-20 00:00:00'), Timestamp('2023-05-21 00:00:00'), Timestamp('2023-05-22 00:00:00'), Timestamp('2023-05-23 00:00:00'), Timestamp('2023-05-24 00:00:00'), Timestamp('2023-05-25 00:00:00'), Timestamp('2023-05-26 00:00:00'), Timestamp('2023-05-27 00:00:00'), Timestamp('2023-05-28 00:00:00'), Timestamp('2023-05-29 00:00:00'), Timestamp('2023-05-30 00:00:00'), Timestamp('2023-05-31 00:00:00'), Timestamp('2023-06-02 00:00:00'), Timestamp('2023-06-03 00:00:00'), Timestamp('2023-06-04 00:00:00'), Timestamp('2023-06-05 00:00:00'), Timestamp('2023-06-06 00:00:00'), Timestamp('2023-06-07 00:00:00'), Timestamp('2023-06-08 00:00:00'), Timestamp('2023-06-09 00:00:00'), Timestamp('2023-06-10 00:00:00'), Timestamp('2023-06-11 00:00:00'), Timestamp('2023-06-12 00:00:00'), Timestamp('2023-06-13 00:00:00'), Timestamp('2023-06-14 00:00:00'), Timestamp('2023-06-15 00:00:00'), Timestamp('2023-06-16 00:00:00'), Timestamp('2023-06-17 00:00:00'), Timestamp('2023-06-18 00:00:00'), Timestamp('2023-06-19 00:00:00'), Timestamp('2023-06-20 00:00:00'), Timestamp('2023-06-21 00:00:00'), Timestamp('2023-06-22 00:00:00'), Timestamp('2023-06-23 00:00:00'), Timestamp('2023-06-24 00:00:00'), Timestamp('2023-06-25 00:00:00'), Timestamp('2023-06-26 00:00:00'), Timestamp('2023-06-27 00:00:00'), Timestamp('2023-06-28 00:00:00'), Timestamp('2023-06-29 00:00:00'), Timestamp('2023-06-30 00:00:00'), Timestamp('2023-07-01 00:00:00'), Timestamp('2023-07-02 00:00:00'), Timestamp('2023-07-03 00:00:00'), Timestamp('2023-07-04 00:00:00'), Timestamp('2023-07-05 00:00:00'), Timestamp('2023-07-06 00:00:00'), Timestamp('2023-07-07 00:00:00'), Timestamp('2023-07-08 00:00:00'), Timestamp('2023-07-09 00:00:00'), Timestamp('2023-07-10 00:00:00'), Timestamp('2023-07-11 00:00:00'), Timestamp('2023-07-12 00:00:00'), Timestamp('2023-07-13 00:00:00'), Timestamp('2023-07-14 00:00:00'), Timestamp('2023-07-15 00:00:00'), Timestamp('2023-07-16 00:00:00'), Timestamp('2023-07-17 00:00:00'), Timestamp('2023-07-18 00:00:00'), Timestamp('2023-07-19 00:00:00'), Timestamp('2023-07-20 00:00:00'), Timestamp('2023-07-21 00:00:00'), Timestamp('2023-07-22 00:00:00'), Timestamp('2023-07-23 00:00:00'), Timestamp('2023-07-24 00:00:00'), Timestamp('2023-07-25 00:00:00'), Timestamp('2023-07-26 00:00:00'), Timestamp('2023-07-27 00:00:00'), Timestamp('2023-07-28 00:00:00'), Timestamp('2023-07-29 00:00:00'), Timestamp('2023-07-30 00:00:00'), Timestamp('2023-07-31 00:00:00'), Timestamp('2023-08-01 00:00:00'), Timestamp('2023-08-02 00:00:00'), Timestamp('2023-08-03 00:00:00'), Timestamp('2023-08-04 00:00:00'), Timestamp('2023-08-05 00:00:00'), Timestamp('2023-08-06 00:00:00'), Timestamp('2023-08-07 00:00:00'), Timestamp('2023-08-08 00:00:00'), Timestamp('2023-08-09 00:00:00'), Timestamp('2023-08-10 00:00:00'), Timestamp('2023-08-11 00:00:00'), Timestamp('2023-08-12 00:00:00'), Timestamp('2023-08-13 00:00:00'), Timestamp('2023-08-14 00:00:00'), Timestamp('2023-08-15 00:00:00'), Timestamp('2023-08-16 00:00:00'), Timestamp('2023-08-17 00:00:00'), Timestamp('2023-08-18 00:00:00'), Timestamp('2023-08-19 00:00:00'), Timestamp('2023-08-20 00:00:00'), Timestamp('2023-08-21 00:00:00'), Timestamp('2023-08-22 00:00:00'), Timestamp('2023-08-23 00:00:00'), Timestamp('2023-08-24 00:00:00'), Timestamp('2023-08-25 00:00:00'), Timestamp('2023-08-26 00:00:00'), Timestamp('2023-08-27 00:00:00'), Timestamp('2023-08-28 00:00:00'), Timestamp('2023-08-29 00:00:00'), Timestamp('2023-08-30 00:00:00'), Timestamp('2023-08-31 00:00:00'), Timestamp('2023-09-01 00:00:00'), Timestamp('2023-09-02 00:00:00'), Timestamp('2023-09-03 00:00:00'), Timestamp('2023-09-04 00:00:00'), Timestamp('2023-09-05 00:00:00'), Timestamp('2023-09-06 00:00:00'), Timestamp('2023-09-07 00:00:00'), Timestamp('2023-09-08 00:00:00'), Timestamp('2023-09-09 00:00:00'), Timestamp('2023-09-10 00:00:00'), Timestamp('2023-09-11 00:00:00'), Timestamp('2023-09-12 00:00:00'), Timestamp('2023-09-13 00:00:00'), Timestamp('2023-09-14 00:00:00'), Timestamp('2023-09-15 00:00:00'), Timestamp('2023-09-16 00:00:00'), Timestamp('2023-09-17 00:00:00'), Timestamp('2023-09-18 00:00:00'), Timestamp('2023-09-19 00:00:00'), Timestamp('2023-09-20 00:00:00'), Timestamp('2023-09-21 00:00:00'), Timestamp('2023-09-22 00:00:00'), Timestamp('2023-09-23 00:00:00'), Timestamp('2023-09-24 00:00:00'), Timestamp('2023-09-25 00:00:00'), Timestamp('2023-09-26 00:00:00'), Timestamp('2023-09-27 00:00:00'), Timestamp('2023-09-28 00:00:00'), Timestamp('2023-09-29 00:00:00'), Timestamp('2023-09-30 00:00:00'), Timestamp('2023-10-01 00:00:00'), Timestamp('2023-10-02 00:00:00'), Timestamp('2023-10-03 00:00:00'), Timestamp('2023-10-04 00:00:00'), Timestamp('2023-10-05 00:00:00'), Timestamp('2023-10-06 00:00:00'), Timestamp('2023-10-07 00:00:00'), Timestamp('2023-10-08 00:00:00'), Timestamp('2023-10-09 00:00:00'), Timestamp('2023-10-10 00:00:00'), Timestamp('2023-10-11 00:00:00'), Timestamp('2023-10-12 00:00:00'), Timestamp('2023-10-13 00:00:00'), Timestamp('2023-10-14 00:00:00'), Timestamp('2023-10-15 00:00:00'), Timestamp('2023-10-16 00:00:00'), Timestamp('2023-10-17 00:00:00'), Timestamp('2023-10-18 00:00:00'), Timestamp('2023-10-19 00:00:00'), Timestamp('2023-10-20 00:00:00'), Timestamp('2023-10-21 00:00:00'), Timestamp('2023-10-22 00:00:00'), Timestamp('2023-10-23 00:00:00'), Timestamp('2023-10-24 00:00:00'), Timestamp('2023-10-25 00:00:00'), Timestamp('2023-10-26 00:00:00'), Timestamp('2023-10-27 00:00:00'), Timestamp('2023-10-28 00:00:00'), Timestamp('2023-10-29 00:00:00'), Timestamp('2023-10-30 00:00:00'), Timestamp('2023-10-31 00:00:00'), Timestamp('2023-11-01 00:00:00'), Timestamp('2023-11-02 00:00:00'), Timestamp('2023-11-03 00:00:00'), Timestamp('2023-11-04 00:00:00'), Timestamp('2023-11-05 00:00:00'), Timestamp('2023-11-06 00:00:00'), Timestamp('2023-11-07 00:00:00'), Timestamp('2023-11-08 00:00:00'), Timestamp('2023-11-09 00:00:00'), Timestamp('2023-11-10 00:00:00'), Timestamp('2023-11-11 00:00:00'), Timestamp('2023-11-12 00:00:00'), Timestamp('2023-11-13 00:00:00'), Timestamp('2023-11-14 00:00:00'), Timestamp('2023-11-15 00:00:00'), Timestamp('2023-11-16 00:00:00'), Timestamp('2023-11-17 00:00:00'), Timestamp('2023-11-18 00:00:00'), Timestamp('2023-11-19 00:00:00'), Timestamp('2023-11-20 00:00:00'), Timestamp('2023-11-21 00:00:00'), Timestamp('2023-11-22 00:00:00'), Timestamp('2023-11-23 00:00:00'), Timestamp('2023-11-24 00:00:00'), Timestamp('2023-11-25 00:00:00'), Timestamp('2023-11-26 00:00:00'), Timestamp('2023-11-27 00:00:00'), Timestamp('2023-11-28 00:00:00'), Timestamp('2023-11-29 00:00:00'), Timestamp('2023-11-30 00:00:00'), Timestamp('2023-12-01 00:00:00'), Timestamp('2023-12-02 00:00:00'), Timestamp('2023-12-03 00:00:00'), Timestamp('2023-12-06 00:00:00'), Timestamp('2023-12-07 00:00:00'), Timestamp('2023-12-08 00:00:00'), Timestamp('2023-12-09 00:00:00'), Timestamp('2023-12-10 00:00:00'), Timestamp('2023-12-11 00:00:00'), Timestamp('2023-12-12 00:00:00'), Timestamp('2023-12-13 00:00:00'), Timestamp('2023-12-14 00:00:00'), Timestamp('2023-12-15 00:00:00'), Timestamp('2023-12-16 00:00:00'), Timestamp('2023-12-17 00:00:00'), Timestamp('2023-12-18 00:00:00'), Timestamp('2023-12-19 00:00:00'), Timestamp('2023-12-20 00:00:00'), Timestamp('2023-12-21 00:00:00'), Timestamp('2023-12-22 00:00:00'), Timestamp('2023-12-23 00:00:00'), Timestamp('2023-12-24 00:00:00'), Timestamp('2023-12-25 00:00:00'), Timestamp('2023-12-26 00:00:00'), Timestamp('2023-12-27 00:00:00'), Timestamp('2023-12-28 00:00:00'), Timestamp('2023-12-29 00:00:00'), Timestamp('2023-12-30 00:00:00'), Timestamp('2023-12-31 00:00:00'), Timestamp('2023-01-01 00:00:00'), Timestamp('2023-01-02 00:00:00'), Timestamp('2023-01-03 00:00:00'), Timestamp('2023-01-04 00:00:00'), Timestamp('2023-01-05 00:00:00'), Timestamp('2023-01-06 00:00:00'), Timestamp('2023-01-07 00:00:00'), Timestamp('2023-01-08 00:00:00'), Timestamp('2023-01-09 00:00:00'), Timestamp('2023-01-10 00:00:00'), Timestamp('2023-01-11 00:00:00'), Timestamp('2023-01-12 00:00:00'), Timestamp('2023-01-13 00:00:00'), Timestamp('2023-01-14 00:00:00'), Timestamp('2023-01-15 00:00:00'), Timestamp('2023-01-16 00:00:00'), Timestamp('2023-01-17 00:00:00'), Timestamp('2023-01-18 00:00:00'), Timestamp('2023-01-19 00:00:00'), Timestamp('2023-01-20 00:00:00'), Timestamp('2023-01-21 00:00:00'), Timestamp('2023-01-22 00:00:00'), Timestamp('2023-01-23 00:00:00'), Timestamp('2023-01-24 00:00:00'), Timestamp('2023-01-25 00:00:00'), Timestamp('2023-01-26 00:00:00'), Timestamp('2023-01-27 00:00:00'), Timestamp('2023-01-28 00:00:00'), Timestamp('2023-01-29 00:00:00'), Timestamp('2023-01-30 00:00:00'), Timestamp('2023-01-31 00:00:00'), Timestamp('2023-02-01 00:00:00'), Timestamp('2023-02-02 00:00:00'), Timestamp('2023-02-03 00:00:00'), Timestamp('2023-02-04 00:00:00'), Timestamp('2023-02-05 00:00:00'), Timestamp('2023-02-06 00:00:00'), Timestamp('2023-02-07 00:00:00'), Timestamp('2023-02-08 00:00:00'), Timestamp('2023-02-09 00:00:00'), Timestamp('2023-02-10 00:00:00'), Timestamp('2023-02-11 00:00:00'), Timestamp('2023-02-12 00:00:00'), Timestamp('2023-02-13 00:00:00'), Timestamp('2023-02-14 00:00:00'), Timestamp('2023-02-15 00:00:00'), Timestamp('2023-02-16 00:00:00'), Timestamp('2023-02-17 00:00:00'), Timestamp('2023-02-18 00:00:00'), Timestamp('2023-02-19 00:00:00'), Timestamp('2023-02-20 00:00:00'), Timestamp('2023-02-21 00:00:00'), Timestamp('2023-02-22 00:00:00'), Timestamp('2023-02-23 00:00:00'), Timestamp('2023-02-24 00:00:00'), Timestamp('2023-02-25 00:00:00'), Timestamp('2023-02-26 00:00:00'), Timestamp('2023-02-27 00:00:00'), Timestamp('2023-02-28 00:00:00'), Timestamp('2023-03-01 00:00:00'), Timestamp('2023-03-02 00:00:00'), Timestamp('2023-03-03 00:00:00'), Timestamp('2023-03-04 00:00:00'), Timestamp('2023-03-05 00:00:00'), Timestamp('2023-03-06 00:00:00'), Timestamp('2023-03-07 00:00:00'), Timestamp('2023-03-08 00:00:00'), Timestamp('2023-03-09 00:00:00'), Timestamp('2023-03-10 00:00:00'), Timestamp('2023-03-11 00:00:00'), Timestamp('2023-03-12 00:00:00'), Timestamp('2023-03-13 00:00:00'), Timestamp('2023-03-14 00:00:00'), Timestamp('2023-03-15 00:00:00'), Timestamp('2023-03-16 00:00:00'), Timestamp('2023-03-17 00:00:00'), Timestamp('2023-03-18 00:00:00'), Timestamp('2023-03-19 00:00:00'), Timestamp('2023-03-20 00:00:00'), Timestamp('2023-03-21 00:00:00'), Timestamp('2023-03-22 00:00:00'), Timestamp('2023-03-23 00:00:00'), Timestamp('2023-03-24 00:00:00'), Timestamp('2023-03-25 00:00:00'), Timestamp('2023-03-26 00:00:00'), Timestamp('2023-03-27 00:00:00'), Timestamp('2023-03-28 00:00:00'), Timestamp('2023-03-29 00:00:00'), Timestamp('2023-03-30 00:00:00'), Timestamp('2023-03-31 00:00:00'), Timestamp('2023-04-01 00:00:00'), Timestamp('2023-04-02 00:00:00'), Timestamp('2023-04-03 00:00:00'), Timestamp('2023-04-04 00:00:00'), Timestamp('2023-04-05 00:00:00'), Timestamp('2023-04-06 00:00:00'), Timestamp('2023-04-07 00:00:00'), Timestamp('2023-04-08 00:00:00'), Timestamp('2023-04-09 00:00:00'), Timestamp('2023-04-10 00:00:00'), Timestamp('2023-04-11 00:00:00'), Timestamp('2023-04-12 00:00:00'), Timestamp('2023-04-13 00:00:00'), Timestamp('2023-04-14 00:00:00'), Timestamp('2023-04-15 00:00:00'), Timestamp('2023-04-16 00:00:00'), Timestamp('2023-04-17 00:00:00'), Timestamp('2023-04-18 00:00:00'), Timestamp('2023-04-19 00:00:00'), Timestamp('2023-04-20 00:00:00'), Timestamp('2023-04-21 00:00:00'), Timestamp('2023-04-22 00:00:00'), Timestamp('2023-04-23 00:00:00'), Timestamp('2023-04-24 00:00:00'), Timestamp('2023-04-25 00:00:00'), Timestamp('2023-04-26 00:00:00'), Timestamp('2023-04-27 00:00:00'), Timestamp('2023-04-28 00:00:00'), Timestamp('2023-04-29 00:00:00'), Timestamp('2023-04-30 00:00:00'), Timestamp('2023-05-01 00:00:00'), Timestamp('2023-05-02 00:00:00'), Timestamp('2023-05-03 00:00:00'), Timestamp('2023-05-04 00:00:00'), Timestamp('2023-05-05 00:00:00'), Timestamp('2023-05-06 00:00:00'), Timestamp('2023-05-07 00:00:00'), Timestamp('2023-05-08 00:00:00'), Timestamp('2023-05-09 00:00:00'), Timestamp('2023-05-10 00:00:00'), Timestamp('2023-05-11 00:00:00'), Timestamp('2023-05-12 00:00:00'), Timestamp('2023-05-13 00:00:00'), Timestamp('2023-05-14 00:00:00'), Timestamp('2023-05-15 00:00:00'), Timestamp('2023-05-16 00:00:00'), Timestamp('2023-05-17 00:00:00'), Timestamp('2023-05-18 00:00:00'), Timestamp('2023-05-19 00:00:00'), Timestamp('2023-05-20 00:00:00'), Timestamp('2023-05-21 00:00:00'), Timestamp('2023-05-22 00:00:00'), Timestamp('2023-05-23 00:00:00'), Timestamp('2023-05-24 00:00:00'), Timestamp('2023-05-25 00:00:00'), Timestamp('2023-05-26 00:00:00'), Timestamp('2023-05-27 00:00:00'), Timestamp('2023-05-28 00:00:00'), Timestamp('2023-05-29 00:00:00'), Timestamp('2023-05-30 00:00:00'), Timestamp('2023-05-31 00:00:00'), Timestamp('2023-06-01 00:00:00'), Timestamp('2023-06-02 00:00:00'), Timestamp('2023-06-03 00:00:00'), Timestamp('2023-06-04 00:00:00'), Timestamp('2023-06-05 00:00:00'), Timestamp('2023-06-06 00:00:00'), Timestamp('2023-06-07 00:00:00'), Timestamp('2023-06-08 00:00:00'), Timestamp('2023-06-09 00:00:00'), Timestamp('2023-06-10 00:00:00'), Timestamp('2023-06-11 00:00:00'), Timestamp('2023-06-12 00:00:00'), Timestamp('2023-06-13 00:00:00'), Timestamp('2023-06-14 00:00:00'), Timestamp('2023-06-15 00:00:00'), Timestamp('2023-06-16 00:00:00'), Timestamp('2023-06-17 00:00:00'), Timestamp('2023-06-18 00:00:00'), Timestamp('2023-06-19 00:00:00'), Timestamp('2023-06-20 00:00:00'), Timestamp('2023-06-21 00:00:00'), Timestamp('2023-06-22 00:00:00'), Timestamp('2023-06-23 00:00:00'), Timestamp('2023-06-24 00:00:00'), Timestamp('2023-06-25 00:00:00'), Timestamp('2023-06-26 00:00:00'), Timestamp('2023-06-27 00:00:00'), Timestamp('2023-06-28 00:00:00'), Timestamp('2023-06-29 00:00:00'), Timestamp('2023-06-30 00:00:00'), Timestamp('2023-07-01 00:00:00'), Timestamp('2023-07-02 00:00:00'), Timestamp('2023-07-03 00:00:00'), Timestamp('2023-07-04 00:00:00'), Timestamp('2023-07-05 00:00:00'), Timestamp('2023-07-06 00:00:00'), Timestamp('2023-07-07 00:00:00'), Timestamp('2023-07-08 00:00:00'), Timestamp('2023-07-09 00:00:00'), Timestamp('2023-07-10 00:00:00'), Timestamp('2023-07-11 00:00:00'), Timestamp('2023-07-12 00:00:00'), Timestamp('2023-07-13 00:00:00'), Timestamp('2023-07-14 00:00:00'), Timestamp('2023-07-15 00:00:00'), Timestamp('2023-07-16 00:00:00'), Timestamp('2023-07-17 00:00:00'), Timestamp('2023-07-18 00:00:00'), Timestamp('2023-07-19 00:00:00'), Timestamp('2023-07-20 00:00:00'), Timestamp('2023-07-21 00:00:00'), Timestamp('2023-07-22 00:00:00'), Timestamp('2023-07-23 00:00:00'), Timestamp('2023-07-24 00:00:00'), Timestamp('2023-07-25 00:00:00'), Timestamp('2023-07-26 00:00:00'), Timestamp('2023-07-27 00:00:00'), Timestamp('2023-07-28 00:00:00'), Timestamp('2023-07-29 00:00:00'), Timestamp('2023-07-30 00:00:00'), Timestamp('2023-07-31 00:00:00'), Timestamp('2023-08-01 00:00:00'), Timestamp('2023-08-02 00:00:00'), Timestamp('2023-08-03 00:00:00'), Timestamp('2023-08-04 00:00:00'), Timestamp('2023-08-05 00:00:00'), Timestamp('2023-08-06 00:00:00'), Timestamp('2023-08-07 00:00:00'), Timestamp('2023-08-08 00:00:00'), Timestamp('2023-08-09 00:00:00'), Timestamp('2023-08-10 00:00:00'), Timestamp('2023-08-11 00:00:00'), Timestamp('2023-08-12 00:00:00'), Timestamp('2023-08-13 00:00:00'), Timestamp('2023-08-14 00:00:00'), Timestamp('2023-08-15 00:00:00'), Timestamp('2023-08-16 00:00:00'), Timestamp('2023-08-17 00:00:00'), Timestamp('2023-08-18 00:00:00'), Timestamp('2023-08-19 00:00:00'), Timestamp('2023-08-20 00:00:00'), Timestamp('2023-08-21 00:00:00'), Timestamp('2023-08-22 00:00:00'), Timestamp('2023-08-23 00:00:00'), Timestamp('2023-08-24 00:00:00'), Timestamp('2023-08-25 00:00:00'), Timestamp('2023-08-26 00:00:00'), Timestamp('2023-08-27 00:00:00'), Timestamp('2023-08-28 00:00:00'), Timestamp('2023-08-29 00:00:00'), Timestamp('2023-08-30 00:00:00'), Timestamp('2023-08-31 00:00:00'), Timestamp('2023-09-01 00:00:00'), Timestamp('2023-09-02 00:00:00'), Timestamp('2023-09-03 00:00:00'), Timestamp('2023-09-04 00:00:00'), Timestamp('2023-09-05 00:00:00'), Timestamp('2023-09-06 00:00:00'), Timestamp('2023-09-07 00:00:00'), Timestamp('2023-09-08 00:00:00'), Timestamp('2023-09-09 00:00:00'), Timestamp('2023-09-10 00:00:00'), Timestamp('2023-09-11 00:00:00'), Timestamp('2023-09-12 00:00:00'), Timestamp('2023-09-13 00:00:00'), Timestamp('2023-09-14 00:00:00'), Timestamp('2023-09-15 00:00:00'), Timestamp('2023-09-16 00:00:00'), Timestamp('2023-09-17 00:00:00'), Timestamp('2023-09-18 00:00:00'), Timestamp('2023-09-19 00:00:00'), Timestamp('2023-09-20 00:00:00'), Timestamp('2023-09-21 00:00:00'), Timestamp('2023-09-22 00:00:00'), Timestamp('2023-09-23 00:00:00'), Timestamp('2023-09-24 00:00:00'), Timestamp('2023-09-25 00:00:00'), Timestamp('2023-09-26 00:00:00'), Timestamp('2023-09-27 00:00:00'), Timestamp('2023-09-28 00:00:00'), Timestamp('2023-09-29 00:00:00'), Timestamp('2023-09-30 00:00:00'), Timestamp('2023-10-01 00:00:00'), Timestamp('2023-10-02 00:00:00'), Timestamp('2023-10-03 00:00:00'), Timestamp('2023-10-04 00:00:00'), Timestamp('2023-10-05 00:00:00'), Timestamp('2023-10-06 00:00:00'), Timestamp('2023-10-07 00:00:00'), Timestamp('2023-10-08 00:00:00'), Timestamp('2023-10-09 00:00:00'), Timestamp('2023-10-10 00:00:00'), Timestamp('2023-10-11 00:00:00'), Timestamp('2023-10-12 00:00:00'), Timestamp('2023-10-13 00:00:00'), Timestamp('2023-10-14 00:00:00'), Timestamp('2023-10-15 00:00:00'), Timestamp('2023-10-16 00:00:00'), Timestamp('2023-10-17 00:00:00'), Timestamp('2023-10-18 00:00:00'), Timestamp('2023-10-19 00:00:00'), Timestamp('2023-10-20 00:00:00'), Timestamp('2023-10-21 00:00:00'), Timestamp('2023-10-22 00:00:00'), Timestamp('2023-10-23 00:00:00'), Timestamp('2023-10-24 00:00:00'), Timestamp('2023-10-25 00:00:00'), Timestamp('2023-10-26 00:00:00'), Timestamp('2023-10-27 00:00:00'), Timestamp('2023-10-28 00:00:00'), Timestamp('2023-10-29 00:00:00'), Timestamp('2023-10-30 00:00:00'), Timestamp('2023-10-31 00:00:00'), Timestamp('2023-11-01 00:00:00'), Timestamp('2023-11-02 00:00:00'), Timestamp('2023-11-03 00:00:00'), Timestamp('2023-11-04 00:00:00'), Timestamp('2023-11-05 00:00:00'), Timestamp('2023-11-06 00:00:00'), Timestamp('2023-11-07 00:00:00'), Timestamp('2023-11-08 00:00:00'), Timestamp('2023-11-09 00:00:00'), Timestamp('2023-11-10 00:00:00'), Timestamp('2023-11-11 00:00:00'), Timestamp('2023-11-12 00:00:00'), Timestamp('2023-11-13 00:00:00'), Timestamp('2023-11-14 00:00:00'), Timestamp('2023-11-15 00:00:00'), Timestamp('2023-11-16 00:00:00'), Timestamp('2023-11-17 00:00:00'), Timestamp('2023-11-18 00:00:00'), Timestamp('2023-11-19 00:00:00'), Timestamp('2023-11-20 00:00:00'), Timestamp('2023-11-21 00:00:00'), Timestamp('2023-11-22 00:00:00'), Timestamp('2023-11-23 00:00:00'), Timestamp('2023-11-24 00:00:00'), Timestamp('2023-11-25 00:00:00'), Timestamp('2023-11-26 00:00:00'), Timestamp('2023-11-27 00:00:00'), Timestamp('2023-11-28 00:00:00'), Timestamp('2023-11-29 00:00:00'), Timestamp('2023-11-30 00:00:00'), Timestamp('2023-12-01 00:00:00'), Timestamp('2023-12-02 00:00:00'), Timestamp('2023-12-03 00:00:00'), Timestamp('2023-12-04 00:00:00'), Timestamp('2023-12-05 00:00:00'), Timestamp('2023-12-06 00:00:00'), Timestamp('2023-12-07 00:00:00'), Timestamp('2023-12-08 00:00:00'), Timestamp('2023-12-09 00:00:00'), Timestamp('2023-12-10 00:00:00'), Timestamp('2023-12-11 00:00:00'), Timestamp('2023-12-12 00:00:00'), Timestamp('2023-12-13 00:00:00'), Timestamp('2023-12-14 00:00:00'), Timestamp('2023-12-15 00:00:00'), Timestamp('2023-12-16 00:00:00'), Timestamp('2023-12-17 00:00:00'), Timestamp('2023-12-18 00:00:00'), Timestamp('2023-12-19 00:00:00'), Timestamp('2023-12-20 00:00:00'), Timestamp('2023-12-21 00:00:00'), Timestamp('2023-12-22 00:00:00'), Timestamp('2023-12-23 00:00:00'), Timestamp('2023-12-24 00:00:00'), Timestamp('2023-12-25 00:00:00'), Timestamp('2023-12-26 00:00:00'), Timestamp('2023-12-27 00:00:00'), Timestamp('2023-12-28 00:00:00'), Timestamp('2023-12-29 00:00:00'), Timestamp('2023-12-30 00:00:00'), Timestamp('2023-12-31 00:00:00'), Timestamp('2023-01-01 00:00:00'), Timestamp('2023-01-02 00:00:00'), Timestamp('2023-01-03 00:00:00'), Timestamp('2023-01-04 00:00:00'), Timestamp('2023-01-05 00:00:00'), Timestamp('2023-01-06 00:00:00'), Timestamp('2023-01-07 00:00:00'), Timestamp('2023-01-08 00:00:00'), Timestamp('2023-01-09 00:00:00'), Timestamp('2023-01-10 00:00:00'), Timestamp('2023-01-11 00:00:00'), Timestamp('2023-01-12 00:00:00'), Timestamp('2023-01-13 00:00:00'), Timestamp('2023-01-14 00:00:00'), Timestamp('2023-01-15 00:00:00'), Timestamp('2023-01-16 00:00:00'), Timestamp('2023-01-17 00:00:00'), Timestamp('2023-01-18 00:00:00'), Timestamp('2023-01-19 00:00:00'), Timestamp('2023-01-20 00:00:00'), Timestamp('2023-01-21 00:00:00'), Timestamp('2023-01-22 00:00:00'), Timestamp('2023-01-23 00:00:00'), Timestamp('2023-01-24 00:00:00'), Timestamp('2023-01-25 00:00:00'), Timestamp('2023-01-26 00:00:00'), Timestamp('2023-01-27 00:00:00'), Timestamp('2023-01-28 00:00:00'), Timestamp('2023-01-29 00:00:00'), Timestamp('2023-01-30 00:00:00'), Timestamp('2023-01-31 00:00:00'), Timestamp('2023-02-01 00:00:00'), Timestamp('2023-02-02 00:00:00'), Timestamp('2023-02-03 00:00:00'), Timestamp('2023-02-04 00:00:00'), Timestamp('2023-02-05 00:00:00'), Timestamp('2023-02-06 00:00:00'), Timestamp('2023-02-07 00:00:00'), Timestamp('2023-02-08 00:00:00'), Timestamp('2023-02-09 00:00:00'), Timestamp('2023-02-10 00:00:00'), Timestamp('2023-02-11 00:00:00'), Timestamp('2023-02-12 00:00:00'), Timestamp('2023-02-13 00:00:00'), Timestamp('2023-02-14 00:00:00'), Timestamp('2023-02-15 00:00:00'), Timestamp('2023-02-16 00:00:00'), Timestamp('2023-02-17 00:00:00'), Timestamp('2023-02-18 00:00:00'), Timestamp('2023-02-19 00:00:00'), Timestamp('2023-02-20 00:00:00'), Timestamp('2023-02-21 00:00:00'), Timestamp('2023-02-22 00:00:00'), Timestamp('2023-02-23 00:00:00'), Timestamp('2023-02-24 00:00:00'), Timestamp('2023-02-25 00:00:00'), Timestamp('2023-02-26 00:00:00'), Timestamp('2023-02-27 00:00:00'), Timestamp('2023-02-28 00:00:00'), Timestamp('2023-03-01 00:00:00'), Timestamp('2023-03-02 00:00:00'), Timestamp('2023-03-03 00:00:00'), Timestamp('2023-03-04 00:00:00'), Timestamp('2023-03-05 00:00:00'), Timestamp('2023-03-06 00:00:00'), Timestamp('2023-03-07 00:00:00'), Timestamp('2023-03-08 00:00:00'), Timestamp('2023-03-09 00:00:00'), Timestamp('2023-03-10 00:00:00'), Timestamp('2023-03-11 00:00:00'), Timestamp('2023-03-12 00:00:00'), Timestamp('2023-03-13 00:00:00'), Timestamp('2023-03-14 00:00:00'), Timestamp('2023-03-15 00:00:00'), Timestamp('2023-03-16 00:00:00'), Timestamp('2023-03-17 00:00:00'), Timestamp('2023-03-18 00:00:00'), Timestamp('2023-03-19 00:00:00'), Timestamp('2023-03-20 00:00:00'), Timestamp('2023-03-21 00:00:00'), Timestamp('2023-03-22 00:00:00'), Timestamp('2023-03-23 00:00:00'), Timestamp('2023-03-24 00:00:00'), Timestamp('2023-03-25 00:00:00'), Timestamp('2023-03-26 00:00:00'), Timestamp('2023-03-27 00:00:00'), Timestamp('2023-03-28 00:00:00'), Timestamp('2023-03-29 00:00:00'), Timestamp('2023-03-30 00:00:00'), Timestamp('2023-03-31 00:00:00'), Timestamp('2023-04-01 00:00:00'), Timestamp('2023-04-02 00:00:00'), Timestamp('2023-04-03 00:00:00'), Timestamp('2023-04-04 00:00:00'), Timestamp('2023-04-05 00:00:00'), Timestamp('2023-04-06 00:00:00'), Timestamp('2023-04-07 00:00:00'), Timestamp('2023-04-08 00:00:00'), Timestamp('2023-04-09 00:00:00'), Timestamp('2023-04-10 00:00:00'), Timestamp('2023-04-11 00:00:00'), Timestamp('2023-04-12 00:00:00'), Timestamp('2023-04-13 00:00:00'), Timestamp('2023-04-14 00:00:00'), Timestamp('2023-04-15 00:00:00'), Timestamp('2023-04-16 00:00:00'), Timestamp('2023-04-17 00:00:00'), Timestamp('2023-04-18 00:00:00'), Timestamp('2023-04-19 00:00:00'), Timestamp('2023-04-20 00:00:00'), Timestamp('2023-04-21 00:00:00'), Timestamp('2023-04-22 00:00:00'), Timestamp('2023-04-23 00:00:00'), Timestamp('2023-04-24 00:00:00'), Timestamp('2023-04-25 00:00:00'), Timestamp('2023-04-26 00:00:00'), Timestamp('2023-04-27 00:00:00'), Timestamp('2023-04-28 00:00:00'), Timestamp('2023-04-29 00:00:00'), Timestamp('2023-04-30 00:00:00'), Timestamp('2023-05-01 00:00:00'), Timestamp('2023-05-02 00:00:00'), Timestamp('2023-05-03 00:00:00'), Timestamp('2023-05-04 00:00:00'), Timestamp('2023-05-05 00:00:00'), Timestamp('2023-05-06 00:00:00'), Timestamp('2023-05-07 00:00:00'), Timestamp('2023-05-08 00:00:00'), Timestamp('2023-05-09 00:00:00'), Timestamp('2023-05-10 00:00:00'), Timestamp('2023-05-11 00:00:00'), Timestamp('2023-05-12 00:00:00'), Timestamp('2023-05-13 00:00:00'), Timestamp('2023-05-14 00:00:00'), Timestamp('2023-05-15 00:00:00'), Timestamp('2023-05-16 00:00:00'), Timestamp('2023-05-17 00:00:00'), Timestamp('2023-05-18 00:00:00'), Timestamp('2023-05-19 00:00:00'), Timestamp('2023-05-20 00:00:00'), Timestamp('2023-05-21 00:00:00'), Timestamp('2023-05-22 00:00:00'), Timestamp('2023-05-23 00:00:00'), Timestamp('2023-05-24 00:00:00'), Timestamp('2023-05-25 00:00:00'), Timestamp('2023-05-26 00:00:00'), Timestamp('2023-05-27 00:00:00'), Timestamp('2023-05-28 00:00:00'), Timestamp('2023-05-29 00:00:00'), Timestamp('2023-05-30 00:00:00'), Timestamp('2023-05-31 00:00:00'), Timestamp('2023-06-01 00:00:00'), Timestamp('2023-06-02 00:00:00'), Timestamp('2023-06-03 00:00:00'), Timestamp('2023-06-04 00:00:00'), Timestamp('2023-06-05 00:00:00'), Timestamp('2023-06-06 00:00:00'), Timestamp('2023-06-07 00:00:00'), Timestamp('2023-06-08 00:00:00'), Timestamp('2023-06-09 00:00:00'), Timestamp('2023-06-10 00:00:00'), Timestamp('2023-06-11 00:00:00'), Timestamp('2023-06-12 00:00:00'), Timestamp('2023-06-13 00:00:00'), Timestamp('2023-06-14 00:00:00'), Timestamp('2023-06-15 00:00:00'), Timestamp('2023-06-16 00:00:00'), Timestamp('2023-06-17 00:00:00'), Timestamp('2023-06-18 00:00:00'), Timestamp('2023-06-19 00:00:00'), Timestamp('2023-06-20 00:00:00'), Timestamp('2023-06-21 00:00:00'), Timestamp('2023-06-22 00:00:00'), Timestamp('2023-06-23 00:00:00'), Timestamp('2023-06-24 00:00:00'), Timestamp('2023-06-25 00:00:00'), Timestamp('2023-06-26 00:00:00'), Timestamp('2023-06-27 00:00:00'), Timestamp('2023-06-28 00:00:00'), Timestamp('2023-06-29 00:00:00'), Timestamp('2023-06-30 00:00:00'), Timestamp('2023-07-01 00:00:00'), Timestamp('2023-07-02 00:00:00'), Timestamp('2023-07-03 00:00:00'), Timestamp('2023-07-04 00:00:00'), Timestamp('2023-07-05 00:00:00'), Timestamp('2023-07-06 00:00:00'), Timestamp('2023-07-07 00:00:00'), Timestamp('2023-07-08 00:00:00'), Timestamp('2023-07-09 00:00:00'), Timestamp('2023-07-10 00:00:00'), Timestamp('2023-07-11 00:00:00'), Timestamp('2023-07-12 00:00:00'), Timestamp('2023-07-13 00:00:00'), Timestamp('2023-07-14 00:00:00'), Timestamp('2023-07-15 00:00:00'), Timestamp('2023-07-16 00:00:00'), Timestamp('2023-07-17 00:00:00'), Timestamp('2023-07-18 00:00:00'), Timestamp('2023-07-19 00:00:00'), Timestamp('2023-07-20 00:00:00'), Timestamp('2023-07-21 00:00:00'), Timestamp('2023-07-22 00:00:00'), Timestamp('2023-07-23 00:00:00'), Timestamp('2023-07-24 00:00:00'), Timestamp('2023-07-25 00:00:00'), Timestamp('2023-07-26 00:00:00'), Timestamp('2023-07-27 00:00:00'), Timestamp('2023-07-28 00:00:00'), Timestamp('2023-07-29 00:00:00'), Timestamp('2023-07-30 00:00:00'), Timestamp('2023-07-31 00:00:00'), Timestamp('2023-08-01 00:00:00'), Timestamp('2023-08-02 00:00:00'), Timestamp('2023-08-03 00:00:00'), Timestamp('2023-08-04 00:00:00'), Timestamp('2023-08-05 00:00:00'), Timestamp('2023-08-06 00:00:00'), Timestamp('2023-08-07 00:00:00'), Timestamp('2023-08-08 00:00:00'), Timestamp('2023-08-09 00:00:00'), Timestamp('2023-08-10 00:00:00'), Timestamp('2023-08-11 00:00:00'), Timestamp('2023-08-12 00:00:00'), Timestamp('2023-08-13 00:00:00'), Timestamp('2023-08-14 00:00:00'), Timestamp('2023-08-15 00:00:00'), Timestamp('2023-08-16 00:00:00'), Timestamp('2023-08-17 00:00:00'), Timestamp('2023-08-18 00:00:00'), Timestamp('2023-08-19 00:00:00'), Timestamp('2023-08-20 00:00:00'), Timestamp('2023-08-21 00:00:00'), Timestamp('2023-08-22 00:00:00'), Timestamp('2023-08-23 00:00:00'), Timestamp('2023-08-24 00:00:00'), Timestamp('2023-08-25 00:00:00'), Timestamp('2023-08-26 00:00:00'), Timestamp('2023-08-27 00:00:00'), Timestamp('2023-08-28 00:00:00'), Timestamp('2023-08-29 00:00:00'), Timestamp('2023-08-30 00:00:00'), Timestamp('2023-08-31 00:00:00'), Timestamp('2023-09-01 00:00:00'), Timestamp('2023-09-02 00:00:00'), Timestamp('2023-09-03 00:00:00'), Timestamp('2023-09-04 00:00:00'), Timestamp('2023-09-05 00:00:00'), Timestamp('2023-09-06 00:00:00'), Timestamp('2023-09-07 00:00:00'), Timestamp('2023-09-08 00:00:00'), Timestamp('2023-09-09 00:00:00'), Timestamp('2023-09-10 00:00:00'), Timestamp('2023-09-11 00:00:00'), Timestamp('2023-09-12 00:00:00'), Timestamp('2023-09-13 00:00:00'), Timestamp('2023-09-14 00:00:00'), Timestamp('2023-09-15 00:00:00'), Timestamp('2023-09-16 00:00:00'), Timestamp('2023-09-17 00:00:00'), Timestamp('2023-09-18 00:00:00'), Timestamp('2023-09-19 00:00:00'), Timestamp('2023-09-20 00:00:00'), Timestamp('2023-09-21 00:00:00'), Timestamp('2023-09-22 00:00:00'), Timestamp('2023-09-23 00:00:00'), Timestamp('2023-09-24 00:00:00'), Timestamp('2023-09-25 00:00:00'), Timestamp('2023-09-26 00:00:00'), Timestamp('2023-09-27 00:00:00'), Timestamp('2023-09-28 00:00:00'), Timestamp('2023-09-29 00:00:00'), Timestamp('2023-09-30 00:00:00'), Timestamp('2023-10-01 00:00:00'), Timestamp('2023-10-02 00:00:00'), Timestamp('2023-10-03 00:00:00'), Timestamp('2023-10-04 00:00:00'), Timestamp('2023-10-05 00:00:00'), Timestamp('2023-10-06 00:00:00'), Timestamp('2023-10-07 00:00:00'), Timestamp('2023-10-08 00:00:00'), Timestamp('2023-10-09 00:00:00'), Timestamp('2023-10-10 00:00:00'), Timestamp('2023-10-11 00:00:00'), Timestamp('2023-10-12 00:00:00'), Timestamp('2023-10-13 00:00:00'), Timestamp('2023-10-14 00:00:00'), Timestamp('2023-10-15 00:00:00'), Timestamp('2023-10-16 00:00:00'), Timestamp('2023-10-17 00:00:00'), Timestamp('2023-10-18 00:00:00'), Timestamp('2023-10-19 00:00:00'), Timestamp('2023-10-20 00:00:00'), Timestamp('2023-10-21 00:00:00'), Timestamp('2023-10-22 00:00:00'), Timestamp('2023-10-23 00:00:00'), Timestamp('2023-10-24 00:00:00'), Timestamp('2023-10-25 00:00:00'), Timestamp('2023-10-26 00:00:00'), Timestamp('2023-10-27 00:00:00'), Timestamp('2023-10-28 00:00:00'), Timestamp('2023-10-29 00:00:00'), Timestamp('2023-10-30 00:00:00'), Timestamp('2023-10-31 00:00:00'), Timestamp('2023-11-01 00:00:00'), Timestamp('2023-11-02 00:00:00'), Timestamp('2023-11-03 00:00:00'), Timestamp('2023-11-04 00:00:00'), Timestamp('2023-11-05 00:00:00'), Timestamp('2023-11-06 00:00:00'), Timestamp('2023-11-07 00:00:00'), Timestamp('2023-11-08 00:00:00'), Timestamp('2023-11-09 00:00:00'), Timestamp('2023-11-10 00:00:00'), Timestamp('2023-11-11 00:00:00'), Timestamp('2023-11-12 00:00:00'), Timestamp('2023-11-13 00:00:00'), Timestamp('2023-11-14 00:00:00'), Timestamp('2023-11-15 00:00:00'), Timestamp('2023-11-16 00:00:00'), Timestamp('2023-11-17 00:00:00'), Timestamp('2023-11-18 00:00:00'), Timestamp('2023-11-19 00:00:00'), Timestamp('2023-11-20 00:00:00'), Timestamp('2023-11-21 00:00:00'), Timestamp('2023-11-22 00:00:00'), Timestamp('2023-11-23 00:00:00'), Timestamp('2023-11-24 00:00:00'), Timestamp('2023-11-25 00:00:00'), Timestamp('2023-11-26 00:00:00'), Timestamp('2023-11-27 00:00:00'), Timestamp('2023-11-28 00:00:00'), Timestamp('2023-11-29 00:00:00'), Timestamp('2023-11-30 00:00:00'), Timestamp('2023-12-01 00:00:00'), Timestamp('2023-12-02 00:00:00'), Timestamp('2023-12-03 00:00:00'), Timestamp('2023-12-04 00:00:00'), Timestamp('2023-12-05 00:00:00'), Timestamp('2023-12-06 00:00:00'), Timestamp('2023-12-07 00:00:00'), Timestamp('2023-12-08 00:00:00'), Timestamp('2023-12-09 00:00:00'), Timestamp('2023-12-10 00:00:00'), Timestamp('2023-12-11 00:00:00'), Timestamp('2023-12-12 00:00:00'), Timestamp('2023-12-13 00:00:00'), Timestamp('2023-12-14 00:00:00'), Timestamp('2023-12-15 00:00:00'), Timestamp('2023-12-16 00:00:00'), Timestamp('2023-12-17 00:00:00'), Timestamp('2023-12-18 00:00:00'), Timestamp('2023-12-19 00:00:00'), Timestamp('2023-12-20 00:00:00'), Timestamp('2023-12-21 00:00:00'), Timestamp('2023-12-22 00:00:00'), Timestamp('2023-12-23 00:00:00'), Timestamp('2023-12-24 00:00:00'), Timestamp('2023-12-25 00:00:00'), Timestamp('2023-12-26 00:00:00'), Timestamp('2023-12-27 00:00:00'), Timestamp('2023-12-28 00:00:00'), Timestamp('2023-12-29 00:00:00'), Timestamp('2023-12-30 00:00:00'), Timestamp('2023-12-31 00:00:00'), Timestamp('2023-01-01 00:00:00'), Timestamp('2023-01-02 00:00:00'), Timestamp('2023-01-03 00:00:00'), Timestamp('2023-01-04 00:00:00'), Timestamp('2023-01-05 00:00:00'), Timestamp('2023-01-06 00:00:00'), Timestamp('2023-01-07 00:00:00'), Timestamp('2023-01-08 00:00:00'), Timestamp('2023-01-09 00:00:00'), Timestamp('2023-01-10 00:00:00'), Timestamp('2023-01-11 00:00:00'), Timestamp('2023-01-12 00:00:00'), Timestamp('2023-01-13 00:00:00'), Timestamp('2023-01-14 00:00:00'), Timestamp('2023-01-15 00:00:00'), Timestamp('2023-01-16 00:00:00'), Timestamp('2023-01-17 00:00:00'), Timestamp('2023-01-18 00:00:00'), Timestamp('2023-01-19 00:00:00'), Timestamp('2023-01-20 00:00:00'), Timestamp('2023-01-21 00:00:00'), Timestamp('2023-01-22 00:00:00'), Timestamp('2023-01-23 00:00:00'), Timestamp('2023-01-24 00:00:00'), Timestamp('2023-01-25 00:00:00'), Timestamp('2023-01-26 00:00:00'), Timestamp('2023-01-27 00:00:00'), Timestamp('2023-01-28 00:00:00'), Timestamp('2023-01-29 00:00:00'), Timestamp('2023-01-30 00:00:00'), Timestamp('2023-01-31 00:00:00'), Timestamp('2023-02-01 00:00:00'), Timestamp('2023-02-02 00:00:00'), Timestamp('2023-02-03 00:00:00'), Timestamp('2023-02-04 00:00:00'), Timestamp('2023-02-05 00:00:00'), Timestamp('2023-02-06 00:00:00'), Timestamp('2023-02-07 00:00:00'), Timestamp('2023-02-08 00:00:00'), Timestamp('2023-02-09 00:00:00'), Timestamp('2023-02-10 00:00:00'), Timestamp('2023-02-11 00:00:00'), Timestamp('2023-02-12 00:00:00'), Timestamp('2023-02-13 00:00:00'), Timestamp('2023-02-14 00:00:00'), Timestamp('2023-02-15 00:00:00'), Timestamp('2023-02-16 00:00:00'), Timestamp('2023-02-17 00:00:00'), Timestamp('2023-02-18 00:00:00'), Timestamp('2023-02-19 00:00:00'), Timestamp('2023-02-20 00:00:00'), Timestamp('2023-02-21 00:00:00'), Timestamp('2023-02-22 00:00:00'), Timestamp('2023-02-23 00:00:00'), Timestamp('2023-02-24 00:00:00'), Timestamp('2023-02-25 00:00:00'), Timestamp('2023-02-26 00:00:00'), Timestamp('2023-02-27 00:00:00'), Timestamp('2023-02-28 00:00:00'), Timestamp('2023-03-01 00:00:00'), Timestamp('2023-03-02 00:00:00'), Timestamp('2023-03-03 00:00:00'), Timestamp('2023-03-04 00:00:00'), Timestamp('2023-03-05 00:00:00'), Timestamp('2023-03-06 00:00:00'), Timestamp('2023-03-07 00:00:00'), Timestamp('2023-03-08 00:00:00'), Timestamp('2023-03-09 00:00:00'), Timestamp('2023-03-10 00:00:00'), Timestamp('2023-03-11 00:00:00'), Timestamp('2023-03-12 00:00:00'), Timestamp('2023-03-13 00:00:00'), Timestamp('2023-03-14 00:00:00'), Timestamp('2023-03-15 00:00:00'), Timestamp('2023-03-16 00:00:00'), Timestamp('2023-03-17 00:00:00'), Timestamp('2023-03-18 00:00:00'), Timestamp('2023-03-19 00:00:00'), Timestamp('2023-03-20 00:00:00'), Timestamp('2023-03-21 00:00:00'), Timestamp('2023-03-22 00:00:00'), Timestamp('2023-03-23 00:00:00'), Timestamp('2023-03-24 00:00:00'), Timestamp('2023-03-25 00:00:00'), Timestamp('2023-03-26 00:00:00'), Timestamp('2023-03-27 00:00:00'), Timestamp('2023-03-28 00:00:00'), Timestamp('2023-03-29 00:00:00'), Timestamp('2023-03-30 00:00:00'), Timestamp('2023-03-31 00:00:00'), Timestamp('2023-04-01 00:00:00'), Timestamp('2023-04-02 00:00:00'), Timestamp('2023-04-03 00:00:00'), Timestamp('2023-04-04 00:00:00'), Timestamp('2023-04-05 00:00:00'), Timestamp('2023-04-06 00:00:00'), Timestamp('2023-04-07 00:00:00'), Timestamp('2023-04-08 00:00:00'), Timestamp('2023-04-09 00:00:00'), Timestamp('2023-04-10 00:00:00'), Timestamp('2023-04-11 00:00:00'), Timestamp('2023-04-12 00:00:00'), Timestamp('2023-04-13 00:00:00'), Timestamp('2023-04-14 00:00:00'), Timestamp('2023-04-15 00:00:00'), Timestamp('2023-04-16 00:00:00'), Timestamp('2023-04-17 00:00:00'), Timestamp('2023-04-18 00:00:00'), Timestamp('2023-04-19 00:00:00'), Timestamp('2023-04-20 00:00:00'), Timestamp('2023-04-21 00:00:00'), Timestamp('2023-04-22 00:00:00'), Timestamp('2023-04-23 00:00:00'), Timestamp('2023-04-24 00:00:00'), Timestamp('2023-04-25 00:00:00'), Timestamp('2023-04-26 00:00:00'), Timestamp('2023-04-27 00:00:00'), Timestamp('2023-04-28 00:00:00'), Timestamp('2023-04-29 00:00:00'), Timestamp('2023-04-30 00:00:00'), Timestamp('2023-05-01 00:00:00'), Timestamp('2023-05-02 00:00:00'), Timestamp('2023-05-03 00:00:00'), Timestamp('2023-05-04 00:00:00'), Timestamp('2023-05-05 00:00:00'), Timestamp('2023-05-06 00:00:00'), Timestamp('2023-05-07 00:00:00'), Timestamp('2023-05-08 00:00:00'), Timestamp('2023-05-09 00:00:00'), Timestamp('2023-05-10 00:00:00'), Timestamp('2023-05-11 00:00:00'), Timestamp('2023-05-12 00:00:00'), Timestamp('2023-05-13 00:00:00'), Timestamp('2023-05-14 00:00:00'), Timestamp('2023-05-15 00:00:00'), Timestamp('2023-05-16 00:00:00'), Timestamp('2023-05-17 00:00:00'), Timestamp('2023-05-18 00:00:00'), Timestamp('2023-05-19 00:00:00'), Timestamp('2023-05-20 00:00:00'), Timestamp('2023-05-21 00:00:00'), Timestamp('2023-05-22 00:00:00'), Timestamp('2023-05-23 00:00:00'), Timestamp('2023-05-24 00:00:00'), Timestamp('2023-05-25 00:00:00'), Timestamp('2023-05-26 00:00:00'), Timestamp('2023-05-27 00:00:00'), Timestamp('2023-05-28 00:00:00'), Timestamp('2023-05-29 00:00:00'), Timestamp('2023-05-30 00:00:00'), Timestamp('2023-05-31 00:00:00'), Timestamp('2023-06-01 00:00:00'), Timestamp('2023-06-02 00:00:00'), Timestamp('2023-06-03 00:00:00'), Timestamp('2023-06-04 00:00:00'), Timestamp('2023-06-05 00:00:00'), Timestamp('2023-06-06 00:00:00'), Timestamp('2023-06-07 00:00:00'), Timestamp('2023-06-08 00:00:00'), Timestamp('2023-06-09 00:00:00'), Timestamp('2023-06-10 00:00:00'), Timestamp('2023-06-11 00:00:00'), Timestamp('2023-06-12 00:00:00'), Timestamp('2023-06-13 00:00:00'), Timestamp('2023-06-14 00:00:00'), Timestamp('2023-06-15 00:00:00'), Timestamp('2023-06-16 00:00:00'), Timestamp('2023-06-17 00:00:00'), Timestamp('2023-06-18 00:00:00'), Timestamp('2023-06-19 00:00:00'), Timestamp('2023-06-20 00:00:00'), Timestamp('2023-06-21 00:00:00'), Timestamp('2023-06-22 00:00:00'), Timestamp('2023-06-23 00:00:00'), Timestamp('2023-06-24 00:00:00'), Timestamp('2023-06-25 00:00:00'), Timestamp('2023-06-26 00:00:00'), Timestamp('2023-06-27 00:00:00'), Timestamp('2023-06-28 00:00:00'), Timestamp('2023-06-29 00:00:00'), Timestamp('2023-06-30 00:00:00'), Timestamp('2023-07-01 00:00:00'), Timestamp('2023-07-02 00:00:00'), Timestamp('2023-07-03 00:00:00'), Timestamp('2023-07-04 00:00:00'), Timestamp('2023-07-05 00:00:00'), Timestamp('2023-07-06 00:00:00'), Timestamp('2023-07-07 00:00:00'), Timestamp('2023-07-08 00:00:00'), Timestamp('2023-07-09 00:00:00'), Timestamp('2023-07-10 00:00:00'), Timestamp('2023-07-11 00:00:00'), Timestamp('2023-07-12 00:00:00'), Timestamp('2023-07-13 00:00:00'), Timestamp('2023-07-14 00:00:00'), Timestamp('2023-07-15 00:00:00'), Timestamp('2023-07-16 00:00:00'), Timestamp('2023-07-17 00:00:00'), Timestamp('2023-07-18 00:00:00'), Timestamp('2023-07-19 00:00:00'), Timestamp('2023-07-20 00:00:00'), Timestamp('2023-07-21 00:00:00'), Timestamp('2023-07-22 00:00:00'), Timestamp('2023-07-23 00:00:00'), Timestamp('2023-07-24 00:00:00'), Timestamp('2023-07-25 00:00:00'), Timestamp('2023-07-26 00:00:00'), Timestamp('2023-07-27 00:00:00'), Timestamp('2023-07-28 00:00:00'), Timestamp('2023-07-29 00:00:00'), Timestamp('2023-07-30 00:00:00'), Timestamp('2023-07-31 00:00:00'), Timestamp('2023-08-01 00:00:00'), Timestamp('2023-08-02 00:00:00'), Timestamp('2023-08-03 00:00:00'), Timestamp('2023-08-04 00:00:00'), Timestamp('2023-08-05 00:00:00'), Timestamp('2023-08-06 00:00:00'), Timestamp('2023-08-07 00:00:00'), Timestamp('2023-08-08 00:00:00'), Timestamp('2023-08-09 00:00:00'), Timestamp('2023-08-10 00:00:00'), Timestamp('2023-08-11 00:00:00'), Timestamp('2023-08-12 00:00:00'), Timestamp('2023-08-13 00:00:00'), Timestamp('2023-08-14 00:00:00'), Timestamp('2023-08-15 00:00:00'), Timestamp('2023-08-16 00:00:00'), Timestamp('2023-08-17 00:00:00'), Timestamp('2023-08-18 00:00:00'), Timestamp('2023-08-19 00:00:00'), Timestamp('2023-08-20 00:00:00'), Timestamp('2023-08-21 00:00:00'), Timestamp('2023-08-22 00:00:00'), Timestamp('2023-08-23 00:00:00'), Timestamp('2023-08-24 00:00:00'), Timestamp('2023-08-25 00:00:00'), Timestamp('2023-08-26 00:00:00'), Timestamp('2023-08-27 00:00:00'), Timestamp('2023-08-28 00:00:00'), Timestamp('2023-08-29 00:00:00'), Timestamp('2023-08-30 00:00:00'), Timestamp('2023-08-31 00:00:00'), Timestamp('2023-09-01 00:00:00'), Timestamp('2023-09-02 00:00:00'), Timestamp('2023-09-03 00:00:00'), Timestamp('2023-09-04 00:00:00'), Timestamp('2023-09-05 00:00:00'), Timestamp('2023-09-06 00:00:00'), Timestamp('2023-09-07 00:00:00'), Timestamp('2023-09-08 00:00:00'), Timestamp('2023-09-09 00:00:00'), Timestamp('2023-09-10 00:00:00'), Timestamp('2023-09-11 00:00:00'), Timestamp('2023-09-12 00:00:00'), Timestamp('2023-09-13 00:00:00'), Timestamp('2023-09-14 00:00:00'), Timestamp('2023-09-15 00:00:00'), Timestamp('2023-09-16 00:00:00'), Timestamp('2023-09-17 00:00:00'), Timestamp('2023-09-18 00:00:00'), Timestamp('2023-09-19 00:00:00'), Timestamp('2023-09-20 00:00:00'), Timestamp('2023-09-21 00:00:00'), Timestamp('2023-09-22 00:00:00'), Timestamp('2023-09-23 00:00:00'), Timestamp('2023-09-24 00:00:00'), Timestamp('2023-09-25 00:00:00'), Timestamp('2023-09-26 00:00:00'), Timestamp('2023-09-27 00:00:00'), Timestamp('2023-09-28 00:00:00'), Timestamp('2023-09-29 00:00:00'), Timestamp('2023-09-30 00:00:00'), Timestamp('2023-10-01 00:00:00'), Timestamp('2023-10-02 00:00:00'), Timestamp('2023-10-03 00:00:00'), Timestamp('2023-10-04 00:00:00'), Timestamp('2023-10-05 00:00:00'), Timestamp('2023-10-06 00:00:00'), Timestamp('2023-10-07 00:00:00'), Timestamp('2023-10-08 00:00:00'), Timestamp('2023-10-09 00:00:00'), Timestamp('2023-10-10 00:00:00'), Timestamp('2023-10-11 00:00:00'), Timestamp('2023-10-12 00:00:00'), Timestamp('2023-10-13 00:00:00'), Timestamp('2023-10-14 00:00:00'), Timestamp('2023-10-15 00:00:00'), Timestamp('2023-10-16 00:00:00'), Timestamp('2023-10-17 00:00:00'), Timestamp('2023-10-18 00:00:00'), Timestamp('2023-10-19 00:00:00'), Timestamp('2023-10-20 00:00:00'), Timestamp('2023-10-21 00:00:00'), Timestamp('2023-10-22 00:00:00'), Timestamp('2023-10-23 00:00:00'), Timestamp('2023-10-24 00:00:00'), Timestamp('2023-10-25 00:00:00'), Timestamp('2023-10-26 00:00:00'), Timestamp('2023-10-27 00:00:00'), Timestamp('2023-10-28 00:00:00'), Timestamp('2023-10-29 00:00:00'), Timestamp('2023-10-30 00:00:00'), Timestamp('2023-10-31 00:00:00'), Timestamp('2023-11-01 00:00:00'), Timestamp('2023-11-02 00:00:00'), Timestamp('2023-11-03 00:00:00'), Timestamp('2023-11-04 00:00:00'), Timestamp('2023-11-05 00:00:00'), Timestamp('2023-11-06 00:00:00'), Timestamp('2023-11-07 00:00:00'), Timestamp('2023-11-08 00:00:00'), Timestamp('2023-11-09 00:00:00'), Timestamp('2023-11-10 00:00:00'), Timestamp('2023-11-11 00:00:00'), Timestamp('2023-11-12 00:00:00'), Timestamp('2023-11-13 00:00:00'), Timestamp('2023-11-14 00:00:00'), Timestamp('2023-11-15 00:00:00'), Timestamp('2023-11-16 00:00:00'), Timestamp('2023-11-17 00:00:00'), Timestamp('2023-11-18 00:00:00'), Timestamp('2023-11-19 00:00:00'), Timestamp('2023-11-20 00:00:00'), Timestamp('2023-11-21 00:00:00'), Timestamp('2023-11-22 00:00:00'), Timestamp('2023-11-23 00:00:00'), Timestamp('2023-11-24 00:00:00'), Timestamp('2023-11-25 00:00:00'), Timestamp('2023-11-26 00:00:00'), Timestamp('2023-11-27 00:00:00'), Timestamp('2023-11-28 00:00:00'), Timestamp('2023-11-29 00:00:00'), Timestamp('2023-11-30 00:00:00'), Timestamp('2023-12-01 00:00:00'), Timestamp('2023-12-02 00:00:00'), Timestamp('2023-12-03 00:00:00'), Timestamp('2023-12-04 00:00:00'), Timestamp('2023-12-05 00:00:00'), Timestamp('2023-12-06 00:00:00'), Timestamp('2023-12-07 00:00:00'), Timestamp('2023-12-08 00:00:00'), Timestamp('2023-12-09 00:00:00'), Timestamp('2023-12-10 00:00:00'), Timestamp('2023-12-11 00:00:00'), Timestamp('2023-12-12 00:00:00'), Timestamp('2023-12-13 00:00:00'), Timestamp('2023-12-14 00:00:00'), Timestamp('2023-12-15 00:00:00'), Timestamp('2023-12-16 00:00:00'), Timestamp('2023-12-17 00:00:00'), Timestamp('2023-12-18 00:00:00'), Timestamp('2023-12-19 00:00:00'), Timestamp('2023-12-20 00:00:00'), Timestamp('2023-12-21 00:00:00'), Timestamp('2023-12-22 00:00:00'), Timestamp('2023-12-23 00:00:00'), Timestamp('2023-12-24 00:00:00'), Timestamp('2023-12-25 00:00:00'), Timestamp('2023-12-26 00:00:00'), Timestamp('2023-12-27 00:00:00'), Timestamp('2023-12-28 00:00:00'), Timestamp('2023-12-29 00:00:00'), Timestamp('2023-12-30 00:00:00'), Timestamp('2023-12-31 00:00:00'), Timestamp('2023-01-01 00:00:00'), Timestamp('2023-01-02 00:00:00'), Timestamp('2023-01-03 00:00:00'), Timestamp('2023-01-04 00:00:00'), Timestamp('2023-01-05 00:00:00'), Timestamp('2023-01-06 00:00:00'), Timestamp('2023-01-07 00:00:00'), Timestamp('2023-01-08 00:00:00'), Timestamp('2023-01-09 00:00:00'), Timestamp('2023-01-10 00:00:00'), Timestamp('2023-01-11 00:00:00'), Timestamp('2023-01-12 00:00:00'), Timestamp('2023-01-13 00:00:00'), Timestamp('2023-01-14 00:00:00'), Timestamp('2023-01-15 00:00:00'), Timestamp('2023-01-16 00:00:00'), Timestamp('2023-01-17 00:00:00'), Timestamp('2023-01-18 00:00:00'), Timestamp('2023-01-19 00:00:00'), Timestamp('2023-01-20 00:00:00'), Timestamp('2023-01-21 00:00:00'), Timestamp('2023-01-22 00:00:00'), Timestamp('2023-01-23 00:00:00'), Timestamp('2023-01-24 00:00:00'), Timestamp('2023-01-25 00:00:00'), Timestamp('2023-01-26 00:00:00'), Timestamp('2023-01-27 00:00:00'), Timestamp('2023-01-28 00:00:00'), Timestamp('2023-01-29 00:00:00'), Timestamp('2023-01-30 00:00:00'), Timestamp('2023-01-31 00:00:00'), Timestamp('2023-02-01 00:00:00'), Timestamp('2023-02-02 00:00:00'), Timestamp('2023-02-03 00:00:00'), Timestamp('2023-02-04 00:00:00'), Timestamp('2023-02-05 00:00:00'), Timestamp('2023-02-06 00:00:00'), Timestamp('2023-02-07 00:00:00'), Timestamp('2023-02-08 00:00:00'), Timestamp('2023-02-09 00:00:00'), Timestamp('2023-02-10 00:00:00'), Timestamp('2023-02-11 00:00:00'), Timestamp('2023-02-12 00:00:00'), Timestamp('2023-02-13 00:00:00'), Timestamp('2023-02-14 00:00:00'), Timestamp('2023-02-15 00:00:00'), Timestamp('2023-02-16 00:00:00'), Timestamp('2023-02-17 00:00:00'), Timestamp('2023-02-18 00:00:00'), Timestamp('2023-02-19 00:00:00'), Timestamp('2023-02-20 00:00:00'), Timestamp('2023-02-21 00:00:00'), Timestamp('2023-02-22 00:00:00'), Timestamp('2023-02-23 00:00:00'), Timestamp('2023-02-24 00:00:00'), Timestamp('2023-02-25 00:00:00'), Timestamp('2023-02-26 00:00:00'), Timestamp('2023-02-27 00:00:00'), Timestamp('2023-02-28 00:00:00'), Timestamp('2023-03-01 00:00:00'), Timestamp('2023-03-02 00:00:00'), Timestamp('2023-03-03 00:00:00'), Timestamp('2023-03-04 00:00:00'), Timestamp('2023-03-05 00:00:00'), Timestamp('2023-03-06 00:00:00'), Timestamp('2023-03-07 00:00:00'), Timestamp('2023-03-08 00:00:00'), Timestamp('2023-03-09 00:00:00'), Timestamp('2023-03-10 00:00:00'), Timestamp('2023-03-11 00:00:00'), Timestamp('2023-03-12 00:00:00'), Timestamp('2023-03-13 00:00:00'), Timestamp('2023-03-14 00:00:00'), Timestamp('2023-03-15 00:00:00'), Timestamp('2023-03-16 00:00:00'), Timestamp('2023-03-17 00:00:00'), Timestamp('2023-03-18 00:00:00'), Timestamp('2023-03-19 00:00:00'), Timestamp('2023-03-20 00:00:00'), Timestamp('2023-03-21 00:00:00'), Timestamp('2023-03-22 00:00:00'), Timestamp('2023-03-23 00:00:00'), Timestamp('2023-03-24 00:00:00'), Timestamp('2023-03-25 00:00:00'), Timestamp('2023-03-26 00:00:00'), Timestamp('2023-03-27 00:00:00'), Timestamp('2023-03-28 00:00:00'), Timestamp('2023-03-29 00:00:00'), Timestamp('2023-03-30 00:00:00'), Timestamp('2023-03-31 00:00:00'), Timestamp('2023-04-01 00:00:00'), Timestamp('2023-04-02 00:00:00'), Timestamp('2023-04-03 00:00:00'), Timestamp('2023-04-04 00:00:00'), Timestamp('2023-04-05 00:00:00'), Timestamp('2023-04-06 00:00:00'), Timestamp('2023-04-07 00:00:00'), Timestamp('2023-04-08 00:00:00'), Timestamp('2023-04-09 00:00:00'), Timestamp('2023-04-10 00:00:00'), Timestamp('2023-04-11 00:00:00'), Timestamp('2023-04-12 00:00:00'), Timestamp('2023-04-13 00:00:00'), Timestamp('2023-04-14 00:00:00'), Timestamp('2023-04-15 00:00:00'), Timestamp('2023-04-16 00:00:00'), Timestamp('2023-04-17 00:00:00'), Timestamp('2023-04-18 00:00:00'), Timestamp('2023-04-19 00:00:00'), Timestamp('2023-04-20 00:00:00'), Timestamp('2023-04-21 00:00:00'), Timestamp('2023-04-22 00:00:00'), Timestamp('2023-04-23 00:00:00'), Timestamp('2023-04-24 00:00:00'), Timestamp('2023-04-25 00:00:00'), Timestamp('2023-04-26 00:00:00'), Timestamp('2023-04-27 00:00:00'), Timestamp('2023-04-28 00:00:00'), Timestamp('2023-04-29 00:00:00'), Timestamp('2023-04-30 00:00:00'), Timestamp('2023-05-01 00:00:00'), Timestamp('2023-05-02 00:00:00'), Timestamp('2023-05-03 00:00:00'), Timestamp('2023-05-04 00:00:00'), Timestamp('2023-05-05 00:00:00'), Timestamp('2023-05-06 00:00:00'), Timestamp('2023-05-07 00:00:00'), Timestamp('2023-05-08 00:00:00'), Timestamp('2023-05-09 00:00:00'), Timestamp('2023-05-10 00:00:00'), Timestamp('2023-05-11 00:00:00'), Timestamp('2023-05-12 00:00:00'), Timestamp('2023-05-13 00:00:00'), Timestamp('2023-05-14 00:00:00'), Timestamp('2023-05-15 00:00:00'), Timestamp('2023-05-16 00:00:00'), Timestamp('2023-05-17 00:00:00'), Timestamp('2023-05-18 00:00:00'), Timestamp('2023-05-19 00:00:00'), Timestamp('2023-05-20 00:00:00'), Timestamp('2023-05-21 00:00:00'), Timestamp('2023-05-22 00:00:00'), Timestamp('2023-05-23 00:00:00'), Timestamp('2023-05-24 00:00:00'), Timestamp('2023-05-25 00:00:00'), Timestamp('2023-05-26 00:00:00'), Timestamp('2023-05-27 00:00:00'), Timestamp('2023-05-28 00:00:00'), Timestamp('2023-05-29 00:00:00'), Timestamp('2023-05-30 00:00:00'), Timestamp('2023-05-31 00:00:00'), Timestamp('2023-06-01 00:00:00'), Timestamp('2023-06-02 00:00:00'), Timestamp('2023-06-03 00:00:00'), Timestamp('2023-06-04 00:00:00'), Timestamp('2023-06-05 00:00:00'), Timestamp('2023-06-06 00:00:00'), Timestamp('2023-06-07 00:00:00'), Timestamp('2023-06-08 00:00:00'), Timestamp('2023-06-09 00:00:00'), Timestamp('2023-06-10 00:00:00'), Timestamp('2023-06-11 00:00:00'), Timestamp('2023-06-12 00:00:00'), Timestamp('2023-06-13 00:00:00'), Timestamp('2023-06-14 00:00:00'), Timestamp('2023-06-15 00:00:00'), Timestamp('2023-06-16 00:00:00'), Timestamp('2023-06-17 00:00:00'), Timestamp('2023-06-18 00:00:00'), Timestamp('2023-06-19 00:00:00'), Timestamp('2023-06-20 00:00:00'), Timestamp('2023-06-21 00:00:00'), Timestamp('2023-06-22 00:00:00'), Timestamp('2023-06-23 00:00:00'), Timestamp('2023-06-24 00:00:00'), Timestamp('2023-06-25 00:00:00'), Timestamp('2023-06-26 00:00:00'), Timestamp('2023-06-27 00:00:00'), Timestamp('2023-06-28 00:00:00'), Timestamp('2023-06-29 00:00:00'), Timestamp('2023-06-30 00:00:00'), Timestamp('2023-07-01 00:00:00'), Timestamp('2023-07-02 00:00:00'), Timestamp('2023-07-03 00:00:00'), Timestamp('2023-07-04 00:00:00'), Timestamp('2023-07-05 00:00:00'), Timestamp('2023-07-06 00:00:00'), Timestamp('2023-07-07 00:00:00'), Timestamp('2023-07-08 00:00:00'), Timestamp('2023-07-09 00:00:00'), Timestamp('2023-07-10 00:00:00'), Timestamp('2023-07-11 00:00:00'), Timestamp('2023-07-12 00:00:00'), Timestamp('2023-07-13 00:00:00'), Timestamp('2023-07-14 00:00:00'), Timestamp('2023-07-15 00:00:00'), Timestamp('2023-07-16 00:00:00'), Timestamp('2023-07-17 00:00:00'), Timestamp('2023-07-18 00:00:00'), Timestamp('2023-07-19 00:00:00'), Timestamp('2023-07-20 00:00:00'), Timestamp('2023-07-21 00:00:00'), Timestamp('2023-07-22 00:00:00'), Timestamp('2023-07-23 00:00:00'), Timestamp('2023-07-24 00:00:00'), Timestamp('2023-07-25 00:00:00'), Timestamp('2023-07-26 00:00:00'), Timestamp('2023-07-27 00:00:00'), Timestamp('2023-07-28 00:00:00'), Timestamp('2023-07-29 00:00:00'), Timestamp('2023-07-30 00:00:00'), Timestamp('2023-07-31 00:00:00'), Timestamp('2023-08-01 00:00:00'), Timestamp('2023-08-02 00:00:00'), Timestamp('2023-08-03 00:00:00'), Timestamp('2023-08-04 00:00:00'), Timestamp('2023-08-05 00:00:00'), Timestamp('2023-08-06 00:00:00'), Timestamp('2023-08-07 00:00:00'), Timestamp('2023-08-08 00:00:00'), Timestamp('2023-08-09 00:00:00'), Timestamp('2023-08-10 00:00:00'), Timestamp('2023-08-11 00:00:00'), Timestamp('2023-08-12 00:00:00'), Timestamp('2023-08-13 00:00:00'), Timestamp('2023-08-14 00:00:00'), Timestamp('2023-08-15 00:00:00'), Timestamp('2023-08-16 00:00:00'), Timestamp('2023-08-17 00:00:00'), Timestamp('2023-08-18 00:00:00'), Timestamp('2023-08-19 00:00:00'), Timestamp('2023-08-20 00:00:00'), Timestamp('2023-08-21 00:00:00'), Timestamp('2023-08-22 00:00:00'), Timestamp('2023-08-23 00:00:00'), Timestamp('2023-08-24 00:00:00'), Timestamp('2023-08-25 00:00:00'), Timestamp('2023-08-26 00:00:00'), Timestamp('2023-08-27 00:00:00'), Timestamp('2023-08-28 00:00:00'), Timestamp('2023-08-29 00:00:00'), Timestamp('2023-08-30 00:00:00'), Timestamp('2023-08-31 00:00:00'), Timestamp('2023-09-01 00:00:00'), Timestamp('2023-09-02 00:00:00'), Timestamp('2023-09-03 00:00:00'), Timestamp('2023-09-04 00:00:00'), Timestamp('2023-09-05 00:00:00'), Timestamp('2023-09-06 00:00:00'), Timestamp('2023-09-07 00:00:00'), Timestamp('2023-09-08 00:00:00'), Timestamp('2023-09-09 00:00:00'), Timestamp('2023-09-10 00:00:00'), Timestamp('2023-09-11 00:00:00'), Timestamp('2023-09-12 00:00:00'), Timestamp('2023-09-13 00:00:00'), Timestamp('2023-09-14 00:00:00'), Timestamp('2023-09-15 00:00:00'), Timestamp('2023-09-16 00:00:00'), Timestamp('2023-09-17 00:00:00'), Timestamp('2023-09-18 00:00:00'), Timestamp('2023-09-19 00:00:00'), Timestamp('2023-09-20 00:00:00'), Timestamp('2023-09-21 00:00:00'), Timestamp('2023-09-22 00:00:00'), Timestamp('2023-09-23 00:00:00'), Timestamp('2023-09-24 00:00:00'), Timestamp('2023-09-25 00:00:00'), Timestamp('2023-09-26 00:00:00'), Timestamp('2023-09-27 00:00:00'), Timestamp('2023-09-28 00:00:00'), Timestamp('2023-09-29 00:00:00'), Timestamp('2023-09-30 00:00:00'), Timestamp('2023-10-01 00:00:00'), Timestamp('2023-10-02 00:00:00'), Timestamp('2023-10-03 00:00:00'), Timestamp('2023-10-04 00:00:00'), Timestamp('2023-10-05 00:00:00'), Timestamp('2023-10-06 00:00:00'), Timestamp('2023-10-07 00:00:00'), Timestamp('2023-10-08 00:00:00'), Timestamp('2023-10-09 00:00:00'), Timestamp('2023-10-10 00:00:00'), Timestamp('2023-10-11 00:00:00'), Timestamp('2023-10-12 00:00:00'), Timestamp('2023-10-13 00:00:00'), Timestamp('2023-10-14 00:00:00'), Timestamp('2023-10-15 00:00:00'), Timestamp('2023-10-16 00:00:00'), Timestamp('2023-10-17 00:00:00'), Timestamp('2023-10-18 00:00:00'), Timestamp('2023-10-19 00:00:00'), Timestamp('2023-10-20 00:00:00'), Timestamp('2023-10-21 00:00:00'), Timestamp('2023-10-22 00:00:00'), Timestamp('2023-10-23 00:00:00'), Timestamp('2023-10-24 00:00:00'), Timestamp('2023-10-25 00:00:00'), Timestamp('2023-10-26 00:00:00'), Timestamp('2023-10-27 00:00:00'), Timestamp('2023-10-28 00:00:00'), Timestamp('2023-10-29 00:00:00'), Timestamp('2023-10-30 00:00:00'), Timestamp('2023-10-31 00:00:00'), Timestamp('2023-11-01 00:00:00'), Timestamp('2023-11-02 00:00:00'), Timestamp('2023-11-03 00:00:00'), Timestamp('2023-11-04 00:00:00'), Timestamp('2023-11-05 00:00:00'), Timestamp('2023-11-06 00:00:00'), Timestamp('2023-11-07 00:00:00'), Timestamp('2023-11-08 00:00:00'), Timestamp('2023-11-09 00:00:00'), Timestamp('2023-11-10 00:00:00'), Timestamp('2023-11-11 00:00:00'), Timestamp('2023-11-12 00:00:00'), Timestamp('2023-11-13 00:00:00'), Timestamp('2023-11-14 00:00:00'), Timestamp('2023-11-15 00:00:00'), Timestamp('2023-11-16 00:00:00'), Timestamp('2023-11-17 00:00:00'), Timestamp('2023-11-18 00:00:00'), Timestamp('2023-11-19 00:00:00'), Timestamp('2023-11-20 00:00:00'), Timestamp('2023-11-21 00:00:00'), Timestamp('2023-11-22 00:00:00'), Timestamp('2023-11-23 00:00:00'), Timestamp('2023-11-24 00:00:00'), Timestamp('2023-11-25 00:00:00'), Timestamp('2023-11-26 00:00:00'), Timestamp('2023-11-27 00:00:00'), Timestamp('2023-11-28 00:00:00'), Timestamp('2023-11-29 00:00:00'), Timestamp('2023-11-30 00:00:00'), Timestamp('2023-12-01 00:00:00'), Timestamp('2023-12-02 00:00:00'), Timestamp('2023-12-03 00:00:00'), Timestamp('2023-12-04 00:00:00'), Timestamp('2023-12-05 00:00:00'), Timestamp('2023-12-06 00:00:00'), Timestamp('2023-12-07 00:00:00'), Timestamp('2023-12-08 00:00:00'), Timestamp('2023-12-09 00:00:00'), Timestamp('2023-12-10 00:00:00'), Timestamp('2023-12-11 00:00:00'), Timestamp('2023-12-12 00:00:00'), Timestamp('2023-12-13 00:00:00'), Timestamp('2023-12-14 00:00:00'), Timestamp('2023-12-15 00:00:00'), Timestamp('2023-12-16 00:00:00'), Timestamp('2023-12-17 00:00:00'), Timestamp('2023-12-18 00:00:00'), Timestamp('2023-12-19 00:00:00'), Timestamp('2023-12-20 00:00:00'), Timestamp('2023-12-21 00:00:00'), Timestamp('2023-12-22 00:00:00'), Timestamp('2023-12-23 00:00:00'), Timestamp('2023-12-24 00:00:00'), Timestamp('2023-12-25 00:00:00'), Timestamp('2023-12-26 00:00:00'), Timestamp('2023-12-27 00:00:00'), Timestamp('2023-12-28 00:00:00'), Timestamp('2023-12-29 00:00:00'), Timestamp('2023-12-30 00:00:00'), Timestamp('2023-12-31 00:00:00'), Timestamp('2023-01-01 00:00:00'), Timestamp('2023-01-02 00:00:00'), Timestamp('2023-01-03 00:00:00'), Timestamp('2023-01-04 00:00:00'), Timestamp('2023-01-05 00:00:00'), Timestamp('2023-01-06 00:00:00'), Timestamp('2023-01-07 00:00:00'), Timestamp('2023-01-08 00:00:00'), Timestamp('2023-01-09 00:00:00'), Timestamp('2023-01-10 00:00:00'), Timestamp('2023-01-11 00:00:00'), Timestamp('2023-01-12 00:00:00'), Timestamp('2023-01-13 00:00:00'), Timestamp('2023-01-14 00:00:00'), Timestamp('2023-01-15 00:00:00'), Timestamp('2023-01-16 00:00:00'), Timestamp('2023-01-17 00:00:00'), Timestamp('2023-01-18 00:00:00'), Timestamp('2023-01-19 00:00:00'), Timestamp('2023-01-20 00:00:00'), Timestamp('2023-01-21 00:00:00'), Timestamp('2023-01-22 00:00:00'), Timestamp('2023-01-23 00:00:00'), Timestamp('2023-01-24 00:00:00'), Timestamp('2023-01-25 00:00:00'), Timestamp('2023-01-26 00:00:00'), Timestamp('2023-01-27 00:00:00'), Timestamp('2023-01-28 00:00:00'), Timestamp('2023-01-29 00:00:00'), Timestamp('2023-01-30 00:00:00'), Timestamp('2023-01-31 00:00:00'), Timestamp('2023-02-02 00:00:00'), Timestamp('2023-02-03 00:00:00'), Timestamp('2023-02-04 00:00:00'), Timestamp('2023-02-05 00:00:00'), Timestamp('2023-02-06 00:00:00'), Timestamp('2023-02-07 00:00:00'), Timestamp('2023-02-08 00:00:00'), Timestamp('2023-02-09 00:00:00'), Timestamp('2023-02-10 00:00:00'), Timestamp('2023-02-11 00:00:00'), Timestamp('2023-02-12 00:00:00'), Timestamp('2023-02-13 00:00:00'), Timestamp('2023-02-14 00:00:00'), Timestamp('2023-02-16 00:00:00'), Timestamp('2023-02-17 00:00:00'), Timestamp('2023-02-18 00:00:00'), Timestamp('2023-02-19 00:00:00'), Timestamp('2023-02-20 00:00:00'), Timestamp('2023-02-21 00:00:00'), Timestamp('2023-02-22 00:00:00'), Timestamp('2023-02-23 00:00:00'), Timestamp('2023-02-24 00:00:00'), Timestamp('2023-02-25 00:00:00'), Timestamp('2023-02-26 00:00:00'), Timestamp('2023-02-27 00:00:00'), Timestamp('2023-02-28 00:00:00'), Timestamp('2023-03-01 00:00:00'), Timestamp('2023-03-02 00:00:00'), Timestamp('2023-03-03 00:00:00'), Timestamp('2023-03-04 00:00:00'), Timestamp('2023-03-05 00:00:00'), Timestamp('2023-03-06 00:00:00'), Timestamp('2023-03-07 00:00:00'), Timestamp('2023-03-08 00:00:00'), Timestamp('2023-03-09 00:00:00'), Timestamp('2023-03-10 00:00:00'), Timestamp('2023-03-11 00:00:00'), Timestamp('2023-03-12 00:00:00'), Timestamp('2023-03-13 00:00:00'), Timestamp('2023-03-14 00:00:00'), Timestamp('2023-03-15 00:00:00'), Timestamp('2023-03-16 00:00:00'), Timestamp('2023-03-17 00:00:00'), Timestamp('2023-03-18 00:00:00'), Timestamp('2023-03-19 00:00:00'), Timestamp('2023-03-20 00:00:00'), Timestamp('2023-03-21 00:00:00'), Timestamp('2023-03-22 00:00:00'), Timestamp('2023-03-23 00:00:00'), Timestamp('2023-03-24 00:00:00'), Timestamp('2023-03-25 00:00:00'), Timestamp('2023-03-26 00:00:00'), Timestamp('2023-03-27 00:00:00'), Timestamp('2023-03-28 00:00:00'), Timestamp('2023-03-29 00:00:00'), Timestamp('2023-03-30 00:00:00'), Timestamp('2023-03-31 00:00:00'), Timestamp('2023-04-01 00:00:00'), Timestamp('2023-04-02 00:00:00'), Timestamp('2023-04-03 00:00:00'), Timestamp('2023-04-04 00:00:00'), Timestamp('2023-04-05 00:00:00'), Timestamp('2023-04-07 00:00:00'), Timestamp('2023-04-08 00:00:00'), Timestamp('2023-04-09 00:00:00'), Timestamp('2023-04-10 00:00:00'), Timestamp('2023-04-11 00:00:00'), Timestamp('2023-04-12 00:00:00'), Timestamp('2023-04-13 00:00:00'), Timestamp('2023-04-14 00:00:00'), Timestamp('2023-04-15 00:00:00'), Timestamp('2023-04-16 00:00:00'), Timestamp('2023-04-17 00:00:00'), Timestamp('2023-04-18 00:00:00'), Timestamp('2023-04-19 00:00:00'), Timestamp('2023-04-20 00:00:00'), Timestamp('2023-04-21 00:00:00'), Timestamp('2023-04-22 00:00:00'), Timestamp('2023-04-25 00:00:00'), Timestamp('2023-04-26 00:00:00'), Timestamp('2023-04-27 00:00:00'), Timestamp('2023-04-28 00:00:00'), Timestamp('2023-04-29 00:00:00'), Timestamp('2023-04-30 00:00:00'), Timestamp('2023-05-01 00:00:00'), Timestamp('2023-05-02 00:00:00'), Timestamp('2023-05-03 00:00:00'), Timestamp('2023-05-04 00:00:00'), Timestamp('2023-05-05 00:00:00'), Timestamp('2023-05-06 00:00:00'), Timestamp('2023-05-07 00:00:00'), Timestamp('2023-05-08 00:00:00'), Timestamp('2023-05-09 00:00:00'), Timestamp('2023-05-10 00:00:00'), Timestamp('2023-05-11 00:00:00'), Timestamp('2023-05-12 00:00:00'), Timestamp('2023-05-13 00:00:00'), Timestamp('2023-05-14 00:00:00'), Timestamp('2023-05-15 00:00:00'), Timestamp('2023-05-16 00:00:00'), Timestamp('2023-05-17 00:00:00'), Timestamp('2023-05-18 00:00:00'), Timestamp('2023-05-19 00:00:00'), Timestamp('2023-05-20 00:00:00'), Timestamp('2023-05-21 00:00:00'), Timestamp('2023-05-22 00:00:00'), Timestamp('2023-05-23 00:00:00'), Timestamp('2023-05-24 00:00:00'), Timestamp('2023-05-25 00:00:00'), Timestamp('2023-05-26 00:00:00'), Timestamp('2023-05-27 00:00:00'), Timestamp('2023-05-28 00:00:00'), Timestamp('2023-05-29 00:00:00'), Timestamp('2023-05-30 00:00:00'), Timestamp('2023-05-31 00:00:00'), Timestamp('2023-06-01 00:00:00'), Timestamp('2023-06-02 00:00:00'), Timestamp('2023-06-03 00:00:00'), Timestamp('2023-06-04 00:00:00'), Timestamp('2023-06-05 00:00:00'), Timestamp('2023-06-06 00:00:00'), Timestamp('2023-06-07 00:00:00'), Timestamp('2023-06-08 00:00:00'), Timestamp('2023-06-09 00:00:00'), Timestamp('2023-06-10 00:00:00'), Timestamp('2023-06-11 00:00:00'), Timestamp('2023-06-12 00:00:00'), Timestamp('2023-06-13 00:00:00'), Timestamp('2023-06-14 00:00:00'), Timestamp('2023-06-15 00:00:00'), Timestamp('2023-06-16 00:00:00'), Timestamp('2023-06-17 00:00:00'), Timestamp('2023-06-18 00:00:00'), Timestamp('2023-06-19 00:00:00'), Timestamp('2023-06-20 00:00:00'), Timestamp('2023-06-21 00:00:00'), Timestamp('2023-06-22 00:00:00'), Timestamp('2023-06-23 00:00:00'), Timestamp('2023-06-24 00:00:00'), Timestamp('2023-06-25 00:00:00'), Timestamp('2023-06-26 00:00:00'), Timestamp('2023-06-27 00:00:00'), Timestamp('2023-06-28 00:00:00'), Timestamp('2023-06-29 00:00:00'), Timestamp('2023-06-30 00:00:00'), Timestamp('2023-07-01 00:00:00'), Timestamp('2023-07-02 00:00:00'), Timestamp('2023-07-03 00:00:00'), Timestamp('2023-07-04 00:00:00'), Timestamp('2023-07-05 00:00:00'), Timestamp('2023-07-06 00:00:00'), Timestamp('2023-07-07 00:00:00'), Timestamp('2023-07-08 00:00:00'), Timestamp('2023-07-09 00:00:00'), Timestamp('2023-07-10 00:00:00'), Timestamp('2023-07-12 00:00:00'), Timestamp('2023-07-13 00:00:00'), Timestamp('2023-07-14 00:00:00'), Timestamp('2023-07-15 00:00:00'), Timestamp('2023-07-16 00:00:00'), Timestamp('2023-07-17 00:00:00'), Timestamp('2023-07-18 00:00:00'), Timestamp('2023-07-19 00:00:00'), Timestamp('2023-07-20 00:00:00'), Timestamp('2023-07-21 00:00:00'), Timestamp('2023-07-22 00:00:00'), Timestamp('2023-07-23 00:00:00'), Timestamp('2023-07-24 00:00:00'), Timestamp('2023-07-25 00:00:00'), Timestamp('2023-07-26 00:00:00'), Timestamp('2023-07-27 00:00:00'), Timestamp('2023-07-28 00:00:00'), Timestamp('2023-07-29 00:00:00'), Timestamp('2023-07-30 00:00:00'), Timestamp('2023-07-31 00:00:00'), Timestamp('2023-08-01 00:00:00'), Timestamp('2023-08-02 00:00:00'), Timestamp('2023-08-03 00:00:00'), Timestamp('2023-08-04 00:00:00'), Timestamp('2023-08-05 00:00:00'), Timestamp('2023-08-06 00:00:00'), Timestamp('2023-08-07 00:00:00'), Timestamp('2023-08-08 00:00:00'), Timestamp('2023-08-09 00:00:00'), Timestamp('2023-08-10 00:00:00'), Timestamp('2023-08-11 00:00:00'), Timestamp('2023-08-12 00:00:00'), Timestamp('2023-08-13 00:00:00'), Timestamp('2023-08-14 00:00:00'), Timestamp('2023-08-15 00:00:00'), Timestamp('2023-08-16 00:00:00'), Timestamp('2023-08-17 00:00:00'), Timestamp('2023-08-18 00:00:00'), Timestamp('2023-08-19 00:00:00'), Timestamp('2023-08-20 00:00:00'), Timestamp('2023-08-21 00:00:00'), Timestamp('2023-08-22 00:00:00'), Timestamp('2023-08-23 00:00:00'), Timestamp('2023-08-24 00:00:00'), Timestamp('2023-08-25 00:00:00'), Timestamp('2023-08-26 00:00:00'), Timestamp('2023-08-27 00:00:00'), Timestamp('2023-08-28 00:00:00'), Timestamp('2023-08-29 00:00:00'), Timestamp('2023-08-30 00:00:00'), Timestamp('2023-08-31 00:00:00'), Timestamp('2023-09-02 00:00:00'), Timestamp('2023-09-03 00:00:00'), Timestamp('2023-09-04 00:00:00'), Timestamp('2023-09-05 00:00:00'), Timestamp('2023-09-06 00:00:00'), Timestamp('2023-09-07 00:00:00'), Timestamp('2023-09-08 00:00:00'), Timestamp('2023-09-09 00:00:00'), Timestamp('2023-09-10 00:00:00'), Timestamp('2023-09-11 00:00:00'), Timestamp('2023-09-12 00:00:00'), Timestamp('2023-09-13 00:00:00'), Timestamp('2023-09-14 00:00:00'), Timestamp('2023-09-15 00:00:00'), Timestamp('2023-09-16 00:00:00'), Timestamp('2023-09-22 00:00:00'), Timestamp('2023-09-23 00:00:00'), Timestamp('2023-09-24 00:00:00'), Timestamp('2023-09-25 00:00:00'), Timestamp('2023-09-26 00:00:00'), Timestamp('2023-09-27 00:00:00'), Timestamp('2023-09-28 00:00:00'), Timestamp('2023-09-29 00:00:00'), Timestamp('2023-09-30 00:00:00'), Timestamp('2023-10-01 00:00:00'), Timestamp('2023-10-02 00:00:00'), Timestamp('2023-10-03 00:00:00'), Timestamp('2023-10-04 00:00:00'), Timestamp('2023-10-05 00:00:00'), Timestamp('2023-10-06 00:00:00'), Timestamp('2023-10-07 00:00:00'), Timestamp('2023-10-08 00:00:00'), Timestamp('2023-10-09 00:00:00'), Timestamp('2023-10-10 00:00:00'), Timestamp('2023-10-11 00:00:00'), Timestamp('2023-10-12 00:00:00'), Timestamp('2023-10-13 00:00:00'), Timestamp('2023-10-14 00:00:00'), Timestamp('2023-10-15 00:00:00'), Timestamp('2023-10-16 00:00:00'), Timestamp('2023-10-17 00:00:00'), Timestamp('2023-10-18 00:00:00'), Timestamp('2023-10-19 00:00:00'), Timestamp('2023-10-20 00:00:00'), Timestamp('2023-10-21 00:00:00'), Timestamp('2023-10-22 00:00:00'), Timestamp('2023-10-23 00:00:00'), Timestamp('2023-10-24 00:00:00'), Timestamp('2023-10-25 00:00:00'), Timestamp('2023-10-26 00:00:00'), Timestamp('2023-10-27 00:00:00'), Timestamp('2023-10-28 00:00:00'), Timestamp('2023-10-29 00:00:00'), Timestamp('2023-10-30 00:00:00'), Timestamp('2023-10-31 00:00:00'), Timestamp('2023-11-01 00:00:00'), Timestamp('2023-11-02 00:00:00'), Timestamp('2023-11-03 00:00:00'), Timestamp('2023-11-04 00:00:00'), Timestamp('2023-11-05 00:00:00'), Timestamp('2023-11-06 00:00:00'), Timestamp('2023-11-07 00:00:00'), Timestamp('2023-11-08 00:00:00'), Timestamp('2023-11-09 00:00:00'), Timestamp('2023-11-10 00:00:00'), Timestamp('2023-11-11 00:00:00'), Timestamp('2023-11-12 00:00:00'), Timestamp('2023-11-13 00:00:00'), Timestamp('2023-11-14 00:00:00'), Timestamp('2023-11-15 00:00:00'), Timestamp('2023-11-16 00:00:00'), Timestamp('2023-11-17 00:00:00'), Timestamp('2023-11-18 00:00:00'), Timestamp('2023-11-19 00:00:00'), Timestamp('2023-11-20 00:00:00'), Timestamp('2023-11-21 00:00:00'), Timestamp('2023-11-22 00:00:00'), Timestamp('2023-11-23 00:00:00'), Timestamp('2023-11-24 00:00:00'), Timestamp('2023-11-25 00:00:00'), Timestamp('2023-11-26 00:00:00'), Timestamp('2023-11-27 00:00:00'), Timestamp('2023-11-28 00:00:00'), Timestamp('2023-11-29 00:00:00'), Timestamp('2023-11-30 00:00:00'), Timestamp('2023-12-01 00:00:00'), Timestamp('2023-12-02 00:00:00'), Timestamp('2023-12-03 00:00:00'), Timestamp('2023-12-04 00:00:00'), Timestamp('2023-12-05 00:00:00'), Timestamp('2023-12-06 00:00:00'), Timestamp('2023-12-07 00:00:00'), Timestamp('2023-12-08 00:00:00'), Timestamp('2023-12-09 00:00:00'), Timestamp('2023-12-10 00:00:00'), Timestamp('2023-12-11 00:00:00'), Timestamp('2023-12-12 00:00:00'), Timestamp('2023-12-13 00:00:00'), Timestamp('2023-12-14 00:00:00'), Timestamp('2023-12-15 00:00:00'), Timestamp('2023-12-16 00:00:00'), Timestamp('2023-12-17 00:00:00'), Timestamp('2023-12-18 00:00:00'), Timestamp('2023-12-19 00:00:00'), Timestamp('2023-12-20 00:00:00'), Timestamp('2023-12-21 00:00:00'), Timestamp('2023-12-22 00:00:00'), Timestamp('2023-12-23 00:00:00'), Timestamp('2023-12-24 00:00:00'), Timestamp('2023-12-25 00:00:00'), Timestamp('2023-12-26 00:00:00'), Timestamp('2023-12-27 00:00:00'), Timestamp('2023-12-28 00:00:00'), Timestamp('2023-12-29 00:00:00'), Timestamp('2023-12-30 00:00:00'), Timestamp('2023-12-31 00:00:00'), Timestamp('2023-01-01 00:00:00'), Timestamp('2023-01-02 00:00:00'), Timestamp('2023-01-03 00:00:00'), Timestamp('2023-01-04 00:00:00'), Timestamp('2023-01-05 00:00:00'), Timestamp('2023-01-06 00:00:00'), Timestamp('2023-01-07 00:00:00'), Timestamp('2023-01-08 00:00:00'), Timestamp('2023-01-09 00:00:00'), Timestamp('2023-01-10 00:00:00'), Timestamp('2023-01-11 00:00:00'), Timestamp('2023-01-12 00:00:00'), Timestamp('2023-01-13 00:00:00'), Timestamp('2023-01-14 00:00:00'), Timestamp('2023-01-15 00:00:00'), Timestamp('2023-01-16 00:00:00'), Timestamp('2023-01-17 00:00:00'), Timestamp('2023-01-18 00:00:00'), Timestamp('2023-01-19 00:00:00'), Timestamp('2023-01-20 00:00:00'), Timestamp('2023-01-21 00:00:00'), Timestamp('2023-01-22 00:00:00'), Timestamp('2023-01-23 00:00:00'), Timestamp('2023-01-24 00:00:00'), Timestamp('2023-01-25 00:00:00'), Timestamp('2023-01-26 00:00:00'), Timestamp('2023-01-27 00:00:00'), Timestamp('2023-01-28 00:00:00'), Timestamp('2023-01-29 00:00:00'), Timestamp('2023-01-30 00:00:00'), Timestamp('2023-01-31 00:00:00'), Timestamp('2023-02-01 00:00:00'), Timestamp('2023-02-02 00:00:00'), Timestamp('2023-02-03 00:00:00'), Timestamp('2023-02-04 00:00:00'), Timestamp('2023-02-05 00:00:00'), Timestamp('2023-02-06 00:00:00'), Timestamp('2023-02-07 00:00:00'), Timestamp('2023-02-08 00:00:00'), Timestamp('2023-02-09 00:00:00'), Timestamp('2023-02-10 00:00:00'), Timestamp('2023-02-11 00:00:00'), Timestamp('2023-02-12 00:00:00'), Timestamp('2023-02-13 00:00:00'), Timestamp('2023-02-14 00:00:00'), Timestamp('2023-02-15 00:00:00'), Timestamp('2023-02-16 00:00:00'), Timestamp('2023-02-17 00:00:00'), Timestamp('2023-02-18 00:00:00'), Timestamp('2023-02-19 00:00:00'), Timestamp('2023-02-20 00:00:00'), Timestamp('2023-02-21 00:00:00'), Timestamp('2023-02-22 00:00:00'), Timestamp('2023-02-23 00:00:00'), Timestamp('2023-02-24 00:00:00'), Timestamp('2023-02-25 00:00:00'), Timestamp('2023-02-26 00:00:00'), Timestamp('2023-02-27 00:00:00'), Timestamp('2023-02-28 00:00:00'), Timestamp('2023-03-01 00:00:00'), Timestamp('2023-03-02 00:00:00'), Timestamp('2023-03-03 00:00:00'), Timestamp('2023-03-04 00:00:00'), Timestamp('2023-03-05 00:00:00'), Timestamp('2023-03-06 00:00:00'), Timestamp('2023-03-07 00:00:00'), Timestamp('2023-03-08 00:00:00'), Timestamp('2023-03-09 00:00:00'), Timestamp('2023-03-10 00:00:00'), Timestamp('2023-03-11 00:00:00'), Timestamp('2023-03-12 00:00:00'), Timestamp('2023-03-13 00:00:00'), Timestamp('2023-03-14 00:00:00'), Timestamp('2023-03-15 00:00:00'), Timestamp('2023-03-16 00:00:00'), Timestamp('2023-03-17 00:00:00'), Timestamp('2023-03-18 00:00:00'), Timestamp('2023-03-19 00:00:00'), Timestamp('2023-03-20 00:00:00'), Timestamp('2023-03-21 00:00:00'), Timestamp('2023-03-22 00:00:00'), Timestamp('2023-03-23 00:00:00'), Timestamp('2023-03-24 00:00:00'), Timestamp('2023-03-25 00:00:00'), Timestamp('2023-03-26 00:00:00'), Timestamp('2023-03-27 00:00:00'), Timestamp('2023-03-28 00:00:00'), Timestamp('2023-03-29 00:00:00'), Timestamp('2023-03-30 00:00:00'), Timestamp('2023-03-31 00:00:00'), Timestamp('2023-04-01 00:00:00'), Timestamp('2023-04-02 00:00:00'), Timestamp('2023-04-03 00:00:00'), Timestamp('2023-04-04 00:00:00'), Timestamp('2023-04-05 00:00:00'), Timestamp('2023-04-06 00:00:00'), Timestamp('2023-04-07 00:00:00'), Timestamp('2023-04-08 00:00:00'), Timestamp('2023-04-09 00:00:00'), Timestamp('2023-04-10 00:00:00'), Timestamp('2023-04-11 00:00:00'), Timestamp('2023-04-12 00:00:00'), Timestamp('2023-04-13 00:00:00'), Timestamp('2023-04-14 00:00:00'), Timestamp('2023-04-15 00:00:00'), Timestamp('2023-04-16 00:00:00'), Timestamp('2023-04-17 00:00:00'), Timestamp('2023-04-18 00:00:00'), Timestamp('2023-04-19 00:00:00'), Timestamp('2023-04-20 00:00:00'), Timestamp('2023-04-21 00:00:00'), Timestamp('2023-04-22 00:00:00'), Timestamp('2023-04-23 00:00:00'), Timestamp('2023-04-24 00:00:00'), Timestamp('2023-04-25 00:00:00'), Timestamp('2023-04-26 00:00:00'), Timestamp('2023-04-27 00:00:00'), Timestamp('2023-04-28 00:00:00'), Timestamp('2023-04-29 00:00:00'), Timestamp('2023-04-30 00:00:00'), Timestamp('2023-05-01 00:00:00'), Timestamp('2023-05-02 00:00:00'), Timestamp('2023-05-03 00:00:00'), Timestamp('2023-05-04 00:00:00'), Timestamp('2023-05-05 00:00:00'), Timestamp('2023-05-06 00:00:00'), Timestamp('2023-05-07 00:00:00'), Timestamp('2023-05-08 00:00:00'), Timestamp('2023-05-09 00:00:00'), Timestamp('2023-05-10 00:00:00'), Timestamp('2023-05-11 00:00:00'), Timestamp('2023-05-12 00:00:00'), Timestamp('2023-05-13 00:00:00'), Timestamp('2023-05-14 00:00:00'), Timestamp('2023-05-15 00:00:00'), Timestamp('2023-05-16 00:00:00'), Timestamp('2023-05-17 00:00:00'), Timestamp('2023-05-18 00:00:00'), Timestamp('2023-05-19 00:00:00'), Timestamp('2023-05-20 00:00:00'), Timestamp('2023-05-21 00:00:00'), Timestamp('2023-05-22 00:00:00'), Timestamp('2023-05-23 00:00:00'), Timestamp('2023-05-24 00:00:00'), Timestamp('2023-05-25 00:00:00'), Timestamp('2023-05-26 00:00:00'), Timestamp('2023-05-27 00:00:00'), Timestamp('2023-05-28 00:00:00'), Timestamp('2023-05-29 00:00:00'), Timestamp('2023-05-30 00:00:00'), Timestamp('2023-05-31 00:00:00'), Timestamp('2023-06-01 00:00:00'), Timestamp('2023-06-02 00:00:00'), Timestamp('2023-06-03 00:00:00'), Timestamp('2023-06-04 00:00:00'), Timestamp('2023-06-05 00:00:00'), Timestamp('2023-06-06 00:00:00'), Timestamp('2023-06-07 00:00:00'), Timestamp('2023-06-08 00:00:00'), Timestamp('2023-06-09 00:00:00'), Timestamp('2023-06-10 00:00:00'), Timestamp('2023-06-11 00:00:00'), Timestamp('2023-06-12 00:00:00'), Timestamp('2023-06-13 00:00:00'), Timestamp('2023-06-14 00:00:00'), Timestamp('2023-06-15 00:00:00'), Timestamp('2023-06-16 00:00:00'), Timestamp('2023-06-17 00:00:00'), Timestamp('2023-06-18 00:00:00'), Timestamp('2023-06-19 00:00:00'), Timestamp('2023-06-20 00:00:00'), Timestamp('2023-06-21 00:00:00'), Timestamp('2023-06-22 00:00:00'), Timestamp('2023-06-23 00:00:00'), Timestamp('2023-06-24 00:00:00'), Timestamp('2023-06-25 00:00:00'), Timestamp('2023-06-26 00:00:00'), Timestamp('2023-06-27 00:00:00'), Timestamp('2023-06-28 00:00:00'), Timestamp('2023-06-29 00:00:00'), Timestamp('2023-06-30 00:00:00'), Timestamp('2023-07-01 00:00:00'), Timestamp('2023-07-02 00:00:00'), Timestamp('2023-07-03 00:00:00'), Timestamp('2023-07-04 00:00:00'), Timestamp('2023-07-05 00:00:00'), Timestamp('2023-07-06 00:00:00'), Timestamp('2023-07-07 00:00:00'), Timestamp('2023-07-08 00:00:00'), Timestamp('2023-07-09 00:00:00'), Timestamp('2023-07-10 00:00:00'), Timestamp('2023-07-11 00:00:00'), Timestamp('2023-07-12 00:00:00'), Timestamp('2023-07-13 00:00:00'), Timestamp('2023-07-14 00:00:00'), Timestamp('2023-07-15 00:00:00'), Timestamp('2023-07-16 00:00:00'), Timestamp('2023-07-17 00:00:00'), Timestamp('2023-07-18 00:00:00'), Timestamp('2023-07-19 00:00:00'), Timestamp('2023-07-20 00:00:00'), Timestamp('2023-07-21 00:00:00'), Timestamp('2023-07-22 00:00:00'), Timestamp('2023-07-23 00:00:00'), Timestamp('2023-07-24 00:00:00'), Timestamp('2023-07-25 00:00:00'), Timestamp('2023-07-26 00:00:00'), Timestamp('2023-07-27 00:00:00'), Timestamp('2023-07-28 00:00:00'), Timestamp('2023-07-29 00:00:00'), Timestamp('2023-07-30 00:00:00'), Timestamp('2023-07-31 00:00:00'), Timestamp('2023-08-01 00:00:00'), Timestamp('2023-08-02 00:00:00'), Timestamp('2023-08-03 00:00:00'), Timestamp('2023-08-04 00:00:00'), Timestamp('2023-08-05 00:00:00'), Timestamp('2023-08-06 00:00:00'), Timestamp('2023-08-07 00:00:00'), Timestamp('2023-08-08 00:00:00'), Timestamp('2023-08-09 00:00:00'), Timestamp('2023-08-10 00:00:00'), Timestamp('2023-08-11 00:00:00'), Timestamp('2023-08-12 00:00:00'), Timestamp('2023-08-13 00:00:00'), Timestamp('2023-08-14 00:00:00'), Timestamp('2023-08-15 00:00:00'), Timestamp('2023-08-16 00:00:00'), Timestamp('2023-08-17 00:00:00'), Timestamp('2023-08-18 00:00:00'), Timestamp('2023-08-19 00:00:00'), Timestamp('2023-08-20 00:00:00'), Timestamp('2023-08-21 00:00:00'), Timestamp('2023-08-22 00:00:00'), Timestamp('2023-08-23 00:00:00'), Timestamp('2023-08-24 00:00:00'), Timestamp('2023-08-25 00:00:00'), Timestamp('2023-08-26 00:00:00'), Timestamp('2023-08-27 00:00:00'), Timestamp('2023-08-28 00:00:00'), Timestamp('2023-08-29 00:00:00'), Timestamp('2023-08-30 00:00:00'), Timestamp('2023-08-31 00:00:00'), Timestamp('2023-09-01 00:00:00'), Timestamp('2023-09-02 00:00:00'), Timestamp('2023-09-03 00:00:00'), Timestamp('2023-09-04 00:00:00'), Timestamp('2023-09-05 00:00:00'), Timestamp('2023-09-06 00:00:00'), Timestamp('2023-09-07 00:00:00'), Timestamp('2023-09-08 00:00:00'), Timestamp('2023-09-09 00:00:00'), Timestamp('2023-09-10 00:00:00'), Timestamp('2023-09-11 00:00:00'), Timestamp('2023-09-12 00:00:00'), Timestamp('2023-09-13 00:00:00'), Timestamp('2023-09-14 00:00:00'), Timestamp('2023-09-15 00:00:00'), Timestamp('2023-09-16 00:00:00'), Timestamp('2023-09-17 00:00:00'), Timestamp('2023-09-18 00:00:00'), Timestamp('2023-09-19 00:00:00'), Timestamp('2023-09-20 00:00:00'), Timestamp('2023-09-21 00:00:00'), Timestamp('2023-09-22 00:00:00'), Timestamp('2023-09-23 00:00:00'), Timestamp('2023-09-24 00:00:00'), Timestamp('2023-09-25 00:00:00'), Timestamp('2023-09-26 00:00:00'), Timestamp('2023-09-27 00:00:00'), Timestamp('2023-09-28 00:00:00'), Timestamp('2023-09-29 00:00:00'), Timestamp('2023-09-30 00:00:00'), Timestamp('2023-10-01 00:00:00'), Timestamp('2023-10-02 00:00:00'), Timestamp('2023-10-03 00:00:00'), Timestamp('2023-10-04 00:00:00'), Timestamp('2023-10-05 00:00:00'), Timestamp('2023-10-06 00:00:00'), Timestamp('2023-10-07 00:00:00'), Timestamp('2023-10-08 00:00:00'), Timestamp('2023-10-09 00:00:00'), Timestamp('2023-10-10 00:00:00'), Timestamp('2023-10-11 00:00:00'), Timestamp('2023-10-12 00:00:00'), Timestamp('2023-10-13 00:00:00'), Timestamp('2023-10-14 00:00:00'), Timestamp('2023-10-15 00:00:00'), Timestamp('2023-10-16 00:00:00'), Timestamp('2023-10-17 00:00:00'), Timestamp('2023-10-18 00:00:00'), Timestamp('2023-10-19 00:00:00'), Timestamp('2023-10-20 00:00:00'), Timestamp('2023-10-21 00:00:00'), Timestamp('2023-10-22 00:00:00'), Timestamp('2023-10-23 00:00:00'), Timestamp('2023-10-24 00:00:00'), Timestamp('2023-10-25 00:00:00'), Timestamp('2023-10-26 00:00:00'), Timestamp('2023-10-27 00:00:00'), Timestamp('2023-10-28 00:00:00'), Timestamp('2023-10-29 00:00:00'), Timestamp('2023-10-30 00:00:00'), Timestamp('2023-10-31 00:00:00'), Timestamp('2023-11-01 00:00:00'), Timestamp('2023-11-02 00:00:00'), Timestamp('2023-11-03 00:00:00'), Timestamp('2023-11-04 00:00:00'), Timestamp('2023-11-05 00:00:00'), Timestamp('2023-11-06 00:00:00'), Timestamp('2023-11-07 00:00:00'), Timestamp('2023-11-08 00:00:00'), Timestamp('2023-11-09 00:00:00'), Timestamp('2023-11-10 00:00:00'), Timestamp('2023-11-11 00:00:00'), Timestamp('2023-11-12 00:00:00'), Timestamp('2023-11-13 00:00:00'), Timestamp('2023-11-14 00:00:00'), Timestamp('2023-11-15 00:00:00'), Timestamp('2023-11-16 00:00:00'), Timestamp('2023-11-17 00:00:00'), Timestamp('2023-11-18 00:00:00'), Timestamp('2023-11-19 00:00:00'), Timestamp('2023-11-20 00:00:00'), Timestamp('2023-11-21 00:00:00'), Timestamp('2023-11-22 00:00:00'), Timestamp('2023-11-23 00:00:00'), Timestamp('2023-11-24 00:00:00'), Timestamp('2023-11-25 00:00:00'), Timestamp('2023-11-26 00:00:00'), Timestamp('2023-11-27 00:00:00'), Timestamp('2023-11-28 00:00:00'), Timestamp('2023-11-29 00:00:00'), Timestamp('2023-11-30 00:00:00'), Timestamp('2023-12-01 00:00:00'), Timestamp('2023-12-02 00:00:00'), Timestamp('2023-12-03 00:00:00'), Timestamp('2023-12-04 00:00:00'), Timestamp('2023-12-05 00:00:00'), Timestamp('2023-12-06 00:00:00'), Timestamp('2023-12-07 00:00:00'), Timestamp('2023-12-08 00:00:00'), Timestamp('2023-12-09 00:00:00'), Timestamp('2023-12-10 00:00:00'), Timestamp('2023-12-11 00:00:00'), Timestamp('2023-12-12 00:00:00'), Timestamp('2023-12-13 00:00:00'), Timestamp('2023-12-14 00:00:00'), Timestamp('2023-12-15 00:00:00'), Timestamp('2023-12-16 00:00:00'), Timestamp('2023-12-17 00:00:00'), Timestamp('2023-12-18 00:00:00'), Timestamp('2023-12-19 00:00:00'), Timestamp('2023-12-20 00:00:00'), Timestamp('2023-12-21 00:00:00'), Timestamp('2023-12-22 00:00:00'), Timestamp('2023-12-23 00:00:00'), Timestamp('2023-12-24 00:00:00'), Timestamp('2023-12-25 00:00:00'), Timestamp('2023-12-26 00:00:00'), Timestamp('2023-12-27 00:00:00'), Timestamp('2023-12-28 00:00:00'), Timestamp('2023-12-29 00:00:00'), Timestamp('2023-12-30 00:00:00'), Timestamp('2023-12-31 00:00:00'), Timestamp('2023-01-01 00:00:00'), Timestamp('2023-01-02 00:00:00'), Timestamp('2023-01-03 00:00:00'), Timestamp('2023-01-04 00:00:00'), Timestamp('2023-01-05 00:00:00'), Timestamp('2023-01-06 00:00:00'), Timestamp('2023-01-07 00:00:00'), Timestamp('2023-01-08 00:00:00'), Timestamp('2023-01-09 00:00:00'), Timestamp('2023-01-10 00:00:00'), Timestamp('2023-01-11 00:00:00'), Timestamp('2023-01-12 00:00:00'), Timestamp('2023-01-13 00:00:00'), Timestamp('2023-01-14 00:00:00'), Timestamp('2023-01-15 00:00:00'), Timestamp('2023-01-16 00:00:00'), Timestamp('2023-01-17 00:00:00'), Timestamp('2023-01-18 00:00:00'), Timestamp('2023-01-19 00:00:00'), Timestamp('2023-01-20 00:00:00'), Timestamp('2023-01-21 00:00:00'), Timestamp('2023-01-22 00:00:00'), Timestamp('2023-01-23 00:00:00'), Timestamp('2023-01-24 00:00:00'), Timestamp('2023-01-25 00:00:00'), Timestamp('2023-01-26 00:00:00'), Timestamp('2023-01-27 00:00:00'), Timestamp('2023-01-28 00:00:00'), Timestamp('2023-01-29 00:00:00'), Timestamp('2023-01-30 00:00:00'), Timestamp('2023-01-31 00:00:00'), Timestamp('2023-02-01 00:00:00'), Timestamp('2023-02-02 00:00:00'), Timestamp('2023-02-03 00:00:00'), Timestamp('2023-02-04 00:00:00'), Timestamp('2023-02-05 00:00:00'), Timestamp('2023-02-06 00:00:00'), Timestamp('2023-02-07 00:00:00'), Timestamp('2023-02-08 00:00:00'), Timestamp('2023-02-09 00:00:00'), Timestamp('2023-02-10 00:00:00'), Timestamp('2023-02-11 00:00:00'), Timestamp('2023-02-12 00:00:00'), Timestamp('2023-02-13 00:00:00'), Timestamp('2023-02-14 00:00:00'), Timestamp('2023-02-15 00:00:00'), Timestamp('2023-02-16 00:00:00'), Timestamp('2023-02-17 00:00:00'), Timestamp('2023-02-18 00:00:00'), Timestamp('2023-02-19 00:00:00'), Timestamp('2023-02-20 00:00:00'), Timestamp('2023-02-21 00:00:00'), Timestamp('2023-02-22 00:00:00'), Timestamp('2023-02-23 00:00:00'), Timestamp('2023-02-24 00:00:00'), Timestamp('2023-02-25 00:00:00'), Timestamp('2023-02-26 00:00:00'), Timestamp('2023-02-27 00:00:00'), Timestamp('2023-02-28 00:00:00'), Timestamp('2023-03-01 00:00:00'), Timestamp('2023-03-02 00:00:00'), Timestamp('2023-03-03 00:00:00'), Timestamp('2023-03-04 00:00:00'), Timestamp('2023-03-05 00:00:00'), Timestamp('2023-03-06 00:00:00'), Timestamp('2023-03-07 00:00:00'), Timestamp('2023-03-08 00:00:00'), Timestamp('2023-03-09 00:00:00'), Timestamp('2023-03-10 00:00:00'), Timestamp('2023-03-11 00:00:00'), Timestamp('2023-03-12 00:00:00'), Timestamp('2023-03-13 00:00:00'), Timestamp('2023-03-14 00:00:00'), Timestamp('2023-03-15 00:00:00'), Timestamp('2023-03-16 00:00:00'), Timestamp('2023-03-17 00:00:00'), Timestamp('2023-03-18 00:00:00'), Timestamp('2023-03-19 00:00:00'), Timestamp('2023-03-20 00:00:00'), Timestamp('2023-03-21 00:00:00'), Timestamp('2023-03-22 00:00:00'), Timestamp('2023-03-23 00:00:00'), Timestamp('2023-03-24 00:00:00'), Timestamp('2023-03-25 00:00:00'), Timestamp('2023-03-26 00:00:00'), Timestamp('2023-03-27 00:00:00'), Timestamp('2023-03-28 00:00:00'), Timestamp('2023-03-29 00:00:00'), Timestamp('2023-03-30 00:00:00'), Timestamp('2023-03-31 00:00:00'), Timestamp('2023-04-01 00:00:00'), Timestamp('2023-04-02 00:00:00'), Timestamp('2023-04-03 00:00:00'), Timestamp('2023-04-04 00:00:00'), Timestamp('2023-04-05 00:00:00'), Timestamp('2023-04-06 00:00:00'), Timestamp('2023-04-07 00:00:00'), Timestamp('2023-04-08 00:00:00'), Timestamp('2023-04-09 00:00:00'), Timestamp('2023-04-10 00:00:00'), Timestamp('2023-04-11 00:00:00'), Timestamp('2023-04-12 00:00:00'), Timestamp('2023-04-13 00:00:00'), Timestamp('2023-04-14 00:00:00'), Timestamp('2023-04-15 00:00:00'), Timestamp('2023-04-16 00:00:00'), Timestamp('2023-04-17 00:00:00'), Timestamp('2023-04-18 00:00:00'), Timestamp('2023-04-19 00:00:00'), Timestamp('2023-04-20 00:00:00'), Timestamp('2023-04-21 00:00:00'), Timestamp('2023-04-22 00:00:00'), Timestamp('2023-04-23 00:00:00'), Timestamp('2023-04-24 00:00:00'), Timestamp('2023-04-25 00:00:00'), Timestamp('2023-04-26 00:00:00'), Timestamp('2023-04-27 00:00:00'), Timestamp('2023-04-28 00:00:00'), Timestamp('2023-04-29 00:00:00'), Timestamp('2023-04-30 00:00:00'), Timestamp('2023-05-01 00:00:00'), Timestamp('2023-05-02 00:00:00'), Timestamp('2023-05-03 00:00:00'), Timestamp('2023-05-04 00:00:00'), Timestamp('2023-05-05 00:00:00'), Timestamp('2023-05-06 00:00:00'), Timestamp('2023-05-07 00:00:00'), Timestamp('2023-05-08 00:00:00'), Timestamp('2023-05-09 00:00:00'), Timestamp('2023-05-10 00:00:00'), Timestamp('2023-05-11 00:00:00'), Timestamp('2023-05-12 00:00:00'), Timestamp('2023-05-13 00:00:00'), Timestamp('2023-05-14 00:00:00'), Timestamp('2023-05-15 00:00:00'), Timestamp('2023-05-16 00:00:00'), Timestamp('2023-05-17 00:00:00'), Timestamp('2023-05-18 00:00:00'), Timestamp('2023-05-19 00:00:00'), Timestamp('2023-05-20 00:00:00'), Timestamp('2023-05-21 00:00:00'), Timestamp('2023-05-22 00:00:00'), Timestamp('2023-05-23 00:00:00'), Timestamp('2023-05-24 00:00:00'), Timestamp('2023-05-25 00:00:00'), Timestamp('2023-05-26 00:00:00'), Timestamp('2023-05-27 00:00:00'), Timestamp('2023-05-28 00:00:00'), Timestamp('2023-05-29 00:00:00'), Timestamp('2023-05-30 00:00:00'), Timestamp('2023-05-31 00:00:00'), Timestamp('2023-06-01 00:00:00'), Timestamp('2023-06-02 00:00:00'), Timestamp('2023-06-03 00:00:00'), Timestamp('2023-06-04 00:00:00'), Timestamp('2023-06-05 00:00:00'), Timestamp('2023-06-06 00:00:00'), Timestamp('2023-06-07 00:00:00'), Timestamp('2023-06-08 00:00:00'), Timestamp('2023-06-09 00:00:00'), Timestamp('2023-06-10 00:00:00'), Timestamp('2023-06-11 00:00:00'), Timestamp('2023-06-12 00:00:00'), Timestamp('2023-06-13 00:00:00'), Timestamp('2023-06-14 00:00:00'), Timestamp('2023-06-15 00:00:00'), Timestamp('2023-06-16 00:00:00'), Timestamp('2023-06-17 00:00:00'), Timestamp('2023-06-18 00:00:00'), Timestamp('2023-06-19 00:00:00'), Timestamp('2023-06-20 00:00:00'), Timestamp('2023-06-21 00:00:00'), Timestamp('2023-06-22 00:00:00'), Timestamp('2023-06-23 00:00:00'), Timestamp('2023-06-24 00:00:00'), Timestamp('2023-06-25 00:00:00'), Timestamp('2023-06-26 00:00:00'), Timestamp('2023-06-27 00:00:00'), Timestamp('2023-06-28 00:00:00'), Timestamp('2023-06-29 00:00:00'), Timestamp('2023-06-30 00:00:00'), Timestamp('2023-07-01 00:00:00'), Timestamp('2023-07-02 00:00:00'), Timestamp('2023-07-03 00:00:00'), Timestamp('2023-07-04 00:00:00'), Timestamp('2023-07-05 00:00:00'), Timestamp('2023-07-06 00:00:00'), Timestamp('2023-07-07 00:00:00'), Timestamp('2023-07-08 00:00:00'), Timestamp('2023-07-09 00:00:00'), Timestamp('2023-07-10 00:00:00'), Timestamp('2023-07-11 00:00:00'), Timestamp('2023-07-12 00:00:00'), Timestamp('2023-07-13 00:00:00'), Timestamp('2023-07-14 00:00:00'), Timestamp('2023-07-15 00:00:00'), Timestamp('2023-07-16 00:00:00'), Timestamp('2023-07-17 00:00:00'), Timestamp('2023-07-18 00:00:00'), Timestamp('2023-07-19 00:00:00'), Timestamp('2023-07-20 00:00:00'), Timestamp('2023-07-21 00:00:00'), Timestamp('2023-07-22 00:00:00'), Timestamp('2023-07-23 00:00:00'), Timestamp('2023-07-24 00:00:00'), Timestamp('2023-07-25 00:00:00'), Timestamp('2023-07-26 00:00:00'), Timestamp('2023-07-27 00:00:00'), Timestamp('2023-07-28 00:00:00'), Timestamp('2023-07-29 00:00:00'), Timestamp('2023-07-30 00:00:00'), Timestamp('2023-07-31 00:00:00'), Timestamp('2023-08-01 00:00:00'), Timestamp('2023-08-02 00:00:00'), Timestamp('2023-08-03 00:00:00'), Timestamp('2023-08-04 00:00:00'), Timestamp('2023-08-05 00:00:00'), Timestamp('2023-08-06 00:00:00'), Timestamp('2023-08-07 00:00:00'), Timestamp('2023-08-08 00:00:00'), Timestamp('2023-08-09 00:00:00'), Timestamp('2023-08-10 00:00:00'), Timestamp('2023-08-11 00:00:00'), Timestamp('2023-08-12 00:00:00'), Timestamp('2023-08-13 00:00:00'), Timestamp('2023-08-14 00:00:00'), Timestamp('2023-08-15 00:00:00'), Timestamp('2023-08-16 00:00:00'), Timestamp('2023-08-17 00:00:00'), Timestamp('2023-08-18 00:00:00'), Timestamp('2023-08-19 00:00:00'), Timestamp('2023-08-20 00:00:00'), Timestamp('2023-08-21 00:00:00'), Timestamp('2023-08-22 00:00:00'), Timestamp('2023-08-23 00:00:00'), Timestamp('2023-08-24 00:00:00'), Timestamp('2023-08-25 00:00:00'), Timestamp('2023-08-26 00:00:00'), Timestamp('2023-08-27 00:00:00'), Timestamp('2023-08-28 00:00:00'), Timestamp('2023-08-29 00:00:00'), Timestamp('2023-08-30 00:00:00'), Timestamp('2023-08-31 00:00:00'), Timestamp('2023-09-01 00:00:00'), Timestamp('2023-09-02 00:00:00'), Timestamp('2023-09-03 00:00:00'), Timestamp('2023-09-04 00:00:00'), Timestamp('2023-09-05 00:00:00'), Timestamp('2023-09-06 00:00:00'), Timestamp('2023-09-07 00:00:00'), Timestamp('2023-09-08 00:00:00'), Timestamp('2023-09-09 00:00:00'), Timestamp('2023-09-10 00:00:00'), Timestamp('2023-09-11 00:00:00'), Timestamp('2023-09-12 00:00:00'), Timestamp('2023-09-13 00:00:00'), Timestamp('2023-09-14 00:00:00'), Timestamp('2023-09-15 00:00:00'), Timestamp('2023-09-16 00:00:00'), Timestamp('2023-09-17 00:00:00'), Timestamp('2023-09-18 00:00:00'), Timestamp('2023-09-19 00:00:00'), Timestamp('2023-09-20 00:00:00'), Timestamp('2023-09-21 00:00:00'), Timestamp('2023-09-22 00:00:00'), Timestamp('2023-09-23 00:00:00'), Timestamp('2023-09-24 00:00:00'), Timestamp('2023-09-25 00:00:00'), Timestamp('2023-09-26 00:00:00'), Timestamp('2023-09-27 00:00:00'), Timestamp('2023-09-28 00:00:00'), Timestamp('2023-09-29 00:00:00'), Timestamp('2023-09-30 00:00:00'), Timestamp('2023-10-01 00:00:00'), Timestamp('2023-10-02 00:00:00'), Timestamp('2023-10-03 00:00:00'), Timestamp('2023-10-04 00:00:00'), Timestamp('2023-10-05 00:00:00'), Timestamp('2023-10-06 00:00:00'), Timestamp('2023-10-07 00:00:00'), Timestamp('2023-10-08 00:00:00'), Timestamp('2023-10-09 00:00:00'), Timestamp('2023-10-10 00:00:00'), Timestamp('2023-10-11 00:00:00'), Timestamp('2023-10-12 00:00:00'), Timestamp('2023-10-13 00:00:00'), Timestamp('2023-10-14 00:00:00'), Timestamp('2023-10-15 00:00:00'), Timestamp('2023-10-16 00:00:00'), Timestamp('2023-10-17 00:00:00'), Timestamp('2023-10-18 00:00:00'), Timestamp('2023-10-19 00:00:00'), Timestamp('2023-10-20 00:00:00'), Timestamp('2023-10-21 00:00:00'), Timestamp('2023-10-22 00:00:00'), Timestamp('2023-10-23 00:00:00'), Timestamp('2023-10-24 00:00:00'), Timestamp('2023-10-25 00:00:00'), Timestamp('2023-10-26 00:00:00'), Timestamp('2023-10-27 00:00:00'), Timestamp('2023-10-28 00:00:00'), Timestamp('2023-10-29 00:00:00'), Timestamp('2023-10-30 00:00:00'), Timestamp('2023-10-31 00:00:00'), Timestamp('2023-11-01 00:00:00'), Timestamp('2023-11-02 00:00:00'), Timestamp('2023-11-03 00:00:00'), Timestamp('2023-11-04 00:00:00'), Timestamp('2023-11-05 00:00:00'), Timestamp('2023-11-06 00:00:00'), Timestamp('2023-11-07 00:00:00'), Timestamp('2023-11-08 00:00:00'), Timestamp('2023-11-09 00:00:00'), Timestamp('2023-11-10 00:00:00'), Timestamp('2023-11-11 00:00:00'), Timestamp('2023-11-12 00:00:00'), Timestamp('2023-11-13 00:00:00'), Timestamp('2023-11-14 00:00:00'), Timestamp('2023-11-15 00:00:00'), Timestamp('2023-11-16 00:00:00'), Timestamp('2023-11-17 00:00:00'), Timestamp('2023-11-18 00:00:00'), Timestamp('2023-11-19 00:00:00'), Timestamp('2023-11-20 00:00:00'), Timestamp('2023-11-21 00:00:00'), Timestamp('2023-11-22 00:00:00'), Timestamp('2023-11-23 00:00:00'), Timestamp('2023-11-24 00:00:00'), Timestamp('2023-11-25 00:00:00'), Timestamp('2023-11-26 00:00:00'), Timestamp('2023-11-27 00:00:00'), Timestamp('2023-11-28 00:00:00'), Timestamp('2023-11-29 00:00:00'), Timestamp('2023-11-30 00:00:00'), Timestamp('2023-12-01 00:00:00'), Timestamp('2023-12-02 00:00:00'), Timestamp('2023-12-03 00:00:00'), Timestamp('2023-12-04 00:00:00'), Timestamp('2023-12-05 00:00:00'), Timestamp('2023-12-06 00:00:00'), Timestamp('2023-12-07 00:00:00'), Timestamp('2023-12-08 00:00:00'), Timestamp('2023-12-09 00:00:00'), Timestamp('2023-12-10 00:00:00'), Timestamp('2023-12-11 00:00:00'), Timestamp('2023-12-12 00:00:00'), Timestamp('2023-12-13 00:00:00'), Timestamp('2023-12-14 00:00:00'), Timestamp('2023-12-15 00:00:00'), Timestamp('2023-12-16 00:00:00'), Timestamp('2023-12-17 00:00:00'), Timestamp('2023-12-18 00:00:00'), Timestamp('2023-12-19 00:00:00'), Timestamp('2023-12-20 00:00:00'), Timestamp('2023-12-21 00:00:00'), Timestamp('2023-12-22 00:00:00'), Timestamp('2023-12-23 00:00:00'), Timestamp('2023-12-24 00:00:00'), Timestamp('2023-12-25 00:00:00'), Timestamp('2023-12-26 00:00:00'), Timestamp('2023-12-27 00:00:00'), Timestamp('2023-12-28 00:00:00'), Timestamp('2023-12-29 00:00:00'), Timestamp('2023-12-30 00:00:00'), Timestamp('2023-12-31 00:00:00'), Timestamp('2023-01-01 00:00:00'), Timestamp('2023-01-02 00:00:00'), Timestamp('2023-01-03 00:00:00'), Timestamp('2023-01-04 00:00:00'), Timestamp('2023-01-05 00:00:00'), Timestamp('2023-01-06 00:00:00'), Timestamp('2023-01-07 00:00:00'), Timestamp('2023-01-08 00:00:00'), Timestamp('2023-01-09 00:00:00'), Timestamp('2023-01-10 00:00:00'), Timestamp('2023-01-11 00:00:00'), Timestamp('2023-01-12 00:00:00'), Timestamp('2023-01-13 00:00:00'), Timestamp('2023-01-14 00:00:00'), Timestamp('2023-01-15 00:00:00'), Timestamp('2023-01-16 00:00:00'), Timestamp('2023-01-17 00:00:00'), Timestamp('2023-01-18 00:00:00'), Timestamp('2023-01-19 00:00:00'), Timestamp('2023-01-20 00:00:00'), Timestamp('2023-01-21 00:00:00'), Timestamp('2023-01-22 00:00:00'), Timestamp('2023-01-23 00:00:00'), Timestamp('2023-01-24 00:00:00'), Timestamp('2023-01-25 00:00:00'), Timestamp('2023-01-26 00:00:00'), Timestamp('2023-01-27 00:00:00'), Timestamp('2023-01-28 00:00:00'), Timestamp('2023-01-29 00:00:00'), Timestamp('2023-01-30 00:00:00'), Timestamp('2023-01-31 00:00:00'), Timestamp('2023-02-01 00:00:00'), Timestamp('2023-02-02 00:00:00'), Timestamp('2023-02-03 00:00:00'), Timestamp('2023-02-04 00:00:00'), Timestamp('2023-02-05 00:00:00'), Timestamp('2023-02-06 00:00:00'), Timestamp('2023-02-07 00:00:00'), Timestamp('2023-02-08 00:00:00'), Timestamp('2023-02-09 00:00:00'), Timestamp('2023-02-10 00:00:00'), Timestamp('2023-02-11 00:00:00'), Timestamp('2023-02-12 00:00:00'), Timestamp('2023-02-13 00:00:00'), Timestamp('2023-02-14 00:00:00'), Timestamp('2023-02-15 00:00:00'), Timestamp('2023-02-16 00:00:00'), Timestamp('2023-02-17 00:00:00'), Timestamp('2023-02-18 00:00:00'), Timestamp('2023-02-19 00:00:00'), Timestamp('2023-02-20 00:00:00'), Timestamp('2023-02-21 00:00:00'), Timestamp('2023-02-22 00:00:00'), Timestamp('2023-02-23 00:00:00'), Timestamp('2023-02-24 00:00:00'), Timestamp('2023-02-25 00:00:00'), Timestamp('2023-02-26 00:00:00'), Timestamp('2023-02-27 00:00:00'), Timestamp('2023-02-28 00:00:00'), Timestamp('2023-03-01 00:00:00'), Timestamp('2023-03-02 00:00:00'), Timestamp('2023-03-03 00:00:00'), Timestamp('2023-03-04 00:00:00'), Timestamp('2023-03-05 00:00:00'), Timestamp('2023-03-06 00:00:00'), Timestamp('2023-03-07 00:00:00'), Timestamp('2023-03-08 00:00:00'), Timestamp('2023-03-09 00:00:00'), Timestamp('2023-03-10 00:00:00'), Timestamp('2023-03-11 00:00:00'), Timestamp('2023-03-12 00:00:00'), Timestamp('2023-03-13 00:00:00'), Timestamp('2023-03-14 00:00:00'), Timestamp('2023-03-15 00:00:00'), Timestamp('2023-03-16 00:00:00'), Timestamp('2023-03-17 00:00:00'), Timestamp('2023-03-18 00:00:00'), Timestamp('2023-03-19 00:00:00'), Timestamp('2023-03-20 00:00:00'), Timestamp('2023-03-21 00:00:00'), Timestamp('2023-03-22 00:00:00'), Timestamp('2023-03-23 00:00:00'), Timestamp('2023-03-24 00:00:00'), Timestamp('2023-03-25 00:00:00'), Timestamp('2023-03-26 00:00:00'), Timestamp('2023-03-27 00:00:00'), Timestamp('2023-03-28 00:00:00'), Timestamp('2023-03-29 00:00:00'), Timestamp('2023-03-30 00:00:00'), Timestamp('2023-03-31 00:00:00'), Timestamp('2023-04-01 00:00:00'), Timestamp('2023-04-02 00:00:00'), Timestamp('2023-04-03 00:00:00'), Timestamp('2023-04-04 00:00:00'), Timestamp('2023-04-05 00:00:00'), Timestamp('2023-04-06 00:00:00'), Timestamp('2023-04-07 00:00:00'), Timestamp('2023-04-08 00:00:00'), Timestamp('2023-04-09 00:00:00'), Timestamp('2023-04-10 00:00:00'), Timestamp('2023-04-11 00:00:00'), Timestamp('2023-04-12 00:00:00'), Timestamp('2023-04-13 00:00:00'), Timestamp('2023-04-14 00:00:00'), Timestamp('2023-04-15 00:00:00'), Timestamp('2023-04-16 00:00:00'), Timestamp('2023-04-17 00:00:00'), Timestamp('2023-04-18 00:00:00'), Timestamp('2023-04-19 00:00:00'), Timestamp('2023-04-20 00:00:00'), Timestamp('2023-04-21 00:00:00'), Timestamp('2023-04-22 00:00:00'), Timestamp('2023-04-23 00:00:00'), Timestamp('2023-04-24 00:00:00'), Timestamp('2023-04-25 00:00:00'), Timestamp('2023-04-26 00:00:00'), Timestamp('2023-04-27 00:00:00'), Timestamp('2023-04-28 00:00:00'), Timestamp('2023-04-29 00:00:00'), Timestamp('2023-04-30 00:00:00'), Timestamp('2023-05-01 00:00:00'), Timestamp('2023-05-02 00:00:00'), Timestamp('2023-05-03 00:00:00'), Timestamp('2023-05-04 00:00:00'), Timestamp('2023-05-05 00:00:00'), Timestamp('2023-05-06 00:00:00'), Timestamp('2023-05-07 00:00:00'), Timestamp('2023-05-08 00:00:00'), Timestamp('2023-05-09 00:00:00'), Timestamp('2023-05-10 00:00:00'), Timestamp('2023-05-11 00:00:00'), Timestamp('2023-05-12 00:00:00'), Timestamp('2023-05-13 00:00:00'), Timestamp('2023-05-14 00:00:00'), Timestamp('2023-05-15 00:00:00'), Timestamp('2023-05-16 00:00:00'), Timestamp('2023-05-17 00:00:00'), Timestamp('2023-05-18 00:00:00'), Timestamp('2023-05-19 00:00:00'), Timestamp('2023-05-20 00:00:00'), Timestamp('2023-05-21 00:00:00'), Timestamp('2023-05-22 00:00:00'), Timestamp('2023-05-23 00:00:00'), Timestamp('2023-05-24 00:00:00'), Timestamp('2023-05-25 00:00:00'), Timestamp('2023-05-26 00:00:00'), Timestamp('2023-05-27 00:00:00'), Timestamp('2023-05-28 00:00:00'), Timestamp('2023-05-29 00:00:00'), Timestamp('2023-05-30 00:00:00'), Timestamp('2023-05-31 00:00:00'), Timestamp('2023-06-01 00:00:00'), Timestamp('2023-06-02 00:00:00'), Timestamp('2023-06-03 00:00:00'), Timestamp('2023-06-04 00:00:00'), Timestamp('2023-06-05 00:00:00'), Timestamp('2023-06-06 00:00:00'), Timestamp('2023-06-07 00:00:00'), Timestamp('2023-06-08 00:00:00'), Timestamp('2023-06-09 00:00:00'), Timestamp('2023-06-10 00:00:00'), Timestamp('2023-06-11 00:00:00'), Timestamp('2023-06-12 00:00:00'), Timestamp('2023-06-13 00:00:00'), Timestamp('2023-06-14 00:00:00'), Timestamp('2023-06-15 00:00:00'), Timestamp('2023-06-16 00:00:00'), Timestamp('2023-06-17 00:00:00'), Timestamp('2023-06-18 00:00:00'), Timestamp('2023-06-19 00:00:00'), Timestamp('2023-06-20 00:00:00'), Timestamp('2023-06-21 00:00:00'), Timestamp('2023-06-22 00:00:00'), Timestamp('2023-06-23 00:00:00'), Timestamp('2023-06-24 00:00:00'), Timestamp('2023-06-25 00:00:00'), Timestamp('2023-06-26 00:00:00'), Timestamp('2023-06-27 00:00:00'), Timestamp('2023-06-28 00:00:00'), Timestamp('2023-06-29 00:00:00'), Timestamp('2023-06-30 00:00:00'), Timestamp('2023-07-01 00:00:00'), Timestamp('2023-07-02 00:00:00'), Timestamp('2023-07-03 00:00:00'), Timestamp('2023-07-04 00:00:00'), Timestamp('2023-07-05 00:00:00'), Timestamp('2023-07-06 00:00:00'), Timestamp('2023-07-07 00:00:00'), Timestamp('2023-07-08 00:00:00'), Timestamp('2023-07-09 00:00:00'), Timestamp('2023-07-10 00:00:00'), Timestamp('2023-07-11 00:00:00'), Timestamp('2023-07-12 00:00:00'), Timestamp('2023-07-13 00:00:00'), Timestamp('2023-07-14 00:00:00'), Timestamp('2023-07-15 00:00:00'), Timestamp('2023-07-16 00:00:00'), Timestamp('2023-07-17 00:00:00'), Timestamp('2023-07-18 00:00:00'), Timestamp('2023-07-19 00:00:00'), Timestamp('2023-07-20 00:00:00'), Timestamp('2023-07-21 00:00:00'), Timestamp('2023-07-22 00:00:00'), Timestamp('2023-07-23 00:00:00'), Timestamp('2023-07-24 00:00:00'), Timestamp('2023-07-25 00:00:00'), Timestamp('2023-07-26 00:00:00'), Timestamp('2023-07-27 00:00:00'), Timestamp('2023-07-28 00:00:00'), Timestamp('2023-07-29 00:00:00'), Timestamp('2023-07-30 00:00:00'), Timestamp('2023-07-31 00:00:00'), Timestamp('2023-08-01 00:00:00'), Timestamp('2023-08-02 00:00:00'), Timestamp('2023-08-03 00:00:00'), Timestamp('2023-08-04 00:00:00'), Timestamp('2023-08-05 00:00:00'), Timestamp('2023-08-06 00:00:00'), Timestamp('2023-08-07 00:00:00'), Timestamp('2023-08-08 00:00:00'), Timestamp('2023-08-09 00:00:00'), Timestamp('2023-08-10 00:00:00'), Timestamp('2023-08-11 00:00:00'), Timestamp('2023-08-12 00:00:00'), Timestamp('2023-08-13 00:00:00'), Timestamp('2023-08-14 00:00:00'), Timestamp('2023-08-15 00:00:00'), Timestamp('2023-08-16 00:00:00'), Timestamp('2023-08-17 00:00:00'), Timestamp('2023-08-18 00:00:00'), Timestamp('2023-08-19 00:00:00'), Timestamp('2023-08-20 00:00:00'), Timestamp('2023-08-21 00:00:00'), Timestamp('2023-08-22 00:00:00'), Timestamp('2023-08-23 00:00:00'), Timestamp('2023-08-24 00:00:00'), Timestamp('2023-08-25 00:00:00'), Timestamp('2023-08-26 00:00:00'), Timestamp('2023-08-27 00:00:00'), Timestamp('2023-08-28 00:00:00'), Timestamp('2023-08-29 00:00:00'), Timestamp('2023-08-30 00:00:00'), Timestamp('2023-08-31 00:00:00'), Timestamp('2023-09-01 00:00:00'), Timestamp('2023-09-02 00:00:00'), Timestamp('2023-09-03 00:00:00'), Timestamp('2023-09-04 00:00:00'), Timestamp('2023-09-05 00:00:00'), Timestamp('2023-09-06 00:00:00'), Timestamp('2023-09-07 00:00:00'), Timestamp('2023-09-08 00:00:00'), Timestamp('2023-09-09 00:00:00'), Timestamp('2023-09-10 00:00:00'), Timestamp('2023-09-11 00:00:00'), Timestamp('2023-09-12 00:00:00'), Timestamp('2023-09-13 00:00:00'), Timestamp('2023-09-14 00:00:00'), Timestamp('2023-09-15 00:00:00'), Timestamp('2023-09-16 00:00:00'), Timestamp('2023-09-17 00:00:00'), Timestamp('2023-09-18 00:00:00'), Timestamp('2023-09-19 00:00:00'), Timestamp('2023-09-20 00:00:00'), Timestamp('2023-09-21 00:00:00'), Timestamp('2023-09-22 00:00:00'), Timestamp('2023-09-23 00:00:00'), Timestamp('2023-09-24 00:00:00'), Timestamp('2023-09-25 00:00:00'), Timestamp('2023-09-26 00:00:00'), Timestamp('2023-09-27 00:00:00'), Timestamp('2023-09-28 00:00:00'), Timestamp('2023-09-29 00:00:00'), Timestamp('2023-09-30 00:00:00'), Timestamp('2023-10-01 00:00:00'), Timestamp('2023-10-02 00:00:00'), Timestamp('2023-10-03 00:00:00'), Timestamp('2023-10-04 00:00:00'), Timestamp('2023-10-05 00:00:00'), Timestamp('2023-10-06 00:00:00'), Timestamp('2023-10-07 00:00:00'), Timestamp('2023-10-08 00:00:00'), Timestamp('2023-10-09 00:00:00'), Timestamp('2023-10-10 00:00:00'), Timestamp('2023-10-11 00:00:00'), Timestamp('2023-10-12 00:00:00'), Timestamp('2023-10-13 00:00:00'), Timestamp('2023-10-14 00:00:00'), Timestamp('2023-10-15 00:00:00'), Timestamp('2023-10-16 00:00:00'), Timestamp('2023-10-17 00:00:00'), Timestamp('2023-10-18 00:00:00'), Timestamp('2023-10-19 00:00:00'), Timestamp('2023-10-20 00:00:00'), Timestamp('2023-10-21 00:00:00'), Timestamp('2023-10-22 00:00:00'), Timestamp('2023-10-23 00:00:00'), Timestamp('2023-10-24 00:00:00'), Timestamp('2023-10-25 00:00:00'), Timestamp('2023-10-26 00:00:00'), Timestamp('2023-10-27 00:00:00'), Timestamp('2023-10-28 00:00:00'), Timestamp('2023-10-29 00:00:00'), Timestamp('2023-10-30 00:00:00'), Timestamp('2023-10-31 00:00:00'), Timestamp('2023-11-01 00:00:00'), Timestamp('2023-11-02 00:00:00'), Timestamp('2023-11-03 00:00:00'), Timestamp('2023-11-04 00:00:00'), Timestamp('2023-11-05 00:00:00'), Timestamp('2023-11-06 00:00:00'), Timestamp('2023-11-07 00:00:00'), Timestamp('2023-11-08 00:00:00'), Timestamp('2023-11-09 00:00:00'), Timestamp('2023-11-10 00:00:00'), Timestamp('2023-11-11 00:00:00'), Timestamp('2023-11-12 00:00:00'), Timestamp('2023-11-13 00:00:00'), Timestamp('2023-11-14 00:00:00'), Timestamp('2023-11-15 00:00:00'), Timestamp('2023-11-16 00:00:00'), Timestamp('2023-11-17 00:00:00'), Timestamp('2023-11-18 00:00:00'), Timestamp('2023-11-19 00:00:00'), Timestamp('2023-11-20 00:00:00'), Timestamp('2023-11-21 00:00:00'), Timestamp('2023-11-22 00:00:00'), Timestamp('2023-11-23 00:00:00'), Timestamp('2023-11-24 00:00:00'), Timestamp('2023-11-25 00:00:00'), Timestamp('2023-11-26 00:00:00'), Timestamp('2023-11-27 00:00:00'), Timestamp('2023-11-28 00:00:00'), Timestamp('2023-11-29 00:00:00'), Timestamp('2023-11-30 00:00:00'), Timestamp('2023-12-01 00:00:00'), Timestamp('2023-12-02 00:00:00'), Timestamp('2023-12-03 00:00:00'), Timestamp('2023-12-04 00:00:00'), Timestamp('2023-12-05 00:00:00'), Timestamp('2023-12-06 00:00:00'), Timestamp('2023-12-07 00:00:00'), Timestamp('2023-12-08 00:00:00'), Timestamp('2023-12-09 00:00:00'), Timestamp('2023-12-10 00:00:00'), Timestamp('2023-12-11 00:00:00'), Timestamp('2023-12-12 00:00:00'), Timestamp('2023-12-13 00:00:00'), Timestamp('2023-12-14 00:00:00'), Timestamp('2023-12-15 00:00:00'), Timestamp('2023-12-16 00:00:00'), Timestamp('2023-12-17 00:00:00'), Timestamp('2023-12-18 00:00:00'), Timestamp('2023-12-19 00:00:00'), Timestamp('2023-12-20 00:00:00'), Timestamp('2023-12-21 00:00:00'), Timestamp('2023-12-22 00:00:00'), Timestamp('2023-12-23 00:00:00'), Timestamp('2023-12-24 00:00:00'), Timestamp('2023-12-25 00:00:00'), Timestamp('2023-12-26 00:00:00'), Timestamp('2023-12-27 00:00:00'), Timestamp('2023-12-28 00:00:00'), Timestamp('2023-12-29 00:00:00'), Timestamp('2023-12-30 00:00:00'), Timestamp('2023-12-31 00:00:00'), Timestamp('2023-01-01 00:00:00'), Timestamp('2023-01-02 00:00:00'), Timestamp('2023-01-03 00:00:00'), Timestamp('2023-01-04 00:00:00'), Timestamp('2023-01-05 00:00:00'), Timestamp('2023-01-06 00:00:00'), Timestamp('2023-01-07 00:00:00'), Timestamp('2023-01-08 00:00:00'), Timestamp('2023-01-09 00:00:00'), Timestamp('2023-01-10 00:00:00'), Timestamp('2023-01-11 00:00:00'), Timestamp('2023-01-12 00:00:00'), Timestamp('2023-01-13 00:00:00'), Timestamp('2023-01-14 00:00:00'), Timestamp('2023-01-15 00:00:00'), Timestamp('2023-01-16 00:00:00'), Timestamp('2023-01-17 00:00:00'), Timestamp('2023-01-18 00:00:00'), Timestamp('2023-01-19 00:00:00'), Timestamp('2023-01-20 00:00:00'), Timestamp('2023-01-21 00:00:00'), Timestamp('2023-01-22 00:00:00'), Timestamp('2023-01-23 00:00:00'), Timestamp('2023-01-24 00:00:00'), Timestamp('2023-01-25 00:00:00'), Timestamp('2023-01-26 00:00:00'), Timestamp('2023-01-27 00:00:00'), Timestamp('2023-01-28 00:00:00'), Timestamp('2023-01-29 00:00:00'), Timestamp('2023-01-30 00:00:00'), Timestamp('2023-01-31 00:00:00'), Timestamp('2023-02-01 00:00:00'), Timestamp('2023-02-02 00:00:00'), Timestamp('2023-02-03 00:00:00'), Timestamp('2023-02-04 00:00:00'), Timestamp('2023-02-05 00:00:00'), Timestamp('2023-02-06 00:00:00'), Timestamp('2023-02-07 00:00:00'), Timestamp('2023-02-08 00:00:00'), Timestamp('2023-02-09 00:00:00'), Timestamp('2023-02-10 00:00:00'), Timestamp('2023-02-11 00:00:00'), Timestamp('2023-02-12 00:00:00'), Timestamp('2023-02-13 00:00:00'), Timestamp('2023-02-14 00:00:00'), Timestamp('2023-02-15 00:00:00'), Timestamp('2023-02-16 00:00:00'), Timestamp('2023-02-17 00:00:00'), Timestamp('2023-02-18 00:00:00'), Timestamp('2023-02-22 00:00:00'), Timestamp('2023-02-23 00:00:00'), Timestamp('2023-02-24 00:00:00'), Timestamp('2023-02-25 00:00:00'), Timestamp('2023-02-26 00:00:00'), Timestamp('2023-02-27 00:00:00'), Timestamp('2023-02-28 00:00:00'), Timestamp('2023-03-01 00:00:00'), Timestamp('2023-03-02 00:00:00'), Timestamp('2023-03-03 00:00:00'), Timestamp('2023-03-04 00:00:00'), Timestamp('2023-03-05 00:00:00'), Timestamp('2023-03-06 00:00:00'), Timestamp('2023-03-07 00:00:00'), Timestamp('2023-03-08 00:00:00'), Timestamp('2023-03-09 00:00:00'), Timestamp('2023-03-10 00:00:00'), Timestamp('2023-03-11 00:00:00'), Timestamp('2023-03-12 00:00:00'), Timestamp('2023-03-13 00:00:00'), Timestamp('2023-03-14 00:00:00'), Timestamp('2023-03-15 00:00:00'), Timestamp('2023-03-16 00:00:00'), Timestamp('2023-03-17 00:00:00'), Timestamp('2023-03-18 00:00:00'), Timestamp('2023-03-19 00:00:00'), Timestamp('2023-03-20 00:00:00'), Timestamp('2023-03-21 00:00:00'), Timestamp('2023-03-23 00:00:00'), Timestamp('2023-03-24 00:00:00'), Timestamp('2023-03-25 00:00:00'), Timestamp('2023-03-26 00:00:00'), Timestamp('2023-03-27 00:00:00'), Timestamp('2023-03-28 00:00:00'), Timestamp('2023-03-29 00:00:00'), Timestamp('2023-03-30 00:00:00'), Timestamp('2023-03-31 00:00:00'), Timestamp('2023-04-01 00:00:00'), Timestamp('2023-04-02 00:00:00'), Timestamp('2023-04-03 00:00:00'), Timestamp('2023-04-04 00:00:00'), Timestamp('2023-04-05 00:00:00'), Timestamp('2023-04-06 00:00:00'), Timestamp('2023-04-07 00:00:00'), Timestamp('2023-04-08 00:00:00'), Timestamp('2023-04-09 00:00:00'), Timestamp('2023-04-10 00:00:00'), Timestamp('2023-04-11 00:00:00'), Timestamp('2023-04-12 00:00:00'), Timestamp('2023-04-13 00:00:00'), Timestamp('2023-04-14 00:00:00'), Timestamp('2023-04-15 00:00:00'), Timestamp('2023-04-16 00:00:00'), Timestamp('2023-04-17 00:00:00'), Timestamp('2023-04-18 00:00:00'), Timestamp('2023-04-19 00:00:00'), Timestamp('2023-04-20 00:00:00'), Timestamp('2023-04-21 00:00:00'), Timestamp('2023-04-22 00:00:00'), Timestamp('2023-04-23 00:00:00'), Timestamp('2023-04-24 00:00:00'), Timestamp('2023-04-25 00:00:00'), Timestamp('2023-04-26 00:00:00'), Timestamp('2023-04-27 00:00:00'), Timestamp('2023-04-28 00:00:00'), Timestamp('2023-04-29 00:00:00'), Timestamp('2023-04-30 00:00:00'), Timestamp('2023-05-01 00:00:00'), Timestamp('2023-05-02 00:00:00'), Timestamp('2023-05-03 00:00:00'), Timestamp('2023-05-04 00:00:00'), Timestamp('2023-05-05 00:00:00'), Timestamp('2023-05-06 00:00:00'), Timestamp('2023-05-07 00:00:00'), Timestamp('2023-05-08 00:00:00'), Timestamp('2023-05-09 00:00:00'), Timestamp('2023-05-10 00:00:00'), Timestamp('2023-05-11 00:00:00'), Timestamp('2023-05-12 00:00:00'), Timestamp('2023-05-13 00:00:00'), Timestamp('2023-05-14 00:00:00'), Timestamp('2023-05-15 00:00:00'), Timestamp('2023-05-16 00:00:00'), Timestamp('2023-05-17 00:00:00'), Timestamp('2023-05-18 00:00:00'), Timestamp('2023-05-19 00:00:00'), Timestamp('2023-05-20 00:00:00'), Timestamp('2023-05-21 00:00:00'), Timestamp('2023-05-22 00:00:00'), Timestamp('2023-05-23 00:00:00'), Timestamp('2023-05-24 00:00:00'), Timestamp('2023-05-25 00:00:00'), Timestamp('2023-05-26 00:00:00'), Timestamp('2023-05-27 00:00:00'), Timestamp('2023-05-28 00:00:00'), Timestamp('2023-05-29 00:00:00'), Timestamp('2023-05-30 00:00:00'), Timestamp('2023-05-31 00:00:00'), Timestamp('2023-06-01 00:00:00'), Timestamp('2023-06-02 00:00:00'), Timestamp('2023-06-03 00:00:00'), Timestamp('2023-06-04 00:00:00'), Timestamp('2023-06-05 00:00:00'), Timestamp('2023-06-06 00:00:00'), Timestamp('2023-06-07 00:00:00'), Timestamp('2023-06-08 00:00:00'), Timestamp('2023-06-09 00:00:00'), Timestamp('2023-06-10 00:00:00'), Timestamp('2023-06-11 00:00:00'), Timestamp('2023-06-12 00:00:00'), Timestamp('2023-06-13 00:00:00'), Timestamp('2023-06-14 00:00:00'), Timestamp('2023-06-15 00:00:00'), Timestamp('2023-06-16 00:00:00'), Timestamp('2023-06-17 00:00:00'), Timestamp('2023-06-18 00:00:00'), Timestamp('2023-06-19 00:00:00'), Timestamp('2023-06-20 00:00:00'), Timestamp('2023-06-21 00:00:00'), Timestamp('2023-06-22 00:00:00'), Timestamp('2023-06-23 00:00:00'), Timestamp('2023-06-24 00:00:00'), Timestamp('2023-06-25 00:00:00'), Timestamp('2023-06-26 00:00:00'), Timestamp('2023-06-27 00:00:00'), Timestamp('2023-06-28 00:00:00'), Timestamp('2023-06-29 00:00:00'), Timestamp('2023-06-30 00:00:00'), Timestamp('2023-07-01 00:00:00'), Timestamp('2023-07-02 00:00:00'), Timestamp('2023-07-03 00:00:00'), Timestamp('2023-07-04 00:00:00'), Timestamp('2023-07-05 00:00:00'), Timestamp('2023-07-06 00:00:00'), Timestamp('2023-07-07 00:00:00'), Timestamp('2023-07-08 00:00:00'), Timestamp('2023-07-09 00:00:00'), Timestamp('2023-07-10 00:00:00'), Timestamp('2023-07-11 00:00:00'), Timestamp('2023-07-12 00:00:00'), Timestamp('2023-07-13 00:00:00'), Timestamp('2023-07-14 00:00:00'), Timestamp('2023-07-15 00:00:00'), Timestamp('2023-07-16 00:00:00'), Timestamp('2023-07-17 00:00:00'), Timestamp('2023-07-18 00:00:00'), Timestamp('2023-07-19 00:00:00'), Timestamp('2023-07-20 00:00:00'), Timestamp('2023-07-21 00:00:00'), Timestamp('2023-07-22 00:00:00'), Timestamp('2023-07-23 00:00:00'), Timestamp('2023-07-24 00:00:00'), Timestamp('2023-07-25 00:00:00'), Timestamp('2023-07-26 00:00:00'), Timestamp('2023-07-27 00:00:00'), Timestamp('2023-07-28 00:00:00'), Timestamp('2023-07-29 00:00:00'), Timestamp('2023-07-30 00:00:00'), Timestamp('2023-07-31 00:00:00'), Timestamp('2023-08-01 00:00:00'), Timestamp('2023-08-02 00:00:00'), Timestamp('2023-08-03 00:00:00'), Timestamp('2023-08-04 00:00:00'), Timestamp('2023-08-05 00:00:00'), Timestamp('2023-08-06 00:00:00'), Timestamp('2023-08-07 00:00:00'), Timestamp('2023-08-08 00:00:00'), Timestamp('2023-08-09 00:00:00'), Timestamp('2023-08-10 00:00:00'), Timestamp('2023-08-11 00:00:00'), Timestamp('2023-08-12 00:00:00'), Timestamp('2023-08-13 00:00:00'), Timestamp('2023-08-14 00:00:00'), Timestamp('2023-08-15 00:00:00'), Timestamp('2023-08-16 00:00:00'), Timestamp('2023-08-17 00:00:00'), Timestamp('2023-08-18 00:00:00'), Timestamp('2023-08-19 00:00:00'), Timestamp('2023-08-20 00:00:00'), Timestamp('2023-08-21 00:00:00'), Timestamp('2023-08-22 00:00:00'), Timestamp('2023-08-23 00:00:00'), Timestamp('2023-08-24 00:00:00'), Timestamp('2023-08-25 00:00:00'), Timestamp('2023-08-26 00:00:00'), Timestamp('2023-08-27 00:00:00'), Timestamp('2023-08-28 00:00:00'), Timestamp('2023-08-29 00:00:00'), Timestamp('2023-08-30 00:00:00'), Timestamp('2023-08-31 00:00:00'), Timestamp('2023-09-01 00:00:00'), Timestamp('2023-09-02 00:00:00'), Timestamp('2023-09-03 00:00:00'), Timestamp('2023-09-04 00:00:00'), Timestamp('2023-09-05 00:00:00'), Timestamp('2023-09-06 00:00:00'), Timestamp('2023-09-07 00:00:00'), Timestamp('2023-09-08 00:00:00'), Timestamp('2023-09-09 00:00:00'), Timestamp('2023-09-10 00:00:00'), Timestamp('2023-09-11 00:00:00'), Timestamp('2023-09-12 00:00:00'), Timestamp('2023-09-13 00:00:00'), Timestamp('2023-09-14 00:00:00'), Timestamp('2023-09-15 00:00:00'), Timestamp('2023-09-16 00:00:00'), Timestamp('2023-09-17 00:00:00'), Timestamp('2023-09-19 00:00:00'), Timestamp('2023-09-20 00:00:00'), Timestamp('2023-09-21 00:00:00'), Timestamp('2023-09-22 00:00:00'), Timestamp('2023-09-23 00:00:00'), Timestamp('2023-09-24 00:00:00'), Timestamp('2023-09-25 00:00:00'), Timestamp('2023-09-26 00:00:00'), Timestamp('2023-09-28 00:00:00'), Timestamp('2023-09-29 00:00:00'), Timestamp('2023-09-30 00:00:00'), Timestamp('2023-10-01 00:00:00'), Timestamp('2023-10-02 00:00:00'), Timestamp('2023-10-03 00:00:00'), Timestamp('2023-10-04 00:00:00'), Timestamp('2023-10-05 00:00:00'), Timestamp('2023-10-06 00:00:00'), Timestamp('2023-10-07 00:00:00'), Timestamp('2023-10-08 00:00:00'), Timestamp('2023-10-09 00:00:00'), Timestamp('2023-10-10 00:00:00'), Timestamp('2023-10-11 00:00:00'), Timestamp('2023-10-12 00:00:00'), Timestamp('2023-10-13 00:00:00'), Timestamp('2023-10-14 00:00:00'), Timestamp('2023-10-15 00:00:00'), Timestamp('2023-10-16 00:00:00'), Timestamp('2023-10-17 00:00:00'), Timestamp('2023-10-18 00:00:00'), Timestamp('2023-10-19 00:00:00'), Timestamp('2023-10-20 00:00:00'), Timestamp('2023-10-21 00:00:00'), Timestamp('2023-10-22 00:00:00'), Timestamp('2023-10-23 00:00:00'), Timestamp('2023-10-24 00:00:00'), Timestamp('2023-10-25 00:00:00'), Timestamp('2023-10-26 00:00:00'), Timestamp('2023-10-27 00:00:00'), Timestamp('2023-10-28 00:00:00'), Timestamp('2023-10-29 00:00:00'), Timestamp('2023-10-30 00:00:00'), Timestamp('2023-10-31 00:00:00'), Timestamp('2023-11-01 00:00:00'), Timestamp('2023-11-02 00:00:00'), Timestamp('2023-11-03 00:00:00'), Timestamp('2023-11-04 00:00:00'), Timestamp('2023-11-05 00:00:00'), Timestamp('2023-11-06 00:00:00'), Timestamp('2023-11-07 00:00:00'), Timestamp('2023-11-08 00:00:00'), Timestamp('2023-11-09 00:00:00'), Timestamp('2023-11-10 00:00:00'), Timestamp('2023-11-11 00:00:00'), Timestamp('2023-11-12 00:00:00'), Timestamp('2023-11-13 00:00:00'), Timestamp('2023-11-14 00:00:00'), Timestamp('2023-11-15 00:00:00'), Timestamp('2023-11-16 00:00:00'), Timestamp('2023-11-17 00:00:00'), Timestamp('2023-11-18 00:00:00'), Timestamp('2023-11-19 00:00:00'), Timestamp('2023-11-20 00:00:00'), Timestamp('2023-11-21 00:00:00'), Timestamp('2023-11-22 00:00:00'), Timestamp('2023-11-23 00:00:00'), Timestamp('2023-11-24 00:00:00'), Timestamp('2023-11-25 00:00:00'), Timestamp('2023-11-26 00:00:00'), Timestamp('2023-11-27 00:00:00'), Timestamp('2023-11-28 00:00:00'), Timestamp('2023-11-29 00:00:00'), Timestamp('2023-11-30 00:00:00'), Timestamp('2023-12-01 00:00:00'), Timestamp('2023-12-02 00:00:00'), Timestamp('2023-12-03 00:00:00'), Timestamp('2023-12-04 00:00:00'), Timestamp('2023-12-05 00:00:00'), Timestamp('2023-12-06 00:00:00'), Timestamp('2023-12-07 00:00:00'), Timestamp('2023-12-08 00:00:00'), Timestamp('2023-12-09 00:00:00'), Timestamp('2023-12-10 00:00:00'), Timestamp('2023-12-11 00:00:00'), Timestamp('2023-12-12 00:00:00'), Timestamp('2023-12-13 00:00:00'), Timestamp('2023-12-14 00:00:00'), Timestamp('2023-12-15 00:00:00'), Timestamp('2023-12-16 00:00:00'), Timestamp('2023-12-17 00:00:00'), Timestamp('2023-12-18 00:00:00'), Timestamp('2023-12-19 00:00:00'), Timestamp('2023-12-20 00:00:00'), Timestamp('2023-12-21 00:00:00'), Timestamp('2023-12-22 00:00:00'), Timestamp('2023-12-23 00:00:00'), Timestamp('2023-12-24 00:00:00'), Timestamp('2023-12-25 00:00:00'), Timestamp('2023-12-26 00:00:00'), Timestamp('2023-12-27 00:00:00'), Timestamp('2023-12-28 00:00:00'), Timestamp('2023-12-29 00:00:00'), Timestamp('2023-12-30 00:00:00'), Timestamp('2023-12-31 00:00:00'), Timestamp('2023-01-01 00:00:00'), Timestamp('2023-01-02 00:00:00'), Timestamp('2023-01-03 00:00:00'), Timestamp('2023-01-04 00:00:00'), Timestamp('2023-01-05 00:00:00'), Timestamp('2023-01-06 00:00:00'), Timestamp('2023-01-07 00:00:00'), Timestamp('2023-01-08 00:00:00'), Timestamp('2023-01-09 00:00:00'), Timestamp('2023-01-10 00:00:00'), Timestamp('2023-01-11 00:00:00'), Timestamp('2023-01-12 00:00:00'), Timestamp('2023-01-13 00:00:00'), Timestamp('2023-01-14 00:00:00'), Timestamp('2023-01-15 00:00:00'), Timestamp('2023-01-16 00:00:00'), Timestamp('2023-01-17 00:00:00'), Timestamp('2023-01-18 00:00:00'), Timestamp('2023-01-19 00:00:00'), Timestamp('2023-01-20 00:00:00'), Timestamp('2023-01-21 00:00:00'), Timestamp('2023-01-22 00:00:00'), Timestamp('2023-01-23 00:00:00'), Timestamp('2023-01-24 00:00:00'), Timestamp('2023-01-25 00:00:00'), Timestamp('2023-01-26 00:00:00'), Timestamp('2023-01-27 00:00:00'), Timestamp('2023-01-28 00:00:00'), Timestamp('2023-01-29 00:00:00'), Timestamp('2023-01-30 00:00:00'), Timestamp('2023-01-31 00:00:00'), Timestamp('2023-02-01 00:00:00'), Timestamp('2023-02-04 00:00:00'), Timestamp('2023-02-05 00:00:00'), Timestamp('2023-02-06 00:00:00'), Timestamp('2023-02-07 00:00:00'), Timestamp('2023-02-08 00:00:00'), Timestamp('2023-02-09 00:00:00'), Timestamp('2023-02-10 00:00:00'), Timestamp('2023-02-11 00:00:00'), Timestamp('2023-02-12 00:00:00'), Timestamp('2023-02-13 00:00:00'), Timestamp('2023-02-15 00:00:00'), Timestamp('2023-02-16 00:00:00'), Timestamp('2023-02-17 00:00:00'), Timestamp('2023-02-18 00:00:00'), Timestamp('2023-02-19 00:00:00'), Timestamp('2023-02-20 00:00:00'), Timestamp('2023-02-21 00:00:00'), Timestamp('2023-02-22 00:00:00'), Timestamp('2023-02-23 00:00:00'), Timestamp('2023-02-24 00:00:00'), Timestamp('2023-02-25 00:00:00'), Timestamp('2023-02-26 00:00:00'), Timestamp('2023-02-27 00:00:00'), Timestamp('2023-02-28 00:00:00'), Timestamp('2023-03-01 00:00:00'), Timestamp('2023-03-02 00:00:00'), Timestamp('2023-03-03 00:00:00'), Timestamp('2023-03-04 00:00:00'), Timestamp('2023-03-05 00:00:00'), Timestamp('2023-03-06 00:00:00'), Timestamp('2023-03-07 00:00:00'), Timestamp('2023-03-08 00:00:00'), Timestamp('2023-03-09 00:00:00'), Timestamp('2023-03-10 00:00:00'), Timestamp('2023-03-11 00:00:00'), Timestamp('2023-03-12 00:00:00'), Timestamp('2023-03-13 00:00:00'), Timestamp('2023-03-14 00:00:00'), Timestamp('2023-03-15 00:00:00'), Timestamp('2023-03-16 00:00:00'), Timestamp('2023-03-17 00:00:00'), Timestamp('2023-03-18 00:00:00'), Timestamp('2023-03-19 00:00:00'), Timestamp('2023-03-20 00:00:00'), Timestamp('2023-03-21 00:00:00'), Timestamp('2023-03-22 00:00:00'), Timestamp('2023-03-23 00:00:00'), Timestamp('2023-03-24 00:00:00'), Timestamp('2023-03-25 00:00:00'), Timestamp('2023-03-26 00:00:00'), Timestamp('2023-03-27 00:00:00'), Timestamp('2023-03-28 00:00:00'), Timestamp('2023-03-29 00:00:00'), Timestamp('2023-03-30 00:00:00'), Timestamp('2023-03-31 00:00:00'), Timestamp('2023-04-01 00:00:00'), Timestamp('2023-04-02 00:00:00'), Timestamp('2023-04-03 00:00:00'), Timestamp('2023-04-04 00:00:00'), Timestamp('2023-04-05 00:00:00'), Timestamp('2023-04-06 00:00:00'), Timestamp('2023-04-07 00:00:00'), Timestamp('2023-04-08 00:00:00'), Timestamp('2023-04-09 00:00:00'), Timestamp('2023-04-10 00:00:00'), Timestamp('2023-04-11 00:00:00'), Timestamp('2023-04-12 00:00:00'), Timestamp('2023-04-13 00:00:00'), Timestamp('2023-04-14 00:00:00'), Timestamp('2023-04-15 00:00:00'), Timestamp('2023-04-16 00:00:00'), Timestamp('2023-04-17 00:00:00'), Timestamp('2023-04-18 00:00:00'), Timestamp('2023-04-19 00:00:00'), Timestamp('2023-04-20 00:00:00'), Timestamp('2023-04-21 00:00:00'), Timestamp('2023-04-22 00:00:00'), Timestamp('2023-04-23 00:00:00'), Timestamp('2023-04-24 00:00:00'), Timestamp('2023-04-25 00:00:00'), Timestamp('2023-04-26 00:00:00'), Timestamp('2023-04-27 00:00:00'), Timestamp('2023-04-28 00:00:00'), Timestamp('2023-04-29 00:00:00'), Timestamp('2023-04-30 00:00:00'), Timestamp('2023-05-01 00:00:00'), Timestamp('2023-05-02 00:00:00'), Timestamp('2023-05-03 00:00:00'), Timestamp('2023-05-04 00:00:00'), Timestamp('2023-05-05 00:00:00'), Timestamp('2023-05-06 00:00:00'), Timestamp('2023-05-07 00:00:00'), Timestamp('2023-05-08 00:00:00'), Timestamp('2023-05-09 00:00:00'), Timestamp('2023-05-10 00:00:00'), Timestamp('2023-05-11 00:00:00'), Timestamp('2023-05-12 00:00:00'), Timestamp('2023-05-13 00:00:00'), Timestamp('2023-05-14 00:00:00'), Timestamp('2023-05-15 00:00:00'), Timestamp('2023-05-16 00:00:00'), Timestamp('2023-05-17 00:00:00'), Timestamp('2023-05-18 00:00:00'), Timestamp('2023-05-19 00:00:00'), Timestamp('2023-05-20 00:00:00'), Timestamp('2023-05-21 00:00:00'), Timestamp('2023-05-22 00:00:00'), Timestamp('2023-05-23 00:00:00'), Timestamp('2023-05-24 00:00:00'), Timestamp('2023-05-25 00:00:00'), Timestamp('2023-05-26 00:00:00'), Timestamp('2023-05-27 00:00:00'), Timestamp('2023-05-28 00:00:00'), Timestamp('2023-05-29 00:00:00'), Timestamp('2023-05-30 00:00:00'), Timestamp('2023-05-31 00:00:00'), Timestamp('2023-06-01 00:00:00'), Timestamp('2023-06-02 00:00:00'), Timestamp('2023-06-03 00:00:00'), Timestamp('2023-06-04 00:00:00'), Timestamp('2023-06-05 00:00:00'), Timestamp('2023-06-06 00:00:00'), Timestamp('2023-06-07 00:00:00'), Timestamp('2023-06-08 00:00:00'), Timestamp('2023-06-09 00:00:00'), Timestamp('2023-06-10 00:00:00'), Timestamp('2023-06-11 00:00:00'), Timestamp('2023-06-12 00:00:00'), Timestamp('2023-06-13 00:00:00'), Timestamp('2023-06-14 00:00:00'), Timestamp('2023-06-15 00:00:00'), Timestamp('2023-06-16 00:00:00'), Timestamp('2023-06-17 00:00:00'), Timestamp('2023-06-18 00:00:00'), Timestamp('2023-06-19 00:00:00'), Timestamp('2023-06-20 00:00:00'), Timestamp('2023-06-21 00:00:00'), Timestamp('2023-06-22 00:00:00'), Timestamp('2023-06-23 00:00:00'), Timestamp('2023-06-24 00:00:00'), Timestamp('2023-06-25 00:00:00'), Timestamp('2023-06-26 00:00:00'), Timestamp('2023-06-27 00:00:00'), Timestamp('2023-06-28 00:00:00'), Timestamp('2023-06-29 00:00:00'), Timestamp('2023-06-30 00:00:00'), Timestamp('2023-07-01 00:00:00'), Timestamp('2023-07-02 00:00:00'), Timestamp('2023-07-03 00:00:00'), Timestamp('2023-07-04 00:00:00'), Timestamp('2023-07-05 00:00:00'), Timestamp('2023-07-06 00:00:00'), Timestamp('2023-07-07 00:00:00'), Timestamp('2023-07-08 00:00:00'), Timestamp('2023-07-09 00:00:00'), Timestamp('2023-07-10 00:00:00'), Timestamp('2023-07-11 00:00:00'), Timestamp('2023-07-12 00:00:00'), Timestamp('2023-07-13 00:00:00'), Timestamp('2023-07-14 00:00:00'), Timestamp('2023-07-15 00:00:00'), Timestamp('2023-07-16 00:00:00'), Timestamp('2023-07-17 00:00:00'), Timestamp('2023-07-18 00:00:00'), Timestamp('2023-07-19 00:00:00'), Timestamp('2023-07-20 00:00:00'), Timestamp('2023-07-21 00:00:00'), Timestamp('2023-07-22 00:00:00'), Timestamp('2023-07-23 00:00:00'), Timestamp('2023-07-24 00:00:00'), Timestamp('2023-07-25 00:00:00'), Timestamp('2023-07-26 00:00:00'), Timestamp('2023-07-27 00:00:00'), Timestamp('2023-07-28 00:00:00'), Timestamp('2023-07-29 00:00:00'), Timestamp('2023-07-30 00:00:00'), Timestamp('2023-07-31 00:00:00'), Timestamp('2023-08-01 00:00:00'), Timestamp('2023-08-02 00:00:00'), Timestamp('2023-08-03 00:00:00'), Timestamp('2023-08-04 00:00:00'), Timestamp('2023-08-05 00:00:00'), Timestamp('2023-08-06 00:00:00'), Timestamp('2023-08-07 00:00:00'), Timestamp('2023-08-08 00:00:00'), Timestamp('2023-08-09 00:00:00'), Timestamp('2023-08-10 00:00:00'), Timestamp('2023-08-11 00:00:00'), Timestamp('2023-08-12 00:00:00'), Timestamp('2023-08-13 00:00:00'), Timestamp('2023-08-14 00:00:00'), Timestamp('2023-08-15 00:00:00'), Timestamp('2023-08-16 00:00:00'), Timestamp('2023-08-17 00:00:00'), Timestamp('2023-08-18 00:00:00'), Timestamp('2023-08-19 00:00:00'), Timestamp('2023-08-20 00:00:00'), Timestamp('2023-08-21 00:00:00'), Timestamp('2023-08-22 00:00:00'), Timestamp('2023-08-23 00:00:00'), Timestamp('2023-08-24 00:00:00'), Timestamp('2023-08-25 00:00:00'), Timestamp('2023-08-26 00:00:00'), Timestamp('2023-08-27 00:00:00'), Timestamp('2023-08-28 00:00:00'), Timestamp('2023-08-29 00:00:00'), Timestamp('2023-08-30 00:00:00'), Timestamp('2023-08-31 00:00:00'), Timestamp('2023-09-01 00:00:00'), Timestamp('2023-09-02 00:00:00'), Timestamp('2023-09-03 00:00:00'), Timestamp('2023-09-04 00:00:00'), Timestamp('2023-09-05 00:00:00'), Timestamp('2023-09-06 00:00:00'), Timestamp('2023-09-07 00:00:00'), Timestamp('2023-09-08 00:00:00'), Timestamp('2023-09-09 00:00:00'), Timestamp('2023-09-10 00:00:00'), Timestamp('2023-09-11 00:00:00'), Timestamp('2023-09-12 00:00:00'), Timestamp('2023-09-13 00:00:00'), Timestamp('2023-09-14 00:00:00'), Timestamp('2023-09-15 00:00:00'), Timestamp('2023-09-16 00:00:00'), Timestamp('2023-09-17 00:00:00'), Timestamp('2023-09-18 00:00:00'), Timestamp('2023-09-19 00:00:00'), Timestamp('2023-09-20 00:00:00'), Timestamp('2023-09-21 00:00:00'), Timestamp('2023-09-22 00:00:00'), Timestamp('2023-09-23 00:00:00'), Timestamp('2023-09-24 00:00:00'), Timestamp('2023-09-25 00:00:00'), Timestamp('2023-09-26 00:00:00'), Timestamp('2023-09-27 00:00:00'), Timestamp('2023-09-28 00:00:00'), Timestamp('2023-09-29 00:00:00'), Timestamp('2023-09-30 00:00:00'), Timestamp('2023-10-01 00:00:00'), Timestamp('2023-10-02 00:00:00'), Timestamp('2023-10-03 00:00:00'), Timestamp('2023-10-04 00:00:00'), Timestamp('2023-10-05 00:00:00'), Timestamp('2023-10-06 00:00:00'), Timestamp('2023-10-07 00:00:00'), Timestamp('2023-10-08 00:00:00'), Timestamp('2023-10-09 00:00:00'), Timestamp('2023-10-10 00:00:00'), Timestamp('2023-10-11 00:00:00'), Timestamp('2023-10-12 00:00:00'), Timestamp('2023-10-13 00:00:00'), Timestamp('2023-10-14 00:00:00'), Timestamp('2023-10-15 00:00:00'), Timestamp('2023-10-16 00:00:00'), Timestamp('2023-10-17 00:00:00'), Timestamp('2023-10-20 00:00:00'), Timestamp('2023-10-21 00:00:00'), Timestamp('2023-10-22 00:00:00'), Timestamp('2023-10-23 00:00:00'), Timestamp('2023-10-24 00:00:00'), Timestamp('2023-10-25 00:00:00'), Timestamp('2023-10-26 00:00:00'), Timestamp('2023-10-27 00:00:00'), Timestamp('2023-10-28 00:00:00'), Timestamp('2023-10-29 00:00:00'), Timestamp('2023-10-30 00:00:00'), Timestamp('2023-10-31 00:00:00'), Timestamp('2023-11-01 00:00:00'), Timestamp('2023-11-02 00:00:00'), Timestamp('2023-11-03 00:00:00'), Timestamp('2023-11-04 00:00:00'), Timestamp('2023-11-05 00:00:00'), Timestamp('2023-11-06 00:00:00'), Timestamp('2023-11-07 00:00:00'), Timestamp('2023-11-08 00:00:00'), Timestamp('2023-11-09 00:00:00'), Timestamp('2023-11-10 00:00:00'), Timestamp('2023-11-11 00:00:00'), Timestamp('2023-11-12 00:00:00'), Timestamp('2023-11-13 00:00:00'), Timestamp('2023-11-14 00:00:00'), Timestamp('2023-11-15 00:00:00'), Timestamp('2023-11-16 00:00:00'), Timestamp('2023-11-17 00:00:00'), Timestamp('2023-11-18 00:00:00'), Timestamp('2023-11-19 00:00:00'), Timestamp('2023-11-20 00:00:00'), Timestamp('2023-11-21 00:00:00'), Timestamp('2023-11-22 00:00:00'), Timestamp('2023-11-23 00:00:00'), Timestamp('2023-11-24 00:00:00'), Timestamp('2023-11-25 00:00:00'), Timestamp('2023-11-26 00:00:00'), Timestamp('2023-11-27 00:00:00'), Timestamp('2023-11-28 00:00:00'), Timestamp('2023-11-29 00:00:00'), Timestamp('2023-11-30 00:00:00'), Timestamp('2023-12-02 00:00:00'), Timestamp('2023-12-03 00:00:00'), Timestamp('2023-12-04 00:00:00'), Timestamp('2023-12-05 00:00:00'), Timestamp('2023-12-06 00:00:00'), Timestamp('2023-12-07 00:00:00'), Timestamp('2023-12-08 00:00:00'), Timestamp('2023-12-09 00:00:00'), Timestamp('2023-12-10 00:00:00'), Timestamp('2023-12-11 00:00:00'), Timestamp('2023-12-12 00:00:00'), Timestamp('2023-12-13 00:00:00'), Timestamp('2023-12-14 00:00:00'), Timestamp('2023-12-15 00:00:00'), Timestamp('2023-12-16 00:00:00'), Timestamp('2023-12-17 00:00:00'), Timestamp('2023-12-18 00:00:00'), Timestamp('2023-12-20 00:00:00'), Timestamp('2023-12-21 00:00:00'), Timestamp('2023-12-22 00:00:00'), Timestamp('2023-12-23 00:00:00'), Timestamp('2023-12-24 00:00:00'), Timestamp('2023-12-25 00:00:00'), Timestamp('2023-12-26 00:00:00'), Timestamp('2023-12-27 00:00:00'), Timestamp('2023-12-28 00:00:00'), Timestamp('2023-12-29 00:00:00'), Timestamp('2023-12-30 00:00:00'), Timestamp('2023-12-31 00:00:00'), Timestamp('2023-01-01 00:00:00'), Timestamp('2023-01-02 00:00:00'), Timestamp('2023-01-03 00:00:00'), Timestamp('2023-01-04 00:00:00'), Timestamp('2023-01-05 00:00:00'), Timestamp('2023-01-06 00:00:00'), Timestamp('2023-01-07 00:00:00'), Timestamp('2023-01-08 00:00:00'), Timestamp('2023-01-09 00:00:00'), Timestamp('2023-01-10 00:00:00'), Timestamp('2023-01-11 00:00:00'), Timestamp('2023-01-12 00:00:00'), Timestamp('2023-01-13 00:00:00'), Timestamp('2023-01-14 00:00:00'), Timestamp('2023-01-15 00:00:00'), Timestamp('2023-01-16 00:00:00'), Timestamp('2023-01-17 00:00:00'), Timestamp('2023-01-18 00:00:00'), Timestamp('2023-01-19 00:00:00'), Timestamp('2023-01-20 00:00:00'), Timestamp('2023-01-21 00:00:00'), Timestamp('2023-01-22 00:00:00'), Timestamp('2023-01-23 00:00:00'), Timestamp('2023-01-24 00:00:00'), Timestamp('2023-01-25 00:00:00'), Timestamp('2023-01-26 00:00:00'), Timestamp('2023-01-27 00:00:00'), Timestamp('2023-01-28 00:00:00'), Timestamp('2023-01-29 00:00:00'), Timestamp('2023-01-30 00:00:00'), Timestamp('2023-01-31 00:00:00'), Timestamp('2023-02-01 00:00:00'), Timestamp('2023-02-02 00:00:00'), Timestamp('2023-02-03 00:00:00'), Timestamp('2023-02-04 00:00:00'), Timestamp('2023-02-05 00:00:00'), Timestamp('2023-02-06 00:00:00'), Timestamp('2023-02-07 00:00:00'), Timestamp('2023-02-08 00:00:00'), Timestamp('2023-02-09 00:00:00'), Timestamp('2023-02-10 00:00:00'), Timestamp('2023-02-11 00:00:00'), Timestamp('2023-02-12 00:00:00'), Timestamp('2023-02-13 00:00:00'), Timestamp('2023-02-14 00:00:00'), Timestamp('2023-02-15 00:00:00'), Timestamp('2023-02-16 00:00:00'), Timestamp('2023-02-17 00:00:00'), Timestamp('2023-02-18 00:00:00'), Timestamp('2023-02-19 00:00:00'), Timestamp('2023-02-20 00:00:00'), Timestamp('2023-02-21 00:00:00'), Timestamp('2023-02-22 00:00:00'), Timestamp('2023-02-23 00:00:00'), Timestamp('2023-02-24 00:00:00'), Timestamp('2023-02-25 00:00:00'), Timestamp('2023-02-26 00:00:00'), Timestamp('2023-02-27 00:00:00'), Timestamp('2023-02-28 00:00:00'), Timestamp('2023-03-04 00:00:00'), Timestamp('2023-03-05 00:00:00'), Timestamp('2023-03-06 00:00:00'), Timestamp('2023-03-07 00:00:00'), Timestamp('2023-03-08 00:00:00'), Timestamp('2023-03-09 00:00:00'), Timestamp('2023-03-10 00:00:00'), Timestamp('2023-03-11 00:00:00'), Timestamp('2023-03-12 00:00:00'), Timestamp('2023-03-13 00:00:00'), Timestamp('2023-03-14 00:00:00'), Timestamp('2023-03-15 00:00:00'), Timestamp('2023-03-16 00:00:00'), Timestamp('2023-03-17 00:00:00'), Timestamp('2023-03-18 00:00:00'), Timestamp('2023-03-19 00:00:00'), Timestamp('2023-03-20 00:00:00'), Timestamp('2023-03-21 00:00:00'), Timestamp('2023-03-22 00:00:00'), Timestamp('2023-03-23 00:00:00'), Timestamp('2023-03-24 00:00:00'), Timestamp('2023-03-25 00:00:00'), Timestamp('2023-03-26 00:00:00'), Timestamp('2023-03-27 00:00:00'), Timestamp('2023-03-28 00:00:00'), Timestamp('2023-03-29 00:00:00'), Timestamp('2023-03-30 00:00:00'), Timestamp('2023-03-31 00:00:00'), Timestamp('2023-04-01 00:00:00'), Timestamp('2023-04-02 00:00:00'), Timestamp('2023-04-03 00:00:00'), Timestamp('2023-04-04 00:00:00'), Timestamp('2023-04-05 00:00:00'), Timestamp('2023-04-06 00:00:00'), Timestamp('2023-04-07 00:00:00'), Timestamp('2023-04-08 00:00:00'), Timestamp('2023-04-09 00:00:00'), Timestamp('2023-04-10 00:00:00'), Timestamp('2023-04-11 00:00:00'), Timestamp('2023-04-12 00:00:00'), Timestamp('2023-04-13 00:00:00'), Timestamp('2023-04-14 00:00:00'), Timestamp('2023-04-15 00:00:00'), Timestamp('2023-04-16 00:00:00'), Timestamp('2023-04-17 00:00:00'), Timestamp('2023-04-18 00:00:00'), Timestamp('2023-04-19 00:00:00'), Timestamp('2023-04-20 00:00:00'), Timestamp('2023-04-21 00:00:00'), Timestamp('2023-04-22 00:00:00'), Timestamp('2023-04-23 00:00:00'), Timestamp('2023-04-24 00:00:00'), Timestamp('2023-04-25 00:00:00'), Timestamp('2023-04-26 00:00:00'), Timestamp('2023-04-27 00:00:00'), Timestamp('2023-04-28 00:00:00'), Timestamp('2023-04-29 00:00:00'), Timestamp('2023-04-30 00:00:00'), Timestamp('2023-05-01 00:00:00'), Timestamp('2023-05-02 00:00:00'), Timestamp('2023-05-03 00:00:00'), Timestamp('2023-05-04 00:00:00'), Timestamp('2023-05-05 00:00:00'), Timestamp('2023-05-06 00:00:00'), Timestamp('2023-05-07 00:00:00'), Timestamp('2023-05-08 00:00:00'), Timestamp('2023-05-09 00:00:00'), Timestamp('2023-05-10 00:00:00'), Timestamp('2023-05-11 00:00:00'), Timestamp('2023-05-12 00:00:00'), Timestamp('2023-05-13 00:00:00'), Timestamp('2023-05-14 00:00:00'), Timestamp('2023-05-15 00:00:00'), Timestamp('2023-05-16 00:00:00'), Timestamp('2023-05-17 00:00:00'), Timestamp('2023-05-18 00:00:00'), Timestamp('2023-05-19 00:00:00'), Timestamp('2023-05-20 00:00:00'), Timestamp('2023-05-21 00:00:00'), Timestamp('2023-05-22 00:00:00'), Timestamp('2023-05-23 00:00:00'), Timestamp('2023-05-24 00:00:00'), Timestamp('2023-05-25 00:00:00'), Timestamp('2023-05-26 00:00:00'), Timestamp('2023-05-27 00:00:00'), Timestamp('2023-05-28 00:00:00'), Timestamp('2023-05-29 00:00:00'), Timestamp('2023-05-30 00:00:00'), Timestamp('2023-05-31 00:00:00'), Timestamp('2023-06-01 00:00:00'), Timestamp('2023-06-02 00:00:00'), Timestamp('2023-06-03 00:00:00'), Timestamp('2023-06-04 00:00:00'), Timestamp('2023-06-05 00:00:00'), Timestamp('2023-06-06 00:00:00'), Timestamp('2023-06-07 00:00:00'), Timestamp('2023-06-08 00:00:00'), Timestamp('2023-06-09 00:00:00'), Timestamp('2023-06-10 00:00:00'), Timestamp('2023-06-11 00:00:00'), Timestamp('2023-06-12 00:00:00'), Timestamp('2023-06-13 00:00:00'), Timestamp('2023-06-14 00:00:00'), Timestamp('2023-06-15 00:00:00'), Timestamp('2023-06-16 00:00:00'), Timestamp('2023-06-17 00:00:00'), Timestamp('2023-06-18 00:00:00'), Timestamp('2023-06-19 00:00:00'), Timestamp('2023-06-20 00:00:00'), Timestamp('2023-06-21 00:00:00'), Timestamp('2023-06-22 00:00:00'), Timestamp('2023-06-23 00:00:00'), Timestamp('2023-06-24 00:00:00'), Timestamp('2023-06-25 00:00:00'), Timestamp('2023-06-26 00:00:00'), Timestamp('2023-06-27 00:00:00'), Timestamp('2023-06-28 00:00:00'), Timestamp('2023-06-29 00:00:00'), Timestamp('2023-06-30 00:00:00'), Timestamp('2023-07-01 00:00:00'), Timestamp('2023-07-02 00:00:00'), Timestamp('2023-07-03 00:00:00'), Timestamp('2023-07-04 00:00:00'), Timestamp('2023-07-05 00:00:00'), Timestamp('2023-07-06 00:00:00'), Timestamp('2023-07-07 00:00:00'), Timestamp('2023-07-08 00:00:00'), Timestamp('2023-07-09 00:00:00'), Timestamp('2023-07-10 00:00:00'), Timestamp('2023-07-11 00:00:00'), Timestamp('2023-07-12 00:00:00'), Timestamp('2023-07-13 00:00:00'), Timestamp('2023-07-14 00:00:00'), Timestamp('2023-07-15 00:00:00'), Timestamp('2023-07-16 00:00:00'), Timestamp('2023-07-17 00:00:00'), Timestamp('2023-07-18 00:00:00'), Timestamp('2023-07-19 00:00:00'), Timestamp('2023-07-20 00:00:00'), Timestamp('2023-07-21 00:00:00'), Timestamp('2023-07-22 00:00:00'), Timestamp('2023-07-23 00:00:00'), Timestamp('2023-07-24 00:00:00'), Timestamp('2023-07-25 00:00:00'), Timestamp('2023-07-26 00:00:00'), Timestamp('2023-07-27 00:00:00'), Timestamp('2023-07-28 00:00:00'), Timestamp('2023-07-29 00:00:00'), Timestamp('2023-07-30 00:00:00'), Timestamp('2023-07-31 00:00:00'), Timestamp('2023-08-01 00:00:00'), Timestamp('2023-08-02 00:00:00'), Timestamp('2023-08-03 00:00:00'), Timestamp('2023-08-04 00:00:00'), Timestamp('2023-08-05 00:00:00'), Timestamp('2023-08-06 00:00:00'), Timestamp('2023-08-07 00:00:00'), Timestamp('2023-08-08 00:00:00'), Timestamp('2023-08-09 00:00:00'), Timestamp('2023-08-10 00:00:00'), Timestamp('2023-08-11 00:00:00'), Timestamp('2023-08-12 00:00:00'), Timestamp('2023-08-13 00:00:00'), Timestamp('2023-08-14 00:00:00'), Timestamp('2023-08-15 00:00:00'), Timestamp('2023-08-16 00:00:00'), Timestamp('2023-08-17 00:00:00'), Timestamp('2023-08-18 00:00:00'), Timestamp('2023-08-19 00:00:00'), Timestamp('2023-08-20 00:00:00'), Timestamp('2023-08-21 00:00:00'), Timestamp('2023-08-22 00:00:00'), Timestamp('2023-08-23 00:00:00'), Timestamp('2023-08-24 00:00:00'), Timestamp('2023-08-25 00:00:00'), Timestamp('2023-08-26 00:00:00'), Timestamp('2023-08-27 00:00:00'), Timestamp('2023-08-28 00:00:00'), Timestamp('2023-08-29 00:00:00'), Timestamp('2023-08-30 00:00:00'), Timestamp('2023-08-31 00:00:00'), Timestamp('2023-09-01 00:00:00'), Timestamp('2023-09-02 00:00:00'), Timestamp('2023-09-03 00:00:00'), Timestamp('2023-09-04 00:00:00'), Timestamp('2023-09-05 00:00:00'), Timestamp('2023-09-06 00:00:00'), Timestamp('2023-09-07 00:00:00'), Timestamp('2023-09-08 00:00:00'), Timestamp('2023-09-09 00:00:00'), Timestamp('2023-09-10 00:00:00'), Timestamp('2023-09-11 00:00:00'), Timestamp('2023-09-12 00:00:00'), Timestamp('2023-09-13 00:00:00'), Timestamp('2023-09-14 00:00:00'), Timestamp('2023-09-15 00:00:00'), Timestamp('2023-09-16 00:00:00'), Timestamp('2023-09-17 00:00:00'), Timestamp('2023-09-18 00:00:00'), Timestamp('2023-09-19 00:00:00'), Timestamp('2023-09-20 00:00:00'), Timestamp('2023-09-21 00:00:00'), Timestamp('2023-09-22 00:00:00'), Timestamp('2023-09-23 00:00:00'), Timestamp('2023-09-24 00:00:00'), Timestamp('2023-09-25 00:00:00'), Timestamp('2023-09-26 00:00:00'), Timestamp('2023-09-27 00:00:00'), Timestamp('2023-09-28 00:00:00'), Timestamp('2023-09-29 00:00:00'), Timestamp('2023-09-30 00:00:00'), Timestamp('2023-10-01 00:00:00'), Timestamp('2023-10-02 00:00:00'), Timestamp('2023-10-03 00:00:00'), Timestamp('2023-10-04 00:00:00'), Timestamp('2023-10-05 00:00:00'), Timestamp('2023-10-06 00:00:00'), Timestamp('2023-10-07 00:00:00'), Timestamp('2023-10-08 00:00:00'), Timestamp('2023-10-09 00:00:00'), Timestamp('2023-10-10 00:00:00'), Timestamp('2023-10-11 00:00:00'), Timestamp('2023-10-12 00:00:00'), Timestamp('2023-10-13 00:00:00'), Timestamp('2023-10-14 00:00:00'), Timestamp('2023-10-15 00:00:00'), Timestamp('2023-10-16 00:00:00'), Timestamp('2023-10-17 00:00:00'), Timestamp('2023-10-18 00:00:00'), Timestamp('2023-10-19 00:00:00'), Timestamp('2023-10-20 00:00:00'), Timestamp('2023-10-21 00:00:00'), Timestamp('2023-10-22 00:00:00'), Timestamp('2023-10-23 00:00:00'), Timestamp('2023-10-24 00:00:00'), Timestamp('2023-10-25 00:00:00'), Timestamp('2023-10-26 00:00:00'), Timestamp('2023-10-27 00:00:00'), Timestamp('2023-10-28 00:00:00'), Timestamp('2023-10-29 00:00:00'), Timestamp('2023-10-30 00:00:00'), Timestamp('2023-10-31 00:00:00'), Timestamp('2023-11-01 00:00:00'), Timestamp('2023-11-02 00:00:00'), Timestamp('2023-11-03 00:00:00'), Timestamp('2023-11-04 00:00:00'), Timestamp('2023-11-05 00:00:00'), Timestamp('2023-11-06 00:00:00'), Timestamp('2023-11-07 00:00:00'), Timestamp('2023-11-08 00:00:00'), Timestamp('2023-11-09 00:00:00'), Timestamp('2023-11-10 00:00:00'), Timestamp('2023-11-11 00:00:00'), Timestamp('2023-11-12 00:00:00'), Timestamp('2023-11-13 00:00:00'), Timestamp('2023-11-14 00:00:00'), Timestamp('2023-11-15 00:00:00'), Timestamp('2023-11-16 00:00:00'), Timestamp('2023-11-17 00:00:00'), Timestamp('2023-11-18 00:00:00'), Timestamp('2023-11-19 00:00:00'), Timestamp('2023-11-20 00:00:00'), Timestamp('2023-11-21 00:00:00'), Timestamp('2023-11-22 00:00:00'), Timestamp('2023-11-23 00:00:00'), Timestamp('2023-11-24 00:00:00'), Timestamp('2023-11-25 00:00:00'), Timestamp('2023-11-26 00:00:00'), Timestamp('2023-11-27 00:00:00'), Timestamp('2023-11-28 00:00:00'), Timestamp('2023-11-29 00:00:00'), Timestamp('2023-11-30 00:00:00'), Timestamp('2023-12-01 00:00:00'), Timestamp('2023-12-02 00:00:00'), Timestamp('2023-12-03 00:00:00'), Timestamp('2023-12-04 00:00:00'), Timestamp('2023-12-05 00:00:00'), Timestamp('2023-12-06 00:00:00'), Timestamp('2023-12-07 00:00:00'), Timestamp('2023-12-08 00:00:00'), Timestamp('2023-12-09 00:00:00'), Timestamp('2023-12-10 00:00:00'), Timestamp('2023-12-11 00:00:00'), Timestamp('2023-12-12 00:00:00'), Timestamp('2023-12-13 00:00:00'), Timestamp('2023-12-14 00:00:00'), Timestamp('2023-12-15 00:00:00'), Timestamp('2023-12-16 00:00:00'), Timestamp('2023-12-17 00:00:00'), Timestamp('2023-12-18 00:00:00'), Timestamp('2023-12-19 00:00:00'), Timestamp('2023-12-20 00:00:00'), Timestamp('2023-12-21 00:00:00'), Timestamp('2023-12-22 00:00:00'), Timestamp('2023-12-23 00:00:00'), Timestamp('2023-12-24 00:00:00'), Timestamp('2023-12-25 00:00:00'), Timestamp('2023-12-26 00:00:00'), Timestamp('2023-12-27 00:00:00'), Timestamp('2023-12-28 00:00:00'), Timestamp('2023-12-29 00:00:00'), Timestamp('2023-12-30 00:00:00'), Timestamp('2023-12-31 00:00:00')]\n"
          ]
        }
      ]
    },
    {
      "cell_type": "markdown",
      "source": [
        "Посмотреть с какой даты начинался сбор данных, а какая дата последняя."
      ],
      "metadata": {
        "id": "-VHYf9B0KnwE"
      }
    },
    {
      "cell_type": "code",
      "source": [
        "print(np.min(date))\n",
        "print(np.max(date))"
      ],
      "metadata": {
        "colab": {
          "base_uri": "https://localhost:8080/"
        },
        "id": "PoGZnAn8Ifdv",
        "outputId": "2da207fb-424a-4ee9-bc8a-8d82a0476d2d"
      },
      "execution_count": null,
      "outputs": [
        {
          "output_type": "stream",
          "name": "stdout",
          "text": [
            "2023-01-01 00:00:00\n",
            "2023-12-31 00:00:00\n"
          ]
        }
      ]
    },
    {
      "cell_type": "markdown",
      "source": [
        "Данные собраны с января по декабрь 2023 года."
      ],
      "metadata": {
        "id": "OHDl8-i6LQ3C"
      }
    },
    {
      "cell_type": "markdown",
      "source": [
        "Среднее значение, медиана, минимальное и максимальное значения концентрации PM2.5"
      ],
      "metadata": {
        "id": "k0oof5E6LvVC"
      }
    },
    {
      "cell_type": "code",
      "source": [
        "# экспортировать список, содержащий PM2.5\n",
        "pm2 = df[\"Daily Mean PM2.5 Concentration\"].tolist()\n",
        "print(pm2)"
      ],
      "metadata": {
        "id": "PHYEBXZqLVch",
        "colab": {
          "base_uri": "https://localhost:8080/"
        },
        "outputId": "29376882-84af-4819-ca02-1419b0744773"
      },
      "execution_count": null,
      "outputs": [
        {
          "output_type": "stream",
          "name": "stdout",
          "text": [
            "[4.6, 4.0, 12.5, 9.9, 2.2, 5.0, 7.8, 2.0, 1.9, 1.0, 3.0, 5.3, 5.5, 2.1, 2.2, 4.0, 6.0, 3.8, 6.6, 5.8, 7.3, 9.2, 7.1, 8.9, 17.1, 15.8, 4.9, 14.4, 27.7, 36.8, 44.2, 48.7, 25.6, 8.0, 11.2, 10.8, 7.1, 13.4, 27.6, 26.6, 26.9, 1.3, 2.8, 6.4, 10.3, 19.4, 9.0, 5.9, 2.7, 2.5, 1.6, 2.3, 6.7, 7.0, 1.0, 1.0, 2.5, 3.1, 4.0, 4.3, 2.5, 1.7, 8.6, 11.6, 3.7, 2.3, 3.4, 9.6, 3.1, 1.5, 1.8, 3.1, 5.8, 5.1, 2.9, 1.3, 3.7, 1.4, 1.1, 1.6, 1.0, 1.4, 1.9, 3.2, 3.4, 1.5, 1.7, 2.8, 1.6, 2.0, 1.9, 2.7, 4.0, 4.6, 4.4, 5.2, 5.8, 6.4, 11.9, 2.5, 3.7, 4.7, 7.0, 6.8, 10.8, 2.4, 2.8, 3.2, 3.2, 4.3, 2.8, 2.8, 3.9, 3.8, 3.8, 5.7, 5.6, 6.8, 6.5, 6.4, 5.8, 2.6, 1.8, 2.8, 4.7, 5.5, 5.8, 6.1, 5.9, 4.3, 2.6, 5.2, 6.1, 7.0, 4.6, 11.4, 21.9, 15.8, 8.5, 7.8, 5.8, 6.3, 4.5, 4.8, 5.4, 6.7, 6.6, 7.2, 4.9, 4.8, 4.1, 4.7, 5.0, 3.6, 4.2, 4.4, 4.6, 3.7, 4.0, 3.7, 3.3, 2.6, 4.3, 4.9, 6.5, 11.6, 3.9, 4.5, 6.0, 8.4, 6.4, 5.8, 4.4, 5.3, 5.4, 5.3, 5.9, 6.3, 7.2, 9.1, 21.4, 13.9, 7.3, 6.6, 8.8, 5.8, 5.3, 5.1, 7.9, 6.3, 5.7, 7.2, 6.7, 10.0, 12.1, 4.6, 5.5, 6.7, 7.8, 7.3, 10.6, 7.7, 5.2, 5.7, 6.7, 7.1, 8.7, 7.8, 5.8, 4.1, 2.8, 3.6, 4.5, 5.2, 5.2, 6.6, 7.4, 5.7, 4.3, 3.0, 4.1, 5.5, 5.6, 3.6, 5.0, 3.1, 3.2, 3.7, 3.0, 2.5, 4.5, 5.9, 5.6, 5.6, 4.4, 5.1, 4.5, 23.6, 10.2, 3.2, 3.1, 3.2, 2.4, 3.8, 4.1, 3.2, 3.1, 5.1, 4.5, 5.1, 5.1, 4.5, 5.3, 5.5, 6.1, 6.7, 4.3, 4.5, 3.6, 4.0, 5.8, 6.2, 4.9, 4.7, 4.9, 5.1, 8.7, 6.0, 2.9, 2.7, 3.6, 3.3, 4.1, 5.2, 6.4, 5.1, 4.7, 4.5, 2.2, 2.1, 3.0, 4.7, 5.6, 5.9, 6.3, 4.9, 5.4, 6.9, 7.1, 6.1, 4.7, 6.9, 5.3, 2.0, 4.5, 4.1, 4.1, 6.4, 13.0, 13.1, 11.0, 8.5, 6.8, 5.8, 5.0, 2.0, 4.9, 6.6, 9.8, 10.6, 7.4, 3.5, 4.3, 4.2, 4.4, 10.6, 8.7, 1.5, 1.8, 8.6, 15.7, 19.2, 5.1, 2.7, 6.1, 15.0, 24.8, 29.7, 30.5, 19.8, 1.3, 1.9, 4.8, 5.3, 3.5, 2.6, 1.6, 5.2, 5.7, 12.5, 15.5, 10.2, 11.2, 20.6, 24.4, 28.9, 29.1, 23.8, 15.7, 12.4, 9.9, 6.9, 4.4, 8.0, 10.5, 17.0, 24.0, 27.3, 29.2, 32.1, 5.3, 4.1, 13.4, 8.8, 2.2, 6.5, 8.6, 2.0, 2.0, 1.0, 3.9, 5.8, 5.9, 2.5, 3.5, 5.0, 6.9, 3.9, 6.4, 6.2, 6.4, 9.7, 7.4, 9.6, 17.8, 17.7, 4.8, 1.3, 3.7, 6.1, 13.3, 29.7, 39.3, 47.5, 52.6, 27.6, 7.7, 10.4, 11.5, 5.2, 14.3, 29.8, 27.4, 28.1, 0.9, 4.7, 6.9, 10.1, 22.1, 10.5, 6.6, 2.8, 2.4, 1.6, 3.2, 7.3, 6.6, 0.7, 0.9, 3.7, 4.3, 5.7, 6.1, 4.2, 2.7, 9.7, 13.1, 4.4, 2.7, 4.0, 11.5, 4.1, 1.6, 2.1, 3.7, 6.7, 6.2, 4.0, 2.3, 4.3, 1.3, 1.0, 2.5, 1.4, 2.6, 3.3, 4.8, 4.5, 2.8, 3.4, 4.6, 2.8, 2.8, 2.1, 4.3, 6.4, 7.4, 7.4, 6.9, 9.7, 8.7, 12.8, 4.3, 6.0, 7.8, 9.0, 7.6, 9.3, 2.3, 3.7, 5.2, 4.6, 6.0, 4.1, 5.2, 7.5, 5.2, 5.2, 9.8, 6.8, 8.5, 12.6, 9.9, 7.8, 3.0, 3.1, 4.8, 6.7, 8.3, 7.7, 8.5, 7.8, 5.3, 4.2, 6.2, 7.9, 9.2, 6.5, 15.9, 25.6, 17.9, 9.1, 4.8, 8.0, 6.8, 6.1, 6.8, 7.1, 7.8, 8.1, 7.2, 6.0, 6.2, 7.5, 5.5, 6.8, 6.2, 5.1, 6.1, 5.9, 6.4, 4.9, 6.2, 5.1, 4.4, 4.9, 5.8, 6.2, 7.8, 13.6, 5.6, 5.3, 6.6, 9.5, 7.0, 7.1, 5.4, 8.1, 7.8, 7.1, 8.5, 8.1, 8.9, 12.1, 20.7, 24.9, 9.9, 7.8, 9.4, 6.9, 6.4, 5.7, 7.7, 7.7, 7.6, 7.5, 6.7, 9.2, 11.3, 5.6, 7.6, 7.7, 9.6, 7.8, 11.3, 10.2, 6.2, 7.1, 6.4, 8.7, 10.1, 9.4, 7.9, 6.5, 6.3, 5.2, 6.2, 6.6, 7.4, 9.9, 9.3, 6.5, 4.9, 4.3, 5.6, 8.1, 7.4, 5.1, 7.2, 4.6, 4.8, 5.7, 5.4, 4.2, 7.0, 9.6, 7.2, 7.1, 5.7, 6.3, 5.0, 29.0, 11.1, 2.4, 5.9, 6.2, 3.3, 7.6, 6.4, 4.0, 3.3, 6.9, 6.3, 6.3, 6.6, 6.5, 7.7, 6.9, 6.7, 6.3, 4.6, 5.5, 4.6, 4.8, 6.5, 6.6, 8.1, 5.7, 5.6, 5.7, 6.7, 6.3, 4.6, 3.6, 4.0, 6.4, 6.6, 6.0, 7.4, 7.9, 5.9, 5.7, 5.5, 3.0, 4.2, 4.7, 6.5, 7.0, 8.2, 8.2, 6.6, 7.4, 9.3, 9.0, 7.8, 5.5, 9.9, 5.4, 2.6, 6.0, 5.7, 5.4, 8.8, 14.6, 15.8, 13.4, 12.0, 8.3, 6.3, 5.1, 3.1, 6.8, 7.9, 10.8, 11.5, 8.6, 7.1, 7.9, 5.9, 6.6, 12.7, 9.8, 2.3, 4.3, 10.5, 15.8, 19.9, 4.8, 3.3, 7.4, 16.1, 26.9, 32.6, 31.5, 19.5, 0.9, 2.8, 6.9, 7.0, 4.0, 3.1, 2.0, 5.3, 5.9, 13.3, 19.9, 10.2, 12.9, 22.4, 26.6, 32.6, 31.6, 26.1, 16.2, 14.1, 10.4, 7.7, 4.0, 8.3, 11.5, 18.9, 26.8, 28.6, 29.1, 30.2, 4.4, 2.6, 9.8, 6.9, 2.3, 5.2, 4.8, 2.8, 1.9, 1.3, 2.4, 4.2, 8.8, 4.9, 2.9, 4.1, 7.5, 3.9, 7.3, 4.8, 6.6, 9.1, 5.2, 6.8, 16.5, 16.6, 5.7, 2.0, 3.2, 13.2, 28.1, 34.1, 43.1, 46.7, 30.0, 7.0, 8.1, 11.4, 8.3, 14.3, 25.1, 25.3, 27.8, 2.0, 2.9, 5.7, 11.2, 18.9, 9.5, 5.8, 3.0, 3.7, 1.7, 1.8, 7.4, 6.5, 1.1, 1.1, 2.5, 2.7, 4.2, 9.0, 9.6, 4.3, 2.0, 2.0, 6.3, 2.6, 1.6, 1.9, 3.2, 2.8, 2.6, 2.5, 1.6, 2.0, 1.7, 1.5, 1.5, 1.2, 1.1, 2.0, 3.0, 3.1, 2.1, 1.6, 2.3, 1.8, 1.8, 1.3, 1.7, 1.9, 4.7, 4.2, 4.1, 4.8, 5.6, 10.2, 2.3, 2.4, 3.6, 6.6, 6.5, 9.8, 1.6, 5.4, 2.4, 3.0, 3.4, 3.1, 5.3, 6.0, 6.6, 6.4, 6.6, 6.0, 2.6, 2.2, 6.9, 7.3, 6.6, 6.0, 5.9, 5.0, 3.3, 2.4, 4.5, 5.4, 6.9, 5.6, 12.1, 22.1, 14.9, 11.2, 5.6, 4.3, 4.8, 3.7, 4.5, 4.4, 6.6, 7.1, 6.1, 5.6, 4.3, 4.4, 3.2, 4.9, 4.7, 4.3, 3.8, 6.0, 4.7, 3.2, 4.1, 3.4, 3.5, 2.3, 3.7, 4.6, 7.2, 12.8, 4.0, 5.1, 6.4, 8.1, 6.0, 5.8, 4.3, 5.8, 6.3, 7.0, 6.8, 7.0, 6.0, 9.2, 7.8, 8.4, 7.6, 7.2, 7.3, 5.5, 4.6, 3.6, 5.2, 4.9, 6.5, 3.5, 4.9, 6.1, 8.3, 4.1, 4.4, 4.4, 4.8, 5.0, 9.8, 6.6, 4.9, 5.5, 5.6, 6.9, 8.2, 8.6, 4.0, 3.3, 3.4, 4.2, 4.7, 5.1, 6.3, 6.5, 5.7, 5.1, 2.6, 3.4, 5.1, 6.7, 3.7, 5.4, 3.3, 2.8, 3.5, 2.8, 2.6, 4.3, 4.9, 4.5, 4.2, 3.7, 4.2, 3.9, 16.3, 11.3, 2.9, 2.3, 3.4, 2.2, 3.8, 4.1, 3.3, 2.8, 4.8, 4.6, 4.3, 4.8, 4.6, 3.5, 4.3, 4.2, 3.2, 4.3, 3.3, 3.2, 3.2, 3.8, 5.1, 4.2, 4.7, 4.4, 4.8, 6.2, 4.0, 2.2, 2.3, 3.1, 2.5, 3.4, 5.0, 5.3, 4.3, 4.1, 3.9, 2.0, 2.3, 2.9, 4.1, 4.3, 5.4, 5.4, 4.5, 4.6, 7.1, 5.4, 5.1, 4.1, 5.8, 5.0, 1.6, 3.5, 4.3, 4.1, 5.8, 9.8, 11.1, 8.3, 6.4, 6.1, 6.9, 6.2, 2.1, 3.0, 5.0, 8.6, 8.4, 6.9, 4.3, 4.7, 4.1, 3.1, 7.4, 9.1, 1.8, 1.8, 8.3, 14.7, 15.9, 2.4, 2.0, 5.0, 13.0, 22.0, 25.6, 30.7, 18.1, 1.3, 2.2, 2.3, 5.9, 6.3, 2.3, 1.7, 2.9, 5.6, 12.7, 13.2, 3.8, 12.4, 18.8, 21.5, 26.4, 33.4, 25.0, 19.9, 14.3, 10.9, 6.3, 2.7, 5.8, 8.9, 15.4, 25.3, 24.7, 26.3, 30.0, 6.8, 3.7, 11.3, 7.2, 3.9, 6.1, 5.6, 3.9, 3.4, 2.7, 3.8, 5.2, 9.0, 6.6, 3.7, 4.2, 8.9, 3.9, 6.5, 6.2, 6.3, 9.3, 5.4, 5.2, 13.7, 19.1, 6.3, 2.6, 5.2, 6.2, 9.1, 28.5, 37.4, 48.3, 50.9, 33.2, 8.3, 8.7, 12.8, 5.3, 13.5, 27.8, 27.7, 28.6, 3.2, 4.4, 7.0, 11.4, 20.9, 11.5, 5.6, 3.9, 3.9, 3.3, 2.8, 7.6, 8.6, 2.2, 1.9, 3.8, 3.6, 4.6, 5.2, 4.1, 4.1, 8.5, 10.0, 5.0, 3.7, 5.9, 9.8, 3.8, 2.9, 3.1, 5.4, 3.2, 3.6, 3.5, 3.6, 4.6, 3.7, 3.8, 2.8, 2.1, 3.1, 3.9, 4.5, 2.9, 2.2, 2.7, 3.6, 2.9, 2.8, 2.2, 2.7, 2.6, 6.1, 8.7, 5.9, 6.3, 5.9, 9.3, 5.0, 3.8, 6.2, 7.7, 7.4, 9.8, 3.7, 4.7, 5.3, 4.2, 4.2, 3.6, 4.1, 6.3, 5.2, 4.2, 5.5, 6.3, 7.2, 7.4, 8.6, 7.0, 4.6, 3.0, 3.1, 5.6, 7.8, 5.9, 7.4, 6.5, 4.3, 4.2, 6.4, 8.1, 8.2, 6.3, 15.5, 26.1, 18.0, 10.9, 6.4, 5.7, 6.9, 4.5, 5.0, 6.0, 8.3, 9.6, 10.2, 6.0, 5.6, 6.2, 4.6, 5.5, 5.4, 4.7, 4.9, 6.3, 5.6, 4.5, 5.3, 4.8, 4.8, 2.6, 4.7, 6.1, 7.4, 13.4, 8.0, 6.3, 6.4, 7.6, 8.5, 7.4, 6.0, 6.4, 6.9, 5.3, 5.8, 7.2, 5.5, 8.8, 8.1, 11.1, 10.6, 6.8, 7.1, 6.7, 5.1, 5.9, 7.6, 6.9, 8.0, 5.7, 4.9, 7.3, 9.8, 6.8, 6.9, 6.5, 6.3, 7.2, 10.4, 9.5, 6.1, 6.1, 6.1, 8.7, 9.2, 10.9, 7.5, 7.7, 4.9, 3.5, 4.6, 5.1, 6.0, 8.0, 7.4, 6.2, 6.1, 3.7, 5.0, 7.2, 9.4, 5.8, 7.4, 4.6, 4.9, 5.6, 5.1, 5.0, 4.8, 6.7, 6.3, 5.3, 5.0, 5.4, 5.4, 19.3, 12.4, 3.5, 4.1, 5.0, 3.3, 4.6, 5.2, 4.4, 3.6, 5.7, 6.0, 4.8, 5.6, 6.4, 6.0, 4.6, 5.2, 5.3, 3.7, 5.8, 4.3, 5.3, 5.5, 5.3, 6.3, 5.6, 4.1, 4.3, 5.6, 7.2, 4.8, 3.3, 4.0, 4.5, 4.1, 5.0, 6.4, 7.1, 6.7, 6.5, 4.8, 3.8, 3.7, 4.5, 7.4, 6.4, 6.3, 7.5, 7.2, 7.1, 8.8, 8.3, 7.2, 6.4, 8.4, 5.8, 3.5, 5.1, 6.2, 6.4, 7.8, 11.1, 8.5, 7.1, 8.6, 7.2, 4.5, 4.6, 6.6, 10.0, 9.3, 8.6, 5.5, 5.9, 4.9, 4.1, 10.9, 12.2, 3.9, 3.5, 8.7, 14.2, 17.3, 3.7, 3.8, 4.5, 14.6, 22.9, 28.2, 32.3, 19.5, 2.5, 3.6, 4.3, 7.5, 7.1, 3.3, 2.7, 3.9, 5.2, 12.5, 15.1, 5.4, 14.1, 21.1, 21.5, 30.3, 35.4, 26.7, 21.6, 15.6, 11.6, 8.1, 3.9, 5.4, 8.5, 14.9, 26.2, 25.1, 28.1, 31.8, 4.2, 2.5, 11.9, 6.6, 3.4, 6.5, 5.4, 2.6, 1.6, 1.2, 4.0, 4.9, 9.7, 5.0, 3.6, 5.7, 7.4, 4.2, 7.6, 4.6, 4.5, 7.2, 4.6, 5.9, 15.9, 17.1, 4.8, 1.6, 3.7, 4.9, 10.0, 28.4, 31.8, 45.0, 46.6, 30.6, 6.6, 6.6, 11.1, 3.7, 16.9, 22.4, 23.3, 25.2, 0.8, 2.6, 4.0, 10.9, 17.1, 10.2, 5.2, 1.4, 3.8, 1.3, 1.5, 7.1, 6.7, 0.3, 0.1, 1.7, 1.2, 4.6, 4.9, 3.8, 1.1, 8.0, 6.8, 3.4, 0.8, 1.7, 6.8, 3.5, 1.2, 3.6, 2.3, 3.2, 3.9, 1.7, 0.8, 2.5, 1.4, 1.7, 1.5, -0.5, 0.7, 1.3, 2.0, 1.0, 1.2, 0.9, 1.3, 0.9, 1.8, 0.5, 0.9, 0.9, 2.9, 6.1, 4.4, 5.5, 7.2, 7.9, 4.8, 2.7, 5.2, 8.1, 6.6, 9.7, 0.8, 1.8, 2.6, 3.6, 3.0, 2.0, 3.4, 4.0, 2.9, 1.8, 5.3, 7.0, 9.2, 7.2, 6.6, 6.5, 3.1, 3.0, 3.2, 4.6, 5.3, 6.4, 6.5, 4.9, 1.7, 2.1, 3.2, 4.2, 5.3, 4.0, 14.3, 21.5, 14.9, 8.9, 6.8, 4.0, 7.3, 5.5, 4.5, 6.2, 6.0, 6.3, 7.6, 5.9, 3.2, 5.2, 0.8, 3.8, 3.3, 5.0, 6.5, 7.8, 5.9, 4.7, 6.1, 4.3, 2.7, 2.3, 4.1, 4.3, 7.5, 13.2, 6.0, 4.3, 5.0, 7.8, 7.4, 8.9, 4.0, 9.1, 3.7, 4.6, 6.4, 7.4, 6.9, 8.8, 4.6, 4.5, 5.0, 2.9, 4.5, 4.6, 6.1, 6.3, 4.9, 3.1, 3.2, 4.3, 8.2, 5.9, 5.1, 5.2, 5.1, 6.0, 10.9, 3.8, 4.6, 7.6, 9.2, 11.5, 7.9, 6.2, 5.8, 4.5, 5.4, 6.0, 6.1, 8.6, 8.5, 5.9, 5.0, 4.2, 4.0, 5.6, 7.0, 5.1, 6.2, 4.6, 4.1, 6.3, 6.6, 5.2, 7.2, 7.3, 6.9, 5.5, 5.0, 5.9, 5.5, 22.0, 12.8, 2.5, 3.4, 4.6, 4.3, 5.7, 6.9, 4.7, 3.8, 7.0, 6.5, 4.9, 6.6, 5.6, 5.3, 5.0, 5.7, 5.9, 4.0, 5.7, 4.2, 5.9, 6.6, 5.0, 8.3, 6.5, 6.8, 6.0, 6.3, 8.2, 4.4, 2.6, 4.3, 4.7, 4.1, 6.2, 8.1, 6.8, 5.3, 5.1, 5.4, 3.2, 3.4, 4.1, 6.6, 6.9, 7.5, 8.6, 6.3, 6.5, 9.7, 7.7, 7.3, 6.8, 9.3, 6.7, 2.4, 5.5, 6.4, 6.9, 8.9, 11.9, 14.0, 10.8, 9.1, 7.1, 8.9, 7.7, 3.7, 5.5, 8.5, 9.7, 9.0, 7.9, 5.4, 6.8, 5.8, 4.9, 10.9, 10.4, 2.4, 2.2, 10.0, 14.4, 15.6, 2.0, 2.8, 9.0, 14.5, 20.8, 23.7, 28.0, 17.0, 1.1, 3.5, 3.3, 8.0, 8.0, 2.7, 2.5, 5.6, 7.4, 14.3, 14.6, 5.2, 14.2, 19.2, 20.3, 27.8, 31.8, 24.0, 19.4, 13.7, 11.4, 6.5, 2.1, 5.8, 9.4, 14.7, 24.5, 22.4, 25.1, 28.1, 3.8, 1.7, 8.8, 8.3, 2.4, 3.6, 5.7, 2.5, 2.4, 1.2, 2.5, 4.5, 10.5, 7.2, 2.0, 4.4, 6.3, 4.0, 7.1, 5.5, 4.8, 9.9, 4.8, 5.0, 15.9, 16.9, 5.5, 1.9, 2.6, 3.6, 13.6, 30.6, 38.4, 44.9, 46.7, 32.5, 7.3, 9.2, 11.6, 6.4, 16.0, 24.5, 23.2, 27.5, 1.2, 2.6, 6.4, 13.1, 21.8, 8.1, 5.0, 2.4, 3.0, 1.9, 2.2, 6.2, 6.1, 1.2, 1.2, 2.2, 2.3, 3.8, 4.2, 2.7, 1.9, 8.0, 12.4, 3.9, 2.0, 2.4, 7.1, 2.9, 1.6, 1.6, 2.8, 5.6, 5.1, 2.5, 1.7, 2.5, 1.4, 1.4, 1.3, 1.0, 1.1, 2.1, 3.0, 3.2, 1.7, 1.8, 2.0, 1.2, 1.3, 0.9, 1.4, 4.3, 7.4, 6.0, 5.5, 6.2, 5.3, 10.9, 2.2, 3.3, 3.9, 7.1, 6.3, 9.5, 1.6, 2.3, 3.0, 2.8, 4.5, 2.8, 2.0, 3.4, 3.9, 3.9, 6.1, 6.0, 6.4, 6.5, 7.6, 6.0, 2.7, 1.9, 3.1, 4.4, 5.0, 5.3, 6.0, 5.4, 4.0, 2.9, 5.8, 6.1, 7.7, 5.2, 13.8, 23.3, 15.3, 9.3, 6.8, 5.1, 6.3, 5.5, 5.0, 3.9, 5.5, 6.4, 9.8, 4.8, 3.8, 5.0, 3.6, 5.7, 6.9, 4.0, 4.4, 5.8, 4.8, 3.7, 4.7, 3.4, 3.6, 3.2, 4.1, 5.0, 6.1, 9.7, 3.6, 4.1, 4.9, 6.5, 6.2, 6.2, 4.5, 4.7, 4.6, 5.7, 5.9, 7.2, 4.9, 8.0, 21.1, 8.8, 7.4, 7.7, 7.0, 5.3, 5.0, 7.1, 6.1, 13.2, 7.8, 5.2, 9.2, 12.9, 6.2, 6.0, 6.6, 6.6, 5.6, 11.1, 6.9, 4.6, 5.3, 6.3, 6.7, 7.3, 7.8, 5.7, 4.3, 3.4, 3.3, 4.2, 4.6, 5.3, 6.5, 6.7, 5.7, 4.8, 3.8, 3.9, 6.5, 6.4, 4.1, 5.6, 3.2, 3.0, 3.4, 3.4, 2.7, 4.6, 5.3, 5.3, 5.4, 5.0, 6.0, 5.7, 23.4, 14.3, 5.8, 3.1, 3.7, 2.6, 4.6, 4.5, 3.4, 3.1, 5.4, 5.6, 5.8, 5.7, 4.7, 5.5, 6.5, 6.8, 5.7, 4.0, 5.3, 3.8, 3.1, 3.8, 4.5, 6.0, 5.5, 5.8, 4.6, 5.2, 8.3, 6.2, 8.9, 2.8, 2.7, 4.9, 5.7, 6.2, 5.2, 4.5, 5.4, 1.8, 2.2, 4.0, 5.2, 5.5, 7.6, 8.7, 6.4, 5.6, 7.8, 8.6, 7.3, 5.9, 7.8, 7.8, 1.4, 4.4, 3.6, 4.0, 5.5, 11.0, 14.1, 11.3, 7.5, 6.6, 8.3, 4.7, 6.5, 9.3, 11.3, 7.8, 4.7, 4.0, 5.2, 4.3, 11.0, 12.1, 1.5, 1.4, 7.8, 15.4, 17.4, 2.9, 2.0, 4.4, 12.7, 25.0, 28.2, 26.9, 18.2, 1.5, 1.1, 3.5, 6.2, 6.7, 4.1, 1.2, 4.1, 4.9, 12.8, 15.1, 8.8, 12.3, 20.2, 28.1, 33.8, 29.8, 21.6, 21.2, 19.5, 15.3, 6.2, 2.8, 6.9, 9.5, 13.9, 24.2, 27.4, 27.6, 30.1, 3.9, 1.6, 8.8, 8.4, 2.4, 3.8, 6.0, 2.6, 2.3, 1.3, 2.7, 4.8, 10.7, 7.2, 1.7, 4.1, 6.3, 3.8, 7.2, 5.4, 4.8, 9.8, 5.1, 5.5, 16.3, 17.5, 6.1, 2.3, 3.2, 4.0, 14.5, 31.2, 39.0, 45.5, 47.0, 33.0, 8.0, 9.7, 12.0, 7.0, 16.5, 24.7, 23.5, 28.1, 1.6, 2.9, 7.2, 13.5, 22.3, 8.4, 5.5, 2.6, 3.0, 2.1, 2.2, 6.3, 6.3, 1.4, 1.4, 2.3, 2.3, 4.5, 4.9, 3.2, 2.2, 8.3, 12.8, 4.2, 2.2, 2.7, 7.4, 3.2, 1.6, 1.8, 2.8, 6.0, 5.6, 3.0, 2.1, 3.0, 1.4, 1.6, 1.7, 1.0, 1.1, 2.4, 3.0, 3.1, 1.7, 1.7, 2.1, 1.3, 1.6, 1.0, 1.5, 4.6, 7.9, 6.1, 5.6, 6.3, 5.4, 10.9, 2.3, 3.7, 4.2, 7.3, 6.7, 9.2, 1.5, 2.2, 2.9, 2.8, 3.9, 2.9, 2.6, 3.6, 4.0, 3.6, 6.0, 6.0, 6.3, 6.5, 7.7, 6.0, 2.6, 2.1, 2.9, 4.3, 4.8, 5.3, 5.9, 5.4, 3.8, 3.0, 5.1, 6.2, 8.0, 5.6, 14.2, 22.9, 15.1, 9.4, 7.0, 4.9, 6.3, 4.3, 4.8, 4.3, 5.7, 7.1, 6.3, 4.3, 5.5, 4.1, 6.5, 7.9, 5.1, 4.9, 6.4, 6.4, 3.9, 5.2, 3.7, 3.6, 3.3, 4.6, 5.8, 6.8, 9.6, 3.3, 4.4, 5.2, 8.5, 7.7, 6.8, 4.3, 6.5, 6.7, 8.3, 7.9, 10.4, 4.9, 10.9, 11.5, 14.0, 7.7, 7.5, 7.8, 6.2, 4.9, 4.7, 7.4, 7.0, 6.8, 5.4, 5.3, 7.4, 10.9, 6.1, 8.8, 7.3, 8.8, 7.1, 9.2, 7.5, 5.4, 7.6, 7.1, 8.6, 8.0, 10.1, 6.1, 4.9, 3.6, 3.6, 4.5, 5.2, 5.4, 6.6, 7.1, 5.7, 5.1, 4.1, 4.0, 6.8, 6.5, 5.0, 6.5, 3.5, 3.3, 3.5, 3.5, 3.0, 5.1, 5.9, 6.0, 5.8, 5.0, 5.5, 5.8, 23.2, 13.2, 4.6, 3.7, 4.6, 3.0, 4.9, 4.9, 4.1, 3.7, 6.0, 6.5, 6.5, 6.3, 5.3, 5.6, 6.6, 6.3, 5.1, 4.1, 5.3, 4.1, 3.5, 3.8, 4.6, 6.5, 4.9, 4.7, 4.1, 5.7, 7.1, 5.3, 5.2, 2.5, 3.5, 3.3, 5.4, 6.1, 6.4, 5.4, 4.6, 5.1, 1.9, 2.3, 4.4, 5.0, 6.2, 7.6, 7.6, 6.0, 6.8, 7.7, 9.1, 5.8, 5.4, 7.0, 5.6, 1.9, 4.8, 4.0, 4.8, 5.8, 11.0, 14.4, 11.2, 7.3, 6.4, 8.3, 6.5, 2.5, 5.5, 7.3, 9.7, 12.0, 8.3, 4.6, 4.4, 5.0, 4.5, 11.9, 12.6, 2.1, 1.7, 8.6, 16.3, 19.0, 3.8, 2.7, 5.2, 13.0, 25.4, 28.2, 27.0, 18.4, 1.8, 1.1, 7.2, 3.3, 1.4, 4.7, 5.5, 13.1, 15.4, 9.2, 12.9, 20.7, 28.6, 34.6, 30.5, 22.1, 21.5, 20.4, 15.9, 6.4, 3.3, 7.1, 9.6, 14.0, 24.5, 27.7, 27.5, 30.5, 3.9, 1.9, 10.2, 7.2, 2.4, 5.7, 7.3, 3.1, 3.4, 1.3, 4.6, 7.2, 11.6, 7.3, 2.3, 5.8, 6.6, 3.5, 7.4, 5.1, 4.5, 10.1, 5.3, 5.7, 15.3, 16.3, 4.6, 1.8, 3.4, 3.6, 11.5, 29.2, 38.6, 43.5, 44.5, 29.6, 6.1, 6.8, 10.0, 4.4, 14.8, 24.7, 22.1, 25.8, 0.8, 2.9, 8.3, 13.2, 21.9, 7.6, 5.6, 2.6, 3.7, 2.9, 3.7, 7.1, 5.3, 1.2, 1.7, 4.0, 3.2, 5.0, 5.3, 3.2, 2.8, 7.2, 11.2, 4.1, 2.7, 3.6, 8.4, 3.6, 1.6, 1.9, 4.0, 6.7, 6.1, 3.4, 2.4, 4.0, 1.6, 3.2, 2.2, 0.8, 1.4, 2.9, 5.1, 3.9, 2.7, 3.8, 2.7, 2.0, 2.9, 1.2, 1.5, 6.0, 9.8, 9.0, 7.0, 7.5, 5.7, 12.4, 3.2, 5.3, 5.7, 9.2, 8.5, 9.9, 1.9, 3.3, 4.3, 4.7, 5.1, 3.9, 4.2, 6.8, 5.4, 4.7, 7.2, 6.8, 7.2, 7.1, 8.4, 7.3, 3.2, 2.5, 4.6, 4.9, 5.8, 6.1, 7.7, 7.0, 4.8, 4.5, 5.8, 7.3, 7.7, 5.5, 17.3, 26.4, 16.5, 10.2, 4.9, 6.0, 5.1, 4.9, 6.2, 6.2, 6.7, 8.1, 7.5, 5.6, 5.9, 7.3, 4.5, 7.6, 8.1, 3.9, 5.3, 7.0, 5.8, 4.2, 6.2, 4.7, 4.4, 3.6, 5.3, 5.8, 5.6, 9.6, 5.2, 8.0, 5.9, 8.6, 7.9, 7.4, 4.1, 5.6, 5.6, 8.8, 7.4, 7.4, 4.8, 7.6, 10.7, 20.5, 11.0, 8.5, 9.3, 7.2, 8.3, 7.4, 6.9, 5.9, 5.9, 5.5, 5.7, 8.0, 9.1, 6.3, 6.5, 6.7, 5.8, 5.0, 8.7, 7.3, 4.8, 5.1, 8.2, 6.6, 7.6, 9.3, 7.1, 6.9, 5.3, 4.5, 5.1, 5.4, 6.7, 8.8, 8.2, 6.5, 4.9, 4.4, 4.6, 7.9, 7.7, 5.4, 6.9, 3.8, 3.2, 4.6, 5.3, 4.4, 6.6, 7.7, 6.2, 6.3, 5.1, 6.6, 5.7, 26.1, 15.9, 4.0, 4.1, 4.9, 3.4, 6.7, 6.0, 3.8, 3.0, 6.7, 6.3, 6.5, 5.8, 6.1, 6.8, 6.8, 7.8, 5.0, 4.6, 5.7, 4.2, 4.5, 5.4, 5.6, 7.8, 5.7, 5.1, 4.5, 7.1, 9.0, 5.1, 4.1, 4.1, 5.5, 4.2, 7.5, 8.3, 7.6, 6.1, 5.1, 5.6, 2.6, 4.1, 5.8, 6.7, 7.1, 8.2, 10.8, 7.4, 7.2, 9.0, 9.5, 6.5, 6.3, 9.3, 5.7, 2.2, 5.6, 4.7, 5.5, 7.4, 12.6, 15.1, 11.3, 8.0, 6.7, 10.1, 4.8, 2.1, 6.5, 7.3, 10.3, 12.7, 9.0, 4.2, 4.8, 5.7, 5.4, 13.5, 12.6, 2.0, 2.2, 9.1, 15.0, 16.6, 2.6, 3.0, 6.1, 14.2, 24.2, 27.4, 24.1, 16.4, 1.4, 1.4, 5.1, 8.2, 7.7, 2.8, 0.7, 4.8, 5.7, 12.7, 14.6, 8.2, 12.7, 19.8, 25.9, 33.3, 28.1, 19.2, 19.0, 17.2, 14.8, 5.7, 2.5, 7.8, 9.3, 12.4, 21.5, 24.7, 24.2, 27.8, 2.3, 4.0, 6.9, 3.4, 1.3, 3.5, 2.1, 1.0, 0.6, 1.0, 2.2, 1.6, 1.0, 0.7, 1.7, 1.1, 2.9, 1.4, 3.2, 5.8, 5.8, 4.9, 5.3, 6.2, 13.8, 15.2, 4.5, 0.3, 1.4, 4.4, 10.3, 21.7, 21.2, 21.2, 28.0, 5.6, 3.9, 6.7, 7.3, 3.6, 7.5, 11.5, 22.6, 16.0, 0.6, 2.9, 3.8, 6.7, 14.2, 6.3, 3.2, 1.5, 1.8, 1.4, 1.9, 2.7, 2.5, 0.4, 0.4, 1.3, 1.7, 1.7, 3.1, 2.3, 0.8, 6.9, 6.4, 3.6, 2.5, 1.0, 10.1, 3.7, 0.6, 0.9, 2.6, 5.1, 3.4, 2.1, 1.3, 2.2, 1.2, 1.3, 1.1, 0.5, 1.1, 1.7, 2.6, 4.3, 2.5, 0.8, 1.7, 1.8, 1.3, 1.0, 1.7, 2.0, 2.0, 4.7, 6.1, 5.2, 3.7, 7.9, 3.0, 3.8, 3.4, 7.2, 8.0, 13.6, 1.9, 3.5, 2.3, 5.0, 4.4, 2.2, 2.4, 6.2, 4.5, 4.5, 6.5, 5.7, 7.8, 7.1, 6.6, 6.2, 2.4, 1.7, 2.5, 4.1, 7.6, 7.4, 7.9, 6.0, 3.4, 2.6, 5.1, 6.4, 6.1, 5.5, 14.7, 22.6, 16.8, 8.1, 4.0, 5.7, 4.5, 4.5, 5.2, 6.0, 6.7, 6.0, 5.4, 5.4, 5.9, 5.6, 4.0, 5.5, 4.9, 4.4, 4.3, 5.2, 4.2, 4.6, 5.7, 4.4, 4.4, 4.1, 5.6, 3.9, 6.6, 10.5, 5.2, 4.2, 7.1, 9.0, 6.7, 3.0, 2.9, 5.8, 6.3, 5.9, 5.3, 6.5, 6.0, 7.6, 8.0, 12.5, 7.2, 7.4, 9.8, 7.0, 5.1, 5.4, 6.6, 7.0, 7.8, 6.3, 6.9, 8.9, 9.8, 4.3, 7.0, 6.6, 6.3, 7.6, 10.5, 7.1, 5.0, 4.6, 5.6, 7.4, 11.3, 8.5, 6.7, 8.8, 5.9, 4.9, 6.5, 6.6, 7.7, 8.1, 8.6, 6.4, 4.5, 3.6, 5.0, 6.1, 5.9, 5.4, 5.6, 2.9, 2.8, 4.8, 3.2, 3.8, 7.8, 10.3, 7.6, 5.6, 4.7, 4.8, 4.2, 30.2, 12.6, 2.1, 2.3, 4.1, 2.7, 4.5, 5.1, 2.9, 2.3, 8.6, 8.0, 5.8, 6.4, 6.2, 5.9, 9.1, 7.2, 4.8, 4.1, 5.0, 4.7, 4.7, 5.3, 4.1, 7.0, 5.0, 6.5, 3.3, 5.9, 4.1, 3.9, 2.2, 2.1, 5.4, 5.2, 4.6, 3.8, 6.1, 4.8, 4.3, 4.5, 2.1, 1.7, 2.5, 2.1, 5.2, 4.8, 5.1, 3.8, 5.2, 6.6, 5.6, 5.0, 5.1, 9.3, 5.6, 2.7, 5.1, 4.4, 5.4, 8.5, 9.4, 9.6, 6.2, 7.5, 3.0, 4.0, 3.6, 2.1, 2.7, 7.3, 9.1, 6.3, 3.3, 2.4, 2.6, 2.1, 3.0, 8.1, 3.6, 1.4, 2.5, 7.1, 14.2, 16.0, 3.6, 3.7, 7.6, 16.2, 14.9, 29.6, 33.0, 12.1, 0.4, 1.0, 0.7, 1.3, 0.4, 0.6, 0.4, 1.5, 2.2, 9.0, 12.3, 4.8, 11.3, 15.4, 15.6, 21.9, 21.6, 4.2, 1.7, 4.1, 5.1, 4.3, 2.7, 6.5, 10.1, 16.7, 17.6, 12.3, 7.5, 15.3, 3.3, 3.8, 6.5, 2.7, 0.9, 3.2, 2.7, 1.2, 1.2, 1.6, 3.0, 3.0, 1.9, 0.6, 2.4, 1.8, 4.3, 3.0, 3.5, 4.8, 6.2, 5.7, 4.8, 6.2, 13.2, 14.0, 4.8, 0.6, 1.4, 4.7, 9.5, 23.5, 20.7, 20.5, 27.7, 6.1, 3.6, 5.7, 6.8, 4.0, 8.0, 9.8, 21.9, 17.4, 1.1, 2.3, 3.1, 7.9, 16.4, 6.1, 2.6, 1.7, 1.7, 1.2, 2.1, 2.8, 2.4, 0.7, 0.8, 1.8, 2.6, 2.3, 2.7, 2.9, 1.6, 8.0, 5.1, 2.7, 1.6, 0.8, 10.9, 3.8, 0.7, 1.0, 4.3, 6.0, 3.9, 2.3, 1.9, 2.5, 0.9, 1.4, 1.0, 0.7, 1.0, 1.3, 2.1, 4.4, 3.6, 1.6, 2.3, 2.6, 1.8, 1.5, 2.5, 2.7, 2.5, 5.9, 6.4, 5.5, 3.8, 8.5, 3.0, 2.7, 2.8, 2.9, 5.2, 14.5, 2.3, 3.9, 2.6, 5.9, 4.8, 2.5, 3.2, 7.8, 4.6, 4.9, 7.7, 6.7, 7.3, 7.5, 6.4, 5.8, 1.9, 1.5, 2.4, 4.1, 7.2, 7.5, 7.2, 6.1, 4.1, 3.7, 6.3, 6.7, 6.5, 4.4, 14.7, 21.5, 17.0, 8.2, 4.1, 6.3, 4.5, 4.8, 6.3, 7.2, 6.9, 6.5, 6.9, 5.3, 5.0, 5.5, 4.5, 6.8, 5.5, 4.4, 5.6, 5.0, 5.6, 4.5, 7.3, 4.4, 3.9, 3.5, 5.5, 4.9, 7.7, 10.6, 5.0, 5.7, 7.1, 8.2, 6.2, 3.5, 3.8, 8.4, 6.2, 6.4, 5.6, 8.9, 8.6, 7.5, 9.6, 12.4, 7.5, 8.0, 10.7, 9.1, 6.5, 4.1, 11.1, 6.3, 8.1, 7.0, 6.4, 8.3, 13.0, 6.8, 7.4, 6.1, 6.3, 7.2, 10.6, 8.7, 5.0, 4.9, 6.4, 9.1, 11.3, 7.7, 5.4, 7.0, 5.9, 4.3, 4.8, 7.2, 7.6, 12.4, 14.5, 5.7, 4.6, 4.2, 4.4, 7.9, 5.9, 5.6, 6.0, 4.2, 3.6, 6.3, 5.7, 5.3, 5.8, 7.9, 7.1, 5.9, 4.3, 5.0, 4.3, 29.7, 11.7, 2.3, 3.2, 5.3, 3.3, 3.7, 5.5, 3.1, 3.3, 6.4, 6.3, 6.8, 5.2, 6.0, 5.9, 6.4, 5.0, 5.9, 5.3, 4.9, 4.1, 4.4, 4.9, 5.0, 5.9, 4.0, 4.0, 3.3, 5.7, 4.4, 4.1, 3.4, 3.5, 5.0, 3.1, 3.5, 5.4, 5.6, 4.4, 4.2, 4.5, 2.8, 2.6, 3.2, 1.3, 4.5, 4.4, 6.4, 5.5, 4.7, 4.8, 4.1, 4.6, 5.0, 9.7, 5.1, 2.6, 4.5, 3.7, 6.2, 6.4, 9.0, 9.5, 6.4, 7.3, 3.1, 3.9, 3.6, 2.5, 2.8, 5.1, 8.1, 5.2, 2.6, 2.4, 3.1, 3.0, 3.8, 6.9, 3.4, 1.5, 3.0, 7.1, 13.5, 15.2, 3.3, 3.2, 6.4, 14.3, 13.7, 28.2, 30.9, 11.3, 0.4, 1.2, 1.4, 2.2, 1.4, 1.9, 1.0, 3.6, 3.5, 8.9, 12.4, 4.9, 11.8, 14.2, 14.0, 23.2, 20.7, 3.8, 1.6, 2.3, 4.6, 4.0, 1.5, 5.0, 7.9, 16.4, 16.7, 12.7, 6.7, 15.0, 2.2, 1.4, 9.7, 4.9, 1.2, 5.6, 5.2, 1.7, 2.1, 1.3, 4.9, 4.4, 10.8, 5.2, 1.4, 2.6, 3.2, 3.2, 5.3, 4.0, 4.1, 6.3, 4.5, 5.5, 13.3, 12.5, 4.1, 1.2, 2.2, 2.9, 10.5, 24.8, 33.9, 40.1, 42.2, 26.5, 5.1, 6.4, 8.5, 3.9, 12.6, 22.5, 21.2, 18.6, 0.7, 3.0, 5.8, 9.6, 19.6, 7.1, 4.0, 1.2, 2.3, 2.6, 2.9, 6.2, 6.3, 0.7, 0.7, 2.7, 3.1, 3.5, 4.1, 3.1, 2.5, 6.1, 9.6, 2.8, 3.0, 3.6, 8.5, 4.3, 1.2, 1.5, 2.8, 5.5, 4.5, 2.2, 1.4, 4.6, 1.1, 2.3, 2.6, 1.4, 2.1, 4.5, 3.7, 3.4, 1.6, 3.6, 3.1, 1.6, 2.7, 2.2, 3.4, 4.1, 9.1, 6.6, 7.2, 6.2, 5.3, 8.1, 2.7, 4.8, 7.0, 7.5, 7.1, 9.6, 3.0, 3.8, 4.1, 4.4, 5.0, 3.4, 2.7, 6.2, 4.2, 4.3, 9.4, 7.4, 7.1, 8.4, 7.8, 6.0, 2.1, 2.0, 4.5, 6.0, 5.8, 6.5, 7.9, 6.5, 4.2, 3.7, 6.8, 7.2, 8.1, 5.4, 14.6, 26.3, 18.8, 9.1, 4.4, 5.8, 4.9, 4.7, 6.7, 6.7, 6.1, 7.7, 7.6, 7.0, 6.0, 6.9, 4.9, 7.4, 7.2, 4.3, 7.2, 6.8, 6.0, 5.1, 6.4, 5.2, 4.7, 4.1, 6.1, 6.9, 7.1, 8.3, 4.2, 3.6, 6.0, 8.4, 7.5, 8.0, 5.3, 6.1, 6.1, 6.8, 8.4, 8.2, 8.8, 10.4, 7.5, 12.0, 9.6, 8.4, 8.1, 6.1, 5.8, 6.5, 7.8, 6.8, 6.6, 6.4, 6.2, 8.3, 12.1, 4.5, 6.4, 7.2, 6.6, 7.2, 9.5, 9.1, 5.2, 5.9, 6.5, 8.1, 9.0, 7.8, 6.5, 6.8, 4.1, 4.1, 4.4, 4.8, 5.3, 7.9, 9.3, 6.7, 4.4, 5.7, 5.0, 7.0, 7.4, 4.2, 5.3, 3.3, 3.3, 4.1, 4.2, 3.5, 5.8, 8.0, 6.7, 6.7, 5.3, 4.4, 5.0, 28.6, 13.2, 2.9, 3.3, 4.4, 2.7, 5.0, 5.6, 4.0, 3.6, 6.6, 6.3, 6.1, 6.2, 5.1, 6.4, 6.1, 7.6, 6.2, 4.6, 4.9, 4.8, 4.7, 6.3, 7.3, 7.8, 5.5, 5.0, 5.6, 5.3, 7.4, 5.4, 3.6, 3.6, 4.7, 5.2, 5.9, 7.3, 8.3, 8.1, 5.4, 6.2, 2.3, 3.7, 5.5, 5.6, 8.2, 10.2, 9.3, 6.7, 7.4, 12.2, 12.3, 6.5, 6.0, 8.7, 5.6, 2.3, 4.6, 3.5, 5.6, 8.3, 11.9, 13.8, 11.5, 8.1, 8.8, 6.9, 5.6, 2.2, 5.5, 7.8, 10.8, 12.2, 8.1, 5.2, 5.7, 6.1, 4.4, 12.6, 12.7, 1.4, 2.6, 7.5, 13.7, 15.0, 1.9, 2.5, 5.8, 14.8, 24.0, 28.4, 20.3, 14.8, 0.7, 2.6, 6.2, 7.9, 8.7, 2.0, 1.7, 6.2, 5.1, 11.7, 12.0, 5.8, 10.5, 18.7, 23.0, 27.9, 23.3, 24.2, 17.5, 14.9, 13.0, 6.2, 2.4, 8.1, 10.1, 13.4, 20.2, 22.5, 27.9, 25.5, 3.5, 2.2, 11.0, 10.0, 2.6, 6.0, 6.4, 2.7, 2.9, 1.7, 3.7, 5.9, 11.4, 7.2, 2.7, 4.8, 6.4, 4.2, 7.0, 5.5, 4.7, 9.5, 5.3, 5.6, 16.5, 17.9, 6.4, 2.3, 2.9, 3.8, 14.5, 39.1, 45.5, 47.6, 34.6, 7.6, 9.7, 11.9, 7.4, 16.8, 24.9, 22.4, 28.1, 1.7, 6.9, 12.9, 22.2, 9.3, 6.3, 3.0, 3.2, 2.2, 2.6, 7.1, 7.0, 1.4, 1.4, 2.5, 2.4, 3.9, 4.4, 3.0, 2.4, 7.5, 11.8, 4.6, 2.4, 2.5, 7.7, 3.2, 2.4, 1.7, 2.7, 6.4, 4.6, 2.5, 2.0, 3.8, 2.0, 1.6, 1.8, 1.8, 1.3, 3.0, 3.3, 4.2, 1.9, 2.4, 2.3, 1.2, 1.9, 1.4, 1.8, 8.1, 5.3, 5.6, 6.7, 6.3, 12.9, 2.3, 4.0, 4.3, 7.2, 6.8, 10.1, 1.8, 3.4, 4.0, 3.5, 2.4, 3.9, 4.4, 4.2, 6.3, 6.4, 8.1, 8.1, 8.9, 7.6, 3.3, 2.6, 6.2, 6.1, 5.6, 6.1, 6.8, 6.8, 3.8, 2.9, 5.3, 6.5, 8.6, 6.2, 13.3, 24.9, 17.1, 11.5, 5.5, 5.1, 5.2, 4.4, 5.0, 4.4, 5.9, 8.3, 7.3, 5.5, 4.8, 5.6, 4.1, 6.2, 7.5, 5.5, 5.6, 6.0, 5.2, 3.7, 5.5, 4.2, 4.2, 2.8, 4.4, 5.0, 6.9, 11.3, 3.8, 3.9, 6.0, 10.2, 7.2, 7.2, 7.6, 7.0, 6.5, 6.5, 6.4, 7.5, 7.5, 10.0, 21.3, 13.2, 10.0, 9.5, 9.0, 6.1, 7.0, 7.0, 7.2, 7.0, 5.9, 6.2, 7.8, 8.9, 8.4, 6.2, 6.0, 7.2, 6.3, 8.6, 7.9, 5.7, 5.4, 6.2, 6.7, 7.9, 9.0, 5.9, 4.5, 3.4, 5.7, 6.8, 5.8, 6.7, 7.5, 7.7, 7.0, 6.1, 4.3, 4.3, 8.4, 8.4, 5.4, 7.9, 3.9, 3.2, 3.8, 3.8, 3.0, 4.9, 5.6, 5.2, 5.0, 5.3, 5.4, 5.3, 24.5, 13.8, 2.8, 3.7, 2.2, 4.2, 4.4, 4.2, 3.5, 5.7, 5.5, 5.6, 5.6, 4.9, 5.4, 5.9, 5.6, 3.6, 4.8, 6.7, 5.8, 5.3, 4.8, 5.2, 8.0, 10.4, 2.8, 2.7, 3.4, 3.1, 4.8, 5.9, 5.9, 5.5, 5.7, 5.3, 1.9, 2.5, 4.6, 4.8, 6.0, 7.6, 8.5, 6.1, 6.5, 7.8, 7.7, 6.6, 5.5, 9.0, 7.3, 3.5, 4.4, 6.2, 5.4, 7.4, 23.5, 18.3, 13.1, 8.5, 7.2, 6.9, 6.9, 2.7, 5.0, 7.5, 10.6, 11.6, 9.2, 6.4, 6.0, 6.0, 4.0, 13.3, 14.3, 2.1, 1.8, 9.1, 17.9, 18.2, 3.4, 2.0, 4.8, 14.8, 25.7, 29.4, 27.6, 19.5, 1.7, 1.7, 4.7, 8.9, 8.8, 2.7, 1.6, 4.5, 4.8, 13.5, 17.7, 9.5, 13.4, 23.2, 29.5, 33.1, 30.2, 24.8, 22.5, 22.5, 17.0, 6.6, 3.3, 6.8, 10.7, 15.1, 25.1, 29.8, 30.0, 29.8, 2.8, 1.3, 10.5, 7.5, 3.9, 7.7, 5.8, 2.1, 2.9, 1.7, 4.5, 6.8, 11.9, 7.5, 1.8, 5.0, 6.2, 2.8, 6.0, 3.9, 3.2, 6.3, 3.4, 3.8, 11.8, 12.9, 3.9, 1.6, 2.7, 3.7, 11.0, 25.4, 35.9, 41.1, 42.3, 29.0, 5.5, 5.5, 10.3, 4.7, 14.4, 22.5, 20.3, 23.7, 0.8, 2.4, 7.0, 11.6, 19.8, 7.5, 5.0, 2.7, 3.0, 2.6, 2.9, 6.5, 5.9, 1.1, 1.1, 2.2, 2.6, 4.0, 4.2, 3.3, 2.3, 4.7, 7.5, 3.2, 2.6, 2.9, 8.1, 3.4, 2.6, 2.2, 3.8, 6.9, 4.3, 2.1, 2.1, 4.1, 2.1, 2.9, 3.0, 2.0, 1.6, 3.4, 4.1, 4.3, 2.2, 3.3, 2.3, 1.5, 2.8, 1.4, 1.6, 4.6, 10.5, 7.5, 6.3, 7.7, 6.4, 12.3, 3.5, 5.0, 5.8, 8.5, 7.4, 10.9, 2.1, 3.8, 4.3, 3.9, 4.8, 3.7, 3.1, 6.6, 4.4, 4.2, 7.7, 7.2, 9.0, 9.9, 9.4, 8.2, 3.6, 3.0, 5.5, 4.5, 6.0, 6.1, 7.4, 7.1, 4.4, 3.7, 6.6, 7.5, 8.1, 6.1, 16.2, 26.3, 17.1, 10.3, 5.7, 6.2, 5.1, 4.4, 5.3, 6.0, 6.1, 8.6, 6.6, 5.5, 5.6, 6.1, 4.0, 6.2, 7.2, 5.4, 5.9, 6.8, 5.3, 4.4, 10.6, 6.0, 5.7, 3.8, 4.9, 7.1, 7.9, 12.9, 4.6, 4.6, 5.3, 9.8, 7.4, 8.4, 5.2, 7.6, 8.4, 7.9, 6.7, 9.1, 6.5, 9.6, 16.7, 19.1, 10.8, 8.3, 8.5, 7.6, 7.8, 7.7, 9.9, 8.9, 7.3, 6.6, 6.6, 10.1, 11.4, 5.7, 6.8, 6.8, 7.0, 8.4, 10.3, 8.7, 6.4, 5.3, 7.3, 8.6, 9.2, 11.7, 7.5, 5.7, 4.4, 4.1, 4.8, 5.3, 7.2, 8.7, 8.5, 7.2, 6.8, 4.9, 5.1, 9.6, 8.2, 5.3, 7.4, 3.9, 3.4, 3.5, 3.9, 3.6, 6.5, 7.5, 6.2, 6.5, 5.7, 5.9, 5.7, 28.3, 13.1, 4.7, 1.8, 2.8, 2.5, 5.5, 5.2, 4.9, 4.0, 7.0, 6.8, 6.4, 6.5, 5.6, 7.5, 7.4, 6.3, 6.1, 4.7, 7.0, 5.3, 4.7, 4.7, 5.1, 8.6, 6.5, 6.3, 5.3, 6.3, 9.2, 5.9, 2.5, 3.4, 6.1, 4.8, 6.6, 7.9, 6.9, 6.5, 6.6, 6.6, 2.8, 4.1, 6.4, 6.3, 8.9, 9.1, 11.2, 7.7, 7.8, 9.9, 9.1, 7.2, 6.6, 9.6, 6.8, 2.3, 5.2, 4.1, 4.5, 7.5, 12.5, 17.8, 14.2, 9.0, 6.8, 7.5, 6.3, 2.9, 6.1, 7.9, 9.8, 10.6, 8.8, 4.9, 6.4, 6.5, 4.8, 14.6, 12.5, 1.9, 1.6, 10.2, 15.4, 16.7, 2.2, 2.2, 5.5, 13.0, 22.7, 26.9, 22.9, 17.4, 1.0, 2.3, 5.7, 9.6, 9.0, 2.0, 1.7, 4.7, 4.2, 12.5, 17.8, 6.9, 12.6, 20.7, 26.5, 31.1, 28.0, 22.8, 21.3, 20.6, 14.7, 5.6, 2.1, 5.4, 8.6, 12.8, 21.7, 25.9, 27.7, 26.8, 0.8, 2.1, 9.1, 11.3, 3.0, 5.4, 7.6, 2.1, 3.2, 0.9, 4.5, 3.3, 12.3, 11.0, 1.6, 3.5, 3.2, 4.2, 6.0, 4.2, 3.1, 6.8, 3.5, 4.7, 9.6, 16.8, 5.6, 0.6, 2.6, 3.7, 11.3, 30.2, 32.2, 40.3, 38.9, 28.5, 8.2, 6.2, 10.6, 3.9, 17.7, 22.8, 19.3, 18.0, 0.5, 2.0, 5.5, 15.5, 21.9, 8.9, 4.4, 1.9, 1.8, 1.5, 1.7, 5.7, 10.8, 1.1, 0.8, 2.1, 2.0, 3.2, 4.9, 3.1, 2.5, 5.7, 10.0, 3.8, 1.7, 1.7, 7.6, 7.3, 2.2, 1.9, 3.4, 6.5, 6.3, 3.1, 2.1, 6.6, 0.9, 1.1, 0.7, 0.3, 0.8, 1.1, 3.5, 4.3, 1.9, 2.9, 2.9, 1.5, 2.1, 1.3, 2.5, 4.6, 8.5, 5.4, 6.1, 7.6, 5.3, 7.0, 2.2, 4.7, 5.9, 7.8, 7.1, 10.2, 1.8, 2.9, 5.2, 4.8, 4.3, 4.1, 3.0, 7.6, 4.6, 2.5, 8.9, 7.1, 7.5, 8.6, 8.9, 7.3, 3.5, 2.2, 4.3, 6.1, 5.0, 6.4, 6.4, 4.3, 3.3, 3.6, 4.8, 5.3, 7.8, 6.2, 15.0, 24.8, 17.8, 9.2, 3.6, 5.5, 4.9, 4.5, 5.2, 5.4, 6.3, 8.3, 7.2, 5.4, 3.9, 6.6, 4.6, 6.2, 7.5, 4.3, 5.9, 6.4, 5.7, 4.7, 6.9, 4.1, 5.7, 4.0, 5.4, 6.6, 5.8, 6.1, 3.0, 2.7, 4.0, 10.0, 7.2, 6.2, 3.4, 5.8, 4.7, 5.9, 6.6, 7.5, 7.4, 9.5, 9.5, 9.7, 6.8, 7.6, 7.5, 7.3, 7.0, 6.1, 10.9, 7.4, 6.1, 5.6, 6.8, 9.3, 10.3, 7.9, 7.7, 7.5, 5.5, 7.9, 9.1, 8.7, 6.3, 4.3, 6.7, 7.2, 9.0, 9.1, 7.4, 7.3, 6.1, 4.2, 3.5, 4.2, 4.9, 7.4, 9.0, 6.5, 3.5, 3.5, 4.7, 6.4, 7.5, 3.6, 7.7, 4.1, 3.4, 5.8, 5.5, 3.6, 6.3, 9.7, 5.8, 6.5, 5.5, 4.5, 6.1, 27.1, 10.0, 4.1, 2.5, 4.1, 3.0, 7.5, 6.4, 4.6, 2.7, 6.4, 5.3, 5.7, 7.3, 6.9, 6.0, 4.6, 6.0, 6.2, 5.0, 5.4, 5.4, 4.6, 5.0, 6.1, 8.5, 6.3, 4.8, 4.7, 3.7, 6.7, 5.1, 3.4, 2.7, 6.0, 5.5, 5.7, 6.0, 7.9, 8.2, 6.0, 4.5, 2.4, 3.4, 5.0, 4.6, 9.3, 10.7, 11.3, 6.4, 9.2, 11.2, 11.7, 7.7, 4.9, 9.6, 5.5, 2.8, 4.2, 3.3, 6.5, 7.1, 10.8, 16.7, 13.4, 10.2, 9.5, 6.9, 6.0, 2.3, 3.3, 7.2, 10.7, 13.3, 11.4, 10.3, 6.6, 8.2, 3.6, 13.9, 14.2, 3.5, 1.0, 5.3, 15.3, 13.8, 2.0, 2.0, 4.7, 15.0, 24.0, 26.5, 20.3, 13.7, 0.8, 1.5, 6.3, 10.3, 11.2, 2.3, 0.9, 2.3, 5.2, 6.7, 11.5, 6.1, 9.0, 19.4, 24.3, 22.6, 22.9, 22.5, 22.3, 18.8, 14.5, 6.3, 1.3, 7.8, 11.8, 12.9, 18.0, 22.2, 23.8, 24.4, 5.5, 4.4, 13.9, 9.7, 3.4, 7.0, 10.6, 2.5, 2.9, 2.1, 7.2, 6.7, 11.2, 6.2, 4.4, 5.4, 7.3, 5.2, 8.7, 7.1, 8.3, 8.6, 8.9, 10.4, 18.9, 18.2, 7.2, 2.4, 3.6, 5.6, 14.9, 31.5, 41.0, 46.4, 51.0, 30.0, 9.3, 13.1, 14.3, 6.7, 16.7, 29.2, 27.6, 29.3, 2.6, 4.8, 7.5, 13.1, 21.8, 9.5, 7.8, 3.6, 3.7, 4.4, 5.6, 8.4, 8.3, 2.5, 1.5, 3.4, 4.6, 5.6, 6.4, 4.3, 4.0, 11.3, 12.5, 6.3, 3.3, 4.7, 11.5, 5.4, 2.2, 3.6, 5.9, 6.9, 6.1, 2.7, 2.3, 6.5, 3.4, 3.2, 4.2, 0.7, 1.5, 5.4, 5.3, 4.3, 3.6, 4.8, 4.8, 2.6, 3.4, 2.1, 5.5, 6.4, 9.7, 6.4, 8.2, 7.2, 6.3, 11.1, 3.5, 4.5, 6.3, 8.3, 8.6, 12.1, 3.0, 4.8, 6.5, 4.7, 6.7, 5.7, 5.7, 8.2, 6.5, 5.3, 7.9, 7.7, 9.5, 9.5, 9.6, 8.1, 3.7, 4.0, 3.6, 6.7, 8.9, 7.6, 9.1, 8.1, 6.2, 4.7, 6.4, 9.6, 11.4, 5.9, 16.2, 25.3, 18.4, 10.7, 6.1, 6.3, 7.2, 6.1, 6.3, 7.8, 7.4, 9.3, 10.6, 7.0, 7.9, 7.3, 4.9, 6.2, 8.5, 6.5, 8.3, 7.5, 5.8, 5.6, 6.9, 5.9, 5.6, 4.8, 6.2, 7.3, 8.7, 13.8, 5.8, 6.1, 9.5, 12.0, 10.1, 9.2, 7.2, 9.4, 7.9, 8.0, 9.3, 9.7, 9.5, 11.1, 13.8, 16.6, 11.5, 10.0, 9.7, 7.7, 8.5, 7.6, 9.1, 10.1, 9.6, 7.7, 7.0, 11.5, 13.1, 6.3, 7.2, 8.4, 8.8, 8.2, 12.3, 10.1, 6.1, 6.3, 8.1, 9.2, 9.9, 10.3, 8.6, 8.2, 5.4, 6.8, 6.2, 6.8, 7.5, 10.2, 11.7, 9.0, 8.5, 4.8, 5.9, 9.4, 10.1, 7.2, 8.6, 5.6, 5.6, 5.7, 7.0, 5.8, 7.7, 9.1, 7.8, 7.6, 6.0, 5.9, 8.8, 29.8, 13.6, 3.2, 3.1, 4.4, 3.8, 6.3, 6.4, 6.6, 6.0, 9.3, 6.3, 8.6, 8.6, 8.4, 7.9, 7.9, 7.7, 6.6, 6.8, 8.5, 4.6, 6.1, 6.8, 7.7, 8.4, 7.4, 8.3, 7.7, 9.5, 10.8, 5.5, 4.2, 5.2, 7.3, 6.3, 7.1, 8.3, 9.0, 7.4, 7.5, 6.7, 3.8, 4.8, 8.1, 7.8, 8.3, 11.0, 11.9, 9.6, 9.7, 11.5, 11.4, 8.0, 8.3, 11.3, 7.1, 3.0, 6.3, 6.3, 6.5, 10.2, 16.1, 20.4, 15.8, 11.7, 9.5, 8.1, 7.5, 3.5, 8.7, 9.3, 13.2, 13.3, 10.4, 6.0, 7.2, 5.9, 7.5, 15.0, 14.9, 3.2, 3.9, 12.3, 19.1, 22.5, 3.7, 4.0, 7.0, 18.6, 29.9, 34.6, 32.6, 22.2, 1.5, 4.4, 7.6, 10.9, 8.5, 4.1, 3.4, 5.4, 6.0, 14.5, 20.5, 14.8, 15.6, 24.4, 28.0, 34.0, 32.9, 30.6, 23.9, 18.3, 13.6, 7.4, 3.9, 10.2, 12.1, 19.4, 26.5, 31.5, 33.9, 32.9, 4.7, 3.5, 11.7, 11.6, 3.2, 6.0, 9.1, 2.6, 2.2, 1.6, 5.6, 6.5, 10.9, 5.5, 3.4, 5.0, 6.2, 5.1, 7.4, 6.3, 7.9, 8.8, 8.8, 10.1, 18.0, 17.2, 7.7, 2.9, 3.0, 4.7, 16.0, 29.4, 37.7, 45.0, 47.8, 29.1, 10.8, 13.4, 13.1, 8.2, 15.7, 29.4, 25.7, 28.8, 3.7, 3.9, 8.4, 12.6, 21.0, 3.5, 3.2, 4.1, 7.6, 8.1, 2.3, 1.6, 2.8, 3.8, 5.0, 5.2, 3.1, 3.0, 9.0, 12.2, 6.1, 2.9, 4.0, 9.5, 4.5, 2.2, 2.2, 3.2, 5.2, 4.9, 2.5, 1.9, 6.1, 2.4, 2.2, 1.3, 1.7, 3.6, 3.7, 3.6, 2.6, 3.4, 3.2, 1.7, 2.2, 1.9, 3.9, 5.0, 7.7, 4.6, 6.9, 6.8, 6.4, 12.2, 3.0, 4.0, 4.9, 7.0, 7.1, 11.5, 2.8, 3.8, 4.7, 3.2, 4.2, 4.5, 3.3, 5.6, 7.2, 5.3, 6.8, 6.4, 8.3, 7.7, 8.0, 7.3, 3.5, 2.7, 2.9, 6.2, 6.6, 7.4, 7.4, 7.8, 4.6, 3.6, 7.0, 9.5, 13.6, 8.1, 14.5, 24.4, 18.4, 14.3, 8.2, 7.7, 8.4, 6.2, 5.5, 5.5, 6.4, 8.2, 12.3, 8.6, 6.6, 6.7, 5.4, 7.3, 9.3, 7.2, 7.7, 7.8, 6.8, 5.4, 6.8, 4.7, 4.1, 4.0, 6.7, 6.2, 8.6, 14.1, 5.2, 7.1, 7.9, 11.6, 7.5, 7.6, 7.2, 7.4, 6.7, 13.3, 9.6, 8.2, 8.8, 9.9, 15.5, 10.1, 10.5, 10.1, 8.1, 7.9, 9.0, 7.0, 8.8, 8.4, 7.3, 6.1, 8.7, 9.8, 14.1, 5.1, 6.4, 8.3, 7.8, 7.5, 9.8, 8.7, 6.7, 6.8, 11.1, 10.5, 11.8, 18.1, 13.8, 6.3, 4.7, 5.0, 4.6, 4.9, 6.1, 8.3, 10.0, 8.4, 7.4, 6.5, 5.4, 8.2, 7.4, 6.2, 9.3, 5.6, 4.0, 3.7, 4.4, 3.8, 5.5, 6.3, 6.9, 6.4, 7.9, 6.8, 6.4, 25.5, 15.9, 5.9, 3.4, 4.4, 3.3, 5.3, 5.8, 5.5, 4.5, 6.2, 4.7, 6.4, 6.6, 6.2, 7.7, 7.6, 6.2, 5.6, 7.1, 5.2, 4.6, 4.6, 6.1, 6.8, 6.2, 6.2, 5.9, 7.9, 5.0, 3.8, 3.9, 4.5, 4.2, 5.1, 6.4, 7.3, 5.8, 6.2, 6.1, 2.9, 3.3, 4.9, 5.3, 5.9, 10.1, 9.0, 7.4, 8.4, 9.4, 9.2, 6.6, 7.0, 8.1, 6.9, 2.5, 6.0, 5.0, 4.5, 9.0, 14.9, 19.3, 15.6, 11.6, 9.0, 8.6, 8.0, 3.0, 5.5, 8.1, 12.8, 13.5, 9.1, 5.5, 8.1, 5.2, 5.0, 12.8, 12.2, 2.3, 2.5, 10.2, 17.3, 20.0, 4.0, 3.2, 6.2, 16.7, 26.5, 31.0, 30.7, 21.2, 2.0, 3.4, 7.0, 8.6, 7.6, 4.2, 2.8, 4.9, 5.7, 13.2, 17.4, 12.9, 12.8, 22.0, 26.3, 31.1, 30.7, 28.0, 22.5, 17.7, 12.4, 7.1, 4.3, 8.5, 11.0, 17.0, 25.0, 29.1, 30.3, 31.5, 0.7, 2.2, 5.2, 3.9, 3.0, 1.0, 2.7, 1.5, 1.0, 0.8, 0.7, 1.9, 9.6, 8.0, 0.6, 1.9, 3.4, 4.0, 4.6, 5.3, 3.3, 4.1, 3.8, 3.5, 13.2, 12.1, 7.1, 0.5, 3.7, 3.3, 4.9, 15.2, 29.9, 21.6, 1.6, 3.9, 4.9, 3.7, 9.3, 23.0, 19.9, 15.1, 1.8, 2.8, 7.3, 15.2, 5.7, 1.6, 1.1, 1.2, 1.4, 1.0, 6.6, 4.8, 0.9, 0.8, 1.6, 3.6, 1.8, 2.9, 2.2, 0.8, 4.8, 6.6, 5.0, 1.8, 0.6, 7.2, 3.2, 1.1, 1.7, 2.0, 4.2, 4.8, 2.0, 1.1, 2.4, 0.8, 0.5, 0.8, 0.8, 0.9, 1.3, 2.6, 5.7, 1.0, 0.9, 1.6, 1.4, 0.5, 1.0, 0.8, 2.2, 5.4, 4.7, 3.1, 5.0, 3.7, 5.6, 2.1, 2.1, 3.2, 6.2, 5.9, 13.3, 1.2, 2.3, 2.2, 2.6, 3.0, 1.9, 1.0, 1.9, 3.2, 2.5, 4.0, 7.9, 9.3, 8.4, 6.9, 6.5, 1.8, 1.6, 1.8, 3.3, 4.5, 4.9, 5.3, 4.2, 2.9, 2.7, 4.2, 5.2, 4.9, 4.1, 10.5, 21.1, 16.0, 9.0, 5.4, 3.8, 3.1, 3.1, 3.7, 6.8, 4.4, 5.0, 4.7, 4.1, 4.1, 3.6, 2.8, 3.9, 4.1, 3.6, 3.7, 3.7, 3.3, 2.9, 5.3, 3.0, 2.8, 2.0, 3.4, 4.0, 5.3, 6.5, 3.0, 2.8, 3.6, 5.3, 5.0, 4.4, 4.4, 5.4, 4.0, 4.2, 5.1, 4.7, 6.1, 11.8, 8.2, 7.0, 7.2, 7.6, 9.7, 7.8, 6.4, 3.9, 8.1, 4.5, 3.9, 3.9, 4.5, 11.8, 8.0, 7.3, 5.5, 4.9, 5.5, 7.1, 8.9, 5.2, 6.5, 4.8, 4.9, 5.8, 8.0, 6.6, 4.7, 4.3, 3.2, 2.7, 2.7, 4.0, 3.9, 4.8, 6.1, 4.6, 3.8, 2.7, 3.1, 4.9, 4.8, 6.2, 5.2, 2.8, 3.6, 3.8, 2.8, 2.5, 4.3, 6.5, 5.4, 5.2, 4.4, 3.7, 4.2, 24.5, 13.8, 5.8, 4.0, 4.5, 2.1, 3.3, 3.4, 2.7, 2.1, 4.1, 3.9, 3.7, 4.2, 5.1, 3.7, 4.7, 4.4, 4.8, 4.5, 3.9, 4.9, 2.8, 3.4, 4.1, 5.3, 4.2, 3.5, 2.9, 3.4, 4.1, 5.1, 2.0, 1.5, 2.1, 2.3, 3.0, 4.1, 4.2, 3.6, 3.5, 3.8, 1.5, 1.2, 1.9, 2.5, 3.0, 4.1, 4.1, 3.9, 4.1, 4.6, 3.7, 4.8, 5.3, 1.6, 2.5, 2.5, 3.1, 2.5, 5.6, 7.6, 7.6, 4.5, 5.1, 3.9, 3.8, 1.3, 2.0, 3.0, 6.7, 7.3, 6.1, 7.7, 6.0, 4.2, 2.2, 7.4, 9.2, 0.8, 1.1, 3.1, 10.1, 11.8, 2.2, 2.0, 4.0, 8.9, 15.2, 20.8, 22.7, 1.0, 0.6, 2.0, 4.5, 8.3, 1.1, 0.7, 2.3, 3.1, 5.4, 7.7, 5.8, 8.3, 12.7, 19.5, 17.3, 20.9, 22.6, 10.0, 13.9, 4.4, 1.9, 3.7, 6.3, 15.2, 17.8, 21.0, 27.0, 19.8, 0.2, 0.5, 2.7, 2.7, 2.0, 0.3, 1.2, 1.1, 0.8, 0.7, 0.6, 1.0, 4.9, 2.8, 0.1, 0.4, 2.5, 1.5, 3.4, 5.1, 3.5, 3.3, 4.0, 3.6, 12.1, 11.2, 5.5, 0.0, 2.9, 3.5, 6.5, 12.5, 19.3, 27.3, 26.6, 19.6, 0.9, 2.9, 3.5, 2.6, 7.9, 20.5, 16.5, 11.2, 0.4, 0.7, 1.2, 6.0, 12.1, 4.9, 1.4, 0.9, 0.6, 0.7, 0.8, 7.0, 5.9, 0.4, -0.1, 3.3, 2.4, 0.8, 4.8, 6.2, 4.6, 1.5, 0.5, 7.8, 3.1, 0.3, 0.4, 2.2, 4.8, 4.3, 1.6, 0.3, 3.3, 0.3, 0.4, 0.4, 0.4, 0.7, 0.9, 2.6, 3.0, 1.0, 1.1, 1.9, 2.1, 0.8, 1.0, 0.9, 2.6, 6.7, 5.1, 3.3, 6.1, 3.3, 5.2, 2.9, 3.8, 4.7, 7.0, 6.5, 13.7, 1.5, 3.1, 3.1, 4.1, 4.2, 2.7, 1.2, 4.4, 4.3, 2.6, 4.5, 7.6, 7.7, 9.3, 8.7, 7.3, 2.0, 2.0, 2.4, 4.5, 5.9, 5.8, 5.8, 5.5, 3.6, 3.2, 5.2, 6.0, 3.1, 3.7, 12.5, 22.1, 15.8, 8.5, 4.9, 4.7, 4.0, 3.2, 4.1, 5.4, 2.5, 4.2, 4.8, 3.5, 3.6, 5.0, 3.1, 5.3, 4.0, 4.0, 5.2, 4.4, 4.6, 3.5, 6.7, 4.5, 4.1, 2.8, 5.0, 4.5, 5.8, 8.2, 3.8, 3.1, 3.6, 6.2, 4.3, 5.7, 4.0, 5.2, 4.7, 5.1, 5.4, 5.2, 5.5, 8.9, 6.0, 8.5, 6.7, 6.6, 9.6, 6.3, 6.3, 9.8, 14.8, 9.0, 5.0, 6.8, 4.9, 13.8, 17.6, 6.6, 5.2, 5.8, 7.0, 7.6, 8.8, 6.9, 6.2, 4.1, 5.6, 6.3, 9.2, 8.3, 6.4, 5.8, 4.7, 4.3, 3.5, 4.4, 4.4, 6.9, 7.7, 5.0, 4.3, 2.4, 3.9, 7.2, 5.5, 4.7, 6.1, 3.1, 3.0, 5.0, 4.3, 3.5, 6.8, 6.9, 6.0, 6.5, 5.4, 5.2, 4.3, 28.1, 12.8, 4.3, 3.2, 4.7, 2.4, 6.0, 4.4, 3.8, 2.5, 5.7, 4.8, 4.8, 5.3, 6.2, 6.1, 5.8, 5.0, 5.1, 5.0, 5.6, 4.4, 3.7, 5.0, 4.8, 5.7, 4.9, 3.9, 3.0, 3.7, 5.0, 5.4, 2.5, 2.8, 4.4, 3.5, 4.4, 3.6, 4.9, 3.9, 4.2, 4.8, 2.0, 0.7, 2.7, 3.5, 4.2, 6.2, 3.8, 3.5, 4.5, 4.3, 4.0, 5.3, 5.2, 6.6, 5.7, 1.5, 4.4, 3.4, 3.6, 4.1, 6.9, 9.2, 9.0, 5.7, 5.6, 4.2, 4.3, 1.2, 3.2, 5.1, 8.6, 7.8, 6.4, 8.3, 6.6, 5.0, 2.6, 9.5, 9.2, 0.7, 2.6, 4.0, 11.5, 11.2, 1.8, 2.2, 4.6, 9.4, 16.3, 21.5, 21.9, 9.5, 0.3, 0.3, 1.5, 7.0, 9.3, 0.8, 0.3, 2.6, 2.6, 5.9, 9.5, 6.6, 6.6, 7.9, 16.9, 18.3, 19.3, 28.8, 23.0, 8.9, 12.3, 4.0, 1.4, 3.5, 6.7, 15.5, 17.6, 19.3, 26.6, 18.7]\n"
          ]
        }
      ]
    },
    {
      "cell_type": "code",
      "source": [
        "print(np.min(pm2))\n",
        "print(np.max(pm2))\n",
        "print(np.mean(pm2))\n",
        "print(np.median(pm2))"
      ],
      "metadata": {
        "id": "6m0XPrpDPCXv",
        "colab": {
          "base_uri": "https://localhost:8080/"
        },
        "outputId": "a16108a9-d7ca-4512-c99c-64965bbde240"
      },
      "execution_count": null,
      "outputs": [
        {
          "output_type": "stream",
          "name": "stdout",
          "text": [
            "-0.5\n",
            "52.6\n",
            "7.243920785999385\n",
            "5.7\n"
          ]
        }
      ]
    },
    {
      "cell_type": "markdown",
      "source": [
        "Минимальная концентрация PM2.5 -0.5. Максимальная 52.6, то есть воздух слегка загрязнен. Средняя 7.24, а медиана 5.7."
      ],
      "metadata": {
        "id": "IUKfsjg6BSBL"
      }
    },
    {
      "cell_type": "markdown",
      "source": [
        "Теперь смотрим по среднему значению индекса качества воздуха те же показатели."
      ],
      "metadata": {
        "id": "ZqZtqhWODcp2"
      }
    },
    {
      "cell_type": "code",
      "source": [
        "# экспортировать список\n",
        "aqi = df[\"DAILY_AQI_VALUE\"].tolist()\n",
        "print(aqi)"
      ],
      "metadata": {
        "colab": {
          "base_uri": "https://localhost:8080/"
        },
        "id": "YeUnLCHIDUXU",
        "outputId": "999a5295-39a1-4184-b516-b3a47603df09"
      },
      "execution_count": null,
      "outputs": [
        {
          "output_type": "stream",
          "name": "stdout",
          "text": [
            "[19, 17, 52, 41, 9, 21, 33, 8, 8, 4, 13, 22, 23, 9, 9, 17, 25, 16, 28, 24, 30, 38, 30, 37, 62, 59, 20, 56, 84, 104, 122, 134, 79, 33, 47, 45, 30, 54, 84, 81, 82, 5, 12, 27, 43, 66, 38, 25, 11, 10, 7, 10, 28, 29, 4, 4, 10, 13, 17, 18, 10, 7, 36, 48, 15, 10, 14, 40, 13, 6, 8, 13, 24, 21, 12, 5, 15, 6, 5, 7, 4, 6, 8, 13, 14, 6, 7, 12, 7, 8, 8, 11, 17, 19, 18, 22, 24, 27, 50, 10, 15, 20, 29, 28, 45, 10, 12, 13, 13, 18, 12, 12, 16, 16, 16, 24, 23, 28, 27, 27, 24, 11, 8, 12, 20, 23, 24, 25, 25, 18, 11, 22, 25, 29, 19, 48, 72, 59, 35, 33, 24, 26, 19, 20, 23, 28, 28, 30, 20, 20, 17, 20, 21, 15, 18, 18, 19, 15, 17, 15, 14, 11, 18, 20, 27, 48, 16, 19, 25, 35, 27, 24, 18, 22, 23, 22, 25, 26, 30, 38, 71, 55, 30, 28, 37, 24, 22, 21, 33, 26, 24, 30, 28, 42, 51, 19, 23, 28, 33, 30, 44, 32, 22, 24, 28, 30, 36, 33, 24, 17, 12, 15, 19, 22, 22, 28, 31, 24, 18, 13, 17, 23, 23, 15, 21, 13, 13, 15, 13, 10, 19, 25, 23, 23, 18, 21, 19, 75, 43, 13, 13, 13, 10, 16, 17, 13, 13, 21, 19, 21, 21, 19, 22, 23, 25, 28, 18, 19, 15, 17, 24, 26, 20, 20, 20, 21, 36, 25, 12, 11, 15, 14, 17, 22, 27, 21, 20, 19, 9, 9, 13, 20, 23, 25, 26, 20, 23, 29, 30, 25, 20, 29, 22, 8, 19, 17, 17, 27, 53, 53, 46, 35, 28, 24, 21, 8, 20, 28, 41, 44, 31, 15, 18, 18, 18, 44, 36, 6, 8, 36, 59, 66, 21, 11, 25, 57, 78, 88, 90, 67, 5, 8, 20, 22, 15, 11, 7, 22, 24, 52, 58, 43, 47, 69, 77, 86, 87, 76, 59, 52, 41, 29, 18, 33, 44, 61, 76, 83, 87, 93, 22, 17, 54, 37, 9, 27, 36, 8, 8, 4, 16, 24, 25, 10, 15, 21, 29, 16, 27, 26, 27, 40, 31, 40, 63, 63, 20, 5, 15, 25, 54, 88, 110, 131, 143, 84, 32, 43, 48, 22, 56, 88, 83, 85, 4, 20, 29, 42, 72, 44, 28, 12, 10, 7, 13, 30, 28, 3, 4, 15, 18, 24, 25, 18, 11, 40, 53, 18, 11, 17, 48, 17, 7, 9, 15, 28, 26, 17, 10, 18, 5, 4, 10, 6, 11, 14, 20, 19, 12, 14, 19, 12, 12, 9, 18, 27, 31, 31, 29, 40, 36, 52, 18, 25, 33, 38, 32, 39, 10, 15, 22, 19, 25, 17, 22, 31, 22, 22, 41, 28, 35, 52, 41, 33, 13, 13, 20, 28, 35, 32, 35, 33, 22, 18, 26, 33, 38, 27, 59, 79, 63, 38, 20, 33, 28, 25, 28, 30, 33, 34, 30, 25, 26, 31, 23, 28, 26, 21, 25, 25, 27, 20, 26, 21, 18, 20, 24, 26, 33, 54, 23, 22, 28, 40, 29, 30, 23, 34, 33, 30, 35, 34, 37, 51, 69, 78, 41, 33, 39, 29, 27, 24, 32, 32, 32, 31, 28, 38, 47, 23, 32, 32, 40, 33, 47, 43, 26, 30, 27, 36, 42, 39, 33, 27, 26, 22, 26, 28, 31, 41, 39, 27, 20, 18, 23, 34, 31, 21, 30, 19, 20, 24, 23, 18, 29, 40, 30, 30, 24, 26, 21, 87, 46, 10, 25, 26, 14, 32, 27, 17, 14, 29, 26, 26, 28, 27, 32, 29, 28, 26, 19, 23, 19, 20, 27, 28, 34, 24, 23, 24, 28, 26, 19, 15, 17, 27, 28, 25, 31, 33, 25, 24, 23, 13, 18, 20, 27, 29, 34, 34, 28, 31, 39, 38, 33, 23, 41, 23, 11, 25, 24, 23, 37, 56, 59, 54, 50, 35, 26, 21, 13, 28, 33, 45, 48, 36, 30, 33, 25, 28, 52, 41, 10, 18, 44, 59, 67, 20, 14, 31, 59, 82, 94, 92, 67, 4, 12, 29, 29, 17, 13, 8, 22, 25, 54, 67, 43, 53, 73, 81, 94, 92, 80, 60, 55, 43, 32, 17, 35, 48, 65, 82, 86, 87, 89, 18, 11, 41, 29, 10, 22, 20, 12, 8, 5, 10, 18, 37, 20, 12, 17, 31, 16, 30, 20, 28, 38, 22, 28, 60, 60, 24, 8, 13, 53, 85, 97, 120, 129, 89, 29, 34, 48, 35, 56, 78, 79, 84, 8, 12, 24, 47, 65, 40, 24, 13, 15, 7, 8, 31, 27, 5, 5, 10, 11, 18, 38, 40, 18, 8, 8, 26, 11, 7, 8, 13, 12, 11, 10, 7, 8, 7, 6, 6, 5, 5, 8, 13, 13, 9, 7, 10, 8, 8, 5, 7, 8, 20, 18, 17, 20, 23, 43, 10, 10, 15, 28, 27, 41, 7, 23, 10, 13, 14, 13, 22, 25, 28, 27, 28, 25, 11, 9, 29, 30, 28, 25, 25, 21, 14, 10, 19, 23, 29, 23, 51, 72, 57, 47, 23, 18, 20, 15, 19, 18, 28, 30, 25, 23, 18, 18, 13, 20, 20, 18, 16, 25, 20, 13, 17, 14, 15, 10, 15, 19, 30, 52, 17, 21, 27, 34, 25, 24, 18, 24, 26, 29, 28, 29, 25, 38, 33, 35, 32, 30, 30, 23, 19, 15, 22, 20, 27, 15, 20, 25, 35, 17, 18, 18, 20, 21, 41, 28, 20, 23, 23, 29, 34, 36, 17, 14, 14, 18, 20, 21, 26, 27, 24, 21, 11, 14, 21, 28, 15, 23, 14, 12, 15, 12, 11, 18, 20, 19, 18, 15, 18, 16, 60, 47, 12, 10, 14, 9, 16, 17, 14, 12, 20, 19, 18, 20, 19, 15, 18, 18, 13, 18, 14, 13, 13, 16, 21, 18, 20, 18, 20, 26, 17, 9, 10, 13, 10, 14, 21, 22, 18, 17, 16, 8, 10, 12, 17, 18, 23, 23, 19, 19, 30, 23, 21, 17, 24, 21, 7, 15, 18, 17, 24, 41, 46, 35, 27, 25, 29, 26, 9, 13, 21, 36, 35, 29, 18, 20, 17, 13, 31, 38, 8, 8, 35, 56, 59, 10, 8, 21, 53, 72, 79, 90, 64, 5, 9, 10, 25, 26, 10, 7, 12, 23, 52, 53, 16, 52, 65, 71, 81, 96, 78, 67, 56, 45, 26, 11, 24, 37, 58, 79, 77, 81, 89, 28, 15, 47, 30, 16, 25, 23, 16, 14, 11, 16, 22, 38, 28, 15, 18, 37, 16, 27, 26, 26, 39, 23, 22, 54, 66, 26, 11, 22, 26, 38, 85, 106, 133, 139, 95, 35, 36, 52, 22, 54, 84, 84, 86, 13, 18, 29, 48, 70, 48, 23, 16, 16, 14, 12, 32, 36, 9, 8, 16, 15, 19, 22, 17, 17, 35, 42, 21, 15, 25, 41, 16, 12, 13, 23, 13, 15, 15, 15, 19, 15, 16, 12, 9, 13, 16, 19, 12, 9, 11, 15, 12, 12, 9, 11, 11, 25, 36, 25, 26, 25, 39, 21, 16, 26, 32, 31, 41, 15, 20, 22, 18, 18, 15, 17, 26, 22, 18, 23, 26, 30, 31, 36, 29, 19, 13, 13, 23, 33, 25, 31, 27, 18, 18, 27, 34, 34, 26, 58, 80, 63, 45, 27, 24, 29, 19, 21, 25, 35, 40, 43, 25, 23, 26, 19, 23, 23, 20, 20, 26, 23, 19, 22, 20, 20, 11, 20, 25, 31, 54, 33, 26, 27, 32, 35, 31, 25, 27, 29, 22, 24, 30, 23, 37, 34, 46, 44, 28, 30, 28, 21, 25, 32, 29, 33, 24, 20, 30, 41, 28, 29, 27, 26, 30, 43, 40, 25, 25, 25, 36, 38, 45, 31, 32, 20, 15, 19, 21, 25, 33, 31, 26, 25, 15, 21, 30, 39, 24, 31, 19, 20, 23, 21, 21, 20, 28, 26, 22, 21, 23, 23, 66, 52, 15, 17, 21, 14, 19, 22, 18, 15, 24, 25, 20, 23, 27, 25, 19, 22, 22, 15, 24, 18, 22, 23, 22, 26, 23, 17, 18, 23, 30, 20, 14, 17, 19, 17, 21, 27, 30, 28, 27, 20, 16, 15, 19, 31, 27, 26, 31, 30, 30, 37, 35, 30, 27, 35, 24, 15, 21, 26, 27, 33, 46, 35, 30, 36, 30, 19, 19, 28, 42, 39, 36, 23, 25, 20, 17, 45, 51, 16, 15, 36, 55, 62, 15, 16, 19, 56, 74, 85, 93, 67, 10, 15, 18, 31, 30, 14, 11, 16, 22, 52, 57, 23, 55, 70, 71, 89, 100, 82, 71, 58, 48, 34, 16, 23, 35, 57, 81, 78, 85, 92, 18, 10, 50, 28, 14, 27, 23, 11, 7, 5, 17, 20, 40, 21, 15, 24, 31, 18, 32, 19, 19, 30, 19, 25, 59, 62, 20, 7, 15, 20, 42, 85, 92, 124, 128, 90, 28, 28, 46, 15, 61, 73, 75, 79, 3, 11, 17, 45, 62, 43, 22, 6, 16, 5, 6, 30, 28, 1, 0, 7, 5, 19, 20, 16, 5, 33, 28, 14, 3, 7, 28, 15, 5, 15, 10, 13, 16, 7, 3, 10, 6, 7, 6, 0, 3, 5, 8, 4, 5, 4, 5, 4, 8, 2, 4, 4, 12, 25, 18, 23, 30, 33, 20, 11, 22, 34, 28, 40, 3, 8, 11, 15, 13, 8, 14, 17, 12, 8, 22, 29, 38, 30, 28, 27, 13, 13, 13, 19, 22, 27, 27, 20, 7, 9, 13, 18, 22, 17, 56, 71, 57, 37, 28, 17, 30, 23, 19, 26, 25, 26, 32, 25, 13, 22, 3, 16, 14, 21, 27, 33, 25, 20, 25, 18, 11, 10, 17, 18, 31, 53, 25, 18, 21, 33, 31, 37, 17, 38, 15, 19, 27, 31, 29, 37, 19, 19, 21, 12, 19, 19, 25, 26, 20, 13, 13, 18, 34, 25, 21, 22, 21, 25, 45, 16, 19, 32, 38, 48, 33, 26, 24, 19, 23, 25, 25, 36, 35, 25, 21, 18, 17, 23, 29, 21, 26, 19, 17, 26, 28, 22, 30, 30, 29, 23, 21, 25, 23, 72, 52, 10, 14, 19, 18, 24, 29, 20, 16, 29, 27, 20, 28, 23, 22, 21, 24, 25, 17, 24, 18, 25, 28, 21, 35, 27, 28, 25, 26, 34, 18, 11, 18, 20, 17, 26, 34, 28, 22, 21, 23, 13, 14, 17, 28, 29, 31, 36, 26, 27, 40, 32, 30, 28, 39, 28, 10, 23, 27, 29, 37, 50, 55, 45, 38, 30, 37, 32, 15, 23, 35, 40, 38, 33, 23, 28, 24, 20, 45, 43, 10, 9, 42, 56, 58, 8, 12, 38, 56, 69, 75, 84, 61, 5, 15, 14, 33, 33, 11, 10, 23, 31, 56, 56, 22, 55, 66, 68, 84, 92, 76, 66, 54, 48, 27, 9, 24, 39, 56, 77, 73, 78, 85, 16, 7, 37, 35, 10, 15, 24, 10, 10, 5, 10, 19, 44, 30, 8, 18, 26, 17, 30, 23, 20, 41, 20, 21, 59, 61, 23, 8, 11, 15, 54, 90, 108, 124, 129, 94, 30, 38, 48, 27, 59, 77, 74, 83, 5, 11, 27, 53, 71, 34, 21, 10, 13, 8, 9, 26, 25, 5, 5, 9, 10, 16, 18, 11, 8, 33, 52, 16, 8, 10, 30, 12, 7, 7, 12, 23, 21, 10, 7, 10, 6, 6, 5, 4, 5, 9, 13, 13, 7, 8, 8, 5, 5, 4, 6, 18, 31, 25, 23, 26, 22, 45, 9, 14, 16, 30, 26, 40, 7, 10, 13, 12, 19, 12, 8, 14, 16, 16, 25, 25, 27, 27, 32, 25, 11, 8, 13, 18, 21, 22, 25, 23, 17, 12, 24, 25, 32, 22, 55, 75, 58, 39, 28, 21, 26, 23, 21, 16, 23, 27, 41, 20, 16, 21, 15, 24, 29, 17, 18, 24, 20, 15, 20, 14, 15, 13, 17, 21, 25, 40, 15, 17, 20, 27, 26, 26, 19, 20, 19, 24, 25, 30, 20, 33, 70, 37, 31, 32, 29, 22, 21, 30, 25, 53, 33, 22, 38, 53, 26, 25, 28, 28, 23, 46, 29, 19, 22, 26, 28, 30, 33, 24, 18, 14, 14, 18, 19, 22, 27, 28, 24, 20, 16, 16, 27, 27, 17, 23, 13, 13, 14, 14, 11, 19, 22, 22, 23, 21, 25, 24, 75, 56, 24, 13, 15, 11, 19, 19, 14, 13, 23, 23, 24, 24, 20, 23, 27, 28, 24, 17, 22, 16, 13, 16, 19, 25, 23, 24, 19, 22, 35, 26, 37, 12, 11, 20, 24, 26, 22, 19, 23, 8, 9, 17, 22, 23, 32, 36, 27, 23, 33, 36, 30, 25, 33, 33, 6, 18, 15, 17, 23, 46, 55, 47, 31, 28, 35, 20, 27, 39, 47, 33, 20, 17, 22, 18, 46, 51, 6, 6, 33, 58, 62, 12, 8, 18, 52, 78, 85, 82, 64, 6, 5, 15, 26, 28, 17, 5, 17, 20, 52, 57, 37, 51, 68, 85, 97, 88, 71, 70, 67, 58, 26, 12, 29, 40, 55, 76, 83, 84, 89, 16, 7, 37, 35, 10, 16, 25, 11, 10, 5, 11, 20, 45, 30, 7, 17, 26, 16, 30, 23, 20, 41, 21, 23, 60, 62, 25, 10, 13, 17, 56, 91, 110, 126, 129, 95, 33, 40, 50, 29, 60, 77, 75, 85, 7, 12, 30, 54, 72, 35, 23, 11, 13, 9, 9, 26, 26, 6, 6, 10, 10, 19, 20, 13, 9, 35, 52, 18, 9, 11, 31, 13, 7, 8, 12, 25, 23, 13, 9, 13, 6, 7, 7, 4, 5, 10, 13, 13, 7, 7, 9, 5, 7, 4, 6, 19, 33, 25, 23, 26, 23, 45, 10, 15, 18, 30, 28, 38, 6, 9, 12, 12, 16, 12, 11, 15, 17, 15, 25, 25, 26, 27, 32, 25, 11, 9, 12, 18, 20, 22, 25, 23, 16, 13, 21, 26, 33, 23, 55, 74, 57, 39, 29, 20, 26, 18, 20, 18, 24, 30, 26, 18, 23, 17, 27, 33, 21, 20, 27, 27, 16, 22, 15, 15, 14, 19, 24, 28, 40, 14, 18, 22, 35, 32, 28, 18, 27, 28, 35, 33, 43, 20, 45, 48, 55, 32, 31, 33, 26, 20, 20, 31, 29, 28, 23, 22, 31, 45, 25, 37, 30, 37, 30, 38, 31, 23, 32, 30, 36, 33, 42, 25, 20, 15, 15, 19, 22, 23, 28, 30, 24, 21, 17, 17, 28, 27, 21, 27, 15, 14, 15, 15, 13, 21, 25, 25, 24, 21, 23, 24, 74, 53, 19, 15, 19, 13, 20, 20, 17, 15, 25, 27, 27, 26, 22, 23, 28, 26, 21, 17, 22, 17, 15, 16, 19, 27, 20, 20, 17, 24, 30, 22, 22, 10, 15, 14, 23, 25, 27, 23, 19, 21, 8, 10, 18, 21, 26, 32, 32, 25, 28, 32, 38, 24, 23, 29, 23, 8, 20, 17, 20, 24, 46, 56, 47, 30, 27, 35, 27, 10, 23, 30, 40, 50, 35, 19, 18, 21, 19, 50, 52, 9, 7, 36, 60, 66, 16, 11, 22, 53, 79, 85, 82, 64, 8, 5, 30, 14, 6, 20, 23, 53, 58, 38, 53, 69, 86, 98, 90, 72, 71, 68, 59, 27, 14, 30, 40, 55, 77, 84, 83, 90, 16, 8, 43, 30, 10, 24, 30, 13, 14, 5, 19, 30, 48, 30, 10, 24, 28, 15, 31, 21, 19, 42, 22, 24, 58, 60, 19, 8, 14, 15, 48, 87, 109, 121, 123, 88, 25, 28, 42, 18, 57, 77, 72, 80, 3, 12, 35, 53, 72, 32, 23, 11, 15, 12, 15, 30, 22, 5, 7, 17, 13, 21, 22, 13, 12, 30, 47, 17, 11, 15, 35, 15, 7, 8, 17, 28, 25, 14, 10, 17, 7, 13, 9, 3, 6, 12, 21, 16, 11, 16, 11, 8, 12, 5, 6, 25, 41, 38, 29, 31, 24, 52, 13, 22, 24, 38, 35, 41, 8, 14, 18, 20, 21, 16, 18, 28, 23, 20, 30, 28, 30, 30, 35, 30, 13, 10, 19, 20, 24, 25, 32, 29, 20, 19, 24, 30, 32, 23, 62, 81, 60, 43, 20, 25, 21, 20, 26, 26, 28, 34, 31, 23, 25, 30, 19, 32, 34, 16, 22, 29, 24, 18, 26, 20, 18, 15, 22, 24, 23, 40, 22, 33, 25, 36, 33, 31, 17, 23, 23, 37, 31, 31, 20, 32, 45, 69, 46, 35, 39, 30, 35, 31, 29, 25, 25, 23, 24, 33, 38, 26, 27, 28, 24, 21, 36, 30, 20, 21, 34, 28, 32, 39, 30, 29, 22, 19, 21, 23, 28, 37, 34, 27, 20, 18, 19, 33, 32, 23, 29, 16, 13, 19, 22, 18, 28, 32, 26, 26, 21, 28, 24, 80, 59, 17, 17, 20, 14, 28, 25, 16, 13, 28, 26, 27, 24, 25, 28, 28, 33, 21, 19, 24, 18, 19, 23, 23, 33, 24, 21, 19, 30, 38, 21, 17, 17, 23, 18, 31, 35, 32, 25, 21, 23, 11, 17, 24, 28, 30, 34, 45, 31, 30, 38, 40, 27, 26, 39, 24, 9, 23, 20, 23, 31, 52, 57, 47, 33, 28, 42, 20, 9, 27, 30, 43, 52, 38, 18, 20, 24, 23, 54, 52, 8, 9, 38, 57, 60, 11, 13, 25, 55, 76, 83, 76, 60, 6, 6, 21, 34, 32, 12, 3, 20, 24, 52, 56, 34, 52, 67, 80, 96, 85, 66, 66, 62, 57, 24, 10, 33, 39, 52, 71, 77, 76, 84, 10, 17, 29, 14, 5, 15, 9, 4, 3, 4, 9, 7, 4, 3, 7, 5, 12, 6, 13, 24, 24, 20, 22, 26, 55, 58, 19, 1, 6, 18, 43, 71, 70, 70, 84, 23, 16, 28, 30, 15, 31, 48, 73, 59, 3, 12, 16, 28, 55, 26, 13, 6, 8, 6, 8, 11, 10, 2, 2, 5, 7, 7, 13, 10, 3, 29, 27, 15, 10, 4, 42, 15, 3, 4, 11, 21, 14, 9, 5, 9, 5, 5, 5, 2, 5, 7, 11, 18, 10, 3, 7, 8, 5, 4, 7, 8, 8, 20, 25, 22, 15, 33, 13, 16, 14, 30, 33, 54, 8, 15, 10, 21, 18, 9, 10, 26, 19, 19, 27, 24, 33, 30, 28, 26, 10, 7, 10, 17, 32, 31, 33, 25, 14, 11, 21, 27, 25, 23, 56, 73, 61, 34, 17, 24, 19, 19, 22, 25, 28, 25, 23, 23, 25, 23, 17, 23, 20, 18, 18, 22, 18, 19, 24, 18, 18, 17, 23, 16, 28, 44, 22, 18, 30, 38, 28, 13, 12, 24, 26, 25, 22, 27, 25, 32, 33, 52, 30, 31, 41, 29, 21, 23, 28, 29, 33, 26, 29, 37, 41, 18, 29, 28, 26, 32, 44, 30, 21, 19, 23, 31, 47, 35, 28, 37, 25, 20, 27, 28, 32, 34, 36, 27, 19, 15, 21, 25, 25, 23, 23, 12, 12, 20, 13, 16, 33, 43, 32, 23, 20, 20, 18, 89, 52, 9, 10, 17, 11, 19, 21, 12, 10, 36, 33, 24, 27, 26, 25, 38, 30, 20, 17, 21, 20, 20, 22, 17, 29, 21, 27, 14, 25, 17, 16, 9, 9, 23, 22, 19, 16, 25, 20, 18, 19, 9, 7, 10, 9, 22, 20, 21, 16, 22, 28, 23, 21, 21, 39, 23, 11, 21, 18, 23, 35, 39, 40, 26, 31, 13, 17, 15, 9, 11, 30, 38, 26, 14, 10, 11, 9, 13, 34, 15, 6, 10, 30, 55, 59, 15, 15, 32, 60, 57, 88, 95, 51, 2, 4, 3, 5, 2, 3, 2, 6, 9, 38, 51, 20, 47, 58, 58, 72, 71, 18, 7, 17, 21, 18, 11, 27, 42, 61, 63, 51, 31, 58, 14, 16, 27, 11, 4, 13, 11, 5, 5, 7, 13, 13, 8, 3, 10, 8, 18, 13, 15, 20, 26, 24, 20, 26, 53, 55, 20, 3, 6, 20, 40, 75, 69, 69, 84, 25, 15, 24, 28, 17, 33, 41, 72, 62, 5, 10, 13, 33, 60, 25, 11, 7, 7, 5, 9, 12, 10, 3, 3, 8, 11, 10, 11, 12, 7, 33, 21, 11, 7, 3, 45, 16, 3, 4, 18, 25, 16, 10, 8, 10, 4, 6, 4, 3, 4, 5, 9, 18, 15, 7, 10, 11, 8, 6, 10, 11, 10, 25, 27, 23, 16, 35, 13, 11, 12, 12, 22, 56, 10, 16, 11, 25, 20, 10, 13, 33, 19, 20, 32, 28, 30, 31, 27, 24, 8, 6, 10, 17, 30, 31, 30, 25, 17, 15, 26, 28, 27, 18, 56, 71, 61, 34, 17, 26, 19, 20, 26, 30, 29, 27, 29, 22, 21, 23, 19, 28, 23, 18, 23, 21, 23, 19, 30, 18, 16, 15, 23, 20, 32, 44, 21, 24, 30, 34, 26, 15, 16, 35, 26, 27, 23, 37, 36, 31, 40, 52, 31, 33, 45, 38, 27, 17, 46, 26, 34, 29, 27, 35, 53, 28, 31, 25, 26, 30, 44, 36, 21, 20, 27, 38, 47, 32, 23, 29, 25, 18, 20, 30, 32, 52, 56, 24, 19, 18, 18, 33, 25, 23, 25, 18, 15, 26, 24, 22, 24, 33, 30, 25, 18, 21, 18, 88, 49, 10, 13, 22, 14, 15, 23, 13, 14, 27, 26, 28, 22, 25, 25, 27, 21, 25, 22, 20, 17, 18, 20, 21, 25, 17, 17, 14, 24, 18, 17, 14, 15, 21, 13, 15, 23, 23, 18, 18, 19, 12, 11, 13, 5, 19, 18, 27, 23, 20, 20, 17, 19, 21, 40, 21, 11, 19, 15, 26, 27, 38, 40, 27, 30, 13, 16, 15, 10, 12, 21, 34, 22, 11, 10, 13, 13, 16, 29, 14, 6, 13, 30, 54, 58, 14, 13, 27, 56, 54, 85, 91, 47, 2, 5, 6, 9, 6, 8, 4, 15, 15, 37, 52, 20, 49, 55, 55, 74, 69, 16, 7, 10, 19, 17, 6, 21, 33, 60, 61, 52, 28, 57, 9, 6, 40, 20, 5, 23, 22, 7, 9, 5, 20, 18, 45, 22, 6, 11, 13, 13, 22, 17, 17, 26, 19, 23, 54, 52, 17, 5, 9, 12, 44, 78, 97, 112, 117, 81, 21, 27, 35, 16, 52, 73, 70, 65, 3, 13, 24, 40, 67, 30, 17, 5, 10, 11, 12, 26, 26, 3, 3, 11, 13, 15, 17, 13, 10, 25, 40, 12, 13, 15, 35, 18, 5, 6, 12, 23, 19, 9, 6, 19, 5, 10, 11, 6, 9, 19, 15, 14, 7, 15, 13, 7, 11, 9, 14, 17, 38, 28, 30, 26, 22, 34, 11, 20, 29, 31, 30, 40, 13, 16, 17, 18, 21, 14, 11, 26, 18, 18, 39, 31, 30, 35, 33, 25, 9, 8, 19, 25, 24, 27, 33, 27, 18, 15, 28, 30, 34, 23, 56, 81, 65, 38, 18, 24, 20, 20, 28, 28, 25, 32, 32, 29, 25, 29, 20, 31, 30, 18, 30, 28, 25, 21, 27, 22, 20, 17, 25, 29, 30, 35, 18, 15, 25, 35, 31, 33, 22, 25, 25, 28, 35, 34, 37, 43, 31, 50, 40, 35, 34, 25, 24, 27, 33, 28, 28, 27, 26, 35, 51, 19, 27, 30, 28, 30, 40, 38, 22, 25, 27, 34, 38, 33, 27, 28, 17, 17, 18, 20, 22, 33, 39, 28, 18, 24, 21, 29, 31, 18, 22, 14, 14, 17, 18, 15, 24, 33, 28, 28, 22, 18, 21, 86, 53, 12, 14, 18, 11, 21, 23, 17, 15, 28, 26, 25, 26, 21, 27, 25, 32, 26, 19, 20, 20, 20, 26, 30, 33, 23, 21, 23, 22, 31, 23, 15, 15, 20, 22, 25, 30, 35, 34, 23, 26, 10, 15, 23, 23, 34, 43, 39, 28, 31, 51, 51, 27, 25, 36, 23, 10, 19, 15, 23, 35, 50, 55, 48, 34, 37, 29, 23, 9, 23, 33, 45, 51, 34, 22, 24, 25, 18, 52, 52, 6, 11, 31, 54, 57, 8, 10, 24, 57, 76, 85, 68, 57, 3, 11, 26, 33, 36, 8, 7, 26, 21, 49, 50, 24, 44, 65, 74, 84, 75, 76, 62, 57, 53, 26, 10, 34, 42, 54, 68, 73, 84, 79, 15, 9, 46, 42, 11, 25, 27, 11, 12, 7, 15, 25, 48, 30, 11, 20, 27, 18, 29, 23, 20, 40, 22, 23, 60, 63, 27, 10, 12, 16, 56, 110, 126, 131, 98, 32, 40, 50, 31, 61, 78, 73, 85, 7, 29, 53, 72, 39, 26, 13, 13, 9, 11, 30, 29, 6, 6, 10, 10, 16, 18, 13, 10, 31, 49, 19, 10, 10, 32, 13, 10, 7, 11, 27, 19, 10, 8, 16, 8, 7, 8, 8, 5, 13, 14, 18, 8, 10, 10, 5, 8, 6, 8, 34, 22, 23, 28, 26, 53, 10, 17, 18, 30, 28, 42, 8, 14, 17, 15, 10, 16, 18, 18, 26, 27, 34, 34, 37, 32, 14, 11, 26, 25, 23, 25, 28, 28, 16, 12, 22, 27, 36, 26, 54, 78, 62, 48, 23, 21, 22, 18, 21, 18, 25, 35, 30, 23, 20, 23, 17, 26, 31, 23, 23, 25, 22, 15, 23, 18, 18, 12, 18, 21, 29, 47, 16, 16, 25, 43, 30, 30, 32, 29, 27, 27, 27, 31, 31, 42, 70, 53, 42, 40, 38, 25, 29, 29, 30, 29, 25, 26, 33, 37, 35, 26, 25, 30, 26, 36, 33, 24, 23, 26, 28, 33, 38, 25, 19, 14, 24, 28, 24, 28, 31, 32, 29, 25, 18, 18, 35, 35, 23, 33, 16, 13, 16, 16, 13, 20, 23, 22, 21, 22, 23, 22, 77, 55, 12, 15, 9, 18, 18, 18, 15, 24, 23, 23, 23, 20, 23, 25, 23, 15, 20, 28, 24, 22, 20, 22, 33, 43, 12, 11, 14, 13, 20, 25, 25, 23, 24, 22, 8, 10, 19, 20, 25, 32, 35, 25, 27, 33, 32, 28, 23, 38, 30, 15, 18, 26, 23, 31, 75, 64, 53, 35, 30, 29, 29, 11, 21, 31, 44, 48, 38, 27, 25, 25, 17, 54, 56, 9, 8, 38, 63, 64, 14, 8, 20, 57, 80, 87, 84, 67, 7, 7, 20, 37, 37, 11, 7, 19, 20, 54, 63, 40, 54, 74, 88, 95, 89, 78, 73, 73, 61, 28, 14, 28, 45, 57, 78, 88, 89, 88, 12, 5, 44, 31, 16, 32, 24, 9, 12, 7, 19, 28, 50, 31, 8, 21, 26, 12, 25, 16, 13, 26, 14, 16, 49, 53, 16, 7, 11, 15, 46, 79, 102, 115, 118, 87, 23, 23, 43, 20, 56, 73, 68, 75, 3, 10, 29, 48, 67, 31, 21, 11, 13, 11, 12, 27, 25, 5, 5, 9, 11, 17, 18, 14, 10, 20, 31, 13, 11, 12, 34, 14, 11, 9, 16, 29, 18, 9, 9, 17, 9, 12, 13, 8, 7, 14, 17, 18, 9, 14, 10, 6, 12, 6, 7, 19, 44, 31, 26, 32, 27, 51, 15, 21, 24, 35, 31, 45, 9, 16, 18, 16, 20, 15, 13, 28, 18, 18, 32, 30, 38, 41, 39, 34, 15, 13, 23, 19, 25, 25, 31, 30, 18, 15, 28, 31, 34, 25, 60, 81, 62, 43, 24, 26, 21, 18, 22, 25, 25, 36, 28, 23, 23, 25, 17, 26, 30, 23, 25, 28, 22, 18, 44, 25, 24, 16, 20, 30, 33, 53, 19, 19, 22, 41, 31, 35, 22, 32, 35, 33, 28, 38, 27, 40, 61, 66, 45, 35, 35, 32, 33, 32, 41, 37, 30, 28, 28, 42, 48, 24, 28, 28, 29, 35, 43, 36, 27, 22, 30, 36, 38, 49, 31, 24, 18, 17, 20, 22, 30, 36, 35, 30, 28, 20, 21, 40, 34, 22, 31, 16, 14, 15, 16, 15, 27, 31, 26, 27, 24, 25, 24, 85, 53, 20, 8, 12, 10, 23, 22, 20, 17, 29, 28, 27, 27, 23, 31, 31, 26, 25, 20, 29, 22, 20, 20, 21, 36, 27, 26, 22, 26, 38, 25, 10, 14, 25, 20, 28, 33, 29, 27, 28, 28, 12, 17, 27, 26, 37, 38, 47, 32, 33, 41, 38, 30, 28, 40, 28, 10, 22, 17, 19, 31, 52, 63, 55, 38, 28, 31, 26, 12, 25, 33, 41, 44, 37, 20, 27, 27, 20, 56, 52, 8, 7, 43, 58, 61, 9, 9, 23, 53, 73, 82, 74, 62, 4, 10, 24, 40, 38, 8, 7, 20, 18, 52, 63, 29, 52, 69, 81, 91, 84, 74, 70, 69, 56, 23, 9, 23, 36, 52, 71, 80, 84, 82, 3, 9, 38, 47, 13, 23, 32, 9, 13, 4, 19, 14, 51, 46, 7, 15, 13, 18, 25, 18, 13, 28, 15, 20, 40, 61, 23, 3, 11, 15, 47, 89, 93, 113, 109, 85, 34, 26, 44, 16, 63, 74, 66, 63, 2, 8, 23, 58, 72, 37, 18, 8, 8, 6, 7, 24, 45, 5, 3, 9, 8, 13, 20, 13, 10, 24, 42, 16, 7, 7, 32, 30, 9, 8, 14, 27, 26, 13, 9, 28, 4, 5, 3, 1, 3, 5, 15, 18, 8, 12, 12, 6, 9, 5, 10, 19, 35, 23, 25, 32, 22, 29, 9, 20, 25, 33, 30, 43, 8, 12, 22, 20, 18, 17, 13, 32, 19, 10, 37, 30, 31, 36, 37, 30, 15, 9, 18, 25, 21, 27, 27, 18, 14, 15, 20, 22, 33, 26, 57, 78, 63, 38, 15, 23, 20, 19, 22, 23, 26, 35, 30, 23, 16, 28, 19, 26, 31, 18, 25, 27, 24, 20, 29, 17, 24, 17, 23, 28, 24, 25, 13, 11, 17, 42, 30, 26, 14, 24, 20, 25, 28, 31, 31, 40, 40, 40, 28, 32, 31, 30, 29, 25, 45, 31, 25, 23, 28, 39, 43, 33, 32, 31, 23, 33, 38, 36, 26, 18, 28, 30, 38, 38, 31, 30, 25, 18, 15, 18, 20, 31, 38, 27, 15, 15, 20, 27, 31, 15, 32, 17, 14, 24, 23, 15, 26, 40, 24, 27, 23, 19, 25, 83, 42, 17, 10, 17, 13, 31, 27, 19, 11, 27, 22, 24, 30, 29, 25, 19, 25, 26, 21, 23, 23, 19, 21, 25, 35, 26, 20, 20, 15, 28, 21, 14, 11, 25, 23, 24, 25, 33, 34, 25, 19, 10, 14, 21, 19, 39, 45, 47, 27, 38, 47, 49, 32, 20, 40, 23, 12, 18, 14, 27, 30, 45, 61, 54, 43, 40, 29, 25, 10, 14, 30, 45, 54, 48, 43, 28, 34, 15, 55, 55, 15, 4, 22, 58, 55, 8, 8, 20, 57, 76, 81, 68, 54, 3, 6, 26, 43, 47, 10, 4, 10, 22, 28, 48, 25, 38, 66, 77, 73, 74, 73, 72, 65, 56, 26, 5, 33, 49, 53, 63, 72, 76, 77, 23, 18, 55, 40, 14, 29, 44, 10, 12, 9, 30, 28, 47, 26, 18, 23, 30, 22, 36, 30, 35, 36, 37, 43, 65, 64, 30, 10, 15, 23, 57, 92, 115, 128, 139, 89, 39, 53, 56, 28, 61, 87, 84, 87, 11, 20, 31, 53, 71, 40, 33, 15, 15, 18, 23, 35, 35, 10, 6, 14, 19, 23, 27, 18, 17, 47, 52, 26, 14, 20, 48, 23, 9, 15, 25, 29, 25, 11, 10, 27, 14, 13, 18, 3, 6, 23, 22, 18, 15, 20, 20, 11, 14, 9, 23, 27, 40, 27, 34, 30, 26, 46, 15, 19, 26, 35, 36, 51, 13, 20, 27, 20, 28, 24, 24, 34, 27, 22, 33, 32, 40, 40, 40, 34, 15, 17, 15, 28, 37, 32, 38, 34, 26, 20, 27, 40, 48, 25, 60, 79, 64, 45, 25, 26, 30, 25, 26, 33, 31, 39, 44, 29, 33, 30, 20, 26, 35, 27, 35, 31, 24, 23, 29, 25, 23, 20, 26, 30, 36, 55, 24, 25, 40, 50, 42, 38, 30, 39, 33, 33, 39, 40, 40, 46, 55, 60, 48, 42, 40, 32, 35, 32, 38, 42, 40, 32, 29, 48, 53, 26, 30, 35, 37, 34, 51, 42, 25, 26, 34, 38, 41, 43, 36, 34, 23, 28, 26, 28, 31, 43, 49, 38, 35, 20, 25, 39, 42, 30, 36, 23, 23, 24, 29, 24, 32, 38, 33, 32, 25, 25, 37, 88, 54, 13, 13, 18, 16, 26, 27, 28, 25, 39, 26, 36, 36, 35, 33, 33, 32, 28, 28, 35, 19, 25, 28, 32, 35, 31, 35, 32, 40, 45, 23, 18, 22, 30, 26, 30, 35, 38, 31, 31, 28, 16, 20, 34, 33, 35, 46, 50, 40, 40, 48, 48, 33, 35, 47, 30, 13, 26, 26, 27, 43, 59, 68, 59, 49, 40, 34, 31, 15, 36, 39, 53, 54, 43, 25, 30, 25, 31, 57, 57, 13, 16, 51, 66, 73, 15, 17, 29, 65, 88, 98, 94, 72, 6, 18, 32, 45, 35, 17, 14, 23, 25, 56, 69, 57, 58, 77, 84, 97, 95, 90, 76, 64, 54, 31, 16, 43, 51, 66, 81, 92, 97, 95, 20, 15, 49, 48, 13, 25, 38, 11, 9, 7, 23, 27, 45, 23, 14, 21, 26, 21, 31, 26, 33, 37, 37, 42, 63, 62, 32, 12, 13, 20, 59, 87, 106, 124, 131, 87, 45, 54, 53, 34, 59, 87, 80, 86, 15, 16, 35, 52, 70, 15, 13, 17, 32, 34, 10, 7, 12, 16, 21, 22, 13, 13, 38, 51, 25, 12, 17, 40, 19, 9, 9, 13, 22, 20, 10, 8, 25, 10, 9, 5, 7, 15, 15, 15, 11, 14, 13, 7, 9, 8, 16, 21, 32, 19, 29, 28, 27, 51, 13, 17, 20, 29, 30, 48, 12, 16, 20, 13, 18, 19, 14, 23, 30, 22, 28, 27, 35, 32, 33, 30, 15, 11, 12, 26, 28, 31, 31, 33, 19, 15, 29, 40, 54, 34, 56, 77, 64, 56, 34, 32, 35, 26, 23, 23, 27, 34, 51, 36, 28, 28, 23, 30, 39, 30, 32, 33, 28, 23, 28, 20, 17, 17, 28, 26, 36, 55, 22, 30, 33, 48, 31, 32, 30, 31, 28, 54, 40, 34, 37, 41, 58, 42, 44, 42, 34, 33, 38, 29, 37, 35, 30, 25, 36, 41, 55, 21, 27, 35, 33, 31, 41, 36, 28, 28, 46, 44, 49, 64, 55, 26, 20, 21, 19, 20, 25, 35, 42, 35, 31, 27, 23, 34, 31, 26, 39, 23, 17, 15, 18, 16, 23, 26, 29, 27, 33, 28, 27, 79, 59, 25, 14, 18, 14, 22, 24, 23, 19, 26, 20, 27, 28, 26, 32, 32, 26, 23, 30, 22, 19, 19, 25, 28, 26, 26, 25, 33, 21, 16, 16, 19, 18, 21, 27, 30, 24, 26, 25, 12, 14, 20, 22, 25, 42, 38, 31, 35, 39, 38, 28, 29, 34, 29, 10, 25, 21, 19, 38, 57, 66, 58, 48, 38, 36, 33, 13, 23, 34, 52, 54, 38, 23, 34, 22, 21, 52, 51, 10, 10, 43, 62, 68, 17, 13, 26, 61, 81, 91, 90, 70, 8, 14, 29, 36, 32, 18, 12, 20, 24, 53, 62, 53, 52, 72, 81, 91, 90, 84, 73, 63, 52, 30, 18, 35, 46, 61, 78, 87, 89, 92, 3, 9, 22, 16, 13, 4, 11, 6, 4, 3, 3, 8, 40, 33, 3, 8, 14, 17, 19, 22, 14, 17, 16, 15, 53, 51, 30, 2, 15, 14, 20, 58, 88, 71, 7, 16, 20, 15, 39, 74, 67, 57, 8, 12, 30, 58, 24, 7, 5, 5, 6, 4, 28, 20, 4, 3, 7, 15, 8, 12, 9, 3, 20, 28, 21, 8, 3, 30, 13, 5, 7, 8, 18, 20, 8, 5, 10, 3, 2, 3, 3, 4, 5, 11, 24, 4, 4, 7, 6, 2, 4, 3, 9, 23, 20, 13, 21, 15, 23, 9, 9, 13, 26, 25, 54, 5, 10, 9, 11, 13, 8, 4, 8, 13, 10, 17, 33, 39, 35, 29, 27, 8, 7, 8, 14, 19, 20, 22, 18, 12, 11, 18, 22, 20, 17, 44, 70, 59, 38, 23, 16, 13, 13, 15, 28, 18, 21, 20, 17, 17, 15, 12, 16, 17, 15, 15, 15, 14, 12, 22, 13, 12, 8, 14, 17, 22, 27, 13, 12, 15, 22, 21, 18, 18, 23, 17, 18, 21, 20, 25, 49, 34, 29, 30, 32, 40, 33, 27, 16, 34, 19, 16, 16, 19, 49, 33, 30, 23, 20, 23, 30, 37, 22, 27, 20, 20, 24, 33, 28, 20, 18, 13, 11, 11, 17, 16, 20, 25, 19, 16, 11, 13, 20, 20, 26, 22, 12, 15, 16, 12, 10, 18, 27, 23, 22, 18, 15, 18, 77, 55, 24, 17, 19, 9, 14, 14, 11, 9, 17, 16, 15, 18, 21, 15, 20, 18, 20, 19, 16, 20, 12, 14, 17, 22, 18, 15, 12, 14, 17, 21, 8, 6, 9, 10, 13, 17, 18, 15, 15, 16, 6, 5, 8, 10, 13, 17, 17, 16, 17, 19, 15, 20, 22, 7, 10, 10, 13, 10, 23, 32, 32, 19, 21, 16, 16, 5, 8, 13, 28, 30, 25, 32, 25, 18, 9, 31, 38, 3, 5, 13, 42, 49, 9, 8, 17, 37, 58, 69, 73, 4, 3, 8, 19, 35, 5, 3, 10, 13, 23, 32, 24, 35, 52, 67, 62, 70, 73, 42, 55, 18, 8, 15, 26, 58, 63, 70, 82, 67, 1, 2, 11, 11, 8, 1, 5, 5, 3, 3, 3, 4, 20, 12, 0, 2, 10, 6, 14, 21, 15, 14, 17, 15, 51, 47, 23, 0, 12, 15, 27, 52, 66, 83, 81, 67, 4, 12, 15, 11, 33, 69, 60, 47, 2, 3, 5, 25, 51, 20, 6, 4, 3, 3, 3, 29, 25, 2, 0, 14, 10, 3, 20, 26, 19, 6, 2, 33, 13, 1, 2, 9, 20, 18, 7, 1, 14, 1, 2, 2, 2, 3, 4, 11, 13, 4, 5, 8, 9, 3, 4, 4, 11, 28, 21, 14, 25, 14, 22, 12, 16, 20, 29, 27, 54, 6, 13, 13, 17, 18, 11, 5, 18, 18, 11, 19, 32, 32, 39, 36, 30, 8, 8, 10, 19, 25, 24, 24, 23, 15, 13, 22, 25, 13, 15, 52, 72, 59, 35, 20, 20, 17, 13, 17, 23, 10, 18, 20, 15, 15, 21, 13, 22, 17, 17, 22, 18, 19, 15, 28, 19, 17, 12, 21, 19, 24, 34, 16, 13, 15, 26, 18, 24, 17, 22, 20, 21, 23, 22, 23, 37, 25, 35, 28, 28, 40, 26, 26, 41, 57, 38, 21, 28, 20, 55, 63, 28, 22, 24, 29, 32, 37, 29, 26, 17, 23, 26, 38, 35, 27, 24, 20, 18, 15, 18, 18, 29, 32, 21, 18, 10, 16, 30, 23, 20, 25, 13, 13, 21, 18, 15, 28, 29, 25, 27, 23, 22, 18, 85, 52, 18, 13, 20, 10, 25, 18, 16, 10, 24, 20, 20, 22, 26, 25, 24, 21, 21, 21, 23, 18, 15, 21, 20, 24, 20, 16, 13, 15, 21, 23, 10, 12, 18, 15, 18, 15, 20, 16, 18, 20, 8, 3, 11, 15, 18, 26, 16, 15, 19, 18, 17, 22, 22, 28, 24, 6, 18, 14, 15, 17, 29, 38, 38, 24, 23, 18, 18, 5, 13, 21, 36, 33, 27, 35, 28, 21, 11, 40, 38, 3, 11, 17, 48, 47, 8, 9, 19, 39, 60, 71, 72, 40, 1, 1, 6, 29, 39, 3, 1, 11, 11, 25, 40, 28, 28, 33, 61, 64, 66, 86, 74, 37, 51, 17, 6, 15, 28, 58, 63, 66, 81, 65]\n"
          ]
        }
      ]
    },
    {
      "cell_type": "code",
      "source": [
        "print(np.min(aqi))\n",
        "print(np.max(aqi))\n",
        "print(np.mean(aqi))\n",
        "print(np.median(aqi))"
      ],
      "metadata": {
        "colab": {
          "base_uri": "https://localhost:8080/"
        },
        "id": "tvHkv-D5DxNI",
        "outputId": "dcf1fabf-42a7-46e6-f2a2-2c9e451f2e06"
      },
      "execution_count": null,
      "outputs": [
        {
          "output_type": "stream",
          "name": "stdout",
          "text": [
            "0\n",
            "143\n",
            "28.064783543137857\n",
            "24.0\n"
          ]
        }
      ]
    },
    {
      "cell_type": "markdown",
      "source": [
        "Минимальное значение 0, максимальное 143 (нездоровое для чувствительных групп). Среднее 28.06, медиана 24."
      ],
      "metadata": {
        "id": "qxV-f8wSD1xI"
      }
    },
    {
      "cell_type": "markdown",
      "source": [
        "Также можно посмотреть, в какие дни склько было максимум, минимум наблюдений."
      ],
      "metadata": {
        "id": "qQ7E8o1ZFS-_"
      }
    },
    {
      "cell_type": "code",
      "source": [
        "# экспортировать список\n",
        "count_obs = df[\"DAILY_OBS_COUNT\"].tolist()\n",
        "print(count_obs)"
      ],
      "metadata": {
        "colab": {
          "base_uri": "https://localhost:8080/"
        },
        "id": "xaHyw0ZzG9d2",
        "outputId": "4faf5d96-e75a-4280-f10a-ed88580450ef"
      },
      "execution_count": null,
      "outputs": [
        {
          "output_type": "stream",
          "name": "stdout",
          "text": [
            "[1, 1, 1, 1, 1, 1, 1, 1, 1, 1, 1, 1, 1, 1, 1, 1, 1, 1, 1, 1, 1, 1, 1, 1, 1, 1, 1, 1, 1, 1, 1, 1, 1, 1, 1, 1, 1, 1, 1, 1, 1, 1, 1, 1, 1, 1, 1, 1, 1, 1, 1, 1, 1, 1, 1, 1, 1, 1, 1, 1, 1, 1, 1, 1, 1, 1, 1, 1, 1, 1, 1, 1, 1, 1, 1, 1, 1, 1, 1, 1, 1, 1, 1, 1, 1, 1, 1, 1, 1, 1, 1, 1, 1, 1, 1, 1, 1, 1, 1, 1, 1, 1, 1, 1, 1, 1, 1, 1, 1, 1, 1, 1, 1, 1, 1, 1, 1, 1, 1, 1, 1, 1, 1, 1, 1, 1, 1, 1, 1, 1, 1, 1, 1, 1, 1, 1, 1, 1, 1, 1, 1, 1, 1, 1, 1, 1, 1, 1, 1, 1, 1, 1, 1, 1, 1, 1, 1, 1, 1, 1, 1, 1, 1, 1, 1, 1, 1, 1, 1, 1, 1, 1, 1, 1, 1, 1, 1, 1, 1, 1, 1, 1, 1, 1, 1, 1, 1, 1, 1, 1, 1, 1, 1, 1, 1, 1, 1, 1, 1, 1, 1, 1, 1, 1, 1, 1, 1, 1, 1, 1, 1, 1, 1, 1, 1, 1, 1, 1, 1, 1, 1, 1, 1, 1, 1, 1, 1, 1, 1, 1, 1, 1, 1, 1, 1, 1, 1, 1, 1, 1, 1, 1, 1, 1, 1, 1, 1, 1, 1, 1, 1, 1, 1, 1, 1, 1, 1, 1, 1, 1, 1, 1, 1, 1, 1, 1, 1, 1, 1, 1, 1, 1, 1, 1, 1, 1, 1, 1, 1, 1, 1, 1, 1, 1, 1, 1, 1, 1, 1, 1, 1, 1, 1, 1, 1, 1, 1, 1, 1, 1, 1, 1, 1, 1, 1, 1, 1, 1, 1, 1, 1, 1, 1, 1, 1, 1, 1, 1, 1, 1, 1, 1, 1, 1, 1, 1, 1, 1, 1, 1, 1, 1, 1, 1, 1, 1, 1, 1, 1, 1, 1, 1, 1, 1, 1, 1, 1, 1, 1, 1, 1, 1, 1, 1, 1, 1, 1, 1, 1, 1, 1, 1, 1, 1, 1, 1, 1, 1, 1, 1, 1, 1, 1, 1, 1, 1, 1, 1, 1, 1, 1, 1, 1, 1, 1, 1, 1, 1, 1, 1, 1, 1, 1, 1, 1, 1, 1, 1, 1, 1, 1, 1, 1, 1, 1, 1, 1, 1, 1, 1, 1, 1, 1, 1, 1, 1, 1, 1, 1, 1, 1, 1, 1, 1, 1, 1, 1, 1, 1, 1, 1, 1, 1, 1, 1, 1, 1, 1, 1, 1, 1, 1, 1, 1, 1, 1, 1, 1, 1, 1, 1, 1, 1, 1, 1, 1, 1, 1, 1, 1, 1, 1, 1, 1, 1, 1, 1, 1, 1, 1, 1, 1, 1, 1, 1, 1, 1, 1, 1, 1, 1, 1, 1, 1, 1, 1, 1, 1, 1, 1, 1, 1, 1, 1, 1, 1, 1, 1, 1, 1, 1, 1, 1, 1, 1, 1, 1, 1, 1, 1, 1, 1, 1, 1, 1, 1, 1, 1, 1, 1, 1, 1, 1, 1, 1, 1, 1, 1, 1, 1, 1, 1, 1, 1, 1, 1, 1, 1, 1, 1, 1, 1, 1, 1, 1, 1, 1, 1, 1, 1, 1, 1, 1, 1, 1, 1, 1, 1, 1, 1, 1, 1, 1, 1, 1, 1, 1, 1, 1, 1, 1, 1, 1, 1, 1, 1, 1, 1, 1, 1, 1, 1, 1, 1, 1, 1, 1, 1, 1, 1, 1, 1, 1, 1, 1, 1, 1, 1, 1, 1, 1, 1, 1, 1, 1, 1, 1, 1, 1, 1, 1, 1, 1, 1, 1, 1, 1, 1, 1, 1, 1, 1, 1, 1, 1, 1, 1, 1, 1, 1, 1, 1, 1, 1, 1, 1, 1, 1, 1, 1, 1, 1, 1, 1, 1, 1, 1, 1, 1, 1, 1, 1, 1, 1, 1, 1, 1, 1, 1, 1, 1, 1, 1, 1, 1, 1, 1, 1, 1, 1, 1, 1, 1, 1, 1, 1, 1, 1, 1, 1, 1, 1, 1, 1, 1, 1, 1, 1, 1, 1, 1, 1, 1, 1, 1, 1, 1, 1, 1, 1, 1, 1, 1, 1, 1, 1, 1, 1, 1, 1, 1, 1, 1, 1, 1, 1, 1, 1, 1, 1, 1, 1, 1, 1, 1, 1, 1, 1, 1, 1, 1, 1, 1, 1, 1, 1, 1, 1, 1, 1, 1, 1, 1, 1, 1, 1, 1, 1, 1, 1, 1, 1, 1, 1, 1, 1, 1, 1, 1, 1, 1, 1, 1, 1, 1, 1, 1, 1, 1, 1, 1, 1, 1, 1, 1, 1, 1, 1, 1, 1, 1, 1, 1, 1, 1, 1, 1, 1, 1, 1, 1, 1, 1, 1, 1, 1, 1, 1, 1, 1, 1, 1, 1, 1, 1, 1, 1, 1, 1, 1, 1, 1, 1, 1, 1, 1, 1, 1, 1, 1, 1, 1, 1, 1, 1, 1, 1, 1, 1, 1, 1, 1, 1, 1, 1, 1, 1, 1, 1, 1, 1, 1, 1, 1, 1, 1, 1, 1, 1, 1, 1, 1, 1, 1, 1, 1, 1, 1, 1, 1, 1, 1, 1, 1, 1, 1, 1, 1, 1, 1, 1, 1, 1, 1, 1, 1, 1, 1, 1, 1, 1, 1, 1, 1, 1, 1, 1, 1, 1, 1, 1, 1, 1, 1, 1, 1, 1, 1, 1, 1, 1, 1, 1, 1, 1, 1, 1, 1, 1, 1, 1, 1, 1, 1, 1, 1, 1, 1, 1, 1, 1, 1, 1, 1, 1, 1, 1, 1, 1, 1, 1, 1, 1, 1, 1, 1, 1, 1, 1, 1, 1, 1, 1, 1, 1, 1, 1, 1, 1, 1, 1, 1, 1, 1, 1, 1, 1, 1, 1, 1, 1, 1, 1, 1, 1, 1, 1, 1, 1, 1, 1, 1, 1, 1, 1, 1, 1, 1, 1, 1, 1, 1, 1, 1, 1, 1, 1, 1, 1, 1, 1, 1, 1, 1, 1, 1, 1, 1, 1, 1, 1, 1, 1, 1, 1, 1, 1, 1, 1, 1, 1, 1, 1, 1, 1, 1, 1, 1, 1, 1, 1, 1, 1, 1, 1, 1, 1, 1, 1, 1, 1, 1, 1, 1, 1, 1, 1, 1, 1, 1, 1, 1, 1, 1, 1, 1, 1, 1, 1, 1, 1, 1, 1, 1, 1, 1, 1, 1, 1, 1, 1, 1, 1, 1, 1, 1, 1, 1, 1, 1, 1, 1, 1, 1, 1, 1, 1, 1, 1, 1, 1, 1, 1, 1, 1, 1, 1, 1, 1, 1, 1, 1, 1, 1, 1, 1, 1, 1, 1, 1, 1, 1, 1, 1, 1, 1, 1, 1, 1, 1, 1, 1, 1, 1, 1, 1, 1, 1, 1, 1, 1, 1, 1, 1, 1, 1, 1, 1, 1, 1, 1, 1, 1, 1, 1, 1, 1, 1, 1, 1, 1, 1, 1, 1, 1, 1, 1, 1, 1, 1, 1, 1, 1, 1, 1, 1, 1, 1, 1, 1, 1, 1, 1, 1, 1, 1, 1, 1, 1, 1, 1, 1, 1, 1, 1, 1, 1, 1, 1, 1, 1, 1, 1, 1, 1, 1, 1, 1, 1, 1, 1, 1, 1, 1, 1, 1, 1, 1, 1, 1, 1, 1, 1, 1, 1, 1, 1, 1, 1, 1, 1, 1, 1, 1, 1, 1, 1, 1, 1, 1, 1, 1, 1, 1, 1, 1, 1, 1, 1, 1, 1, 1, 1, 1, 1, 1, 1, 1, 1, 1, 1, 1, 1, 1, 1, 1, 1, 1, 1, 1, 1, 1, 1, 1, 1, 1, 1, 1, 1, 1, 1, 1, 1, 1, 1, 1, 1, 1, 1, 1, 1, 1, 1, 1, 1, 1, 1, 1, 1, 1, 1, 1, 1, 1, 1, 1, 1, 1, 1, 1, 1, 1, 1, 1, 1, 1, 1, 1, 1, 1, 1, 1, 1, 1, 1, 1, 1, 1, 1, 1, 1, 1, 1, 1, 1, 1, 1, 1, 1, 1, 1, 1, 1, 1, 1, 1, 1, 1, 1, 1, 1, 1, 1, 1, 1, 1, 1, 1, 1, 1, 1, 1, 1, 1, 1, 1, 1, 1, 1, 1, 1, 1, 1, 1, 1, 1, 1, 1, 1, 1, 1, 1, 1, 1, 1, 1, 1, 1, 1, 1, 1, 1, 1, 1, 1, 1, 1, 1, 1, 1, 1, 1, 1, 1, 1, 1, 1, 1, 1, 1, 1, 1, 1, 1, 1, 1, 1, 1, 1, 1, 1, 1, 1, 1, 1, 1, 1, 1, 1, 1, 1, 1, 1, 1, 1, 1, 1, 1, 1, 1, 1, 1, 1, 1, 1, 1, 1, 1, 1, 1, 1, 1, 1, 1, 1, 1, 1, 1, 1, 1, 1, 1, 1, 1, 1, 1, 1, 1, 1, 1, 1, 1, 1, 1, 1, 1, 1, 1, 1, 1, 1, 1, 1, 1, 1, 1, 1, 1, 1, 1, 1, 1, 1, 1, 1, 1, 1, 1, 1, 1, 1, 1, 1, 1, 1, 1, 1, 1, 1, 1, 1, 1, 1, 1, 1, 1, 1, 1, 1, 1, 1, 1, 1, 1, 1, 1, 1, 1, 1, 1, 1, 1, 1, 1, 1, 1, 1, 1, 1, 1, 1, 1, 1, 1, 1, 1, 1, 1, 1, 1, 1, 1, 1, 1, 1, 1, 1, 1, 1, 1, 1, 1, 1, 1, 1, 1, 1, 1, 1, 1, 1, 1, 1, 1, 1, 1, 1, 1, 1, 1, 1, 1, 1, 1, 1, 1, 1, 1, 1, 1, 1, 1, 1, 1, 1, 1, 1, 1, 1, 1, 1, 1, 1, 1, 1, 1, 1, 1, 1, 1, 1, 1, 1, 1, 1, 1, 1, 1, 1, 1, 1, 1, 1, 1, 1, 1, 1, 1, 1, 1, 1, 1, 1, 1, 1, 1, 1, 1, 1, 1, 1, 1, 1, 1, 1, 1, 1, 1, 1, 1, 1, 1, 1, 1, 1, 1, 1, 1, 1, 1, 1, 1, 1, 1, 1, 1, 1, 1, 1, 1, 1, 1, 1, 1, 1, 1, 1, 1, 1, 1, 1, 1, 1, 1, 1, 1, 1, 1, 1, 1, 1, 1, 1, 1, 1, 1, 1, 1, 1, 1, 1, 1, 1, 1, 1, 1, 1, 1, 1, 1, 1, 1, 1, 1, 1, 1, 1, 1, 1, 1, 1, 1, 1, 1, 1, 1, 1, 1, 1, 1, 1, 1, 1, 1, 1, 1, 1, 1, 1, 1, 1, 1, 1, 1, 1, 1, 1, 1, 1, 1, 1, 1, 1, 1, 1, 1, 1, 1, 1, 1, 1, 1, 1, 1, 1, 1, 1, 1, 1, 1, 1, 1, 1, 1, 1, 1, 1, 1, 1, 1, 1, 1, 1, 1, 1, 1, 1, 1, 1, 1, 1, 1, 1, 1, 1, 1, 1, 1, 1, 1, 1, 1, 1, 1, 1, 1, 1, 1, 1, 1, 1, 1, 1, 1, 1, 1, 1, 1, 1, 1, 1, 1, 1, 1, 1, 1, 1, 1, 1, 1, 1, 1, 1, 1, 1, 1, 1, 1, 1, 1, 1, 1, 1, 1, 1, 1, 1, 1, 1, 1, 1, 1, 1, 1, 1, 1, 1, 1, 1, 1, 1, 1, 1, 1, 1, 1, 1, 1, 1, 1, 1, 1, 1, 1, 1, 1, 1, 1, 1, 1, 1, 1, 1, 1, 1, 1, 1, 1, 1, 1, 1, 1, 1, 1, 1, 1, 1, 1, 1, 1, 1, 1, 1, 1, 1, 1, 1, 1, 1, 1, 1, 1, 1, 1, 1, 1, 1, 1, 1, 1, 1, 1, 1, 1, 1, 1, 1, 1, 1, 1, 1, 1, 1, 1, 1, 1, 1, 1, 1, 1, 1, 1, 1, 1, 1, 1, 1, 1, 1, 1, 1, 1, 1, 1, 1, 1, 1, 1, 1, 1, 1, 1, 1, 1, 1, 1, 1, 1, 1, 1, 1, 1, 1, 1, 1, 1, 1, 1, 1, 1, 1, 1, 1, 1, 1, 1, 1, 1, 1, 1, 1, 1, 1, 1, 1, 1, 1, 1, 1, 1, 1, 1, 1, 1, 1, 1, 1, 1, 1, 1, 1, 1, 1, 1, 1, 1, 1, 1, 1, 1, 1, 1, 1, 1, 1, 1, 1, 1, 1, 1, 1, 1, 1, 1, 1, 1, 1, 1, 1, 1, 1, 1, 1, 1, 1, 1, 1, 1, 1, 1, 1, 1, 1, 1, 1, 1, 1, 1, 1, 1, 1, 1, 1, 1, 1, 1, 1, 1, 1, 1, 1, 1, 1, 1, 1, 1, 1, 1, 1, 1, 1, 1, 1, 1, 1, 1, 1, 1, 1, 1, 1, 1, 1, 1, 1, 1, 1, 1, 1, 1, 1, 1, 1, 1, 1, 1, 1, 1, 1, 1, 1, 1, 1, 1, 1, 1, 1, 1, 1, 1, 1, 1, 1, 1, 1, 1, 1, 1, 1, 1, 1, 1, 1, 1, 1, 1, 1, 1, 1, 1, 1, 1, 1, 1, 1, 1, 1, 1, 1, 1, 1, 1, 1, 1, 1, 1, 1, 1, 1, 1, 1, 1, 1, 1, 1, 1, 1, 1, 1, 1, 1, 1, 1, 1, 1, 1, 1, 1, 1, 1, 1, 1, 1, 1, 1, 1, 1, 1, 1, 1, 1, 1, 1, 1, 1, 1, 1, 1, 1, 1, 1, 1, 1, 1, 1, 1, 1, 1, 1, 1, 1, 1, 1, 1, 1, 1, 1, 1, 1, 1, 1, 1, 1, 1, 1, 1, 1, 1, 1, 1, 1, 1, 1, 1, 1, 1, 1, 1, 1, 1, 1, 1, 1, 1, 1, 1, 1, 1, 1, 1, 1, 1, 1, 1, 1, 1, 1, 1, 1, 1, 1, 1, 1, 1, 1, 1, 1, 1, 1, 1, 1, 1, 1, 1, 1, 1, 1, 1, 1, 1, 1, 1, 1, 1, 1, 1, 1, 1, 1, 1, 1, 1, 1, 1, 1, 1, 1, 1, 1, 1, 1, 1, 1, 1, 1, 1, 1, 1, 1, 1, 1, 1, 1, 1, 1, 1, 1, 1, 1, 1, 1, 1, 1, 1, 1, 1, 1, 1, 1, 1, 1, 1, 1, 1, 1, 1, 1, 1, 1, 1, 1, 1, 1, 1, 1, 1, 1, 1, 1, 1, 1, 1, 1, 1, 1, 1, 1, 1, 1, 1, 1, 1, 1, 1, 1, 1, 1, 1, 1, 1, 1, 1, 1, 1, 1, 1, 1, 1, 1, 1, 1, 1, 1, 1, 1, 1, 1, 1, 1, 1, 1, 1, 1, 1, 1, 1, 1, 1, 1, 1, 1, 1, 1, 1, 1, 1, 1, 1, 1, 1, 1, 1, 1, 1, 1, 1, 1, 1, 1, 1, 1, 1, 1, 1, 1, 1, 1, 1, 1, 1, 1, 1, 1, 1, 1, 1, 1, 1, 1, 1, 1, 1, 1, 1, 1, 1, 1, 1, 1, 1, 1, 1, 1, 1, 1, 1, 1, 1, 1, 1, 1, 1, 1, 1, 1, 1, 1, 1, 1, 1, 1, 1, 1, 1, 1, 1, 1, 1, 1, 1, 1, 1, 1, 1, 1, 1, 1, 1, 1, 1, 1, 1, 1, 1, 1, 1, 1, 1, 1, 1, 1, 1, 1, 1, 1, 1, 1, 1, 1, 1, 1, 1, 1, 1, 1, 1, 1, 1, 1, 1, 1, 1, 1, 1, 1, 1, 1, 1, 1, 1, 1, 1, 1, 1, 1, 1, 1, 1, 1, 1, 1, 1, 1, 1, 1, 1, 1, 1, 1, 1, 1, 1, 1, 1, 1, 1, 1, 1, 1, 1, 1, 1, 1, 1, 1, 1, 1, 1, 1, 1, 1, 1, 1, 1, 1, 1, 1, 1, 1, 1, 1, 1, 1, 1, 1, 1, 1, 1, 1, 1, 1, 1, 1, 1, 1, 1, 1, 1, 1, 1, 1, 1, 1, 1, 1, 1, 1, 1, 1, 1, 1, 1, 1, 1, 1, 1, 1, 1, 1, 1, 1, 1, 1, 1, 1, 1, 1, 1, 1, 1, 1, 1, 1, 1, 1, 1, 1, 1, 1, 1, 1, 1, 1, 1, 1, 1, 1, 1, 1, 1, 1, 1, 1, 1, 1, 1, 1, 1, 1, 1, 1, 1, 1, 1, 1, 1, 1, 1, 1, 1, 1, 1, 1, 1, 1, 1, 1, 1, 1, 1, 1, 1, 1, 1, 1, 1, 1, 1, 1, 1, 1, 1, 1, 1, 1, 1, 1, 1, 1, 1, 1, 1, 1, 1, 1, 1, 1, 1, 1, 1, 1, 1, 1, 1, 1, 1, 1, 1, 1, 1, 1, 1, 1, 1, 1, 1, 1, 1, 1, 1, 1, 1, 1, 1, 1, 1, 1, 1, 1, 1, 1, 1, 1, 1, 1, 1, 1, 1, 1, 1, 1, 1, 1, 1, 1, 1, 1, 1, 1, 1, 1, 1, 1, 1, 1, 1, 1, 1, 1, 1, 1, 1, 1, 1, 1, 1, 1, 1, 1, 1, 1, 1, 1, 1, 1, 1, 1, 1, 1, 1, 1, 1, 1, 1, 1, 1, 1, 1, 1, 1, 1, 1, 1, 1, 1, 1, 1, 1, 1, 1, 1, 1, 1, 1, 1, 1, 1, 1, 1, 1, 1, 1, 1, 1, 1, 1, 1, 1, 1, 1, 1, 1, 1, 1, 1, 1, 1, 1, 1, 1, 1, 1, 1, 1, 1, 1, 1, 1, 1, 1, 1, 1, 1, 1, 1, 1, 1, 1, 1, 1, 1, 1, 1, 1, 1, 1, 1, 1, 1, 1, 1, 1, 1, 1, 1, 1, 1, 1, 1, 1, 1, 1, 1, 1, 1, 1, 1, 1, 1, 1, 1, 1, 1, 1, 1, 1, 1, 1, 1, 1, 1, 1, 1, 1, 1, 1, 1, 1, 1, 1, 1, 1, 1, 1, 1, 1, 1, 1, 1, 1, 1, 1, 1, 1, 1, 1, 1, 1, 1, 1, 1, 1, 1, 1, 1, 1, 1, 1, 1, 1, 1, 1, 1, 1, 1, 1, 1, 1, 1, 1, 1, 1, 1, 1, 1, 1, 1, 1, 1, 1, 1, 1, 1, 1, 1, 1, 1, 1, 1, 1, 1, 1, 1, 1, 1, 1, 1, 1, 1, 1, 1, 1, 1, 1, 1, 1, 1, 1, 1, 1, 1, 1, 1, 1, 1, 1, 1, 1, 1, 1, 1, 1, 1, 1, 1, 1, 1, 1, 1, 1, 1, 1, 1, 1, 1, 1, 1, 1, 1, 1, 1, 1, 1, 1, 1, 1, 1, 1, 1, 1, 1, 1, 1, 1, 1, 1, 1, 1, 1, 1, 1, 1, 1, 1, 1, 1, 1, 1, 1, 1, 1, 1, 1, 1, 1, 1, 1, 1, 1, 1, 1, 1, 1, 1, 1, 1, 1, 1, 1, 1, 1, 1, 1, 1, 1, 1, 1, 1, 1, 1, 1, 1, 1, 1, 1, 1, 1, 1, 1, 1, 1, 1, 1, 1, 1, 1, 1, 1, 1, 1, 1, 1, 1, 1, 1, 1, 1, 1, 1, 1, 1, 1, 1, 1, 1, 1, 1, 1, 1, 1, 1, 1, 1, 1, 1, 1, 1, 1, 1, 1, 1, 1, 1, 1, 1, 1, 1, 1, 1, 1, 1, 1, 1, 1, 1, 1, 1, 1, 1, 1, 1, 1, 1, 1, 1, 1, 1, 1, 1, 1, 1, 1, 1, 1, 1, 1, 1, 1, 1, 1, 1, 1, 1, 1, 1, 1, 1, 1, 1, 1, 1, 1, 1, 1, 1, 1, 1, 1, 1, 1, 1, 1, 1, 1, 1, 1, 1, 1, 1, 1, 1, 1, 1, 1, 1, 1, 1, 1, 1, 1, 1, 1, 1, 1, 1, 1, 1, 1, 1, 1, 1, 1, 1, 1, 1, 1, 1, 1, 1, 1, 1, 1, 1, 1, 1, 1, 1, 1, 1, 1, 1, 1, 1, 1, 1, 1, 1, 1, 1, 1, 1, 1, 1, 1, 1, 1, 1, 1, 1, 1, 1, 1, 1, 1, 1, 1, 1, 1, 1, 1, 1, 1, 1, 1, 1, 1, 1, 1, 1, 1, 1, 1, 1, 1, 1, 1, 1, 1, 1, 1, 1, 1, 1, 1, 1, 1, 1, 1, 1, 1, 1, 1, 1, 1, 1, 1, 1, 1, 1, 1, 1, 1, 1, 1, 1, 1, 1, 1, 1, 1, 1, 1, 1, 1, 1, 1, 1, 1, 1, 1, 1, 1, 1, 1, 1, 1, 1, 1, 1, 1, 1, 1, 1, 1, 1, 1, 1, 1, 1, 1, 1, 1, 1, 1, 1, 1, 1, 1, 1, 1, 1, 1, 1, 1, 1, 1, 1, 1, 1, 1, 1, 1, 1, 1, 1, 1, 1, 1, 1, 1, 1, 1, 1, 1, 1, 1, 1, 1, 1, 1, 1, 1, 1, 1, 1, 1, 1, 1, 1, 1, 1, 1, 1, 1, 1, 1, 1, 1, 1, 1, 1, 1, 1, 1, 1, 1, 1, 1, 1, 1, 1, 1, 1, 1, 1, 1, 1, 1, 1, 1, 1, 1, 1, 1, 1, 1, 1, 1, 1, 1, 1, 1, 1, 1, 1, 1, 1, 1, 1, 1, 1, 1, 1, 1, 1, 1, 1, 1, 1, 1, 1, 1, 1, 1, 1, 1, 1, 1, 1, 1, 1, 1, 1, 1, 1, 1, 1, 1, 1, 1, 1, 1, 1, 1, 1, 1, 1, 1, 1, 1, 1, 1, 1, 1, 1, 1, 1, 1, 1, 1, 1, 1, 1, 1, 1, 1, 1, 1, 1, 1, 1, 1, 1, 1, 1, 1, 1, 1, 1, 1, 1, 1, 1, 1, 1, 1, 1, 1, 1, 1, 1, 1, 1, 1, 1, 1, 1, 1, 1, 1, 1, 1, 1, 1, 1, 1, 1, 1, 1, 1, 1, 1, 1, 1, 1, 1, 1, 1, 1, 1, 1, 1, 1, 1, 1, 1, 1, 1, 1, 1, 1, 1, 1, 1, 1, 1, 1, 1, 1, 1, 1, 1, 1, 1, 1, 1, 1, 1, 1, 1, 1, 1, 1, 1, 1, 1, 1, 1, 1, 1, 1, 1, 1, 1, 1, 1, 1, 1, 1, 1, 1, 1, 1, 1, 1, 1, 1, 1, 1, 1, 1, 1, 1, 1, 1, 1, 1, 1, 1, 1, 1, 1, 1, 1, 1, 1, 1, 1, 1, 1, 1, 1, 1, 1, 1, 1, 1, 1, 1, 1, 1, 1, 1, 1, 1, 1, 1, 1, 1, 1, 1, 1, 1, 1, 1, 1, 1, 1, 1, 1, 1, 1, 1, 1, 1, 1, 1, 1, 1, 1, 1, 1, 1, 1, 1, 1, 1, 1, 1, 1, 1, 1, 1, 1, 1, 1, 1, 1, 1, 1, 1, 1, 1, 1, 1, 1, 1, 1, 1, 1, 1, 1, 1, 1, 1, 1, 1, 1, 1, 1, 1, 1, 1, 1, 1, 1, 1, 1, 1, 1, 1, 1, 1, 1, 1, 1, 1, 1, 1, 1, 1, 1, 1, 1, 1, 1, 1, 1, 1, 1, 1, 1, 1, 1, 1, 1, 1, 1, 1, 1, 1, 1, 1, 1, 1, 1, 1, 1, 1, 1, 1, 1, 1, 1, 1, 1, 1, 1, 1, 1, 1, 1, 1, 1, 1, 1, 1, 1, 1, 1, 1, 1, 1, 1, 1, 1, 1, 1, 1, 1, 1, 1, 1, 1, 1, 1, 1, 1, 1, 1, 1, 1, 1, 1, 1, 1, 1, 1, 1, 1, 1, 1, 1, 1, 1, 1, 1, 1, 1, 1, 1, 1, 1, 1, 1, 1, 1, 1, 1, 1, 1, 1, 1, 1, 1, 1, 1, 1, 1, 1, 1, 1, 1, 1, 1, 1, 1, 1, 1, 1, 1, 1, 1, 1, 1, 1, 1, 1, 1, 1, 1, 1, 1, 1, 1, 1, 1, 1, 1, 1, 1, 1, 1, 1, 1, 1, 1, 1, 1, 1, 1, 1, 1, 1, 1, 1, 1, 1, 1, 1, 1, 1, 1, 1, 1, 1, 1, 1, 1, 1, 1, 1, 1, 1, 1, 1, 1, 1, 1, 1, 1, 1, 1, 1, 1, 1, 1, 1, 1, 1, 1, 1, 1, 1, 1, 1, 1, 1, 1, 1, 1, 1, 1, 1, 1, 1, 1, 1, 1, 1, 1, 1, 1, 1, 1, 1, 1, 1, 1, 1, 1, 1, 1, 1, 1, 1, 1, 1, 1, 1, 1, 1, 1, 1, 1, 1, 1, 1, 1, 1, 1, 1, 1, 1, 1, 1, 1, 1, 1, 1, 1, 1, 1, 1, 1, 1, 1, 1, 1, 1, 1, 1, 1, 1, 1, 1, 1, 1, 1, 1, 1, 1, 1, 1, 1, 1, 1, 1, 1, 1, 1, 1, 1, 1, 1, 1, 1, 1, 1, 1, 1, 1, 1, 1, 1, 1, 1, 1, 1, 1, 1, 1, 1, 1, 1, 1, 1, 1, 1, 1, 1, 1, 1, 1, 1, 1, 1, 1, 1, 1, 1, 1, 1, 1, 1, 1, 1, 1, 1, 1, 1, 1, 1, 1, 1, 1, 1, 1, 1, 1, 1, 1, 1, 1, 1, 1, 1, 1, 1, 1, 1, 1, 1, 1, 1, 1, 1, 1, 1, 1, 1, 1, 1, 1, 1, 1, 1, 1, 1, 1, 1, 1, 1, 1, 1, 1, 1, 1, 1, 1, 1, 1, 1, 1, 1, 1, 1, 1, 1, 1, 1, 1, 1, 1, 1, 1, 1, 1, 1, 1, 1, 1, 1, 1, 1, 1, 1, 1, 1, 1, 1, 1, 1, 1, 1, 1, 1, 1, 1, 1, 1, 1, 1, 1, 1, 1, 1, 1, 1, 1, 1, 1, 1, 1, 1, 1, 1, 1, 1, 1, 1, 1, 1, 1, 1, 1, 1, 1, 1, 1, 1, 1, 1, 1, 1, 1, 1, 1, 1, 1, 1, 1, 1, 1, 1, 1, 1, 1, 1, 1, 1, 1, 1, 1, 1, 1, 1, 1, 1, 1, 1, 1, 1, 1, 1, 1, 1, 1, 1, 1, 1, 1, 1, 1, 1, 1, 1, 1, 1, 1, 1, 1, 1, 1, 1, 1, 1, 1, 1, 1, 1, 1, 1, 1, 1, 1, 1, 1, 1, 1, 1, 1, 1, 1, 1, 1, 1, 1, 1, 1, 1, 1, 1, 1, 1, 1, 1, 1, 1, 1, 1, 1, 1, 1, 1, 1, 1, 1, 1, 1, 1, 1, 1, 1, 1, 1, 1, 1, 1, 1, 1, 1, 1, 1, 1, 1, 1, 1, 1, 1, 1, 1, 1, 1, 1, 1, 1, 1, 1, 1, 1, 1, 1, 1, 1, 1, 1, 1, 1, 1, 1, 1, 1, 1, 1, 1, 1, 1, 1, 1, 1, 1, 1, 1, 1, 1, 1, 1, 1, 1, 1, 1, 1, 1, 1, 1, 1, 1, 1, 1, 1, 1, 1, 1, 1, 1, 1, 1, 1, 1, 1, 1, 1, 1, 1, 1, 1, 1, 1, 1, 1, 1, 1, 1, 1, 1, 1, 1, 1, 1, 1, 1, 1, 1, 1, 1, 1, 1, 1, 1, 1, 1, 1, 1, 1, 1, 1, 1, 1, 1, 1, 1, 1, 1, 1, 1, 1, 1, 1, 1, 1, 1, 1, 1, 1, 1, 1, 1, 1, 1, 1, 1, 1, 1, 1, 1, 1, 1, 1, 1, 1, 1, 1, 1, 1, 1, 1, 1, 1, 1, 1, 1, 1, 1, 1, 1, 1, 1, 1, 1, 1, 1, 1, 1, 1, 1, 1, 1, 1, 1, 1, 1, 1, 1, 1, 1, 1, 1, 1, 1, 1, 1, 1, 1, 1, 1, 1, 1, 1, 1, 1, 1, 1, 1, 1, 1, 1, 1, 1, 1, 1, 1, 1, 1, 1, 1, 1, 1, 1, 1, 1, 1, 1, 1, 1, 1, 1, 1, 1, 1, 1, 1, 1, 1, 1, 1, 1, 1, 1, 1, 1, 1, 1, 1, 1, 1, 1, 1, 1, 1, 1, 1, 1, 1, 1, 1, 1, 1, 1, 1, 1, 1, 1, 1, 1, 1, 1, 1, 1, 1, 1, 1, 1, 1, 1, 1, 1, 1, 1, 1, 1, 1, 1, 1, 1, 1, 1, 1, 1, 1, 1, 1, 1, 1, 1, 1, 1, 1, 1, 1, 1, 1, 1, 1, 1, 1, 1, 1, 1, 1, 1, 1, 1, 1, 1, 1, 1, 1, 1, 1, 1, 1, 1, 1, 1, 1, 1, 1, 1, 1, 1, 1, 1, 1, 1, 1, 1, 1, 1, 1, 1, 1, 1, 1, 1, 1, 1, 1, 1, 1, 1, 1, 1, 1, 1, 1, 1, 1, 1, 1, 1, 1, 1, 1, 1, 1, 1, 1, 1, 1, 1, 1, 1, 1, 1, 1, 1, 1, 1, 1, 1, 1, 1, 1, 1, 1, 1, 1, 1, 1, 1, 1, 1, 1, 1, 1, 1, 1, 1, 1, 1, 1, 1, 1, 1, 1, 1, 1, 1, 1, 1, 1, 1, 1, 1, 1, 1, 1, 1, 1, 1, 1, 1, 1, 1, 1, 1, 1, 1, 1, 1, 1, 1, 1, 1, 1, 1, 1, 1, 1, 1, 1, 1, 1, 1, 1, 1, 1, 1, 1, 1, 1, 1, 1, 1, 1, 1, 1, 1, 1, 1, 1, 1, 1, 1, 1, 1, 1, 1, 1, 1, 1, 1, 1, 1, 1, 1, 1, 1, 1, 1, 1, 1, 1, 1, 1, 1, 1, 1, 1, 1, 1, 1, 1, 1, 1, 1, 1, 1, 1, 1, 1, 1, 1, 1, 1, 1, 1, 1, 1, 1, 1, 1, 1, 1, 1, 1, 1, 1, 1, 1, 1, 1, 1, 1, 1, 1, 1, 1, 1, 1, 1, 1, 1, 1, 1, 1, 1, 1, 1, 1, 1, 1, 1, 1, 1, 1, 1, 1, 1, 1, 1, 1, 1, 1, 1, 1, 1, 1, 1, 1, 1, 1, 1, 1, 1, 1, 1, 1, 1, 1, 1, 1, 1, 1, 1, 1, 1, 1, 1, 1, 1, 1, 1, 1, 1, 1, 1, 1, 1, 1, 1, 1, 1, 1, 1, 1, 1, 1, 1, 1, 1, 1, 1, 1, 1, 1, 1, 1, 1, 1, 1, 1, 1, 1, 1, 1, 1, 1, 1, 1, 1, 1, 1, 1, 1, 1, 1, 1, 1, 1, 1, 1, 1, 1, 1, 1, 1, 1, 1, 1, 1, 1, 1, 1, 1, 1, 1, 1, 1, 1, 1, 1, 1, 1, 1, 1, 1, 1, 1, 1, 1, 1, 1, 1, 1, 1, 1, 1, 1, 1, 1, 1, 1, 1, 1, 1, 1, 1, 1, 1, 1, 1, 1, 1, 1, 1, 1, 1, 1, 1, 1, 1, 1, 1, 1, 1, 1, 1, 1, 1, 1, 1, 1, 1, 1, 1, 1, 1, 1, 1, 1, 1, 1, 1, 1, 1, 1, 1, 1, 1, 1, 1, 1, 1, 1, 1, 1, 1, 1, 1, 1, 1, 1, 1, 1, 1, 1, 1, 1, 1, 1, 1, 1, 1, 1, 1, 1, 1, 1, 1, 1, 1, 1, 1, 1, 1, 1, 1, 1, 1, 1, 1, 1, 1, 1, 1, 1, 1, 1, 1, 1, 1, 1, 1, 1, 1, 1, 1, 1, 1, 1, 1, 1, 1, 1, 1, 1, 1, 1, 1, 1, 1, 1, 1, 1, 1, 1, 1, 1, 1, 1, 1, 1, 1, 1, 1, 1, 1, 1, 1, 1, 1, 1, 1, 1, 1, 1, 1, 1, 1, 1, 1, 1, 1, 1, 1, 1, 1, 1, 1, 1, 1, 1, 1, 1, 1, 1, 1, 1, 1, 1, 1, 1, 1, 1, 1, 1, 1, 1, 1, 1, 1, 1, 1, 1, 1, 1, 1, 1, 1, 1, 1, 1, 1, 1, 1, 1, 1, 1, 1, 1, 1, 1, 1, 1, 1, 1, 1, 1, 1, 1, 1, 1, 1, 1, 1, 1, 1, 1, 1, 1, 1, 1, 1, 1, 1, 1, 1, 1, 1, 1, 1, 1, 1, 1, 1, 1, 1, 1, 1, 1, 1, 1, 1, 1, 1, 1, 1, 1, 1, 1, 1, 1, 1, 1, 1, 1, 1, 1, 1, 1, 1, 1, 1, 1, 1, 1, 1, 1, 1, 1, 1, 1, 1, 1, 1, 1, 1, 1, 1, 1, 1, 1, 1, 1, 1, 1, 1, 1, 1, 1, 1, 1, 1, 1, 1, 1, 1, 1, 1, 1, 1, 1, 1, 1, 1, 1, 1, 1, 1, 1, 1, 1, 1, 1, 1, 1, 1, 1, 1, 1, 1, 1, 1, 1, 1, 1, 1, 1, 1, 1, 1, 1, 1, 1, 1, 1, 1, 1, 1, 1, 1, 1, 1, 1, 1, 1, 1, 1, 1, 1, 1, 1, 1, 1, 1, 1, 1, 1, 1, 1, 1, 1, 1, 1, 1, 1, 1, 1, 1, 1, 1, 1, 1, 1, 1, 1, 1, 1, 1, 1, 1, 1, 1, 1, 1, 1, 1, 1, 1, 1, 1, 1, 1, 1, 1, 1, 1, 1, 1, 1, 1, 1, 1, 1, 1, 1, 1, 1, 1, 1, 1, 1, 1, 1, 1, 1, 1, 1, 1, 1, 1, 1, 1, 1, 1, 1, 1, 1, 1, 1, 1, 1, 1, 1, 1, 1, 1, 1, 1, 1, 1, 1, 1, 1, 1, 1, 1, 1, 1, 1, 1, 1, 1, 1, 1, 1, 1, 1, 1, 1, 1, 1, 1, 1, 1, 1, 1, 1, 1, 1, 1, 1, 1, 1, 1, 1, 1, 1, 1, 1, 1, 1, 1, 1, 1, 1, 1, 1, 1, 1, 1, 1, 1, 1, 1, 1, 1, 1, 1, 1, 1, 1, 1, 1, 1, 1, 1, 1, 1, 1, 1, 1, 1, 1, 1, 1, 1, 1, 1, 1, 1, 1, 1, 1, 1, 1, 1, 1, 1, 1, 1, 1, 1, 1, 1, 1, 1, 1, 1, 1, 1, 1, 1, 1, 1, 1, 1, 1, 1, 1, 1, 1, 1, 1, 1, 1, 1, 1, 1, 1, 1, 1, 1, 1, 1, 1, 1, 1, 1, 1, 1, 1, 1, 1, 1, 1, 1, 1, 1, 1, 1, 1, 1, 1, 1, 1, 1, 1, 1, 1, 1, 1, 1, 1, 1, 1, 1, 1, 1, 1, 1, 1, 1, 1, 1, 1, 1, 1, 1, 1, 1, 1, 1, 1, 1, 1, 1, 1, 1, 1, 1, 1, 1, 1, 1, 1, 1, 1, 1, 1, 1, 1, 1, 1, 1, 1, 1, 1, 1, 1, 1, 1, 1, 1, 1, 1, 1, 1, 1, 1, 1, 1, 1, 1, 1, 1, 1, 1, 1, 1, 1, 1, 1, 1, 1, 1, 1, 1, 1, 1, 1, 1, 1, 1, 1, 1, 1, 1, 1, 1, 1, 1, 1, 1, 1, 1, 1, 1, 1, 1, 1, 1, 1, 1, 1, 1, 1, 1, 1, 1, 1, 1, 1, 1, 1, 1, 1, 1, 1, 1, 1, 1, 1, 1, 1, 1, 1, 1, 1, 1, 1, 1, 1, 1, 1, 1, 1, 1, 1, 1, 1, 1, 1, 1, 1, 1, 1, 1, 1, 1, 1, 1, 1, 1, 1, 1, 1, 1, 1, 1, 1, 1, 1, 1, 1, 1, 1, 1, 1, 1, 1, 1, 1, 1, 1, 1, 1, 1, 1, 1, 1, 1, 1, 1, 1, 1, 1, 1, 1, 1, 1, 1, 1, 1, 1, 1, 1, 1, 1, 1, 1, 1, 1, 1, 1, 1, 1, 1, 1, 1, 1, 1, 1, 1, 1, 1, 1, 1, 1, 1, 1, 1, 1, 1, 1, 1, 1, 1, 1, 1, 1, 1, 1, 1, 1, 1, 1, 1, 1, 1, 1, 1, 1, 1, 1, 1, 1, 1, 1, 1, 1, 1, 1, 1, 1, 1, 1, 1, 1, 1, 1, 1, 1, 1, 1, 1, 1, 1, 1, 1, 1, 1, 1, 1, 1, 1, 1, 1, 1, 1, 1, 1, 1, 1, 1, 1, 1, 1, 1, 1, 1, 1, 1, 1, 1, 1, 1, 1, 1, 1, 1, 1, 1, 1, 1, 1, 1, 1, 1, 1, 1, 1, 1, 1, 1, 1, 1, 1, 1, 1, 1, 1, 1, 1, 1, 1, 1, 1, 1, 1, 1, 1, 1, 1, 1, 1, 1, 1, 1, 1, 1, 1, 1, 1, 1, 1, 1, 1, 1, 1, 1, 1, 1, 1, 1, 1, 1, 1, 1, 1, 1, 1, 1, 1, 1, 1, 1, 1, 1, 1, 1, 1, 1, 1, 1, 1, 1, 1, 1, 1, 1, 1, 1, 1, 1, 1, 1, 1, 1, 1, 1, 1, 1, 1, 1, 1, 1, 1, 1, 1, 1, 1, 1, 1, 1, 1, 1, 1, 1, 1, 1, 1, 1, 1, 1, 1, 1, 1, 1, 1, 1, 1, 1, 1, 1, 1, 1, 1, 1, 1, 1, 1, 1, 1, 1, 1, 1, 1, 1, 1, 1, 1, 1, 1, 1, 1, 1, 1, 1, 1, 1, 1, 1, 1, 1, 1, 1, 1, 1, 1, 1, 1, 1, 1, 1, 1, 1, 1, 1, 1, 1, 1, 1, 1, 1, 1, 1, 1, 1, 1, 1, 1, 1, 1, 1, 1, 1, 1, 1, 1, 1, 1, 1, 1, 1, 1, 1, 1, 1, 1, 1, 1, 1, 1, 1, 1, 1, 1, 1, 1, 1, 1, 1, 1, 1, 1, 1, 1, 1, 1, 1, 1, 1, 1, 1, 1, 1, 1, 1, 1, 1, 1, 1, 1, 1, 1, 1, 1, 1, 1, 1, 1, 1, 1, 1, 1, 1, 1, 1, 1, 1, 1, 1, 1, 1, 1, 1, 1, 1, 1, 1, 1, 1, 1, 1, 1, 1, 1, 1, 1, 1, 1, 1, 1, 1, 1, 1, 1, 1, 1, 1, 1, 1, 1, 1, 1, 1, 1, 1, 1, 1, 1, 1, 1, 1, 1, 1, 1, 1, 1, 1, 1, 1, 1, 1, 1, 1, 1, 1, 1, 1, 1, 1, 1, 1, 1, 1, 1, 1, 1, 1, 1, 1, 1, 1, 1, 1, 1, 1, 1, 1, 1, 1, 1, 1, 1, 1, 1, 1, 1, 1, 1, 1, 1, 1, 1, 1, 1, 1, 1, 1, 1, 1, 1, 1, 1, 1, 1, 1, 1, 1, 1, 1, 1, 1, 1, 1, 1, 1, 1, 1, 1, 1, 1, 1, 1, 1, 1, 1, 1, 1, 1, 1, 1, 1, 1, 1, 1, 1, 1, 1, 1, 1, 1, 1, 1, 1, 1, 1, 1, 1, 1, 1, 1, 1, 1, 1, 1, 1, 1, 1, 1, 1, 1, 1, 1, 1, 1, 1, 1, 1, 1, 1, 1, 1, 1, 1, 1, 1, 1, 1, 1, 1, 1, 1, 1, 1, 1, 1, 1, 1, 1, 1, 1, 1, 1, 1, 1, 1, 1, 1, 1, 1, 1, 1, 1, 1, 1, 1, 1, 1, 1, 1, 1, 1, 1, 1, 1, 1, 1, 1, 1, 1, 1, 1, 1, 1, 1, 1, 1, 1, 1, 1, 1, 1, 1, 1, 1, 1, 1, 1, 1, 1, 1, 1, 1, 1, 1, 1, 1, 1, 1, 1, 1, 1, 1, 1, 1, 1, 1, 1, 1, 1, 1, 1, 1, 1, 1, 1, 1, 1, 1, 1, 1, 1, 1, 1, 1, 1, 1, 1, 1, 1, 1, 1, 1, 1, 1, 1, 1, 1, 1, 1, 1, 1, 1, 1, 1, 1, 1, 1, 1, 1, 1, 1, 1, 1, 1, 1, 1, 1, 1, 1, 1, 1, 1, 1, 1, 1, 1, 1, 1, 1, 1, 1, 1, 1, 1, 1, 1, 1, 1, 1, 1, 1, 1, 1, 1, 1, 1, 1, 1, 1, 1, 1, 1, 1, 1, 1, 1, 1, 1, 1, 1, 1, 1, 1, 1, 1, 1, 1, 1, 1, 1, 1, 1, 1, 1, 1, 1, 1, 1, 1, 1, 1, 1, 1, 1, 1, 1, 1, 1, 1, 1, 1, 1, 1, 1, 1, 1, 1, 1, 1, 1, 1, 1, 1, 1, 1, 1, 1, 1, 1, 1, 1, 1, 1, 1, 1, 1, 1, 1, 1, 1, 1, 1, 1, 1, 1, 1, 1, 1, 1, 1, 1, 1, 1, 1, 1, 1, 1, 1]\n"
          ]
        }
      ]
    },
    {
      "cell_type": "code",
      "source": [
        "print(np.min(count_obs))\n",
        "print(np.max(count_obs))"
      ],
      "metadata": {
        "colab": {
          "base_uri": "https://localhost:8080/"
        },
        "id": "4zuvzWUgHcGP",
        "outputId": "292ad6a2-71c7-43f1-c505-c0d892ed19db"
      },
      "execution_count": null,
      "outputs": [
        {
          "output_type": "stream",
          "name": "stdout",
          "text": [
            "1\n",
            "1\n"
          ]
        }
      ]
    },
    {
      "cell_type": "markdown",
      "source": [
        "Видно, что было проделано 1 наблюдение по всем датам."
      ],
      "metadata": {
        "id": "qBxt9oOdHkju"
      }
    },
    {
      "cell_type": "markdown",
      "source": [
        "Квантили"
      ],
      "metadata": {
        "id": "BEy5ebMoHrQP"
      }
    },
    {
      "cell_type": "code",
      "source": [
        "print(np.percentile(pm2,25))\n",
        "print(np.percentile(pm2,75))"
      ],
      "metadata": {
        "colab": {
          "base_uri": "https://localhost:8080/"
        },
        "id": "wyoGhmTyKB1p",
        "outputId": "ce63134f-b0f2-4d6e-945a-e265fddaff38"
      },
      "execution_count": null,
      "outputs": [
        {
          "output_type": "stream",
          "name": "stdout",
          "text": [
            "3.8\n",
            "7.9\n"
          ]
        }
      ]
    },
    {
      "cell_type": "markdown",
      "source": [
        "25% концентрация PM2.5 равна 3.8 (воздух относительно чистый), 50% данных находятся в диапазоне от 3.8 до 7.9, то есть уровень содержания вредных частиц в воздухе по наблюдениям в основном низкий."
      ],
      "metadata": {
        "id": "qt-Ro3OKPbxL"
      }
    },
    {
      "cell_type": "code",
      "source": [
        "print(np.percentile(aqi,25))\n",
        "print(np.percentile(aqi,75))"
      ],
      "metadata": {
        "colab": {
          "base_uri": "https://localhost:8080/"
        },
        "id": "P5WLxzxyOvSQ",
        "outputId": "0a478d66-50b7-4727-8f51-6526196a22fb"
      },
      "execution_count": null,
      "outputs": [
        {
          "output_type": "stream",
          "name": "stdout",
          "text": [
            "16.0\n",
            "33.0\n"
          ]
        }
      ]
    },
    {
      "cell_type": "markdown",
      "source": [
        "25% значений индекса качества воздуха 16, а 50% данных 33, уровень качества воздуха в основном удовлетворительный, что соответствует PM2.5."
      ],
      "metadata": {
        "id": "k83c_nrcQgWJ"
      }
    },
    {
      "cell_type": "markdown",
      "source": [
        "Гравик рассеяния для концентрации PM2.5."
      ],
      "metadata": {
        "id": "D0KrASEVUdqi"
      }
    },
    {
      "cell_type": "code",
      "source": [
        "# QQ Plot\n",
        "from statsmodels. graphics.gofplots import qqplot\n",
        "from matplotlib import pyplot\n",
        "# q-q plot\n",
        "qqplot(df[\"Daily Mean PM2.5 Concentration\"], line='s')\n",
        "pyplot.show()"
      ],
      "metadata": {
        "colab": {
          "base_uri": "https://localhost:8080/",
          "height": 449
        },
        "id": "bsDrJka3UAMv",
        "outputId": "76581a17-0f85-4c01-e927-976f4036088e"
      },
      "execution_count": null,
      "outputs": [
        {
          "output_type": "display_data",
          "data": {
            "text/plain": [
              "<Figure size 640x480 with 1 Axes>"
            ],
            "image/png": "[encoded data removed]"
          },
          "metadata": {}
        }
      ]
    },
    {
      "cell_type": "markdown",
      "source": [
        "На графике в верхней и нижней частях представлены отклонения,нельзя предполагать, что данные распределены нормально."
      ],
      "metadata": {
        "id": "riUqpZkfZVhQ"
      }
    },
    {
      "cell_type": "markdown",
      "source": [
        "Гравик рассеяния для AQI."
      ],
      "metadata": {
        "id": "wOH3mwlsax_R"
      }
    },
    {
      "cell_type": "code",
      "source": [
        "# QQ Plot\n",
        "from statsmodels. graphics.gofplots import qqplot\n",
        "from matplotlib import pyplot\n",
        "# q-q plot\n",
        "qqplot(df[\"DAILY_AQI_VALUE\"], line='s')\n",
        "pyplot.show()"
      ],
      "metadata": {
        "colab": {
          "base_uri": "https://localhost:8080/",
          "height": 451
        },
        "id": "58e23aEpat96",
        "outputId": "3e275f2e-250f-4c7a-ec80-f4179a1fdf69"
      },
      "execution_count": null,
      "outputs": [
        {
          "output_type": "display_data",
          "data": {
            "text/plain": [
              "<Figure size 640x480 with 1 Axes>"
            ],
            "image/png": "[encoded data removed]"
          },
          "metadata": {}
        }
      ]
    },
    {
      "cell_type": "markdown",
      "source": [
        "На графике в верхней и нижней частях представлены отклонения, нельзя предполагать, что данные распределены нормально."
      ],
      "metadata": {
        "id": "NgYnsvGubUGU"
      }
    },
    {
      "cell_type": "markdown",
      "source": [
        "График гистограммы"
      ],
      "metadata": {
        "id": "3rV_sjbEbaWY"
      }
    },
    {
      "cell_type": "code",
      "source": [
        "pyplot.hist(df[\"Daily Mean PM2.5 Concentration\"])\n",
        "pyplot.show()"
      ],
      "metadata": {
        "colab": {
          "base_uri": "https://localhost:8080/",
          "height": 430
        },
        "id": "vmBPsnGxba-W",
        "outputId": "5a6cf356-ee6d-4b24-85a4-99b66d0569b1"
      },
      "execution_count": null,
      "outputs": [
        {
          "output_type": "display_data",
          "data": {
            "text/plain": [
              "<Figure size 640x480 with 1 Axes>"
            ],
            "image/png": "[encoded data removed]"
          },
          "metadata": {}
        }
      ]
    },
    {
      "cell_type": "markdown",
      "source": [
        "Это не нормальное распределение."
      ],
      "metadata": {
        "id": "-27lbcU9dQxK"
      }
    },
    {
      "cell_type": "code",
      "source": [
        "pyplot.hist(df[\"DAILY_AQI_VALUE\"])\n",
        "pyplot.show()"
      ],
      "metadata": {
        "colab": {
          "base_uri": "https://localhost:8080/",
          "height": 430
        },
        "id": "G6rhJz88dTbj",
        "outputId": "ea2cad80-aab9-4a72-d191-26953f235e11"
      },
      "execution_count": null,
      "outputs": [
        {
          "output_type": "display_data",
          "data": {
            "text/plain": [
              "<Figure size 640x480 with 1 Axes>"
            ],
            "image/png": "[encoded data removed]"
          },
          "metadata": {}
        }
      ]
    },
    {
      "cell_type": "markdown",
      "source": [
        "Это не нормальное распределение."
      ],
      "metadata": {
        "id": "_gYuWwG1dYJb"
      }
    },
    {
      "cell_type": "markdown",
      "source": [
        "# **Шаг 3. Визуализация данных**"
      ],
      "metadata": {
        "id": "sKlV2XPudpNt"
      }
    },
    {
      "cell_type": "markdown",
      "source": [
        "Данные содержат несколько записей о концентрации PM2,5 и AQI на одну и ту же дату, измеренных на разных объектах и с помощью разных датчиков (POCS). Постройте средние значения PM2,5 и AQI относительно даты на одном графике. Все, кто анализирует график, должен уметь определять: какова средняя концентрация PM 2,5 или значение AQI на конкретную дату."
      ],
      "metadata": {
        "id": "_qMzGo46dYwg"
      }
    },
    {
      "cell_type": "markdown",
      "source": [
        "Создать датафреймы."
      ],
      "metadata": {
        "id": "7dun7fnpfynb"
      }
    },
    {
      "cell_type": "code",
      "source": [
        "# Новый датафрейм, вычисляющий среднее значение концентрации PM2,5 за день\n",
        "df_pm=df.groupby('Date')['Daily Mean PM2.5 Concentration'].mean().reset_index()\n",
        "\n",
        "# Новый датафрейм, вычисляющий среднее значение AQI за день\n",
        "df_aqi=df.groupby('Date')['DAILY_AQI_VALUE'].mean().reset_index()"
      ],
      "metadata": {
        "id": "VluJ2lyNduJP"
      },
      "execution_count": null,
      "outputs": []
    },
    {
      "cell_type": "markdown",
      "source": [
        "Построить график для PM2.5 Concentration и AQI."
      ],
      "metadata": {
        "id": "gXSp7Uozf229"
      }
    },
    {
      "cell_type": "code",
      "source": [
        "plt.plot(df_pm['Date'], df_pm['Daily Mean PM2.5 Concentration'], label='Daily Mean PM2.5 Concentration')\n",
        "plt.plot(df_aqi['Date'], df_aqi['DAILY_AQI_VALUE'], label='DAILY_AQI_VALUE')\n",
        "plt.xlabel('Date')\n",
        "plt.legend()\n",
        "plt.show()"
      ],
      "metadata": {
        "colab": {
          "base_uri": "https://localhost:8080/",
          "height": 449
        },
        "id": "CDpC2_SNXfVD",
        "outputId": "76a4e85e-de95-46af-f4b2-25432464fa9d"
      },
      "execution_count": null,
      "outputs": [
        {
          "output_type": "display_data",
          "data": {
            "text/plain": [
              "<Figure size 640x480 with 1 Axes>"
            ],
            "image/png": "[encoded data removed]"
          },
          "metadata": {}
        }
      ]
    },
    {
      "cell_type": "markdown",
      "source": [
        "В феврале, мае, сентябре и декабре наблюдаются высокие значения концентрации PM2.5, данных мало для построения выводов."
      ],
      "metadata": {
        "id": "5nO9UXSUjM_X"
      }
    },
    {
      "cell_type": "markdown",
      "source": [
        "В феврале, мае, сентябре и декабре наблюдаются высокие значения уровня качества воздуха, данных мало для построения выводов."
      ],
      "metadata": {
        "id": "In8H4B2QnwD6"
      }
    },
    {
      "cell_type": "markdown",
      "source": [
        "Постройте график зависимости средней концентрации PM 2,5 от даты для двух разных участков (идентификаторы участков — 490352005 и 490353015). Обратите внимание, что в этом случае среднее значение берется по POC. Результаты для обоих участков должны быть на одном рисунке."
      ],
      "metadata": {
        "id": "4dbiFgvcn5Ur"
      }
    },
    {
      "cell_type": "markdown",
      "source": [
        "Создать таблицы по нужным идентификаторам участков."
      ],
      "metadata": {
        "id": "FDmZ1reRyCUO"
      }
    },
    {
      "cell_type": "markdown",
      "source": [
        "Таблица для участка 490352005.\n"
      ],
      "metadata": {
        "id": "oSieazyvyIG-"
      }
    },
    {
      "cell_type": "code",
      "source": [
        "df1=df[df['Site ID']==490352005]\n",
        "df1=df1.groupby('Date')['POC'].mean()\n",
        "df1=df1.reset_index()\n",
        "df1"
      ],
      "metadata": {
        "colab": {
          "base_uri": "https://localhost:8080/",
          "height": 423
        },
        "id": "hInlrwrzvl8n",
        "outputId": "98447476-9afe-40d3-cd72-1be3bbd9eae4"
      },
      "execution_count": null,
      "outputs": [
        {
          "output_type": "execute_result",
          "data": {
            "text/plain": [
              "          Date  POC\n",
              "0   2023-01-01  2.5\n",
              "1   2023-01-02  2.5\n",
              "2   2023-01-03  2.5\n",
              "3   2023-01-04  2.5\n",
              "4   2023-01-05  2.5\n",
              "..         ...  ...\n",
              "360 2023-12-27  2.5\n",
              "361 2023-12-28  2.5\n",
              "362 2023-12-29  2.5\n",
              "363 2023-12-30  2.5\n",
              "364 2023-12-31  2.5\n",
              "\n",
              "[365 rows x 2 columns]"
            ],
            "text/html": [
              "\n",
              "  <div id=\"df-02522a65-475e-48d3-a37d-f4e34801ba4d\" class=\"colab-df-container\">\n",
              "    <div>\n",
              "<style scoped>\n",
              "    .dataframe tbody tr th:only-of-type {\n",
              "        vertical-align: middle;\n",
              "    }\n",
              "\n",
              "    .dataframe tbody tr th {\n",
              "        vertical-align: top;\n",
              "    }\n",
              "\n",
              "    .dataframe thead th {\n",
              "        text-align: right;\n",
              "    }\n",
              "</style>\n",
              "<table border=\"1\" class=\"dataframe\">\n",
              "  <thead>\n",
              "    <tr style=\"text-align: right;\">\n",
              "      <th></th>\n",
              "      <th>Date</th>\n",
              "      <th>POC</th>\n",
              "    </tr>\n",
              "  </thead>\n",
              "  <tbody>\n",
              "    <tr>\n",
              "      <th>0</th>\n",
              "      <td>2023-01-01</td>\n",
              "      <td>2.5</td>\n",
              "    </tr>\n",
              "    <tr>\n",
              "      <th>1</th>\n",
              "      <td>2023-01-02</td>\n",
              "      <td>2.5</td>\n",
              "    </tr>\n",
              "    <tr>\n",
              "      <th>2</th>\n",
              "      <td>2023-01-03</td>\n",
              "      <td>2.5</td>\n",
              "    </tr>\n",
              "    <tr>\n",
              "      <th>3</th>\n",
              "      <td>2023-01-04</td>\n",
              "      <td>2.5</td>\n",
              "    </tr>\n",
              "    <tr>\n",
              "      <th>4</th>\n",
              "      <td>2023-01-05</td>\n",
              "      <td>2.5</td>\n",
              "    </tr>\n",
              "    <tr>\n",
              "      <th>...</th>\n",
              "      <td>...</td>\n",
              "      <td>...</td>\n",
              "    </tr>\n",
              "    <tr>\n",
              "      <th>360</th>\n",
              "      <td>2023-12-27</td>\n",
              "      <td>2.5</td>\n",
              "    </tr>\n",
              "    <tr>\n",
              "      <th>361</th>\n",
              "      <td>2023-12-28</td>\n",
              "      <td>2.5</td>\n",
              "    </tr>\n",
              "    <tr>\n",
              "      <th>362</th>\n",
              "      <td>2023-12-29</td>\n",
              "      <td>2.5</td>\n",
              "    </tr>\n",
              "    <tr>\n",
              "      <th>363</th>\n",
              "      <td>2023-12-30</td>\n",
              "      <td>2.5</td>\n",
              "    </tr>\n",
              "    <tr>\n",
              "      <th>364</th>\n",
              "      <td>2023-12-31</td>\n",
              "      <td>2.5</td>\n",
              "    </tr>\n",
              "  </tbody>\n",
              "</table>\n",
              "<p>365 rows × 2 columns</p>\n",
              "</div>\n",
              "    <div class=\"colab-df-buttons\">\n",
              "\n",
              "  <div class=\"colab-df-container\">\n",
              "    <button class=\"colab-df-convert\" onclick=\"convertToInteractive('df-02522a65-475e-48d3-a37d-f4e34801ba4d')\"\n",
              "            title=\"Convert this dataframe to an interactive table.\"\n",
              "            style=\"display:none;\">\n",
              "\n",
              "  <svg xmlns=\"http://www.w3.org/2000/svg\" height=\"24px\" viewBox=\"0 -960 960 960\">\n",
              "    <path d=\"M120-120v-720h720v720H120Zm60-500h600v-160H180v160Zm220 220h160v-160H400v160Zm0 220h160v-160H400v160ZM180-400h160v-160H180v160Zm440 0h160v-160H620v160ZM180-180h160v-160H180v160Zm440 0h160v-160H620v160Z\"/>\n",
              "  </svg>\n",
              "    </button>\n",
              "\n",
              "  <style>\n",
              "    .colab-df-container {\n",
              "      display:flex;\n",
              "      gap: 12px;\n",
              "    }\n",
              "\n",
              "    .colab-df-convert {\n",
              "      background-color: #E8F0FE;\n",
              "      border: none;\n",
              "      border-radius: 50%;\n",
              "      cursor: pointer;\n",
              "      display: none;\n",
              "      fill: #1967D2;\n",
              "      height: 32px;\n",
              "      padding: 0 0 0 0;\n",
              "      width: 32px;\n",
              "    }\n",
              "\n",
              "    .colab-df-convert:hover {\n",
              "      background-color: #E2EBFA;\n",
              "      box-shadow: 0px 1px 2px rgba(60, 64, 67, 0.3), 0px 1px 3px 1px rgba(60, 64, 67, 0.15);\n",
              "      fill: #174EA6;\n",
              "    }\n",
              "\n",
              "    .colab-df-buttons div {\n",
              "      margin-bottom: 4px;\n",
              "    }\n",
              "\n",
              "    [theme=dark] .colab-df-convert {\n",
              "      background-color: #3B4455;\n",
              "      fill: #D2E3FC;\n",
              "    }\n",
              "\n",
              "    [theme=dark] .colab-df-convert:hover {\n",
              "      background-color: #434B5C;\n",
              "      box-shadow: 0px 1px 3px 1px rgba(0, 0, 0, 0.15);\n",
              "      filter: drop-shadow(0px 1px 2px rgba(0, 0, 0, 0.3));\n",
              "      fill: #FFFFFF;\n",
              "    }\n",
              "  </style>\n",
              "\n",
              "    <script>\n",
              "      const buttonEl =\n",
              "        document.querySelector('#df-02522a65-475e-48d3-a37d-f4e34801ba4d button.colab-df-convert');\n",
              "      buttonEl.style.display =\n",
              "        google.colab.kernel.accessAllowed ? 'block' : 'none';\n",
              "\n",
              "      async function convertToInteractive(key) {\n",
              "        const element = document.querySelector('#df-02522a65-475e-48d3-a37d-f4e34801ba4d');\n",
              "        const dataTable =\n",
              "          await google.colab.kernel.invokeFunction('convertToInteractive',\n",
              "                                                    [key], {});\n",
              "        if (!dataTable) return;\n",
              "\n",
              "        const docLinkHtml = 'Like what you see? Visit the ' +\n",
              "          '<a target=\"_blank\" href=https://colab.research.google.com/notebooks/data_table.ipynb>data table notebook</a>'\n",
              "          + ' to learn more about interactive tables.';\n",
              "        element.innerHTML = '';\n",
              "        dataTable['output_type'] = 'display_data';\n",
              "        await google.colab.output.renderOutput(dataTable, element);\n",
              "        const docLink = document.createElement('div');\n",
              "        docLink.innerHTML = docLinkHtml;\n",
              "        element.appendChild(docLink);\n",
              "      }\n",
              "    </script>\n",
              "  </div>\n",
              "\n",
              "\n",
              "<div id=\"df-add535ea-d58c-494b-af90-1498888eef6f\">\n",
              "  <button class=\"colab-df-quickchart\" onclick=\"quickchart('df-add535ea-d58c-494b-af90-1498888eef6f')\"\n",
              "            title=\"Suggest charts\"\n",
              "            style=\"display:none;\">\n",
              "\n",
              "<svg xmlns=\"http://www.w3.org/2000/svg\" height=\"24px\"viewBox=\"0 0 24 24\"\n",
              "     width=\"24px\">\n",
              "    <g>\n",
              "        <path d=\"M19 3H5c-1.1 0-2 .9-2 2v14c0 1.1.9 2 2 2h14c1.1 0 2-.9 2-2V5c0-1.1-.9-2-2-2zM9 17H7v-7h2v7zm4 0h-2V7h2v10zm4 0h-2v-4h2v4z\"/>\n",
              "    </g>\n",
              "</svg>\n",
              "  </button>\n",
              "\n",
              "<style>\n",
              "  .colab-df-quickchart {\n",
              "      --bg-color: #E8F0FE;\n",
              "      --fill-color: #1967D2;\n",
              "      --hover-bg-color: #E2EBFA;\n",
              "      --hover-fill-color: #174EA6;\n",
              "      --disabled-fill-color: #AAA;\n",
              "      --disabled-bg-color: #DDD;\n",
              "  }\n",
              "\n",
              "  [theme=dark] .colab-df-quickchart {\n",
              "      --bg-color: #3B4455;\n",
              "      --fill-color: #D2E3FC;\n",
              "      --hover-bg-color: #434B5C;\n",
              "      --hover-fill-color: #FFFFFF;\n",
              "      --disabled-bg-color: #3B4455;\n",
              "      --disabled-fill-color: #666;\n",
              "  }\n",
              "\n",
              "  .colab-df-quickchart {\n",
              "    background-color: var(--bg-color);\n",
              "    border: none;\n",
              "    border-radius: 50%;\n",
              "    cursor: pointer;\n",
              "    display: none;\n",
              "    fill: var(--fill-color);\n",
              "    height: 32px;\n",
              "    padding: 0;\n",
              "    width: 32px;\n",
              "  }\n",
              "\n",
              "  .colab-df-quickchart:hover {\n",
              "    background-color: var(--hover-bg-color);\n",
              "    box-shadow: 0 1px 2px rgba(60, 64, 67, 0.3), 0 1px 3px 1px rgba(60, 64, 67, 0.15);\n",
              "    fill: var(--button-hover-fill-color);\n",
              "  }\n",
              "\n",
              "  .colab-df-quickchart-complete:disabled,\n",
              "  .colab-df-quickchart-complete:disabled:hover {\n",
              "    background-color: var(--disabled-bg-color);\n",
              "    fill: var(--disabled-fill-color);\n",
              "    box-shadow: none;\n",
              "  }\n",
              "\n",
              "  .colab-df-spinner {\n",
              "    border: 2px solid var(--fill-color);\n",
              "    border-color: transparent;\n",
              "    border-bottom-color: var(--fill-color);\n",
              "    animation:\n",
              "      spin 1s steps(1) infinite;\n",
              "  }\n",
              "\n",
              "  @keyframes spin {\n",
              "    0% {\n",
              "      border-color: transparent;\n",
              "      border-bottom-color: var(--fill-color);\n",
              "      border-left-color: var(--fill-color);\n",
              "    }\n",
              "    20% {\n",
              "      border-color: transparent;\n",
              "      border-left-color: var(--fill-color);\n",
              "      border-top-color: var(--fill-color);\n",
              "    }\n",
              "    30% {\n",
              "      border-color: transparent;\n",
              "      border-left-color: var(--fill-color);\n",
              "      border-top-color: var(--fill-color);\n",
              "      border-right-color: var(--fill-color);\n",
              "    }\n",
              "    40% {\n",
              "      border-color: transparent;\n",
              "      border-right-color: var(--fill-color);\n",
              "      border-top-color: var(--fill-color);\n",
              "    }\n",
              "    60% {\n",
              "      border-color: transparent;\n",
              "      border-right-color: var(--fill-color);\n",
              "    }\n",
              "    80% {\n",
              "      border-color: transparent;\n",
              "      border-right-color: var(--fill-color);\n",
              "      border-bottom-color: var(--fill-color);\n",
              "    }\n",
              "    90% {\n",
              "      border-color: transparent;\n",
              "      border-bottom-color: var(--fill-color);\n",
              "    }\n",
              "  }\n",
              "</style>\n",
              "\n",
              "  <script>\n",
              "    async function quickchart(key) {\n",
              "      const quickchartButtonEl =\n",
              "        document.querySelector('#' + key + ' button');\n",
              "      quickchartButtonEl.disabled = true;  // To prevent multiple clicks.\n",
              "      quickchartButtonEl.classList.add('colab-df-spinner');\n",
              "      try {\n",
              "        const charts = await google.colab.kernel.invokeFunction(\n",
              "            'suggestCharts', [key], {});\n",
              "      } catch (error) {\n",
              "        console.error('Error during call to suggestCharts:', error);\n",
              "      }\n",
              "      quickchartButtonEl.classList.remove('colab-df-spinner');\n",
              "      quickchartButtonEl.classList.add('colab-df-quickchart-complete');\n",
              "    }\n",
              "    (() => {\n",
              "      let quickchartButtonEl =\n",
              "        document.querySelector('#df-add535ea-d58c-494b-af90-1498888eef6f button');\n",
              "      quickchartButtonEl.style.display =\n",
              "        google.colab.kernel.accessAllowed ? 'block' : 'none';\n",
              "    })();\n",
              "  </script>\n",
              "</div>\n",
              "    </div>\n",
              "  </div>\n"
            ],
            "application/vnd.google.colaboratory.intrinsic+json": {
              "type": "dataframe",
              "variable_name": "df1",
              "summary": "{\n  \"name\": \"df1\",\n  \"rows\": 365,\n  \"fields\": [\n    {\n      \"column\": \"Date\",\n      \"properties\": {\n        \"dtype\": \"date\",\n        \"min\": \"2023-01-01 00:00:00\",\n        \"max\": \"2023-12-31 00:00:00\",\n        \"num_unique_values\": 365,\n        \"samples\": [\n          \"2023-07-13 00:00:00\",\n          \"2023-02-03 00:00:00\",\n          \"2023-01-16 00:00:00\"\n        ],\n        \"semantic_type\": \"\",\n        \"description\": \"\"\n      }\n    },\n    {\n      \"column\": \"POC\",\n      \"properties\": {\n        \"dtype\": \"number\",\n        \"std\": 0.17459443122483106,\n        \"min\": 2.5,\n        \"max\": 4.0,\n        \"num_unique_values\": 2,\n        \"samples\": [\n          4.0,\n          2.5\n        ],\n        \"semantic_type\": \"\",\n        \"description\": \"\"\n      }\n    }\n  ]\n}"
            }
          },
          "metadata": {},
          "execution_count": 51
        }
      ]
    },
    {
      "cell_type": "markdown",
      "source": [
        "Таблица для участка 490353015."
      ],
      "metadata": {
        "id": "ZNemHEWOyppf"
      }
    },
    {
      "cell_type": "code",
      "source": [
        "df2=df[df['Site ID']==490353015]\n",
        "df2=df2.groupby('Date')['POC'].mean()\n",
        "df2=df2.reset_index()\n",
        "df2"
      ],
      "metadata": {
        "colab": {
          "base_uri": "https://localhost:8080/",
          "height": 423
        },
        "id": "LAJtAlMzyljH",
        "outputId": "3ebe6401-dfe2-49fe-b87b-f841cbe2d8fe"
      },
      "execution_count": null,
      "outputs": [
        {
          "output_type": "execute_result",
          "data": {
            "text/plain": [
              "          Date  POC\n",
              "0   2023-01-01  2.0\n",
              "1   2023-01-02  2.0\n",
              "2   2023-01-03  2.0\n",
              "3   2023-01-04  2.0\n",
              "4   2023-01-05  2.0\n",
              "..         ...  ...\n",
              "360 2023-12-27  2.0\n",
              "361 2023-12-28  2.0\n",
              "362 2023-12-29  2.0\n",
              "363 2023-12-30  2.0\n",
              "364 2023-12-31  2.0\n",
              "\n",
              "[365 rows x 2 columns]"
            ],
            "text/html": [
              "\n",
              "  <div id=\"df-327fa550-2c57-4ea4-8ea9-b999f03aff4d\" class=\"colab-df-container\">\n",
              "    <div>\n",
              "<style scoped>\n",
              "    .dataframe tbody tr th:only-of-type {\n",
              "        vertical-align: middle;\n",
              "    }\n",
              "\n",
              "    .dataframe tbody tr th {\n",
              "        vertical-align: top;\n",
              "    }\n",
              "\n",
              "    .dataframe thead th {\n",
              "        text-align: right;\n",
              "    }\n",
              "</style>\n",
              "<table border=\"1\" class=\"dataframe\">\n",
              "  <thead>\n",
              "    <tr style=\"text-align: right;\">\n",
              "      <th></th>\n",
              "      <th>Date</th>\n",
              "      <th>POC</th>\n",
              "    </tr>\n",
              "  </thead>\n",
              "  <tbody>\n",
              "    <tr>\n",
              "      <th>0</th>\n",
              "      <td>2023-01-01</td>\n",
              "      <td>2.0</td>\n",
              "    </tr>\n",
              "    <tr>\n",
              "      <th>1</th>\n",
              "      <td>2023-01-02</td>\n",
              "      <td>2.0</td>\n",
              "    </tr>\n",
              "    <tr>\n",
              "      <th>2</th>\n",
              "      <td>2023-01-03</td>\n",
              "      <td>2.0</td>\n",
              "    </tr>\n",
              "    <tr>\n",
              "      <th>3</th>\n",
              "      <td>2023-01-04</td>\n",
              "      <td>2.0</td>\n",
              "    </tr>\n",
              "    <tr>\n",
              "      <th>4</th>\n",
              "      <td>2023-01-05</td>\n",
              "      <td>2.0</td>\n",
              "    </tr>\n",
              "    <tr>\n",
              "      <th>...</th>\n",
              "      <td>...</td>\n",
              "      <td>...</td>\n",
              "    </tr>\n",
              "    <tr>\n",
              "      <th>360</th>\n",
              "      <td>2023-12-27</td>\n",
              "      <td>2.0</td>\n",
              "    </tr>\n",
              "    <tr>\n",
              "      <th>361</th>\n",
              "      <td>2023-12-28</td>\n",
              "      <td>2.0</td>\n",
              "    </tr>\n",
              "    <tr>\n",
              "      <th>362</th>\n",
              "      <td>2023-12-29</td>\n",
              "      <td>2.0</td>\n",
              "    </tr>\n",
              "    <tr>\n",
              "      <th>363</th>\n",
              "      <td>2023-12-30</td>\n",
              "      <td>2.0</td>\n",
              "    </tr>\n",
              "    <tr>\n",
              "      <th>364</th>\n",
              "      <td>2023-12-31</td>\n",
              "      <td>2.0</td>\n",
              "    </tr>\n",
              "  </tbody>\n",
              "</table>\n",
              "<p>365 rows × 2 columns</p>\n",
              "</div>\n",
              "    <div class=\"colab-df-buttons\">\n",
              "\n",
              "  <div class=\"colab-df-container\">\n",
              "    <button class=\"colab-df-convert\" onclick=\"convertToInteractive('df-327fa550-2c57-4ea4-8ea9-b999f03aff4d')\"\n",
              "            title=\"Convert this dataframe to an interactive table.\"\n",
              "            style=\"display:none;\">\n",
              "\n",
              "  <svg xmlns=\"http://www.w3.org/2000/svg\" height=\"24px\" viewBox=\"0 -960 960 960\">\n",
              "    <path d=\"M120-120v-720h720v720H120Zm60-500h600v-160H180v160Zm220 220h160v-160H400v160Zm0 220h160v-160H400v160ZM180-400h160v-160H180v160Zm440 0h160v-160H620v160ZM180-180h160v-160H180v160Zm440 0h160v-160H620v160Z\"/>\n",
              "  </svg>\n",
              "    </button>\n",
              "\n",
              "  <style>\n",
              "    .colab-df-container {\n",
              "      display:flex;\n",
              "      gap: 12px;\n",
              "    }\n",
              "\n",
              "    .colab-df-convert {\n",
              "      background-color: #E8F0FE;\n",
              "      border: none;\n",
              "      border-radius: 50%;\n",
              "      cursor: pointer;\n",
              "      display: none;\n",
              "      fill: #1967D2;\n",
              "      height: 32px;\n",
              "      padding: 0 0 0 0;\n",
              "      width: 32px;\n",
              "    }\n",
              "\n",
              "    .colab-df-convert:hover {\n",
              "      background-color: #E2EBFA;\n",
              "      box-shadow: 0px 1px 2px rgba(60, 64, 67, 0.3), 0px 1px 3px 1px rgba(60, 64, 67, 0.15);\n",
              "      fill: #174EA6;\n",
              "    }\n",
              "\n",
              "    .colab-df-buttons div {\n",
              "      margin-bottom: 4px;\n",
              "    }\n",
              "\n",
              "    [theme=dark] .colab-df-convert {\n",
              "      background-color: #3B4455;\n",
              "      fill: #D2E3FC;\n",
              "    }\n",
              "\n",
              "    [theme=dark] .colab-df-convert:hover {\n",
              "      background-color: #434B5C;\n",
              "      box-shadow: 0px 1px 3px 1px rgba(0, 0, 0, 0.15);\n",
              "      filter: drop-shadow(0px 1px 2px rgba(0, 0, 0, 0.3));\n",
              "      fill: #FFFFFF;\n",
              "    }\n",
              "  </style>\n",
              "\n",
              "    <script>\n",
              "      const buttonEl =\n",
              "        document.querySelector('#df-327fa550-2c57-4ea4-8ea9-b999f03aff4d button.colab-df-convert');\n",
              "      buttonEl.style.display =\n",
              "        google.colab.kernel.accessAllowed ? 'block' : 'none';\n",
              "\n",
              "      async function convertToInteractive(key) {\n",
              "        const element = document.querySelector('#df-327fa550-2c57-4ea4-8ea9-b999f03aff4d');\n",
              "        const dataTable =\n",
              "          await google.colab.kernel.invokeFunction('convertToInteractive',\n",
              "                                                    [key], {});\n",
              "        if (!dataTable) return;\n",
              "\n",
              "        const docLinkHtml = 'Like what you see? Visit the ' +\n",
              "          '<a target=\"_blank\" href=https://colab.research.google.com/notebooks/data_table.ipynb>data table notebook</a>'\n",
              "          + ' to learn more about interactive tables.';\n",
              "        element.innerHTML = '';\n",
              "        dataTable['output_type'] = 'display_data';\n",
              "        await google.colab.output.renderOutput(dataTable, element);\n",
              "        const docLink = document.createElement('div');\n",
              "        docLink.innerHTML = docLinkHtml;\n",
              "        element.appendChild(docLink);\n",
              "      }\n",
              "    </script>\n",
              "  </div>\n",
              "\n",
              "\n",
              "<div id=\"df-ccd827fd-eff1-48c0-ab52-11a2d11cbe44\">\n",
              "  <button class=\"colab-df-quickchart\" onclick=\"quickchart('df-ccd827fd-eff1-48c0-ab52-11a2d11cbe44')\"\n",
              "            title=\"Suggest charts\"\n",
              "            style=\"display:none;\">\n",
              "\n",
              "<svg xmlns=\"http://www.w3.org/2000/svg\" height=\"24px\"viewBox=\"0 0 24 24\"\n",
              "     width=\"24px\">\n",
              "    <g>\n",
              "        <path d=\"M19 3H5c-1.1 0-2 .9-2 2v14c0 1.1.9 2 2 2h14c1.1 0 2-.9 2-2V5c0-1.1-.9-2-2-2zM9 17H7v-7h2v7zm4 0h-2V7h2v10zm4 0h-2v-4h2v4z\"/>\n",
              "    </g>\n",
              "</svg>\n",
              "  </button>\n",
              "\n",
              "<style>\n",
              "  .colab-df-quickchart {\n",
              "      --bg-color: #E8F0FE;\n",
              "      --fill-color: #1967D2;\n",
              "      --hover-bg-color: #E2EBFA;\n",
              "      --hover-fill-color: #174EA6;\n",
              "      --disabled-fill-color: #AAA;\n",
              "      --disabled-bg-color: #DDD;\n",
              "  }\n",
              "\n",
              "  [theme=dark] .colab-df-quickchart {\n",
              "      --bg-color: #3B4455;\n",
              "      --fill-color: #D2E3FC;\n",
              "      --hover-bg-color: #434B5C;\n",
              "      --hover-fill-color: #FFFFFF;\n",
              "      --disabled-bg-color: #3B4455;\n",
              "      --disabled-fill-color: #666;\n",
              "  }\n",
              "\n",
              "  .colab-df-quickchart {\n",
              "    background-color: var(--bg-color);\n",
              "    border: none;\n",
              "    border-radius: 50%;\n",
              "    cursor: pointer;\n",
              "    display: none;\n",
              "    fill: var(--fill-color);\n",
              "    height: 32px;\n",
              "    padding: 0;\n",
              "    width: 32px;\n",
              "  }\n",
              "\n",
              "  .colab-df-quickchart:hover {\n",
              "    background-color: var(--hover-bg-color);\n",
              "    box-shadow: 0 1px 2px rgba(60, 64, 67, 0.3), 0 1px 3px 1px rgba(60, 64, 67, 0.15);\n",
              "    fill: var(--button-hover-fill-color);\n",
              "  }\n",
              "\n",
              "  .colab-df-quickchart-complete:disabled,\n",
              "  .colab-df-quickchart-complete:disabled:hover {\n",
              "    background-color: var(--disabled-bg-color);\n",
              "    fill: var(--disabled-fill-color);\n",
              "    box-shadow: none;\n",
              "  }\n",
              "\n",
              "  .colab-df-spinner {\n",
              "    border: 2px solid var(--fill-color);\n",
              "    border-color: transparent;\n",
              "    border-bottom-color: var(--fill-color);\n",
              "    animation:\n",
              "      spin 1s steps(1) infinite;\n",
              "  }\n",
              "\n",
              "  @keyframes spin {\n",
              "    0% {\n",
              "      border-color: transparent;\n",
              "      border-bottom-color: var(--fill-color);\n",
              "      border-left-color: var(--fill-color);\n",
              "    }\n",
              "    20% {\n",
              "      border-color: transparent;\n",
              "      border-left-color: var(--fill-color);\n",
              "      border-top-color: var(--fill-color);\n",
              "    }\n",
              "    30% {\n",
              "      border-color: transparent;\n",
              "      border-left-color: var(--fill-color);\n",
              "      border-top-color: var(--fill-color);\n",
              "      border-right-color: var(--fill-color);\n",
              "    }\n",
              "    40% {\n",
              "      border-color: transparent;\n",
              "      border-right-color: var(--fill-color);\n",
              "      border-top-color: var(--fill-color);\n",
              "    }\n",
              "    60% {\n",
              "      border-color: transparent;\n",
              "      border-right-color: var(--fill-color);\n",
              "    }\n",
              "    80% {\n",
              "      border-color: transparent;\n",
              "      border-right-color: var(--fill-color);\n",
              "      border-bottom-color: var(--fill-color);\n",
              "    }\n",
              "    90% {\n",
              "      border-color: transparent;\n",
              "      border-bottom-color: var(--fill-color);\n",
              "    }\n",
              "  }\n",
              "</style>\n",
              "\n",
              "  <script>\n",
              "    async function quickchart(key) {\n",
              "      const quickchartButtonEl =\n",
              "        document.querySelector('#' + key + ' button');\n",
              "      quickchartButtonEl.disabled = true;  // To prevent multiple clicks.\n",
              "      quickchartButtonEl.classList.add('colab-df-spinner');\n",
              "      try {\n",
              "        const charts = await google.colab.kernel.invokeFunction(\n",
              "            'suggestCharts', [key], {});\n",
              "      } catch (error) {\n",
              "        console.error('Error during call to suggestCharts:', error);\n",
              "      }\n",
              "      quickchartButtonEl.classList.remove('colab-df-spinner');\n",
              "      quickchartButtonEl.classList.add('colab-df-quickchart-complete');\n",
              "    }\n",
              "    (() => {\n",
              "      let quickchartButtonEl =\n",
              "        document.querySelector('#df-ccd827fd-eff1-48c0-ab52-11a2d11cbe44 button');\n",
              "      quickchartButtonEl.style.display =\n",
              "        google.colab.kernel.accessAllowed ? 'block' : 'none';\n",
              "    })();\n",
              "  </script>\n",
              "</div>\n",
              "    </div>\n",
              "  </div>\n"
            ],
            "application/vnd.google.colaboratory.intrinsic+json": {
              "type": "dataframe",
              "variable_name": "df2",
              "summary": "{\n  \"name\": \"df2\",\n  \"rows\": 365,\n  \"fields\": [\n    {\n      \"column\": \"Date\",\n      \"properties\": {\n        \"dtype\": \"date\",\n        \"min\": \"2023-01-01 00:00:00\",\n        \"max\": \"2023-12-31 00:00:00\",\n        \"num_unique_values\": 365,\n        \"samples\": [\n          \"2023-07-13 00:00:00\",\n          \"2023-02-03 00:00:00\",\n          \"2023-01-16 00:00:00\"\n        ],\n        \"semantic_type\": \"\",\n        \"description\": \"\"\n      }\n    },\n    {\n      \"column\": \"POC\",\n      \"properties\": {\n        \"dtype\": \"number\",\n        \"std\": 0.17855863268921737,\n        \"min\": 2.0,\n        \"max\": 3.0,\n        \"num_unique_values\": 2,\n        \"samples\": [\n          3.0,\n          2.0\n        ],\n        \"semantic_type\": \"\",\n        \"description\": \"\"\n      }\n    }\n  ]\n}"
            }
          },
          "metadata": {},
          "execution_count": 53
        }
      ]
    },
    {
      "cell_type": "code",
      "source": [
        "fig=plt.figure(figsize=(10,5))\n",
        "ax1=fig.add_subplot(121)\n",
        "df1.plot(kind='scatter', x='Date', y='POC', ax=ax1)\n",
        "ax1.set_title(\"Зависимость PM 2,5 от даты для 490352005\")\n",
        "ax2=fig.add_subplot(1,2,2)\n",
        "df2.plot(kind='scatter', x='Date', y='POC', ax=ax2)\n",
        "ax2.set_title(\"Зависимость PM 2,5 от даты для 490353015\")"
      ],
      "metadata": {
        "colab": {
          "base_uri": "https://localhost:8080/",
          "height": 505
        },
        "id": "RxvMrf92n8LZ",
        "outputId": "b6b45ebd-ca72-4e94-f0d9-61bff247a3b1"
      },
      "execution_count": null,
      "outputs": [
        {
          "output_type": "execute_result",
          "data": {
            "text/plain": [
              "Text(0.5, 1.0, 'Зависимость PM 2,5 от даты для 490353015')"
            ]
          },
          "metadata": {},
          "execution_count": 58
        },
        {
          "output_type": "display_data",
          "data": {
            "text/plain": [
              "<Figure size 1000x500 with 2 Axes>"
            ],
            "image/png": "[encoded data removed]"
          },
          "metadata": {}
        }
      ]
    },
    {
      "cell_type": "markdown",
      "source": [
        "Постройте график с дневным значением AQI и скользящим средним для дневного значения AQI. Используйте дневное значение AQI, усредненное по сайтам и POC. Поэкспериментируйте с разными временными диапазонами, чтобы найти наиболее подходящее."
      ],
      "metadata": {
        "id": "hy64tOtB3v8U"
      }
    },
    {
      "cell_type": "markdown",
      "source": [
        "Расчет дневного значения AQI, усредненного по сайтам и POC."
      ],
      "metadata": {
        "id": "cOPcyFCuaGF5"
      }
    },
    {
      "cell_type": "code",
      "source": [
        "average_df=df.groupby(['Site ID', 'POC', 'Date'])['DAILY_AQI_VALUE'].mean().reset_index()\n",
        "average_df"
      ],
      "metadata": {
        "colab": {
          "base_uri": "https://localhost:8080/",
          "height": 423
        },
        "id": "al7C3fQnaCHO",
        "outputId": "b81df37d-9367-4246-f375-9cc44c9691ea"
      },
      "execution_count": 78,
      "outputs": [
        {
          "output_type": "execute_result",
          "data": {
            "text/plain": [
              "        Site ID  POC       Date  DAILY_AQI_VALUE\n",
              "0     490352005    1 2023-01-01             19.0\n",
              "1     490352005    1 2023-01-02             17.0\n",
              "2     490352005    1 2023-01-03             52.0\n",
              "3     490352005    1 2023-01-04             41.0\n",
              "4     490352005    1 2023-01-05              9.0\n",
              "...         ...  ...        ...              ...\n",
              "6509  490450004    3 2023-12-27             58.0\n",
              "6510  490450004    3 2023-12-28             63.0\n",
              "6511  490450004    3 2023-12-29             66.0\n",
              "6512  490450004    3 2023-12-30             81.0\n",
              "6513  490450004    3 2023-12-31             65.0\n",
              "\n",
              "[6514 rows x 4 columns]"
            ],
            "text/html": [
              "\n",
              "  <div id=\"df-d731ecbb-4773-4e87-a50c-a24c3dd16e5d\" class=\"colab-df-container\">\n",
              "    <div>\n",
              "<style scoped>\n",
              "    .dataframe tbody tr th:only-of-type {\n",
              "        vertical-align: middle;\n",
              "    }\n",
              "\n",
              "    .dataframe tbody tr th {\n",
              "        vertical-align: top;\n",
              "    }\n",
              "\n",
              "    .dataframe thead th {\n",
              "        text-align: right;\n",
              "    }\n",
              "</style>\n",
              "<table border=\"1\" class=\"dataframe\">\n",
              "  <thead>\n",
              "    <tr style=\"text-align: right;\">\n",
              "      <th></th>\n",
              "      <th>Site ID</th>\n",
              "      <th>POC</th>\n",
              "      <th>Date</th>\n",
              "      <th>DAILY_AQI_VALUE</th>\n",
              "    </tr>\n",
              "  </thead>\n",
              "  <tbody>\n",
              "    <tr>\n",
              "      <th>0</th>\n",
              "      <td>490352005</td>\n",
              "      <td>1</td>\n",
              "      <td>2023-01-01</td>\n",
              "      <td>19.0</td>\n",
              "    </tr>\n",
              "    <tr>\n",
              "      <th>1</th>\n",
              "      <td>490352005</td>\n",
              "      <td>1</td>\n",
              "      <td>2023-01-02</td>\n",
              "      <td>17.0</td>\n",
              "    </tr>\n",
              "    <tr>\n",
              "      <th>2</th>\n",
              "      <td>490352005</td>\n",
              "      <td>1</td>\n",
              "      <td>2023-01-03</td>\n",
              "      <td>52.0</td>\n",
              "    </tr>\n",
              "    <tr>\n",
              "      <th>3</th>\n",
              "      <td>490352005</td>\n",
              "      <td>1</td>\n",
              "      <td>2023-01-04</td>\n",
              "      <td>41.0</td>\n",
              "    </tr>\n",
              "    <tr>\n",
              "      <th>4</th>\n",
              "      <td>490352005</td>\n",
              "      <td>1</td>\n",
              "      <td>2023-01-05</td>\n",
              "      <td>9.0</td>\n",
              "    </tr>\n",
              "    <tr>\n",
              "      <th>...</th>\n",
              "      <td>...</td>\n",
              "      <td>...</td>\n",
              "      <td>...</td>\n",
              "      <td>...</td>\n",
              "    </tr>\n",
              "    <tr>\n",
              "      <th>6509</th>\n",
              "      <td>490450004</td>\n",
              "      <td>3</td>\n",
              "      <td>2023-12-27</td>\n",
              "      <td>58.0</td>\n",
              "    </tr>\n",
              "    <tr>\n",
              "      <th>6510</th>\n",
              "      <td>490450004</td>\n",
              "      <td>3</td>\n",
              "      <td>2023-12-28</td>\n",
              "      <td>63.0</td>\n",
              "    </tr>\n",
              "    <tr>\n",
              "      <th>6511</th>\n",
              "      <td>490450004</td>\n",
              "      <td>3</td>\n",
              "      <td>2023-12-29</td>\n",
              "      <td>66.0</td>\n",
              "    </tr>\n",
              "    <tr>\n",
              "      <th>6512</th>\n",
              "      <td>490450004</td>\n",
              "      <td>3</td>\n",
              "      <td>2023-12-30</td>\n",
              "      <td>81.0</td>\n",
              "    </tr>\n",
              "    <tr>\n",
              "      <th>6513</th>\n",
              "      <td>490450004</td>\n",
              "      <td>3</td>\n",
              "      <td>2023-12-31</td>\n",
              "      <td>65.0</td>\n",
              "    </tr>\n",
              "  </tbody>\n",
              "</table>\n",
              "<p>6514 rows × 4 columns</p>\n",
              "</div>\n",
              "    <div class=\"colab-df-buttons\">\n",
              "\n",
              "  <div class=\"colab-df-container\">\n",
              "    <button class=\"colab-df-convert\" onclick=\"convertToInteractive('df-d731ecbb-4773-4e87-a50c-a24c3dd16e5d')\"\n",
              "            title=\"Convert this dataframe to an interactive table.\"\n",
              "            style=\"display:none;\">\n",
              "\n",
              "  <svg xmlns=\"http://www.w3.org/2000/svg\" height=\"24px\" viewBox=\"0 -960 960 960\">\n",
              "    <path d=\"M120-120v-720h720v720H120Zm60-500h600v-160H180v160Zm220 220h160v-160H400v160Zm0 220h160v-160H400v160ZM180-400h160v-160H180v160Zm440 0h160v-160H620v160ZM180-180h160v-160H180v160Zm440 0h160v-160H620v160Z\"/>\n",
              "  </svg>\n",
              "    </button>\n",
              "\n",
              "  <style>\n",
              "    .colab-df-container {\n",
              "      display:flex;\n",
              "      gap: 12px;\n",
              "    }\n",
              "\n",
              "    .colab-df-convert {\n",
              "      background-color: #E8F0FE;\n",
              "      border: none;\n",
              "      border-radius: 50%;\n",
              "      cursor: pointer;\n",
              "      display: none;\n",
              "      fill: #1967D2;\n",
              "      height: 32px;\n",
              "      padding: 0 0 0 0;\n",
              "      width: 32px;\n",
              "    }\n",
              "\n",
              "    .colab-df-convert:hover {\n",
              "      background-color: #E2EBFA;\n",
              "      box-shadow: 0px 1px 2px rgba(60, 64, 67, 0.3), 0px 1px 3px 1px rgba(60, 64, 67, 0.15);\n",
              "      fill: #174EA6;\n",
              "    }\n",
              "\n",
              "    .colab-df-buttons div {\n",
              "      margin-bottom: 4px;\n",
              "    }\n",
              "\n",
              "    [theme=dark] .colab-df-convert {\n",
              "      background-color: #3B4455;\n",
              "      fill: #D2E3FC;\n",
              "    }\n",
              "\n",
              "    [theme=dark] .colab-df-convert:hover {\n",
              "      background-color: #434B5C;\n",
              "      box-shadow: 0px 1px 3px 1px rgba(0, 0, 0, 0.15);\n",
              "      filter: drop-shadow(0px 1px 2px rgba(0, 0, 0, 0.3));\n",
              "      fill: #FFFFFF;\n",
              "    }\n",
              "  </style>\n",
              "\n",
              "    <script>\n",
              "      const buttonEl =\n",
              "        document.querySelector('#df-d731ecbb-4773-4e87-a50c-a24c3dd16e5d button.colab-df-convert');\n",
              "      buttonEl.style.display =\n",
              "        google.colab.kernel.accessAllowed ? 'block' : 'none';\n",
              "\n",
              "      async function convertToInteractive(key) {\n",
              "        const element = document.querySelector('#df-d731ecbb-4773-4e87-a50c-a24c3dd16e5d');\n",
              "        const dataTable =\n",
              "          await google.colab.kernel.invokeFunction('convertToInteractive',\n",
              "                                                    [key], {});\n",
              "        if (!dataTable) return;\n",
              "\n",
              "        const docLinkHtml = 'Like what you see? Visit the ' +\n",
              "          '<a target=\"_blank\" href=https://colab.research.google.com/notebooks/data_table.ipynb>data table notebook</a>'\n",
              "          + ' to learn more about interactive tables.';\n",
              "        element.innerHTML = '';\n",
              "        dataTable['output_type'] = 'display_data';\n",
              "        await google.colab.output.renderOutput(dataTable, element);\n",
              "        const docLink = document.createElement('div');\n",
              "        docLink.innerHTML = docLinkHtml;\n",
              "        element.appendChild(docLink);\n",
              "      }\n",
              "    </script>\n",
              "  </div>\n",
              "\n",
              "\n",
              "<div id=\"df-ee5b2549-7348-4a08-b87c-0ec7f8c73410\">\n",
              "  <button class=\"colab-df-quickchart\" onclick=\"quickchart('df-ee5b2549-7348-4a08-b87c-0ec7f8c73410')\"\n",
              "            title=\"Suggest charts\"\n",
              "            style=\"display:none;\">\n",
              "\n",
              "<svg xmlns=\"http://www.w3.org/2000/svg\" height=\"24px\"viewBox=\"0 0 24 24\"\n",
              "     width=\"24px\">\n",
              "    <g>\n",
              "        <path d=\"M19 3H5c-1.1 0-2 .9-2 2v14c0 1.1.9 2 2 2h14c1.1 0 2-.9 2-2V5c0-1.1-.9-2-2-2zM9 17H7v-7h2v7zm4 0h-2V7h2v10zm4 0h-2v-4h2v4z\"/>\n",
              "    </g>\n",
              "</svg>\n",
              "  </button>\n",
              "\n",
              "<style>\n",
              "  .colab-df-quickchart {\n",
              "      --bg-color: #E8F0FE;\n",
              "      --fill-color: #1967D2;\n",
              "      --hover-bg-color: #E2EBFA;\n",
              "      --hover-fill-color: #174EA6;\n",
              "      --disabled-fill-color: #AAA;\n",
              "      --disabled-bg-color: #DDD;\n",
              "  }\n",
              "\n",
              "  [theme=dark] .colab-df-quickchart {\n",
              "      --bg-color: #3B4455;\n",
              "      --fill-color: #D2E3FC;\n",
              "      --hover-bg-color: #434B5C;\n",
              "      --hover-fill-color: #FFFFFF;\n",
              "      --disabled-bg-color: #3B4455;\n",
              "      --disabled-fill-color: #666;\n",
              "  }\n",
              "\n",
              "  .colab-df-quickchart {\n",
              "    background-color: var(--bg-color);\n",
              "    border: none;\n",
              "    border-radius: 50%;\n",
              "    cursor: pointer;\n",
              "    display: none;\n",
              "    fill: var(--fill-color);\n",
              "    height: 32px;\n",
              "    padding: 0;\n",
              "    width: 32px;\n",
              "  }\n",
              "\n",
              "  .colab-df-quickchart:hover {\n",
              "    background-color: var(--hover-bg-color);\n",
              "    box-shadow: 0 1px 2px rgba(60, 64, 67, 0.3), 0 1px 3px 1px rgba(60, 64, 67, 0.15);\n",
              "    fill: var(--button-hover-fill-color);\n",
              "  }\n",
              "\n",
              "  .colab-df-quickchart-complete:disabled,\n",
              "  .colab-df-quickchart-complete:disabled:hover {\n",
              "    background-color: var(--disabled-bg-color);\n",
              "    fill: var(--disabled-fill-color);\n",
              "    box-shadow: none;\n",
              "  }\n",
              "\n",
              "  .colab-df-spinner {\n",
              "    border: 2px solid var(--fill-color);\n",
              "    border-color: transparent;\n",
              "    border-bottom-color: var(--fill-color);\n",
              "    animation:\n",
              "      spin 1s steps(1) infinite;\n",
              "  }\n",
              "\n",
              "  @keyframes spin {\n",
              "    0% {\n",
              "      border-color: transparent;\n",
              "      border-bottom-color: var(--fill-color);\n",
              "      border-left-color: var(--fill-color);\n",
              "    }\n",
              "    20% {\n",
              "      border-color: transparent;\n",
              "      border-left-color: var(--fill-color);\n",
              "      border-top-color: var(--fill-color);\n",
              "    }\n",
              "    30% {\n",
              "      border-color: transparent;\n",
              "      border-left-color: var(--fill-color);\n",
              "      border-top-color: var(--fill-color);\n",
              "      border-right-color: var(--fill-color);\n",
              "    }\n",
              "    40% {\n",
              "      border-color: transparent;\n",
              "      border-right-color: var(--fill-color);\n",
              "      border-top-color: var(--fill-color);\n",
              "    }\n",
              "    60% {\n",
              "      border-color: transparent;\n",
              "      border-right-color: var(--fill-color);\n",
              "    }\n",
              "    80% {\n",
              "      border-color: transparent;\n",
              "      border-right-color: var(--fill-color);\n",
              "      border-bottom-color: var(--fill-color);\n",
              "    }\n",
              "    90% {\n",
              "      border-color: transparent;\n",
              "      border-bottom-color: var(--fill-color);\n",
              "    }\n",
              "  }\n",
              "</style>\n",
              "\n",
              "  <script>\n",
              "    async function quickchart(key) {\n",
              "      const quickchartButtonEl =\n",
              "        document.querySelector('#' + key + ' button');\n",
              "      quickchartButtonEl.disabled = true;  // To prevent multiple clicks.\n",
              "      quickchartButtonEl.classList.add('colab-df-spinner');\n",
              "      try {\n",
              "        const charts = await google.colab.kernel.invokeFunction(\n",
              "            'suggestCharts', [key], {});\n",
              "      } catch (error) {\n",
              "        console.error('Error during call to suggestCharts:', error);\n",
              "      }\n",
              "      quickchartButtonEl.classList.remove('colab-df-spinner');\n",
              "      quickchartButtonEl.classList.add('colab-df-quickchart-complete');\n",
              "    }\n",
              "    (() => {\n",
              "      let quickchartButtonEl =\n",
              "        document.querySelector('#df-ee5b2549-7348-4a08-b87c-0ec7f8c73410 button');\n",
              "      quickchartButtonEl.style.display =\n",
              "        google.colab.kernel.accessAllowed ? 'block' : 'none';\n",
              "    })();\n",
              "  </script>\n",
              "</div>\n",
              "    </div>\n",
              "  </div>\n"
            ],
            "application/vnd.google.colaboratory.intrinsic+json": {
              "type": "dataframe",
              "variable_name": "average_df",
              "summary": "{\n  \"name\": \"average_df\",\n  \"rows\": 6514,\n  \"fields\": [\n    {\n      \"column\": \"Site ID\",\n      \"properties\": {\n        \"dtype\": \"number\",\n        \"std\": 30418,\n        \"min\": 490352005,\n        \"max\": 490450004,\n        \"num_unique_values\": 9,\n        \"samples\": [\n          490354002,\n          490353006,\n          490353015\n        ],\n        \"semantic_type\": \"\",\n        \"description\": \"\"\n      }\n    },\n    {\n      \"column\": \"POC\",\n      \"properties\": {\n        \"dtype\": \"number\",\n        \"std\": 1,\n        \"min\": 1,\n        \"max\": 5,\n        \"num_unique_values\": 5,\n        \"samples\": [\n          4,\n          5,\n          2\n        ],\n        \"semantic_type\": \"\",\n        \"description\": \"\"\n      }\n    },\n    {\n      \"column\": \"Date\",\n      \"properties\": {\n        \"dtype\": \"date\",\n        \"min\": \"2023-01-01 00:00:00\",\n        \"max\": \"2023-12-31 00:00:00\",\n        \"num_unique_values\": 365,\n        \"samples\": [\n          \"2023-07-17 00:00:00\",\n          \"2023-02-06 00:00:00\",\n          \"2023-01-16 00:00:00\"\n        ],\n        \"semantic_type\": \"\",\n        \"description\": \"\"\n      }\n    },\n    {\n      \"column\": \"DAILY_AQI_VALUE\",\n      \"properties\": {\n        \"dtype\": \"number\",\n        \"std\": 19.29858902513184,\n        \"min\": 0.0,\n        \"max\": 143.0,\n        \"num_unique_values\": 124,\n        \"samples\": [\n          37.0,\n          18.0,\n          43.0\n        ],\n        \"semantic_type\": \"\",\n        \"description\": \"\"\n      }\n    }\n  ]\n}"
            }
          },
          "metadata": {},
          "execution_count": 78
        }
      ]
    },
    {
      "cell_type": "markdown",
      "source": [
        "Теперь обратимся к этому же датафрейму, чтобы рассчитать среднее значение по датам."
      ],
      "metadata": {
        "id": "ihFuYFK5aYub"
      }
    },
    {
      "cell_type": "code",
      "source": [
        "average_df1=average_df.groupby('Date')['DAILY_AQI_VALUE'].mean().reset_index()\n",
        "average_df1"
      ],
      "metadata": {
        "colab": {
          "base_uri": "https://localhost:8080/",
          "height": 423
        },
        "id": "c1tg7TRFaSpK",
        "outputId": "90d03302-08cd-456d-c7fb-68436224c81f"
      },
      "execution_count": 80,
      "outputs": [
        {
          "output_type": "execute_result",
          "data": {
            "text/plain": [
              "          Date  DAILY_AQI_VALUE\n",
              "0   2023-01-01        14.611111\n",
              "1   2023-01-02        11.000000\n",
              "2   2023-01-03        40.111111\n",
              "3   2023-01-04        30.277778\n",
              "4   2023-01-05        10.555556\n",
              "..         ...              ...\n",
              "360 2023-12-27        57.722222\n",
              "361 2023-12-28        72.666667\n",
              "362 2023-12-29        76.222222\n",
              "363 2023-12-30        77.888889\n",
              "364 2023-12-31        81.722222\n",
              "\n",
              "[365 rows x 2 columns]"
            ],
            "text/html": [
              "\n",
              "  <div id=\"df-ff7face7-55ee-47a8-a840-ff01f4750b09\" class=\"colab-df-container\">\n",
              "    <div>\n",
              "<style scoped>\n",
              "    .dataframe tbody tr th:only-of-type {\n",
              "        vertical-align: middle;\n",
              "    }\n",
              "\n",
              "    .dataframe tbody tr th {\n",
              "        vertical-align: top;\n",
              "    }\n",
              "\n",
              "    .dataframe thead th {\n",
              "        text-align: right;\n",
              "    }\n",
              "</style>\n",
              "<table border=\"1\" class=\"dataframe\">\n",
              "  <thead>\n",
              "    <tr style=\"text-align: right;\">\n",
              "      <th></th>\n",
              "      <th>Date</th>\n",
              "      <th>DAILY_AQI_VALUE</th>\n",
              "    </tr>\n",
              "  </thead>\n",
              "  <tbody>\n",
              "    <tr>\n",
              "      <th>0</th>\n",
              "      <td>2023-01-01</td>\n",
              "      <td>14.611111</td>\n",
              "    </tr>\n",
              "    <tr>\n",
              "      <th>1</th>\n",
              "      <td>2023-01-02</td>\n",
              "      <td>11.000000</td>\n",
              "    </tr>\n",
              "    <tr>\n",
              "      <th>2</th>\n",
              "      <td>2023-01-03</td>\n",
              "      <td>40.111111</td>\n",
              "    </tr>\n",
              "    <tr>\n",
              "      <th>3</th>\n",
              "      <td>2023-01-04</td>\n",
              "      <td>30.277778</td>\n",
              "    </tr>\n",
              "    <tr>\n",
              "      <th>4</th>\n",
              "      <td>2023-01-05</td>\n",
              "      <td>10.555556</td>\n",
              "    </tr>\n",
              "    <tr>\n",
              "      <th>...</th>\n",
              "      <td>...</td>\n",
              "      <td>...</td>\n",
              "    </tr>\n",
              "    <tr>\n",
              "      <th>360</th>\n",
              "      <td>2023-12-27</td>\n",
              "      <td>57.722222</td>\n",
              "    </tr>\n",
              "    <tr>\n",
              "      <th>361</th>\n",
              "      <td>2023-12-28</td>\n",
              "      <td>72.666667</td>\n",
              "    </tr>\n",
              "    <tr>\n",
              "      <th>362</th>\n",
              "      <td>2023-12-29</td>\n",
              "      <td>76.222222</td>\n",
              "    </tr>\n",
              "    <tr>\n",
              "      <th>363</th>\n",
              "      <td>2023-12-30</td>\n",
              "      <td>77.888889</td>\n",
              "    </tr>\n",
              "    <tr>\n",
              "      <th>364</th>\n",
              "      <td>2023-12-31</td>\n",
              "      <td>81.722222</td>\n",
              "    </tr>\n",
              "  </tbody>\n",
              "</table>\n",
              "<p>365 rows × 2 columns</p>\n",
              "</div>\n",
              "    <div class=\"colab-df-buttons\">\n",
              "\n",
              "  <div class=\"colab-df-container\">\n",
              "    <button class=\"colab-df-convert\" onclick=\"convertToInteractive('df-ff7face7-55ee-47a8-a840-ff01f4750b09')\"\n",
              "            title=\"Convert this dataframe to an interactive table.\"\n",
              "            style=\"display:none;\">\n",
              "\n",
              "  <svg xmlns=\"http://www.w3.org/2000/svg\" height=\"24px\" viewBox=\"0 -960 960 960\">\n",
              "    <path d=\"M120-120v-720h720v720H120Zm60-500h600v-160H180v160Zm220 220h160v-160H400v160Zm0 220h160v-160H400v160ZM180-400h160v-160H180v160Zm440 0h160v-160H620v160ZM180-180h160v-160H180v160Zm440 0h160v-160H620v160Z\"/>\n",
              "  </svg>\n",
              "    </button>\n",
              "\n",
              "  <style>\n",
              "    .colab-df-container {\n",
              "      display:flex;\n",
              "      gap: 12px;\n",
              "    }\n",
              "\n",
              "    .colab-df-convert {\n",
              "      background-color: #E8F0FE;\n",
              "      border: none;\n",
              "      border-radius: 50%;\n",
              "      cursor: pointer;\n",
              "      display: none;\n",
              "      fill: #1967D2;\n",
              "      height: 32px;\n",
              "      padding: 0 0 0 0;\n",
              "      width: 32px;\n",
              "    }\n",
              "\n",
              "    .colab-df-convert:hover {\n",
              "      background-color: #E2EBFA;\n",
              "      box-shadow: 0px 1px 2px rgba(60, 64, 67, 0.3), 0px 1px 3px 1px rgba(60, 64, 67, 0.15);\n",
              "      fill: #174EA6;\n",
              "    }\n",
              "\n",
              "    .colab-df-buttons div {\n",
              "      margin-bottom: 4px;\n",
              "    }\n",
              "\n",
              "    [theme=dark] .colab-df-convert {\n",
              "      background-color: #3B4455;\n",
              "      fill: #D2E3FC;\n",
              "    }\n",
              "\n",
              "    [theme=dark] .colab-df-convert:hover {\n",
              "      background-color: #434B5C;\n",
              "      box-shadow: 0px 1px 3px 1px rgba(0, 0, 0, 0.15);\n",
              "      filter: drop-shadow(0px 1px 2px rgba(0, 0, 0, 0.3));\n",
              "      fill: #FFFFFF;\n",
              "    }\n",
              "  </style>\n",
              "\n",
              "    <script>\n",
              "      const buttonEl =\n",
              "        document.querySelector('#df-ff7face7-55ee-47a8-a840-ff01f4750b09 button.colab-df-convert');\n",
              "      buttonEl.style.display =\n",
              "        google.colab.kernel.accessAllowed ? 'block' : 'none';\n",
              "\n",
              "      async function convertToInteractive(key) {\n",
              "        const element = document.querySelector('#df-ff7face7-55ee-47a8-a840-ff01f4750b09');\n",
              "        const dataTable =\n",
              "          await google.colab.kernel.invokeFunction('convertToInteractive',\n",
              "                                                    [key], {});\n",
              "        if (!dataTable) return;\n",
              "\n",
              "        const docLinkHtml = 'Like what you see? Visit the ' +\n",
              "          '<a target=\"_blank\" href=https://colab.research.google.com/notebooks/data_table.ipynb>data table notebook</a>'\n",
              "          + ' to learn more about interactive tables.';\n",
              "        element.innerHTML = '';\n",
              "        dataTable['output_type'] = 'display_data';\n",
              "        await google.colab.output.renderOutput(dataTable, element);\n",
              "        const docLink = document.createElement('div');\n",
              "        docLink.innerHTML = docLinkHtml;\n",
              "        element.appendChild(docLink);\n",
              "      }\n",
              "    </script>\n",
              "  </div>\n",
              "\n",
              "\n",
              "<div id=\"df-dbc5cc79-fb40-46b6-842e-08022aa1b387\">\n",
              "  <button class=\"colab-df-quickchart\" onclick=\"quickchart('df-dbc5cc79-fb40-46b6-842e-08022aa1b387')\"\n",
              "            title=\"Suggest charts\"\n",
              "            style=\"display:none;\">\n",
              "\n",
              "<svg xmlns=\"http://www.w3.org/2000/svg\" height=\"24px\"viewBox=\"0 0 24 24\"\n",
              "     width=\"24px\">\n",
              "    <g>\n",
              "        <path d=\"M19 3H5c-1.1 0-2 .9-2 2v14c0 1.1.9 2 2 2h14c1.1 0 2-.9 2-2V5c0-1.1-.9-2-2-2zM9 17H7v-7h2v7zm4 0h-2V7h2v10zm4 0h-2v-4h2v4z\"/>\n",
              "    </g>\n",
              "</svg>\n",
              "  </button>\n",
              "\n",
              "<style>\n",
              "  .colab-df-quickchart {\n",
              "      --bg-color: #E8F0FE;\n",
              "      --fill-color: #1967D2;\n",
              "      --hover-bg-color: #E2EBFA;\n",
              "      --hover-fill-color: #174EA6;\n",
              "      --disabled-fill-color: #AAA;\n",
              "      --disabled-bg-color: #DDD;\n",
              "  }\n",
              "\n",
              "  [theme=dark] .colab-df-quickchart {\n",
              "      --bg-color: #3B4455;\n",
              "      --fill-color: #D2E3FC;\n",
              "      --hover-bg-color: #434B5C;\n",
              "      --hover-fill-color: #FFFFFF;\n",
              "      --disabled-bg-color: #3B4455;\n",
              "      --disabled-fill-color: #666;\n",
              "  }\n",
              "\n",
              "  .colab-df-quickchart {\n",
              "    background-color: var(--bg-color);\n",
              "    border: none;\n",
              "    border-radius: 50%;\n",
              "    cursor: pointer;\n",
              "    display: none;\n",
              "    fill: var(--fill-color);\n",
              "    height: 32px;\n",
              "    padding: 0;\n",
              "    width: 32px;\n",
              "  }\n",
              "\n",
              "  .colab-df-quickchart:hover {\n",
              "    background-color: var(--hover-bg-color);\n",
              "    box-shadow: 0 1px 2px rgba(60, 64, 67, 0.3), 0 1px 3px 1px rgba(60, 64, 67, 0.15);\n",
              "    fill: var(--button-hover-fill-color);\n",
              "  }\n",
              "\n",
              "  .colab-df-quickchart-complete:disabled,\n",
              "  .colab-df-quickchart-complete:disabled:hover {\n",
              "    background-color: var(--disabled-bg-color);\n",
              "    fill: var(--disabled-fill-color);\n",
              "    box-shadow: none;\n",
              "  }\n",
              "\n",
              "  .colab-df-spinner {\n",
              "    border: 2px solid var(--fill-color);\n",
              "    border-color: transparent;\n",
              "    border-bottom-color: var(--fill-color);\n",
              "    animation:\n",
              "      spin 1s steps(1) infinite;\n",
              "  }\n",
              "\n",
              "  @keyframes spin {\n",
              "    0% {\n",
              "      border-color: transparent;\n",
              "      border-bottom-color: var(--fill-color);\n",
              "      border-left-color: var(--fill-color);\n",
              "    }\n",
              "    20% {\n",
              "      border-color: transparent;\n",
              "      border-left-color: var(--fill-color);\n",
              "      border-top-color: var(--fill-color);\n",
              "    }\n",
              "    30% {\n",
              "      border-color: transparent;\n",
              "      border-left-color: var(--fill-color);\n",
              "      border-top-color: var(--fill-color);\n",
              "      border-right-color: var(--fill-color);\n",
              "    }\n",
              "    40% {\n",
              "      border-color: transparent;\n",
              "      border-right-color: var(--fill-color);\n",
              "      border-top-color: var(--fill-color);\n",
              "    }\n",
              "    60% {\n",
              "      border-color: transparent;\n",
              "      border-right-color: var(--fill-color);\n",
              "    }\n",
              "    80% {\n",
              "      border-color: transparent;\n",
              "      border-right-color: var(--fill-color);\n",
              "      border-bottom-color: var(--fill-color);\n",
              "    }\n",
              "    90% {\n",
              "      border-color: transparent;\n",
              "      border-bottom-color: var(--fill-color);\n",
              "    }\n",
              "  }\n",
              "</style>\n",
              "\n",
              "  <script>\n",
              "    async function quickchart(key) {\n",
              "      const quickchartButtonEl =\n",
              "        document.querySelector('#' + key + ' button');\n",
              "      quickchartButtonEl.disabled = true;  // To prevent multiple clicks.\n",
              "      quickchartButtonEl.classList.add('colab-df-spinner');\n",
              "      try {\n",
              "        const charts = await google.colab.kernel.invokeFunction(\n",
              "            'suggestCharts', [key], {});\n",
              "      } catch (error) {\n",
              "        console.error('Error during call to suggestCharts:', error);\n",
              "      }\n",
              "      quickchartButtonEl.classList.remove('colab-df-spinner');\n",
              "      quickchartButtonEl.classList.add('colab-df-quickchart-complete');\n",
              "    }\n",
              "    (() => {\n",
              "      let quickchartButtonEl =\n",
              "        document.querySelector('#df-dbc5cc79-fb40-46b6-842e-08022aa1b387 button');\n",
              "      quickchartButtonEl.style.display =\n",
              "        google.colab.kernel.accessAllowed ? 'block' : 'none';\n",
              "    })();\n",
              "  </script>\n",
              "</div>\n",
              "    </div>\n",
              "  </div>\n"
            ],
            "application/vnd.google.colaboratory.intrinsic+json": {
              "type": "dataframe",
              "variable_name": "average_df1",
              "summary": "{\n  \"name\": \"average_df1\",\n  \"rows\": 365,\n  \"fields\": [\n    {\n      \"column\": \"Date\",\n      \"properties\": {\n        \"dtype\": \"date\",\n        \"min\": \"2023-01-01 00:00:00\",\n        \"max\": \"2023-12-31 00:00:00\",\n        \"num_unique_values\": 365,\n        \"samples\": [\n          \"2023-07-13 00:00:00\",\n          \"2023-02-03 00:00:00\",\n          \"2023-01-16 00:00:00\"\n        ],\n        \"semantic_type\": \"\",\n        \"description\": \"\"\n      }\n    },\n    {\n      \"column\": \"DAILY_AQI_VALUE\",\n      \"properties\": {\n        \"dtype\": \"number\",\n        \"std\": 18.13227037266748,\n        \"min\": 4.222222222222222,\n        \"max\": 118.66666666666667,\n        \"num_unique_values\": 312,\n        \"samples\": [\n          25.444444444444443,\n          5.555555555555555,\n          10.529411764705882\n        ],\n        \"semantic_type\": \"\",\n        \"description\": \"\"\n      }\n    }\n  ]\n}"
            }
          },
          "metadata": {},
          "execution_count": 80
        }
      ]
    },
    {
      "cell_type": "markdown",
      "source": [
        "Рассчитываем скользящее среднее."
      ],
      "metadata": {
        "id": "hBthGKqkarV3"
      }
    },
    {
      "cell_type": "code",
      "source": [
        "moving_average=average_df.groupby('Date')['DAILY_AQI_VALUE'].mean().rolling(window=3).mean().reset_index()\n",
        "moving_average"
      ],
      "metadata": {
        "colab": {
          "base_uri": "https://localhost:8080/",
          "height": 423
        },
        "id": "klGahIVlap62",
        "outputId": "243be378-4cac-4eca-db96-28383fa73d95"
      },
      "execution_count": 85,
      "outputs": [
        {
          "output_type": "execute_result",
          "data": {
            "text/plain": [
              "          Date  DAILY_AQI_VALUE\n",
              "0   2023-01-01              NaN\n",
              "1   2023-01-02              NaN\n",
              "2   2023-01-03        21.907407\n",
              "3   2023-01-04        27.129630\n",
              "4   2023-01-05        26.981481\n",
              "..         ...              ...\n",
              "360 2023-12-27        41.925926\n",
              "361 2023-12-28        56.796296\n",
              "362 2023-12-29        68.870370\n",
              "363 2023-12-30        75.592593\n",
              "364 2023-12-31        78.611111\n",
              "\n",
              "[365 rows x 2 columns]"
            ],
            "text/html": [
              "\n",
              "  <div id=\"df-8949c844-34ed-4a78-ada5-9c791e7df0ac\" class=\"colab-df-container\">\n",
              "    <div>\n",
              "<style scoped>\n",
              "    .dataframe tbody tr th:only-of-type {\n",
              "        vertical-align: middle;\n",
              "    }\n",
              "\n",
              "    .dataframe tbody tr th {\n",
              "        vertical-align: top;\n",
              "    }\n",
              "\n",
              "    .dataframe thead th {\n",
              "        text-align: right;\n",
              "    }\n",
              "</style>\n",
              "<table border=\"1\" class=\"dataframe\">\n",
              "  <thead>\n",
              "    <tr style=\"text-align: right;\">\n",
              "      <th></th>\n",
              "      <th>Date</th>\n",
              "      <th>DAILY_AQI_VALUE</th>\n",
              "    </tr>\n",
              "  </thead>\n",
              "  <tbody>\n",
              "    <tr>\n",
              "      <th>0</th>\n",
              "      <td>2023-01-01</td>\n",
              "      <td>NaN</td>\n",
              "    </tr>\n",
              "    <tr>\n",
              "      <th>1</th>\n",
              "      <td>2023-01-02</td>\n",
              "      <td>NaN</td>\n",
              "    </tr>\n",
              "    <tr>\n",
              "      <th>2</th>\n",
              "      <td>2023-01-03</td>\n",
              "      <td>21.907407</td>\n",
              "    </tr>\n",
              "    <tr>\n",
              "      <th>3</th>\n",
              "      <td>2023-01-04</td>\n",
              "      <td>27.129630</td>\n",
              "    </tr>\n",
              "    <tr>\n",
              "      <th>4</th>\n",
              "      <td>2023-01-05</td>\n",
              "      <td>26.981481</td>\n",
              "    </tr>\n",
              "    <tr>\n",
              "      <th>...</th>\n",
              "      <td>...</td>\n",
              "      <td>...</td>\n",
              "    </tr>\n",
              "    <tr>\n",
              "      <th>360</th>\n",
              "      <td>2023-12-27</td>\n",
              "      <td>41.925926</td>\n",
              "    </tr>\n",
              "    <tr>\n",
              "      <th>361</th>\n",
              "      <td>2023-12-28</td>\n",
              "      <td>56.796296</td>\n",
              "    </tr>\n",
              "    <tr>\n",
              "      <th>362</th>\n",
              "      <td>2023-12-29</td>\n",
              "      <td>68.870370</td>\n",
              "    </tr>\n",
              "    <tr>\n",
              "      <th>363</th>\n",
              "      <td>2023-12-30</td>\n",
              "      <td>75.592593</td>\n",
              "    </tr>\n",
              "    <tr>\n",
              "      <th>364</th>\n",
              "      <td>2023-12-31</td>\n",
              "      <td>78.611111</td>\n",
              "    </tr>\n",
              "  </tbody>\n",
              "</table>\n",
              "<p>365 rows × 2 columns</p>\n",
              "</div>\n",
              "    <div class=\"colab-df-buttons\">\n",
              "\n",
              "  <div class=\"colab-df-container\">\n",
              "    <button class=\"colab-df-convert\" onclick=\"convertToInteractive('df-8949c844-34ed-4a78-ada5-9c791e7df0ac')\"\n",
              "            title=\"Convert this dataframe to an interactive table.\"\n",
              "            style=\"display:none;\">\n",
              "\n",
              "  <svg xmlns=\"http://www.w3.org/2000/svg\" height=\"24px\" viewBox=\"0 -960 960 960\">\n",
              "    <path d=\"M120-120v-720h720v720H120Zm60-500h600v-160H180v160Zm220 220h160v-160H400v160Zm0 220h160v-160H400v160ZM180-400h160v-160H180v160Zm440 0h160v-160H620v160ZM180-180h160v-160H180v160Zm440 0h160v-160H620v160Z\"/>\n",
              "  </svg>\n",
              "    </button>\n",
              "\n",
              "  <style>\n",
              "    .colab-df-container {\n",
              "      display:flex;\n",
              "      gap: 12px;\n",
              "    }\n",
              "\n",
              "    .colab-df-convert {\n",
              "      background-color: #E8F0FE;\n",
              "      border: none;\n",
              "      border-radius: 50%;\n",
              "      cursor: pointer;\n",
              "      display: none;\n",
              "      fill: #1967D2;\n",
              "      height: 32px;\n",
              "      padding: 0 0 0 0;\n",
              "      width: 32px;\n",
              "    }\n",
              "\n",
              "    .colab-df-convert:hover {\n",
              "      background-color: #E2EBFA;\n",
              "      box-shadow: 0px 1px 2px rgba(60, 64, 67, 0.3), 0px 1px 3px 1px rgba(60, 64, 67, 0.15);\n",
              "      fill: #174EA6;\n",
              "    }\n",
              "\n",
              "    .colab-df-buttons div {\n",
              "      margin-bottom: 4px;\n",
              "    }\n",
              "\n",
              "    [theme=dark] .colab-df-convert {\n",
              "      background-color: #3B4455;\n",
              "      fill: #D2E3FC;\n",
              "    }\n",
              "\n",
              "    [theme=dark] .colab-df-convert:hover {\n",
              "      background-color: #434B5C;\n",
              "      box-shadow: 0px 1px 3px 1px rgba(0, 0, 0, 0.15);\n",
              "      filter: drop-shadow(0px 1px 2px rgba(0, 0, 0, 0.3));\n",
              "      fill: #FFFFFF;\n",
              "    }\n",
              "  </style>\n",
              "\n",
              "    <script>\n",
              "      const buttonEl =\n",
              "        document.querySelector('#df-8949c844-34ed-4a78-ada5-9c791e7df0ac button.colab-df-convert');\n",
              "      buttonEl.style.display =\n",
              "        google.colab.kernel.accessAllowed ? 'block' : 'none';\n",
              "\n",
              "      async function convertToInteractive(key) {\n",
              "        const element = document.querySelector('#df-8949c844-34ed-4a78-ada5-9c791e7df0ac');\n",
              "        const dataTable =\n",
              "          await google.colab.kernel.invokeFunction('convertToInteractive',\n",
              "                                                    [key], {});\n",
              "        if (!dataTable) return;\n",
              "\n",
              "        const docLinkHtml = 'Like what you see? Visit the ' +\n",
              "          '<a target=\"_blank\" href=https://colab.research.google.com/notebooks/data_table.ipynb>data table notebook</a>'\n",
              "          + ' to learn more about interactive tables.';\n",
              "        element.innerHTML = '';\n",
              "        dataTable['output_type'] = 'display_data';\n",
              "        await google.colab.output.renderOutput(dataTable, element);\n",
              "        const docLink = document.createElement('div');\n",
              "        docLink.innerHTML = docLinkHtml;\n",
              "        element.appendChild(docLink);\n",
              "      }\n",
              "    </script>\n",
              "  </div>\n",
              "\n",
              "\n",
              "<div id=\"df-294fedac-ec39-4fd9-8421-038fe5562945\">\n",
              "  <button class=\"colab-df-quickchart\" onclick=\"quickchart('df-294fedac-ec39-4fd9-8421-038fe5562945')\"\n",
              "            title=\"Suggest charts\"\n",
              "            style=\"display:none;\">\n",
              "\n",
              "<svg xmlns=\"http://www.w3.org/2000/svg\" height=\"24px\"viewBox=\"0 0 24 24\"\n",
              "     width=\"24px\">\n",
              "    <g>\n",
              "        <path d=\"M19 3H5c-1.1 0-2 .9-2 2v14c0 1.1.9 2 2 2h14c1.1 0 2-.9 2-2V5c0-1.1-.9-2-2-2zM9 17H7v-7h2v7zm4 0h-2V7h2v10zm4 0h-2v-4h2v4z\"/>\n",
              "    </g>\n",
              "</svg>\n",
              "  </button>\n",
              "\n",
              "<style>\n",
              "  .colab-df-quickchart {\n",
              "      --bg-color: #E8F0FE;\n",
              "      --fill-color: #1967D2;\n",
              "      --hover-bg-color: #E2EBFA;\n",
              "      --hover-fill-color: #174EA6;\n",
              "      --disabled-fill-color: #AAA;\n",
              "      --disabled-bg-color: #DDD;\n",
              "  }\n",
              "\n",
              "  [theme=dark] .colab-df-quickchart {\n",
              "      --bg-color: #3B4455;\n",
              "      --fill-color: #D2E3FC;\n",
              "      --hover-bg-color: #434B5C;\n",
              "      --hover-fill-color: #FFFFFF;\n",
              "      --disabled-bg-color: #3B4455;\n",
              "      --disabled-fill-color: #666;\n",
              "  }\n",
              "\n",
              "  .colab-df-quickchart {\n",
              "    background-color: var(--bg-color);\n",
              "    border: none;\n",
              "    border-radius: 50%;\n",
              "    cursor: pointer;\n",
              "    display: none;\n",
              "    fill: var(--fill-color);\n",
              "    height: 32px;\n",
              "    padding: 0;\n",
              "    width: 32px;\n",
              "  }\n",
              "\n",
              "  .colab-df-quickchart:hover {\n",
              "    background-color: var(--hover-bg-color);\n",
              "    box-shadow: 0 1px 2px rgba(60, 64, 67, 0.3), 0 1px 3px 1px rgba(60, 64, 67, 0.15);\n",
              "    fill: var(--button-hover-fill-color);\n",
              "  }\n",
              "\n",
              "  .colab-df-quickchart-complete:disabled,\n",
              "  .colab-df-quickchart-complete:disabled:hover {\n",
              "    background-color: var(--disabled-bg-color);\n",
              "    fill: var(--disabled-fill-color);\n",
              "    box-shadow: none;\n",
              "  }\n",
              "\n",
              "  .colab-df-spinner {\n",
              "    border: 2px solid var(--fill-color);\n",
              "    border-color: transparent;\n",
              "    border-bottom-color: var(--fill-color);\n",
              "    animation:\n",
              "      spin 1s steps(1) infinite;\n",
              "  }\n",
              "\n",
              "  @keyframes spin {\n",
              "    0% {\n",
              "      border-color: transparent;\n",
              "      border-bottom-color: var(--fill-color);\n",
              "      border-left-color: var(--fill-color);\n",
              "    }\n",
              "    20% {\n",
              "      border-color: transparent;\n",
              "      border-left-color: var(--fill-color);\n",
              "      border-top-color: var(--fill-color);\n",
              "    }\n",
              "    30% {\n",
              "      border-color: transparent;\n",
              "      border-left-color: var(--fill-color);\n",
              "      border-top-color: var(--fill-color);\n",
              "      border-right-color: var(--fill-color);\n",
              "    }\n",
              "    40% {\n",
              "      border-color: transparent;\n",
              "      border-right-color: var(--fill-color);\n",
              "      border-top-color: var(--fill-color);\n",
              "    }\n",
              "    60% {\n",
              "      border-color: transparent;\n",
              "      border-right-color: var(--fill-color);\n",
              "    }\n",
              "    80% {\n",
              "      border-color: transparent;\n",
              "      border-right-color: var(--fill-color);\n",
              "      border-bottom-color: var(--fill-color);\n",
              "    }\n",
              "    90% {\n",
              "      border-color: transparent;\n",
              "      border-bottom-color: var(--fill-color);\n",
              "    }\n",
              "  }\n",
              "</style>\n",
              "\n",
              "  <script>\n",
              "    async function quickchart(key) {\n",
              "      const quickchartButtonEl =\n",
              "        document.querySelector('#' + key + ' button');\n",
              "      quickchartButtonEl.disabled = true;  // To prevent multiple clicks.\n",
              "      quickchartButtonEl.classList.add('colab-df-spinner');\n",
              "      try {\n",
              "        const charts = await google.colab.kernel.invokeFunction(\n",
              "            'suggestCharts', [key], {});\n",
              "      } catch (error) {\n",
              "        console.error('Error during call to suggestCharts:', error);\n",
              "      }\n",
              "      quickchartButtonEl.classList.remove('colab-df-spinner');\n",
              "      quickchartButtonEl.classList.add('colab-df-quickchart-complete');\n",
              "    }\n",
              "    (() => {\n",
              "      let quickchartButtonEl =\n",
              "        document.querySelector('#df-294fedac-ec39-4fd9-8421-038fe5562945 button');\n",
              "      quickchartButtonEl.style.display =\n",
              "        google.colab.kernel.accessAllowed ? 'block' : 'none';\n",
              "    })();\n",
              "  </script>\n",
              "</div>\n",
              "    </div>\n",
              "  </div>\n"
            ],
            "application/vnd.google.colaboratory.intrinsic+json": {
              "type": "dataframe",
              "variable_name": "moving_average",
              "summary": "{\n  \"name\": \"moving_average\",\n  \"rows\": 365,\n  \"fields\": [\n    {\n      \"column\": \"Date\",\n      \"properties\": {\n        \"dtype\": \"date\",\n        \"min\": \"2023-01-01 00:00:00\",\n        \"max\": \"2023-12-31 00:00:00\",\n        \"num_unique_values\": 365,\n        \"samples\": [\n          \"2023-07-13 00:00:00\",\n          \"2023-02-03 00:00:00\",\n          \"2023-01-16 00:00:00\"\n        ],\n        \"semantic_type\": \"\",\n        \"description\": \"\"\n      }\n    },\n    {\n      \"column\": \"DAILY_AQI_VALUE\",\n      \"properties\": {\n        \"dtype\": \"number\",\n        \"std\": 15.657917302950462,\n        \"min\": 5.9444444444444455,\n        \"max\": 110.24183006535948,\n        \"num_unique_values\": 350,\n        \"samples\": [\n          20.59259259259259,\n          42.68518518518518,\n          30.037037037037038\n        ],\n        \"semantic_type\": \"\",\n        \"description\": \"\"\n      }\n    }\n  ]\n}"
            }
          },
          "metadata": {},
          "execution_count": 85
        }
      ]
    },
    {
      "cell_type": "code",
      "source": [
        "plt.plot(average_df1['Date'], average_df1['DAILY_AQI_VALUE'], label='Дневное значение AQI')\n",
        "plt.plot(moving_average['Date'], moving_average['DAILY_AQI_VALUE'], label='Скользящее среднее для Дневного значения AQI')\n",
        "plt.xlabel('Date')\n",
        "plt.ylabel('DAILY_AQI_VALUE')\n",
        "plt.legend()\n",
        "plt.show()"
      ],
      "metadata": {
        "colab": {
          "base_uri": "https://localhost:8080/",
          "height": 449
        },
        "id": "cXoKUTQbbIJM",
        "outputId": "64d897ba-273b-4f10-ac7b-a05c88a4bc54"
      },
      "execution_count": 87,
      "outputs": [
        {
          "output_type": "display_data",
          "data": {
            "text/plain": [
              "<Figure size 640x480 with 1 Axes>"
            ],
            "image/png": "[encoded data removed]"
          },
          "metadata": {}
        }
      ]
    },
    {
      "cell_type": "markdown",
      "source": [
        "При окне, равном 3, скользящее среднее наиболее приближено к средним значениям."
      ],
      "metadata": {
        "id": "s9FtLWDQcD9m"
      }
    },
    {
      "cell_type": "markdown",
      "source": [
        "## Часть 3.2. A/B-тестирование\n",
        "\n",
        "Сначала прочитайте статью WIRED об A/B-тестировании [здесь] (http://www.wired.com/2012/04/ff_abtesting/).\n",
        "\n",
        "Предположим, ваша компания разрабатывает новый логотип. Художественный отдел разрабатывает два логотипа: ‘Logo A’ и ‘Logo B’, показанные ниже.\n",
        "![](http://www.wired.com/wiredenterprise/wp-content/gallery/20-05/ff_abtesting_f.jpg)\n",
        "\n",
        "Ваша задача — выяснить, какой логотип лучше.\n",
        "\n",
        "\n",
        "Вы решаете провести следующий эксперимент. Вы используете рекламу Google, чтобы купить 6000 рекламных объявлений. В $N_A=3000$ объявлений (выбранных случайно) вы используете логотип А, а в остальных $N_B=3000$ объявлениях вы используете логотип Б. Затем вы видите, какой логотип привлекает больше кликов.\n",
        "\n",
        "Оказывается, $n_A=800$ зрителей с логотипом A нажимают на рекламу, а $n_B=1000$ зрителей с логотипом B нажимают на рекламу. Очевидно, что логотип B показал лучшие результаты в этом тесте, но достаточно ли разница, чтобы сказать, что логотип B лучше? Или, возможно, ‘Logo B’ просто повезло в этом тесте?\n",
        "\n",
        "Целью этого упражнения будет проведение двухпропорционального z-теста, чтобы определить, лучше ли ‘Logo B’. Шаги будут аналогичны шагам, использованным в эксперименте Солка с полиовакциной в 1954 году (1954 Salk polio-vaccine experiment).\n"
      ],
      "metadata": {
        "id": "ItR-1inLZfi3"
      }
    },
    {
      "cell_type": "markdown",
      "source": [
        "### Задача 3.2.1. Сформулируйте нулевую гипотезу\n",
        "\n",
        "Пусть $p_A = n_A/N_A$ — доля кликов по логотипу A, и аналогично $p_B$ — доля кликов по логотипу B. В терминах $p_A$ и $p_B$ четко сформулируйте нулевую и альтернативную гипотезы."
      ],
      "metadata": {
        "id": "sRuoLquRZkFB"
      }
    },
    {
      "cell_type": "markdown",
      "source": [
        "Н0: Логотип В не эффективнее логотипа А, а значения pA (доля кликов)  и  pB (доля кликов) в этом тесте вызваны случайностью.\n",
        "\n",
        "На: Логотип В эффективнее логотипа А."
      ],
      "metadata": {
        "id": "p1qExVZwwINl"
      }
    },
    {
      "cell_type": "markdown",
      "source": [
        "### Задача 2.2. Найдите двухпропорциональное z-значение\n",
        "\n",
        "Предполагая нулевую гипотезу, мы знаем, что статистика, называемая *двухпропорциональным z-значением*,\n",
        "$$\n",
        "Z = \\frac{p_A - p_B}{\\sqrt{\\hat{p} \\hat{q} \\left( \\frac{1}{N_A} + \\frac{1}{N_B} \\right)}}.\n",
        "$$\n",
        "приблизительно распределяется в соответствии со стандартным нормальным распределением. Здесь $\\hat{p} = \\frac{N_A}{N_A + N_B}p_A + \\frac{N_B}{N_A + N_B}p_B$ и $\\hat{q} = 1-\\hat{p}$.\n",
        "\n",
        "\n",
        "Найдите двухпропорциональное z-значение."
      ],
      "metadata": {
        "id": "0-90cw6WUyJN"
      }
    },
    {
      "cell_type": "markdown",
      "source": [
        "Посчитать доли кликов для 2 логотипов."
      ],
      "metadata": {
        "id": "MZ9R-J2OWgE_"
      }
    },
    {
      "cell_type": "code",
      "source": [
        "# количество рекламных объявлений с логотипом А\n",
        "na=3000\n",
        "# количество рекламных объявлений с логотипом В\n",
        "nb=3000\n",
        "# количество зрителей, нажавших на рекламу с логотипом А\n",
        "na1=800\n",
        "# количество зрителей, нажавших на рекламу с логотипом В\n",
        "nb1=1000\n",
        "# доля кликов для логотипа А\n",
        "pa=na1/na\n",
        "# доля кликов для логотипа В\n",
        "pb=nb1/nb\n",
        "print(f\"Доля кликов для логотипа А: {pa}\")\n",
        "print(f\"Доля кликов для логотипа В: {pb}\")"
      ],
      "metadata": {
        "colab": {
          "base_uri": "https://localhost:8080/"
        },
        "id": "dz61kLHzVchL",
        "outputId": "3d61e982-a0ff-49b2-ac38-15cb74d6ba11"
      },
      "execution_count": null,
      "outputs": [
        {
          "output_type": "stream",
          "name": "stdout",
          "text": [
            "Доля кликов для логотипа А: 0.26666666666666666\n",
            "Доля кликов для логотипа В: 0.3333333333333333\n"
          ]
        }
      ]
    },
    {
      "cell_type": "code",
      "source": [
        "p=(na/(na+nb))*pa+(nb/(na+nb))*pb\n",
        "q=1-p\n",
        "print(p, q)"
      ],
      "metadata": {
        "colab": {
          "base_uri": "https://localhost:8080/"
        },
        "id": "OwO3EfQaXOrs",
        "outputId": "c400afc2-ed18-4b58-938d-05bae08ac8e6"
      },
      "execution_count": null,
      "outputs": [
        {
          "output_type": "stream",
          "name": "stdout",
          "text": [
            "0.3 0.7\n"
          ]
        }
      ]
    },
    {
      "cell_type": "markdown",
      "source": [
        "Считаем двухпропорциональное z-значение."
      ],
      "metadata": {
        "id": "eEReQIJ0bau1"
      }
    },
    {
      "cell_type": "code",
      "source": [
        "from math import sqrt\n",
        "z=(pa-pb)/sqrt(p*q*((1/na)+(1/nb)))\n",
        "z"
      ],
      "metadata": {
        "colab": {
          "base_uri": "https://localhost:8080/"
        },
        "id": "DFo0z0L1YbkK",
        "outputId": "e3240eb5-8d4a-417b-94b9-2d85d595cc44"
      },
      "execution_count": null,
      "outputs": [
        {
          "output_type": "execute_result",
          "data": {
            "text/plain": [
              "-5.6343616981901095"
            ]
          },
          "metadata": {},
          "execution_count": 18
        }
      ]
    },
    {
      "cell_type": "markdown",
      "source": [
        "### Задача 2.3. Завершите z-тест двух пропорций\n",
        "\n",
        "Найдите значение $p$ для проверки гипотезы. Сначала, используя обычную функцию `cdf`, а затем проверьте свой ответ, запустив z-тест двух пропорций в Python с помощью  `proportions_ztest`."
      ],
      "metadata": {
        "id": "kfJJmpDGUzLA"
      }
    },
    {
      "cell_type": "markdown",
      "source": [
        "p value с помощью функции cdf"
      ],
      "metadata": {
        "id": "0reu--dYltDh"
      }
    },
    {
      "cell_type": "code",
      "source": [
        "p_val= stats.norm.cdf(-z)\n",
        "p_val"
      ],
      "metadata": {
        "colab": {
          "base_uri": "https://localhost:8080/"
        },
        "id": "AvxMTC-pltm7",
        "outputId": "cb46e4d7-a544-4ab8-8a67-c92143e627b2"
      },
      "execution_count": 58,
      "outputs": [
        {
          "output_type": "execute_result",
          "data": {
            "text/plain": [
              "8.785395076012362e-09"
            ]
          },
          "metadata": {},
          "execution_count": 58
        }
      ]
    },
    {
      "cell_type": "markdown",
      "source": [
        "z-тест двух пропорций в Python с помощью proportions_ztest."
      ],
      "metadata": {
        "id": "-M1btEaslsbb"
      }
    },
    {
      "cell_type": "code",
      "source": [
        "from statsmodels.stats.proportion import proportions_ztest\n",
        "counts = np.array([800, 1000])\n",
        "nobs = np.array([3000, 3000])\n",
        "z, pval = proportions_ztest(counts, nobs, alternative='smaller')\n",
        "print(z)\n",
        "print(pval)"
      ],
      "metadata": {
        "colab": {
          "base_uri": "https://localhost:8080/"
        },
        "id": "UNfPlXjjIVno",
        "outputId": "54893d1e-a518-40b6-945a-57156123d328"
      },
      "execution_count": 61,
      "outputs": [
        {
          "output_type": "stream",
          "name": "stdout",
          "text": [
            "-5.6343616981901095\n",
            "8.785395076012362e-09\n"
          ]
        }
      ]
    },
    {
      "cell_type": "markdown",
      "source": [
        "Значение p практически равно нулю. Данные очень сильно противоречат нулевой гипотезе. Мы отвергаем нулевую гипотезу."
      ],
      "metadata": {
        "id": "TbDcmtJxNLx9"
      }
    }
  ]
}